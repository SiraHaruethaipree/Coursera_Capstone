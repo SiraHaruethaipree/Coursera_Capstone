{
  "nbformat": 4,
  "nbformat_minor": 0,
  "metadata": {
    "colab": {
      "name": "Capstone Project - The Battle of the Neighborhoods.ipynb",
      "provenance": [],
      "collapsed_sections": [
        "L_xUEvvLyMLf",
        "xbI43vVh6rc1",
        "WQoFbSh9BPJu"
      ],
      "toc_visible": true,
      "include_colab_link": true
    },
    "kernelspec": {
      "name": "python3",
      "display_name": "Python 3"
    },
    "language_info": {
      "name": "python"
    }
  },
  "cells": [
    {
      "cell_type": "markdown",
      "metadata": {
        "id": "view-in-github",
        "colab_type": "text"
      },
      "source": [
        "<a href=\"https://colab.research.google.com/github/sira4154/Coursera_Capstone/blob/main/Capstone_Project_The_Battle_of_the_Neighborhoods.ipynb\" target=\"_parent\"><img src=\"https://colab.research.google.com/assets/colab-badge.svg\" alt=\"Open In Colab\"/></a>"
      ]
    },
    {
      "cell_type": "markdown",
      "metadata": {
        "collapsed": true,
        "id": "dkzQBJJIps0G"
      },
      "source": [
        "# Capstone Project - The Battle of the Neighborhoods (Week 2)\n",
        "### Applied Data Science Capstone by IBM/Coursera"
      ]
    },
    {
      "cell_type": "markdown",
      "metadata": {
        "id": "bnWpZVl96Nto"
      },
      "source": [
        "#Food location in Bangkok feel like home"
      ]
    },
    {
      "cell_type": "markdown",
      "metadata": {
        "id": "rBxEEVt6ps0P"
      },
      "source": [
        "## Table of contents\n",
        "* [Introduction: Business Problem](#introduction)\n",
        "* [Data](#data)\n",
        "* [Methodology](#methodology)\n",
        "* [Analysis](#analysis)\n",
        "* [Results and Discussion](#results)\n",
        "* [Conclusion](#conclusion)"
      ]
    },
    {
      "cell_type": "markdown",
      "metadata": {
        "id": "3m17uUakps0R"
      },
      "source": [
        "## Introduction: Business Problem <a name=\"introduction\"></a>"
      ]
    },
    {
      "cell_type": "markdown",
      "metadata": {
        "id": "AXwz6rEzps0S"
      },
      "source": [
        "Bangkok, the capital of Thailand, is one of the world's top tourist destination cities. Bangkok is a truly cosmopolitan city, home to people from around the world. As a consequence, Bangkok is various in culture and cuisine.\n",
        "there are many different types of food such as Chinese food, Japanese food, and so on.\n",
        "\n",
        "For This project, I would like to recommend it to tourists or those who have to transfer to work in Bangkok for a long time. this block will help visitor for finding the national restaurants location as you prefer by identifying the most type of food in which district and it's part of the decision. that help you choose to stay in which district with a restaurant in the way that you are need.\n",
        "\n",
        "\n"
      ]
    },
    {
      "cell_type": "markdown",
      "metadata": {
        "id": "h-AGF05Hps0U"
      },
      "source": [
        "## Data <a name=\"data\"></a>"
      ]
    },
    {
      "cell_type": "markdown",
      "metadata": {
        "id": "UsDUjtMWps0U"
      },
      "source": [
        "Based on definition of our problem, factors that will influence our decission are:\n",
        "* number of existing restaurants in each districts of Bangkok (which can identify type of restaurant)\n",
        "* number and name districts in Bangkok  \n",
        "\n",
        "We decided to use districts point of center locations, to define cluster.\n",
        "\n",
        "Following data sources will be needed to extract/generate the required information:\n",
        "* centers of districts will be generated name, latitude and longitude by webscarping beautifulsoup from Wikipedia:https://en.wikipedia.org/wiki/List_of_districts_of_Bangkok \n",
        "* number of restaurants and their type and location in every districts will be obtained using **Foursquare API**"
      ]
    },
    {
      "cell_type": "markdown",
      "metadata": {
        "id": "L_xUEvvLyMLf"
      },
      "source": [
        "###import library"
      ]
    },
    {
      "cell_type": "code",
      "metadata": {
        "colab": {
          "base_uri": "https://localhost:8080/"
        },
        "id": "uRT27bxrtWEC",
        "outputId": "a6672677-470b-4706-9f94-92c524d0eb73"
      },
      "source": [
        "!pip install bs4 #install BeautifulSoup library"
      ],
      "execution_count": 1,
      "outputs": [
        {
          "output_type": "stream",
          "text": [
            "Requirement already satisfied: bs4 in /usr/local/lib/python3.7/dist-packages (0.0.1)\n",
            "Requirement already satisfied: beautifulsoup4 in /usr/local/lib/python3.7/dist-packages (from bs4) (4.6.3)\n"
          ],
          "name": "stdout"
        }
      ]
    },
    {
      "cell_type": "code",
      "metadata": {
        "id": "-kG-DjVMtipJ"
      },
      "source": [
        "from bs4 import BeautifulSoup # this module helps in web scrapping.\n",
        "import requests  # this module helps us to download a web page\n",
        "import pandas as pd\n",
        "from geopy.geocoders import Nominatim # convert an address into latitude and longitude values\n",
        "import folium # map rendering library\n",
        "from pandas.io.json import json_normalize\n",
        "import json\n",
        "import numpy as np\n",
        "from sklearn.cluster import KMeans\n",
        "import matplotlib.cm as cm\n",
        "import matplotlib.colors as colors\n",
        "import matplotlib.pyplot as plt\n",
        "%matplotlib inline\n",
        "%config InlineBackend.figure_format = \"retina\"\n"
      ],
      "execution_count": 2,
      "outputs": []
    },
    {
      "cell_type": "markdown",
      "metadata": {
        "id": "nJvcg_45ps0W"
      },
      "source": [
        "### Districts in Bangkok\n",
        "\n",
        "Let's create name,latitude and longitude coordinates for centroids of our districts in Bangkok by use beautifulSoup library for srapping data from Wikipedia:https://en.wikipedia.org/wiki/List_of_districts_of_Bangkok\n"
      ]
    },
    {
      "cell_type": "markdown",
      "metadata": {
        "id": "h4uJJcchjNLe"
      },
      "source": [
        "###Scraping Dataset from wikipedia"
      ]
    },
    {
      "cell_type": "code",
      "metadata": {
        "id": "MVJc65UBtmb9"
      },
      "source": [
        "url = \"https://en.wikipedia.org/wiki/List_of_districts_of_Bangkok\""
      ],
      "execution_count": 3,
      "outputs": []
    },
    {
      "cell_type": "code",
      "metadata": {
        "id": "2Y-_7YKBtrqa"
      },
      "source": [
        "data  = requests.get(url).text"
      ],
      "execution_count": 4,
      "outputs": []
    },
    {
      "cell_type": "code",
      "metadata": {
        "id": "VXUuq_C_tvCW"
      },
      "source": [
        "soup = BeautifulSoup(data,\"html5lib\")"
      ],
      "execution_count": 5,
      "outputs": []
    },
    {
      "cell_type": "code",
      "metadata": {
        "id": "ynaCwrzBtxmG"
      },
      "source": [
        "tables = soup.find_all('table') # in html table is represented by the tag <table>"
      ],
      "execution_count": 6,
      "outputs": []
    },
    {
      "cell_type": "code",
      "metadata": {
        "colab": {
          "base_uri": "https://localhost:8080/"
        },
        "id": "ECTnJpe1t0og",
        "outputId": "118f951a-5ec0-48d7-b456-852455b4d924"
      },
      "source": [
        "len(tables)"
      ],
      "execution_count": 7,
      "outputs": [
        {
          "output_type": "execute_result",
          "data": {
            "text/plain": [
              "2"
            ]
          },
          "metadata": {
            "tags": []
          },
          "execution_count": 7
        }
      ]
    },
    {
      "cell_type": "code",
      "metadata": {
        "colab": {
          "base_uri": "https://localhost:8080/"
        },
        "id": "LUMzZr4Nt5zV",
        "outputId": "d08aeb0a-99f8-451a-a487-795fac0a852a"
      },
      "source": [
        "for index,table in enumerate(tables):\n",
        "    if (\"wikitable sortable\" in str(table)):\n",
        "        table_index = index\n",
        "print(table_index)"
      ],
      "execution_count": 8,
      "outputs": [
        {
          "output_type": "stream",
          "text": [
            "0\n"
          ],
          "name": "stdout"
        }
      ]
    },
    {
      "cell_type": "markdown",
      "metadata": {
        "id": "xbI43vVh6rc1"
      },
      "source": [
        "###Create dataframe District"
      ]
    },
    {
      "cell_type": "markdown",
      "metadata": {
        "id": "PEPCQ3-3ODnu"
      },
      "source": [
        "this section create dataframe from pandas library that table contain District , Map ,Postcode ,Thai ,Population ,No. of Subdistricts ,Latitude ,Longitude and No.ofSubdistricts"
      ]
    },
    {
      "cell_type": "code",
      "metadata": {
        "colab": {
          "base_uri": "https://localhost:8080/",
          "height": 0
        },
        "id": "qJwEM9eXuFZj",
        "outputId": "4a546073-1358-414e-886c-c5ee42bdd6bf"
      },
      "source": [
        "neighborhoods_bangkok = pd.DataFrame(columns=[\"District\", \"Map\", \"Postcode\",\"Thai\",\"Population\",\"No. of Subdistricts\",\n",
        "                                              \"Latitude\",\"Longitude\"])\n",
        "\n",
        "for row in tables[table_index].tbody.find_all(\"tr\"):\n",
        "    col = row.find_all(\"td\")\n",
        "    if (col != []):\n",
        "        district = col[0].text\n",
        "        map = col[1].text\n",
        "        postcode = col[2].text\n",
        "        thai = col[3].text\n",
        "        population = col[4].text\n",
        "        no_subdistricts = col[5].text\n",
        "        latitude = col[6].text\n",
        "        longitude = col[7].text.strip()\n",
        "        neighborhoods_bangkok = neighborhoods_bangkok.append({\"District\":district, \"Map\":map, \"Postcode\":postcode,\"Thai\":thai, \"Population\":population,\"No.ofSubdistricts\":no_subdistricts,\n",
        "                                              \"Latitude\":latitude,\"Longitude\":longitude}, ignore_index=True)\n",
        "\n",
        "neighborhoods_bangkok.head(5)"
      ],
      "execution_count": 9,
      "outputs": [
        {
          "output_type": "execute_result",
          "data": {
            "text/html": [
              "<div>\n",
              "<style scoped>\n",
              "    .dataframe tbody tr th:only-of-type {\n",
              "        vertical-align: middle;\n",
              "    }\n",
              "\n",
              "    .dataframe tbody tr th {\n",
              "        vertical-align: top;\n",
              "    }\n",
              "\n",
              "    .dataframe thead th {\n",
              "        text-align: right;\n",
              "    }\n",
              "</style>\n",
              "<table border=\"1\" class=\"dataframe\">\n",
              "  <thead>\n",
              "    <tr style=\"text-align: right;\">\n",
              "      <th></th>\n",
              "      <th>District</th>\n",
              "      <th>Map</th>\n",
              "      <th>Postcode</th>\n",
              "      <th>Thai</th>\n",
              "      <th>Population</th>\n",
              "      <th>No. of Subdistricts</th>\n",
              "      <th>Latitude</th>\n",
              "      <th>Longitude</th>\n",
              "      <th>No.ofSubdistricts</th>\n",
              "    </tr>\n",
              "  </thead>\n",
              "  <tbody>\n",
              "    <tr>\n",
              "      <th>0</th>\n",
              "      <td>Bang Bon</td>\n",
              "      <td>50</td>\n",
              "      <td>10150</td>\n",
              "      <td>บางบอน</td>\n",
              "      <td>105,161</td>\n",
              "      <td>NaN</td>\n",
              "      <td>13.6592\\n</td>\n",
              "      <td>100.3991</td>\n",
              "      <td>4\\n</td>\n",
              "    </tr>\n",
              "    <tr>\n",
              "      <th>1</th>\n",
              "      <td>Bang Kapi</td>\n",
              "      <td>6</td>\n",
              "      <td>10240</td>\n",
              "      <td>บางกะปิ</td>\n",
              "      <td>148,465</td>\n",
              "      <td>NaN</td>\n",
              "      <td>13.765833\\n</td>\n",
              "      <td>100.647778</td>\n",
              "      <td>2\\n</td>\n",
              "    </tr>\n",
              "    <tr>\n",
              "      <th>2</th>\n",
              "      <td>Bang Khae</td>\n",
              "      <td>40</td>\n",
              "      <td>10160</td>\n",
              "      <td>บางแค</td>\n",
              "      <td>191,781</td>\n",
              "      <td>NaN</td>\n",
              "      <td>13.696111\\n</td>\n",
              "      <td>100.409444</td>\n",
              "      <td>4\\n</td>\n",
              "    </tr>\n",
              "    <tr>\n",
              "      <th>3</th>\n",
              "      <td>Bang Khen</td>\n",
              "      <td>5</td>\n",
              "      <td>10220</td>\n",
              "      <td>บางเขน</td>\n",
              "      <td>189,539</td>\n",
              "      <td>NaN</td>\n",
              "      <td>13.873889\\n</td>\n",
              "      <td>100.596389</td>\n",
              "      <td>2\\n</td>\n",
              "    </tr>\n",
              "    <tr>\n",
              "      <th>4</th>\n",
              "      <td>Bang Kho Laem</td>\n",
              "      <td>31</td>\n",
              "      <td>10120</td>\n",
              "      <td>บางคอแหลม</td>\n",
              "      <td>94,956</td>\n",
              "      <td>NaN</td>\n",
              "      <td>13.693333\\n</td>\n",
              "      <td>100.5025</td>\n",
              "      <td>3\\n</td>\n",
              "    </tr>\n",
              "  </tbody>\n",
              "</table>\n",
              "</div>"
            ],
            "text/plain": [
              "        District Map Postcode  ...     Latitude   Longitude No.ofSubdistricts\n",
              "0       Bang Bon  50    10150  ...    13.6592\\n    100.3991               4\\n\n",
              "1      Bang Kapi   6    10240  ...  13.765833\\n  100.647778               2\\n\n",
              "2      Bang Khae  40    10160  ...  13.696111\\n  100.409444               4\\n\n",
              "3      Bang Khen   5    10220  ...  13.873889\\n  100.596389               2\\n\n",
              "4  Bang Kho Laem  31    10120  ...  13.693333\\n    100.5025               3\\n\n",
              "\n",
              "[5 rows x 9 columns]"
            ]
          },
          "metadata": {
            "tags": []
          },
          "execution_count": 9
        }
      ]
    },
    {
      "cell_type": "markdown",
      "metadata": {
        "id": "9-Kc-OFQOuPG"
      },
      "source": [
        "### Extract feature and clean the data "
      ]
    },
    {
      "cell_type": "markdown",
      "metadata": {
        "id": "uTR5eAoN7T4S"
      },
      "source": [
        "Drop the column not need and claen some strange data"
      ]
    },
    {
      "cell_type": "code",
      "metadata": {
        "id": "hZCwBkpTzm44",
        "colab": {
          "base_uri": "https://localhost:8080/",
          "height": 665
        },
        "outputId": "c7dfe3ef-1219-491e-c655-5a6b0fecb943"
      },
      "source": [
        "neighborhoods_bangkok.drop(columns=[\"No. of Subdistricts\",\"No.ofSubdistricts\"],inplace= True)\n",
        "neighborhoods_bangkok[\"Population\"] = neighborhoods_bangkok[\"Population\"].str.replace(',', '')\n",
        "neighborhoods_bangkok[\"Latitude\"] = neighborhoods_bangkok[\"Latitude\"].str.replace('\\n', '')\n",
        "neighborhoods_bangkok[\"Longitude\"] = neighborhoods_bangkok[\"Longitude\"].str.replace('\\n', '')\n",
        "neighborhoods_bangkok[\"Postcode\"] = neighborhoods_bangkok[\"Postcode\"].str.replace('\\n', '')\n",
        "neighborhoods_bangkok.head(20)"
      ],
      "execution_count": 10,
      "outputs": [
        {
          "output_type": "execute_result",
          "data": {
            "text/html": [
              "<div>\n",
              "<style scoped>\n",
              "    .dataframe tbody tr th:only-of-type {\n",
              "        vertical-align: middle;\n",
              "    }\n",
              "\n",
              "    .dataframe tbody tr th {\n",
              "        vertical-align: top;\n",
              "    }\n",
              "\n",
              "    .dataframe thead th {\n",
              "        text-align: right;\n",
              "    }\n",
              "</style>\n",
              "<table border=\"1\" class=\"dataframe\">\n",
              "  <thead>\n",
              "    <tr style=\"text-align: right;\">\n",
              "      <th></th>\n",
              "      <th>District</th>\n",
              "      <th>Map</th>\n",
              "      <th>Postcode</th>\n",
              "      <th>Thai</th>\n",
              "      <th>Population</th>\n",
              "      <th>Latitude</th>\n",
              "      <th>Longitude</th>\n",
              "    </tr>\n",
              "  </thead>\n",
              "  <tbody>\n",
              "    <tr>\n",
              "      <th>0</th>\n",
              "      <td>Bang Bon</td>\n",
              "      <td>50</td>\n",
              "      <td>10150</td>\n",
              "      <td>บางบอน</td>\n",
              "      <td>105161</td>\n",
              "      <td>13.6592</td>\n",
              "      <td>100.3991</td>\n",
              "    </tr>\n",
              "    <tr>\n",
              "      <th>1</th>\n",
              "      <td>Bang Kapi</td>\n",
              "      <td>6</td>\n",
              "      <td>10240</td>\n",
              "      <td>บางกะปิ</td>\n",
              "      <td>148465</td>\n",
              "      <td>13.765833</td>\n",
              "      <td>100.647778</td>\n",
              "    </tr>\n",
              "    <tr>\n",
              "      <th>2</th>\n",
              "      <td>Bang Khae</td>\n",
              "      <td>40</td>\n",
              "      <td>10160</td>\n",
              "      <td>บางแค</td>\n",
              "      <td>191781</td>\n",
              "      <td>13.696111</td>\n",
              "      <td>100.409444</td>\n",
              "    </tr>\n",
              "    <tr>\n",
              "      <th>3</th>\n",
              "      <td>Bang Khen</td>\n",
              "      <td>5</td>\n",
              "      <td>10220</td>\n",
              "      <td>บางเขน</td>\n",
              "      <td>189539</td>\n",
              "      <td>13.873889</td>\n",
              "      <td>100.596389</td>\n",
              "    </tr>\n",
              "    <tr>\n",
              "      <th>4</th>\n",
              "      <td>Bang Kho Laem</td>\n",
              "      <td>31</td>\n",
              "      <td>10120</td>\n",
              "      <td>บางคอแหลม</td>\n",
              "      <td>94956</td>\n",
              "      <td>13.693333</td>\n",
              "      <td>100.5025</td>\n",
              "    </tr>\n",
              "    <tr>\n",
              "      <th>5</th>\n",
              "      <td>Bang Khun Thian</td>\n",
              "      <td>21</td>\n",
              "      <td>10150</td>\n",
              "      <td>บางขุนเทียน</td>\n",
              "      <td>165491</td>\n",
              "      <td>13.660833</td>\n",
              "      <td>100.435833</td>\n",
              "    </tr>\n",
              "    <tr>\n",
              "      <th>6</th>\n",
              "      <td>Bang Na</td>\n",
              "      <td>47</td>\n",
              "      <td>10260</td>\n",
              "      <td>บางนา</td>\n",
              "      <td>95912</td>\n",
              "      <td>13.680081</td>\n",
              "      <td>100.5918</td>\n",
              "    </tr>\n",
              "    <tr>\n",
              "      <th>7</th>\n",
              "      <td>Bang Phlat</td>\n",
              "      <td>25</td>\n",
              "      <td>10700</td>\n",
              "      <td>บางพลัด</td>\n",
              "      <td>99273</td>\n",
              "      <td>13.793889</td>\n",
              "      <td>100.505</td>\n",
              "    </tr>\n",
              "    <tr>\n",
              "      <th>8</th>\n",
              "      <td>Bang Rak</td>\n",
              "      <td>4</td>\n",
              "      <td>10500</td>\n",
              "      <td>บางรัก</td>\n",
              "      <td>45875</td>\n",
              "      <td>13.730833</td>\n",
              "      <td>100.524167</td>\n",
              "    </tr>\n",
              "    <tr>\n",
              "      <th>9</th>\n",
              "      <td>Bang Sue</td>\n",
              "      <td>29</td>\n",
              "      <td>10800</td>\n",
              "      <td>บางซื่อ</td>\n",
              "      <td>132234</td>\n",
              "      <td>13.809722</td>\n",
              "      <td>100.537222</td>\n",
              "    </tr>\n",
              "    <tr>\n",
              "      <th>10</th>\n",
              "      <td>Bangkok Noi</td>\n",
              "      <td>20</td>\n",
              "      <td>10700</td>\n",
              "      <td>บางกอกน้อย</td>\n",
              "      <td>117793</td>\n",
              "      <td>13.770867</td>\n",
              "      <td>100.467933</td>\n",
              "    </tr>\n",
              "    <tr>\n",
              "      <th>11</th>\n",
              "      <td>Bangkok Yai</td>\n",
              "      <td>16</td>\n",
              "      <td>10600</td>\n",
              "      <td>บางกอกใหญ่</td>\n",
              "      <td>72321</td>\n",
              "      <td>13.722778</td>\n",
              "      <td>100.476389</td>\n",
              "    </tr>\n",
              "    <tr>\n",
              "      <th>12</th>\n",
              "      <td>Bueng Kum</td>\n",
              "      <td>27</td>\n",
              "      <td>10240</td>\n",
              "      <td>บึงกุ่ม</td>\n",
              "      <td>145830</td>\n",
              "      <td>13.785278</td>\n",
              "      <td>100.669167</td>\n",
              "    </tr>\n",
              "    <tr>\n",
              "      <th>13</th>\n",
              "      <td>Chatuchak</td>\n",
              "      <td>30</td>\n",
              "      <td>10900</td>\n",
              "      <td>จตุจักร</td>\n",
              "      <td>160906</td>\n",
              "      <td>13.828611</td>\n",
              "      <td>100.559722</td>\n",
              "    </tr>\n",
              "    <tr>\n",
              "      <th>14</th>\n",
              "      <td>Chom Thong</td>\n",
              "      <td>35</td>\n",
              "      <td>10150</td>\n",
              "      <td>จอมทอง</td>\n",
              "      <td>158005</td>\n",
              "      <td>13.677222</td>\n",
              "      <td>100.484722</td>\n",
              "    </tr>\n",
              "    <tr>\n",
              "      <th>15</th>\n",
              "      <td>Din Daeng</td>\n",
              "      <td>26</td>\n",
              "      <td>10400</td>\n",
              "      <td>ดินแดง</td>\n",
              "      <td>130220</td>\n",
              "      <td>13.769722</td>\n",
              "      <td>100.552778</td>\n",
              "    </tr>\n",
              "    <tr>\n",
              "      <th>16</th>\n",
              "      <td>Don Mueang</td>\n",
              "      <td>36</td>\n",
              "      <td>10210</td>\n",
              "      <td>ดอนเมือง</td>\n",
              "      <td>166261</td>\n",
              "      <td>13.913611</td>\n",
              "      <td>100.589722</td>\n",
              "    </tr>\n",
              "    <tr>\n",
              "      <th>17</th>\n",
              "      <td>Dusit</td>\n",
              "      <td>2</td>\n",
              "      <td>10300</td>\n",
              "      <td>ดุสิต</td>\n",
              "      <td>107655</td>\n",
              "      <td>13.776944</td>\n",
              "      <td>100.520556</td>\n",
              "    </tr>\n",
              "    <tr>\n",
              "      <th>18</th>\n",
              "      <td>Huai Khwang</td>\n",
              "      <td>17</td>\n",
              "      <td>10310</td>\n",
              "      <td>ห้วยขวาง</td>\n",
              "      <td>78175</td>\n",
              "      <td>13.776667</td>\n",
              "      <td>100.579444</td>\n",
              "    </tr>\n",
              "    <tr>\n",
              "      <th>19</th>\n",
              "      <td>Khan Na Yao</td>\n",
              "      <td>43</td>\n",
              "      <td>10230</td>\n",
              "      <td>คันนายาว</td>\n",
              "      <td>88678</td>\n",
              "      <td>13.8271</td>\n",
              "      <td>100.6743</td>\n",
              "    </tr>\n",
              "  </tbody>\n",
              "</table>\n",
              "</div>"
            ],
            "text/plain": [
              "           District Map Postcode         Thai Population   Latitude   Longitude\n",
              "0          Bang Bon  50    10150       บางบอน     105161    13.6592    100.3991\n",
              "1         Bang Kapi   6    10240      บางกะปิ     148465  13.765833  100.647778\n",
              "2         Bang Khae  40    10160        บางแค     191781  13.696111  100.409444\n",
              "3         Bang Khen   5    10220       บางเขน     189539  13.873889  100.596389\n",
              "4     Bang Kho Laem  31    10120    บางคอแหลม      94956  13.693333    100.5025\n",
              "5   Bang Khun Thian  21    10150  บางขุนเทียน     165491  13.660833  100.435833\n",
              "6           Bang Na  47    10260        บางนา      95912  13.680081    100.5918\n",
              "7        Bang Phlat  25    10700      บางพลัด      99273  13.793889     100.505\n",
              "8          Bang Rak   4    10500       บางรัก      45875  13.730833  100.524167\n",
              "9          Bang Sue  29    10800      บางซื่อ     132234  13.809722  100.537222\n",
              "10      Bangkok Noi  20    10700   บางกอกน้อย     117793  13.770867  100.467933\n",
              "11      Bangkok Yai  16    10600   บางกอกใหญ่      72321  13.722778  100.476389\n",
              "12        Bueng Kum  27    10240      บึงกุ่ม     145830  13.785278  100.669167\n",
              "13        Chatuchak  30    10900      จตุจักร     160906  13.828611  100.559722\n",
              "14       Chom Thong  35    10150       จอมทอง     158005  13.677222  100.484722\n",
              "15        Din Daeng  26    10400       ดินแดง     130220  13.769722  100.552778\n",
              "16       Don Mueang  36    10210     ดอนเมือง     166261  13.913611  100.589722\n",
              "17            Dusit   2    10300        ดุสิต     107655  13.776944  100.520556\n",
              "18      Huai Khwang  17    10310     ห้วยขวาง      78175  13.776667  100.579444\n",
              "19      Khan Na Yao  43    10230     คันนายาว      88678    13.8271    100.6743"
            ]
          },
          "metadata": {
            "tags": []
          },
          "execution_count": 10
        }
      ]
    },
    {
      "cell_type": "markdown",
      "metadata": {
        "id": "dlQPZAyH7BEY"
      },
      "source": [
        "Check types of column "
      ]
    },
    {
      "cell_type": "code",
      "metadata": {
        "colab": {
          "base_uri": "https://localhost:8080/"
        },
        "id": "MxmNCJE3vp-6",
        "outputId": "f8d37682-9f84-485e-d04e-d2967dc9964b"
      },
      "source": [
        "neighborhoods_bangkok.dtypes"
      ],
      "execution_count": 11,
      "outputs": [
        {
          "output_type": "execute_result",
          "data": {
            "text/plain": [
              "District      object\n",
              "Map           object\n",
              "Postcode      object\n",
              "Thai          object\n",
              "Population    object\n",
              "Latitude      object\n",
              "Longitude     object\n",
              "dtype: object"
            ]
          },
          "metadata": {
            "tags": []
          },
          "execution_count": 11
        }
      ]
    },
    {
      "cell_type": "code",
      "metadata": {
        "colab": {
          "base_uri": "https://localhost:8080/"
        },
        "id": "PGUyCQKD3jXC",
        "outputId": "e57786d7-676b-475d-a39f-7679d00b46ce"
      },
      "source": [
        "neighborhoods_bangkok[\"Map\"] = neighborhoods_bangkok['Map'].astype('int')\n",
        "neighborhoods_bangkok[\"Population\"] = neighborhoods_bangkok['Population'].astype('int')\n",
        "neighborhoods_bangkok[\"Latitude\"] = neighborhoods_bangkok['Latitude'].astype('float')\n",
        "neighborhoods_bangkok[\"Longitude\"] = neighborhoods_bangkok['Longitude'].astype('float')\n",
        "neighborhoods_bangkok.dtypes"
      ],
      "execution_count": 12,
      "outputs": [
        {
          "output_type": "execute_result",
          "data": {
            "text/plain": [
              "District       object\n",
              "Map             int64\n",
              "Postcode       object\n",
              "Thai           object\n",
              "Population      int64\n",
              "Latitude      float64\n",
              "Longitude     float64\n",
              "dtype: object"
            ]
          },
          "metadata": {
            "tags": []
          },
          "execution_count": 12
        }
      ]
    },
    {
      "cell_type": "markdown",
      "metadata": {
        "id": "Lvo9K5DbPU7p"
      },
      "source": [
        "setting index"
      ]
    },
    {
      "cell_type": "code",
      "metadata": {
        "colab": {
          "base_uri": "https://localhost:8080/",
          "height": 234
        },
        "id": "GpkODUCN8qqH",
        "outputId": "b9f9b7b3-a6ab-49ba-f03c-05f5ae430a3f"
      },
      "source": [
        "neighborhoods_bangkok.set_index(\"Map\",inplace=True)\n",
        "neighborhoods_bangkok.head()"
      ],
      "execution_count": 13,
      "outputs": [
        {
          "output_type": "execute_result",
          "data": {
            "text/html": [
              "<div>\n",
              "<style scoped>\n",
              "    .dataframe tbody tr th:only-of-type {\n",
              "        vertical-align: middle;\n",
              "    }\n",
              "\n",
              "    .dataframe tbody tr th {\n",
              "        vertical-align: top;\n",
              "    }\n",
              "\n",
              "    .dataframe thead th {\n",
              "        text-align: right;\n",
              "    }\n",
              "</style>\n",
              "<table border=\"1\" class=\"dataframe\">\n",
              "  <thead>\n",
              "    <tr style=\"text-align: right;\">\n",
              "      <th></th>\n",
              "      <th>District</th>\n",
              "      <th>Postcode</th>\n",
              "      <th>Thai</th>\n",
              "      <th>Population</th>\n",
              "      <th>Latitude</th>\n",
              "      <th>Longitude</th>\n",
              "    </tr>\n",
              "    <tr>\n",
              "      <th>Map</th>\n",
              "      <th></th>\n",
              "      <th></th>\n",
              "      <th></th>\n",
              "      <th></th>\n",
              "      <th></th>\n",
              "      <th></th>\n",
              "    </tr>\n",
              "  </thead>\n",
              "  <tbody>\n",
              "    <tr>\n",
              "      <th>50</th>\n",
              "      <td>Bang Bon</td>\n",
              "      <td>10150</td>\n",
              "      <td>บางบอน</td>\n",
              "      <td>105161</td>\n",
              "      <td>13.659200</td>\n",
              "      <td>100.399100</td>\n",
              "    </tr>\n",
              "    <tr>\n",
              "      <th>6</th>\n",
              "      <td>Bang Kapi</td>\n",
              "      <td>10240</td>\n",
              "      <td>บางกะปิ</td>\n",
              "      <td>148465</td>\n",
              "      <td>13.765833</td>\n",
              "      <td>100.647778</td>\n",
              "    </tr>\n",
              "    <tr>\n",
              "      <th>40</th>\n",
              "      <td>Bang Khae</td>\n",
              "      <td>10160</td>\n",
              "      <td>บางแค</td>\n",
              "      <td>191781</td>\n",
              "      <td>13.696111</td>\n",
              "      <td>100.409444</td>\n",
              "    </tr>\n",
              "    <tr>\n",
              "      <th>5</th>\n",
              "      <td>Bang Khen</td>\n",
              "      <td>10220</td>\n",
              "      <td>บางเขน</td>\n",
              "      <td>189539</td>\n",
              "      <td>13.873889</td>\n",
              "      <td>100.596389</td>\n",
              "    </tr>\n",
              "    <tr>\n",
              "      <th>31</th>\n",
              "      <td>Bang Kho Laem</td>\n",
              "      <td>10120</td>\n",
              "      <td>บางคอแหลม</td>\n",
              "      <td>94956</td>\n",
              "      <td>13.693333</td>\n",
              "      <td>100.502500</td>\n",
              "    </tr>\n",
              "  </tbody>\n",
              "</table>\n",
              "</div>"
            ],
            "text/plain": [
              "          District Postcode       Thai  Population   Latitude   Longitude\n",
              "Map                                                                      \n",
              "50        Bang Bon    10150     บางบอน      105161  13.659200  100.399100\n",
              "6        Bang Kapi    10240    บางกะปิ      148465  13.765833  100.647778\n",
              "40       Bang Khae    10160      บางแค      191781  13.696111  100.409444\n",
              "5        Bang Khen    10220     บางเขน      189539  13.873889  100.596389\n",
              "31   Bang Kho Laem    10120  บางคอแหลม       94956  13.693333  100.502500"
            ]
          },
          "metadata": {
            "tags": []
          },
          "execution_count": 13
        }
      ]
    },
    {
      "cell_type": "markdown",
      "metadata": {
        "id": "MvZKIi9hmAq8"
      },
      "source": [
        "Sort data"
      ]
    },
    {
      "cell_type": "code",
      "metadata": {
        "id": "4ImsXsXCJGoa"
      },
      "source": [
        "neighborhoods_bangkok.sort_values(by=[\"Map\"],inplace=True)"
      ],
      "execution_count": 14,
      "outputs": []
    },
    {
      "cell_type": "markdown",
      "metadata": {
        "id": "sCiPWlRqfoVH"
      },
      "source": [
        " ### Visualization Bangkok district\n",
        " Let's visualize the data of bangkok dictrict location."
      ]
    },
    {
      "cell_type": "code",
      "metadata": {
        "colab": {
          "base_uri": "https://localhost:8080/"
        },
        "id": "WVmen-qWQelK",
        "outputId": "2573a2cb-bf72-4e40-8628-79f4ae602343"
      },
      "source": [
        "address = 'Bangkok, Thailand'\n",
        "\n",
        "geolocator = Nominatim(user_agent=\"to_explorer\")\n",
        "location = geolocator.geocode(address)\n",
        "latitudes = location.latitude\n",
        "longitudes = location.longitude\n",
        "print('The geograpical coordinate of Bangkok, Thailand are {}, {}.'.format(latitudes, longitudes))"
      ],
      "execution_count": 15,
      "outputs": [
        {
          "output_type": "stream",
          "text": [
            "The geograpical coordinate of Bangkok, Thailand are 13.7544238, 100.4930399.\n"
          ],
          "name": "stdout"
        }
      ]
    },
    {
      "cell_type": "code",
      "metadata": {
        "colab": {
          "base_uri": "https://localhost:8080/",
          "height": 685
        },
        "id": "RVu7h7DpQygA",
        "outputId": "0acbc1ae-8cbd-482f-84df-255fe401364f"
      },
      "source": [
        "# create map of New York using latitude and longitude values\n",
        "map_bangkok = folium.Map(location=[latitudes, longitudes], zoom_start=11)\n",
        "\n",
        " #add markers to map\n",
        "for lat, lng, district in zip(neighborhoods_bangkok['Latitude'], neighborhoods_bangkok['Longitude'],neighborhoods_bangkok['District']):\n",
        "    label = '{}'.format(district)\n",
        "    label = folium.Popup(label, parse_html=True)\n",
        "    folium.CircleMarker(\n",
        "        [lat, lng],\n",
        "        radius=5,\n",
        "        popup=label,\n",
        "        color='blue',\n",
        "        fill=True,\n",
        "        fill_color='#3186cc',\n",
        "        fill_opacity=0.7,\n",
        "        parse_html=False).add_to(map_bangkok)  \n",
        "    \n",
        "map_bangkok"
      ],
      "execution_count": 16,
      "outputs": [
        {
          "output_type": "execute_result",
          "data": {
            "text/html": [
              "<div style=\"width:100%;\"><div style=\"position:relative;width:100%;height:0;padding-bottom:60%;\"><span style=\"color:#565656\">Make this Notebook Trusted to load map: File -> Trust Notebook</span><iframe src=\"about:blank\" style=\"position:absolute;width:100%;height:100%;left:0;top:0;border:none !important;\" data-html=%3C%21DOCTYPE%20html%3E%0A%3Chead%3E%20%20%20%20%0A%20%20%20%20%3Cmeta%20http-equiv%3D%22content-type%22%20content%3D%22text/html%3B%20charset%3DUTF-8%22%20/%3E%0A%20%20%20%20%3Cscript%3EL_PREFER_CANVAS%3Dfalse%3B%20L_NO_TOUCH%3Dfalse%3B%20L_DISABLE_3D%3Dfalse%3B%3C/script%3E%0A%20%20%20%20%3Cscript%20src%3D%22https%3A//cdn.jsdelivr.net/npm/leaflet%401.4.0/dist/leaflet.js%22%3E%3C/script%3E%0A%20%20%20%20%3Cscript%20src%3D%22https%3A//code.jquery.com/jquery-1.12.4.min.js%22%3E%3C/script%3E%0A%20%20%20%20%3Cscript%20src%3D%22https%3A//maxcdn.bootstrapcdn.com/bootstrap/3.2.0/js/bootstrap.min.js%22%3E%3C/script%3E%0A%20%20%20%20%3Cscript%20src%3D%22https%3A//cdnjs.cloudflare.com/ajax/libs/Leaflet.awesome-markers/2.0.2/leaflet.awesome-markers.js%22%3E%3C/script%3E%0A%20%20%20%20%3Clink%20rel%3D%22stylesheet%22%20href%3D%22https%3A//cdn.jsdelivr.net/npm/leaflet%401.4.0/dist/leaflet.css%22/%3E%0A%20%20%20%20%3Clink%20rel%3D%22stylesheet%22%20href%3D%22https%3A//maxcdn.bootstrapcdn.com/bootstrap/3.2.0/css/bootstrap.min.css%22/%3E%0A%20%20%20%20%3Clink%20rel%3D%22stylesheet%22%20href%3D%22https%3A//maxcdn.bootstrapcdn.com/bootstrap/3.2.0/css/bootstrap-theme.min.css%22/%3E%0A%20%20%20%20%3Clink%20rel%3D%22stylesheet%22%20href%3D%22https%3A//maxcdn.bootstrapcdn.com/font-awesome/4.6.3/css/font-awesome.min.css%22/%3E%0A%20%20%20%20%3Clink%20rel%3D%22stylesheet%22%20href%3D%22https%3A//cdnjs.cloudflare.com/ajax/libs/Leaflet.awesome-markers/2.0.2/leaflet.awesome-markers.css%22/%3E%0A%20%20%20%20%3Clink%20rel%3D%22stylesheet%22%20href%3D%22https%3A//rawcdn.githack.com/python-visualization/folium/master/folium/templates/leaflet.awesome.rotate.css%22/%3E%0A%20%20%20%20%3Cstyle%3Ehtml%2C%20body%20%7Bwidth%3A%20100%25%3Bheight%3A%20100%25%3Bmargin%3A%200%3Bpadding%3A%200%3B%7D%3C/style%3E%0A%20%20%20%20%3Cstyle%3E%23map%20%7Bposition%3Aabsolute%3Btop%3A0%3Bbottom%3A0%3Bright%3A0%3Bleft%3A0%3B%7D%3C/style%3E%0A%20%20%20%20%0A%20%20%20%20%3Cmeta%20name%3D%22viewport%22%20content%3D%22width%3Ddevice-width%2C%0A%20%20%20%20%20%20%20%20initial-scale%3D1.0%2C%20maximum-scale%3D1.0%2C%20user-scalable%3Dno%22%20/%3E%0A%20%20%20%20%3Cstyle%3E%23map_e8b8885878634cabbb575d0d84a248c7%20%7B%0A%20%20%20%20%20%20%20%20position%3A%20relative%3B%0A%20%20%20%20%20%20%20%20width%3A%20100.0%25%3B%0A%20%20%20%20%20%20%20%20height%3A%20100.0%25%3B%0A%20%20%20%20%20%20%20%20left%3A%200.0%25%3B%0A%20%20%20%20%20%20%20%20top%3A%200.0%25%3B%0A%20%20%20%20%20%20%20%20%7D%0A%20%20%20%20%3C/style%3E%0A%3C/head%3E%0A%3Cbody%3E%20%20%20%20%0A%20%20%20%20%0A%20%20%20%20%3Cdiv%20class%3D%22folium-map%22%20id%3D%22map_e8b8885878634cabbb575d0d84a248c7%22%20%3E%3C/div%3E%0A%3C/body%3E%0A%3Cscript%3E%20%20%20%20%0A%20%20%20%20%0A%20%20%20%20%0A%20%20%20%20%20%20%20%20var%20bounds%20%3D%20null%3B%0A%20%20%20%20%0A%0A%20%20%20%20var%20map_e8b8885878634cabbb575d0d84a248c7%20%3D%20L.map%28%0A%20%20%20%20%20%20%20%20%27map_e8b8885878634cabbb575d0d84a248c7%27%2C%20%7B%0A%20%20%20%20%20%20%20%20center%3A%20%5B13.7544238%2C%20100.4930399%5D%2C%0A%20%20%20%20%20%20%20%20zoom%3A%2011%2C%0A%20%20%20%20%20%20%20%20maxBounds%3A%20bounds%2C%0A%20%20%20%20%20%20%20%20layers%3A%20%5B%5D%2C%0A%20%20%20%20%20%20%20%20worldCopyJump%3A%20false%2C%0A%20%20%20%20%20%20%20%20crs%3A%20L.CRS.EPSG3857%2C%0A%20%20%20%20%20%20%20%20zoomControl%3A%20true%2C%0A%20%20%20%20%20%20%20%20%7D%29%3B%0A%0A%0A%20%20%20%20%0A%20%20%20%20var%20tile_layer_c7c62469e9664f1491e086ba8cdad702%20%3D%20L.tileLayer%28%0A%20%20%20%20%20%20%20%20%27https%3A//%7Bs%7D.tile.openstreetmap.org/%7Bz%7D/%7Bx%7D/%7By%7D.png%27%2C%0A%20%20%20%20%20%20%20%20%7B%0A%20%20%20%20%20%20%20%20%22attribution%22%3A%20null%2C%0A%20%20%20%20%20%20%20%20%22detectRetina%22%3A%20false%2C%0A%20%20%20%20%20%20%20%20%22maxNativeZoom%22%3A%2018%2C%0A%20%20%20%20%20%20%20%20%22maxZoom%22%3A%2018%2C%0A%20%20%20%20%20%20%20%20%22minZoom%22%3A%200%2C%0A%20%20%20%20%20%20%20%20%22noWrap%22%3A%20false%2C%0A%20%20%20%20%20%20%20%20%22opacity%22%3A%201%2C%0A%20%20%20%20%20%20%20%20%22subdomains%22%3A%20%22abc%22%2C%0A%20%20%20%20%20%20%20%20%22tms%22%3A%20false%0A%7D%29.addTo%28map_e8b8885878634cabbb575d0d84a248c7%29%3B%0A%20%20%20%20%0A%20%20%20%20%20%20%20%20%20%20%20%20var%20circle_marker_d6db97b2b17b4576ac36b430ce88e2ce%20%3D%20L.circleMarker%28%0A%20%20%20%20%20%20%20%20%20%20%20%20%20%20%20%20%5B13.764444%2C%20100.499167%5D%2C%0A%20%20%20%20%20%20%20%20%20%20%20%20%20%20%20%20%7B%0A%20%20%22bubblingMouseEvents%22%3A%20true%2C%0A%20%20%22color%22%3A%20%22blue%22%2C%0A%20%20%22dashArray%22%3A%20null%2C%0A%20%20%22dashOffset%22%3A%20null%2C%0A%20%20%22fill%22%3A%20true%2C%0A%20%20%22fillColor%22%3A%20%22%233186cc%22%2C%0A%20%20%22fillOpacity%22%3A%200.7%2C%0A%20%20%22fillRule%22%3A%20%22evenodd%22%2C%0A%20%20%22lineCap%22%3A%20%22round%22%2C%0A%20%20%22lineJoin%22%3A%20%22round%22%2C%0A%20%20%22opacity%22%3A%201.0%2C%0A%20%20%22radius%22%3A%205%2C%0A%20%20%22stroke%22%3A%20true%2C%0A%20%20%22weight%22%3A%203%0A%7D%0A%20%20%20%20%20%20%20%20%20%20%20%20%20%20%20%20%29%0A%20%20%20%20%20%20%20%20%20%20%20%20%20%20%20%20.addTo%28map_e8b8885878634cabbb575d0d84a248c7%29%3B%0A%20%20%20%20%20%20%20%20%20%20%20%20%0A%20%20%20%20%0A%20%20%20%20%20%20%20%20%20%20%20%20var%20popup_56d6061703be4d3fb7f49d3e71d4bdbd%20%3D%20L.popup%28%7BmaxWidth%3A%20%27100%25%27%0A%20%20%20%20%20%20%20%20%20%20%20%20%0A%20%20%20%20%20%20%20%20%20%20%20%20%7D%29%3B%0A%0A%20%20%20%20%20%20%20%20%20%20%20%20%0A%20%20%20%20%20%20%20%20%20%20%20%20%20%20%20%20var%20html_e37b979aedde497da190b7ae3c446885%20%3D%20%24%28%60%3Cdiv%20id%3D%22html_e37b979aedde497da190b7ae3c446885%22%20style%3D%22width%3A%20100.0%25%3B%20height%3A%20100.0%25%3B%22%3EPhra%20Nakhon%3C/div%3E%60%29%5B0%5D%3B%0A%20%20%20%20%20%20%20%20%20%20%20%20%20%20%20%20popup_56d6061703be4d3fb7f49d3e71d4bdbd.setContent%28html_e37b979aedde497da190b7ae3c446885%29%3B%0A%20%20%20%20%20%20%20%20%20%20%20%20%0A%0A%20%20%20%20%20%20%20%20%20%20%20%20circle_marker_d6db97b2b17b4576ac36b430ce88e2ce.bindPopup%28popup_56d6061703be4d3fb7f49d3e71d4bdbd%29%0A%20%20%20%20%20%20%20%20%20%20%20%20%3B%0A%0A%20%20%20%20%20%20%20%20%20%20%20%20%0A%20%20%20%20%20%20%20%20%0A%20%20%20%20%0A%20%20%20%20%20%20%20%20%20%20%20%20var%20circle_marker_94e7400be832435893dee14cad708e90%20%3D%20L.circleMarker%28%0A%20%20%20%20%20%20%20%20%20%20%20%20%20%20%20%20%5B13.776944%2C%20100.520556%5D%2C%0A%20%20%20%20%20%20%20%20%20%20%20%20%20%20%20%20%7B%0A%20%20%22bubblingMouseEvents%22%3A%20true%2C%0A%20%20%22color%22%3A%20%22blue%22%2C%0A%20%20%22dashArray%22%3A%20null%2C%0A%20%20%22dashOffset%22%3A%20null%2C%0A%20%20%22fill%22%3A%20true%2C%0A%20%20%22fillColor%22%3A%20%22%233186cc%22%2C%0A%20%20%22fillOpacity%22%3A%200.7%2C%0A%20%20%22fillRule%22%3A%20%22evenodd%22%2C%0A%20%20%22lineCap%22%3A%20%22round%22%2C%0A%20%20%22lineJoin%22%3A%20%22round%22%2C%0A%20%20%22opacity%22%3A%201.0%2C%0A%20%20%22radius%22%3A%205%2C%0A%20%20%22stroke%22%3A%20true%2C%0A%20%20%22weight%22%3A%203%0A%7D%0A%20%20%20%20%20%20%20%20%20%20%20%20%20%20%20%20%29%0A%20%20%20%20%20%20%20%20%20%20%20%20%20%20%20%20.addTo%28map_e8b8885878634cabbb575d0d84a248c7%29%3B%0A%20%20%20%20%20%20%20%20%20%20%20%20%0A%20%20%20%20%0A%20%20%20%20%20%20%20%20%20%20%20%20var%20popup_26d7d057ae374896aae4780ac6ad588f%20%3D%20L.popup%28%7BmaxWidth%3A%20%27100%25%27%0A%20%20%20%20%20%20%20%20%20%20%20%20%0A%20%20%20%20%20%20%20%20%20%20%20%20%7D%29%3B%0A%0A%20%20%20%20%20%20%20%20%20%20%20%20%0A%20%20%20%20%20%20%20%20%20%20%20%20%20%20%20%20var%20html_c0f505d26b284e8db9556500148fefe0%20%3D%20%24%28%60%3Cdiv%20id%3D%22html_c0f505d26b284e8db9556500148fefe0%22%20style%3D%22width%3A%20100.0%25%3B%20height%3A%20100.0%25%3B%22%3EDusit%3C/div%3E%60%29%5B0%5D%3B%0A%20%20%20%20%20%20%20%20%20%20%20%20%20%20%20%20popup_26d7d057ae374896aae4780ac6ad588f.setContent%28html_c0f505d26b284e8db9556500148fefe0%29%3B%0A%20%20%20%20%20%20%20%20%20%20%20%20%0A%0A%20%20%20%20%20%20%20%20%20%20%20%20circle_marker_94e7400be832435893dee14cad708e90.bindPopup%28popup_26d7d057ae374896aae4780ac6ad588f%29%0A%20%20%20%20%20%20%20%20%20%20%20%20%3B%0A%0A%20%20%20%20%20%20%20%20%20%20%20%20%0A%20%20%20%20%20%20%20%20%0A%20%20%20%20%0A%20%20%20%20%20%20%20%20%20%20%20%20var%20circle_marker_ee0acd2897bb428da57917bd825b48e8%20%3D%20L.circleMarker%28%0A%20%20%20%20%20%20%20%20%20%20%20%20%20%20%20%20%5B13.855556%2C%20100.8625%5D%2C%0A%20%20%20%20%20%20%20%20%20%20%20%20%20%20%20%20%7B%0A%20%20%22bubblingMouseEvents%22%3A%20true%2C%0A%20%20%22color%22%3A%20%22blue%22%2C%0A%20%20%22dashArray%22%3A%20null%2C%0A%20%20%22dashOffset%22%3A%20null%2C%0A%20%20%22fill%22%3A%20true%2C%0A%20%20%22fillColor%22%3A%20%22%233186cc%22%2C%0A%20%20%22fillOpacity%22%3A%200.7%2C%0A%20%20%22fillRule%22%3A%20%22evenodd%22%2C%0A%20%20%22lineCap%22%3A%20%22round%22%2C%0A%20%20%22lineJoin%22%3A%20%22round%22%2C%0A%20%20%22opacity%22%3A%201.0%2C%0A%20%20%22radius%22%3A%205%2C%0A%20%20%22stroke%22%3A%20true%2C%0A%20%20%22weight%22%3A%203%0A%7D%0A%20%20%20%20%20%20%20%20%20%20%20%20%20%20%20%20%29%0A%20%20%20%20%20%20%20%20%20%20%20%20%20%20%20%20.addTo%28map_e8b8885878634cabbb575d0d84a248c7%29%3B%0A%20%20%20%20%20%20%20%20%20%20%20%20%0A%20%20%20%20%0A%20%20%20%20%20%20%20%20%20%20%20%20var%20popup_60e4c2b577974c57bb397c64aff0ac3e%20%3D%20L.popup%28%7BmaxWidth%3A%20%27100%25%27%0A%20%20%20%20%20%20%20%20%20%20%20%20%0A%20%20%20%20%20%20%20%20%20%20%20%20%7D%29%3B%0A%0A%20%20%20%20%20%20%20%20%20%20%20%20%0A%20%20%20%20%20%20%20%20%20%20%20%20%20%20%20%20var%20html_2963fd2b6a404df29236683b2089a95c%20%3D%20%24%28%60%3Cdiv%20id%3D%22html_2963fd2b6a404df29236683b2089a95c%22%20style%3D%22width%3A%20100.0%25%3B%20height%3A%20100.0%25%3B%22%3ENong%20Chok%3C/div%3E%60%29%5B0%5D%3B%0A%20%20%20%20%20%20%20%20%20%20%20%20%20%20%20%20popup_60e4c2b577974c57bb397c64aff0ac3e.setContent%28html_2963fd2b6a404df29236683b2089a95c%29%3B%0A%20%20%20%20%20%20%20%20%20%20%20%20%0A%0A%20%20%20%20%20%20%20%20%20%20%20%20circle_marker_ee0acd2897bb428da57917bd825b48e8.bindPopup%28popup_60e4c2b577974c57bb397c64aff0ac3e%29%0A%20%20%20%20%20%20%20%20%20%20%20%20%3B%0A%0A%20%20%20%20%20%20%20%20%20%20%20%20%0A%20%20%20%20%20%20%20%20%0A%20%20%20%20%0A%20%20%20%20%20%20%20%20%20%20%20%20var%20circle_marker_afcc8ad2eb6f482eb663002224e2e202%20%3D%20L.circleMarker%28%0A%20%20%20%20%20%20%20%20%20%20%20%20%20%20%20%20%5B13.730833%2C%20100.524167%5D%2C%0A%20%20%20%20%20%20%20%20%20%20%20%20%20%20%20%20%7B%0A%20%20%22bubblingMouseEvents%22%3A%20true%2C%0A%20%20%22color%22%3A%20%22blue%22%2C%0A%20%20%22dashArray%22%3A%20null%2C%0A%20%20%22dashOffset%22%3A%20null%2C%0A%20%20%22fill%22%3A%20true%2C%0A%20%20%22fillColor%22%3A%20%22%233186cc%22%2C%0A%20%20%22fillOpacity%22%3A%200.7%2C%0A%20%20%22fillRule%22%3A%20%22evenodd%22%2C%0A%20%20%22lineCap%22%3A%20%22round%22%2C%0A%20%20%22lineJoin%22%3A%20%22round%22%2C%0A%20%20%22opacity%22%3A%201.0%2C%0A%20%20%22radius%22%3A%205%2C%0A%20%20%22stroke%22%3A%20true%2C%0A%20%20%22weight%22%3A%203%0A%7D%0A%20%20%20%20%20%20%20%20%20%20%20%20%20%20%20%20%29%0A%20%20%20%20%20%20%20%20%20%20%20%20%20%20%20%20.addTo%28map_e8b8885878634cabbb575d0d84a248c7%29%3B%0A%20%20%20%20%20%20%20%20%20%20%20%20%0A%20%20%20%20%0A%20%20%20%20%20%20%20%20%20%20%20%20var%20popup_c02bb82b666844ee84bdf4b0983cff9c%20%3D%20L.popup%28%7BmaxWidth%3A%20%27100%25%27%0A%20%20%20%20%20%20%20%20%20%20%20%20%0A%20%20%20%20%20%20%20%20%20%20%20%20%7D%29%3B%0A%0A%20%20%20%20%20%20%20%20%20%20%20%20%0A%20%20%20%20%20%20%20%20%20%20%20%20%20%20%20%20var%20html_1bc77837653947a48ca3a96c49edbb86%20%3D%20%24%28%60%3Cdiv%20id%3D%22html_1bc77837653947a48ca3a96c49edbb86%22%20style%3D%22width%3A%20100.0%25%3B%20height%3A%20100.0%25%3B%22%3EBang%20Rak%3C/div%3E%60%29%5B0%5D%3B%0A%20%20%20%20%20%20%20%20%20%20%20%20%20%20%20%20popup_c02bb82b666844ee84bdf4b0983cff9c.setContent%28html_1bc77837653947a48ca3a96c49edbb86%29%3B%0A%20%20%20%20%20%20%20%20%20%20%20%20%0A%0A%20%20%20%20%20%20%20%20%20%20%20%20circle_marker_afcc8ad2eb6f482eb663002224e2e202.bindPopup%28popup_c02bb82b666844ee84bdf4b0983cff9c%29%0A%20%20%20%20%20%20%20%20%20%20%20%20%3B%0A%0A%20%20%20%20%20%20%20%20%20%20%20%20%0A%20%20%20%20%20%20%20%20%0A%20%20%20%20%0A%20%20%20%20%20%20%20%20%20%20%20%20var%20circle_marker_24b465179df54af38602f7194f6e557d%20%3D%20L.circleMarker%28%0A%20%20%20%20%20%20%20%20%20%20%20%20%20%20%20%20%5B13.873889%2C%20100.596389%5D%2C%0A%20%20%20%20%20%20%20%20%20%20%20%20%20%20%20%20%7B%0A%20%20%22bubblingMouseEvents%22%3A%20true%2C%0A%20%20%22color%22%3A%20%22blue%22%2C%0A%20%20%22dashArray%22%3A%20null%2C%0A%20%20%22dashOffset%22%3A%20null%2C%0A%20%20%22fill%22%3A%20true%2C%0A%20%20%22fillColor%22%3A%20%22%233186cc%22%2C%0A%20%20%22fillOpacity%22%3A%200.7%2C%0A%20%20%22fillRule%22%3A%20%22evenodd%22%2C%0A%20%20%22lineCap%22%3A%20%22round%22%2C%0A%20%20%22lineJoin%22%3A%20%22round%22%2C%0A%20%20%22opacity%22%3A%201.0%2C%0A%20%20%22radius%22%3A%205%2C%0A%20%20%22stroke%22%3A%20true%2C%0A%20%20%22weight%22%3A%203%0A%7D%0A%20%20%20%20%20%20%20%20%20%20%20%20%20%20%20%20%29%0A%20%20%20%20%20%20%20%20%20%20%20%20%20%20%20%20.addTo%28map_e8b8885878634cabbb575d0d84a248c7%29%3B%0A%20%20%20%20%20%20%20%20%20%20%20%20%0A%20%20%20%20%0A%20%20%20%20%20%20%20%20%20%20%20%20var%20popup_010477520d6d4613ac26ac552bd4c526%20%3D%20L.popup%28%7BmaxWidth%3A%20%27100%25%27%0A%20%20%20%20%20%20%20%20%20%20%20%20%0A%20%20%20%20%20%20%20%20%20%20%20%20%7D%29%3B%0A%0A%20%20%20%20%20%20%20%20%20%20%20%20%0A%20%20%20%20%20%20%20%20%20%20%20%20%20%20%20%20var%20html_0a76c7630e454c508f0c5bfa24167ff9%20%3D%20%24%28%60%3Cdiv%20id%3D%22html_0a76c7630e454c508f0c5bfa24167ff9%22%20style%3D%22width%3A%20100.0%25%3B%20height%3A%20100.0%25%3B%22%3EBang%20Khen%3C/div%3E%60%29%5B0%5D%3B%0A%20%20%20%20%20%20%20%20%20%20%20%20%20%20%20%20popup_010477520d6d4613ac26ac552bd4c526.setContent%28html_0a76c7630e454c508f0c5bfa24167ff9%29%3B%0A%20%20%20%20%20%20%20%20%20%20%20%20%0A%0A%20%20%20%20%20%20%20%20%20%20%20%20circle_marker_24b465179df54af38602f7194f6e557d.bindPopup%28popup_010477520d6d4613ac26ac552bd4c526%29%0A%20%20%20%20%20%20%20%20%20%20%20%20%3B%0A%0A%20%20%20%20%20%20%20%20%20%20%20%20%0A%20%20%20%20%20%20%20%20%0A%20%20%20%20%0A%20%20%20%20%20%20%20%20%20%20%20%20var%20circle_marker_f117a899e4a04b868eb1ece94c1d22ad%20%3D%20L.circleMarker%28%0A%20%20%20%20%20%20%20%20%20%20%20%20%20%20%20%20%5B13.765833%2C%20100.647778%5D%2C%0A%20%20%20%20%20%20%20%20%20%20%20%20%20%20%20%20%7B%0A%20%20%22bubblingMouseEvents%22%3A%20true%2C%0A%20%20%22color%22%3A%20%22blue%22%2C%0A%20%20%22dashArray%22%3A%20null%2C%0A%20%20%22dashOffset%22%3A%20null%2C%0A%20%20%22fill%22%3A%20true%2C%0A%20%20%22fillColor%22%3A%20%22%233186cc%22%2C%0A%20%20%22fillOpacity%22%3A%200.7%2C%0A%20%20%22fillRule%22%3A%20%22evenodd%22%2C%0A%20%20%22lineCap%22%3A%20%22round%22%2C%0A%20%20%22lineJoin%22%3A%20%22round%22%2C%0A%20%20%22opacity%22%3A%201.0%2C%0A%20%20%22radius%22%3A%205%2C%0A%20%20%22stroke%22%3A%20true%2C%0A%20%20%22weight%22%3A%203%0A%7D%0A%20%20%20%20%20%20%20%20%20%20%20%20%20%20%20%20%29%0A%20%20%20%20%20%20%20%20%20%20%20%20%20%20%20%20.addTo%28map_e8b8885878634cabbb575d0d84a248c7%29%3B%0A%20%20%20%20%20%20%20%20%20%20%20%20%0A%20%20%20%20%0A%20%20%20%20%20%20%20%20%20%20%20%20var%20popup_d7a8a1617ccd4f73b6c47b8f53cff162%20%3D%20L.popup%28%7BmaxWidth%3A%20%27100%25%27%0A%20%20%20%20%20%20%20%20%20%20%20%20%0A%20%20%20%20%20%20%20%20%20%20%20%20%7D%29%3B%0A%0A%20%20%20%20%20%20%20%20%20%20%20%20%0A%20%20%20%20%20%20%20%20%20%20%20%20%20%20%20%20var%20html_cac08618448f4039b3659f7c9aebcb83%20%3D%20%24%28%60%3Cdiv%20id%3D%22html_cac08618448f4039b3659f7c9aebcb83%22%20style%3D%22width%3A%20100.0%25%3B%20height%3A%20100.0%25%3B%22%3EBang%20Kapi%3C/div%3E%60%29%5B0%5D%3B%0A%20%20%20%20%20%20%20%20%20%20%20%20%20%20%20%20popup_d7a8a1617ccd4f73b6c47b8f53cff162.setContent%28html_cac08618448f4039b3659f7c9aebcb83%29%3B%0A%20%20%20%20%20%20%20%20%20%20%20%20%0A%0A%20%20%20%20%20%20%20%20%20%20%20%20circle_marker_f117a899e4a04b868eb1ece94c1d22ad.bindPopup%28popup_d7a8a1617ccd4f73b6c47b8f53cff162%29%0A%20%20%20%20%20%20%20%20%20%20%20%20%3B%0A%0A%20%20%20%20%20%20%20%20%20%20%20%20%0A%20%20%20%20%20%20%20%20%0A%20%20%20%20%0A%20%20%20%20%20%20%20%20%20%20%20%20var%20circle_marker_ff18c928075b405f8b6932c5e55255b2%20%3D%20L.circleMarker%28%0A%20%20%20%20%20%20%20%20%20%20%20%20%20%20%20%20%5B13.744942%2C%20100.5222%5D%2C%0A%20%20%20%20%20%20%20%20%20%20%20%20%20%20%20%20%7B%0A%20%20%22bubblingMouseEvents%22%3A%20true%2C%0A%20%20%22color%22%3A%20%22blue%22%2C%0A%20%20%22dashArray%22%3A%20null%2C%0A%20%20%22dashOffset%22%3A%20null%2C%0A%20%20%22fill%22%3A%20true%2C%0A%20%20%22fillColor%22%3A%20%22%233186cc%22%2C%0A%20%20%22fillOpacity%22%3A%200.7%2C%0A%20%20%22fillRule%22%3A%20%22evenodd%22%2C%0A%20%20%22lineCap%22%3A%20%22round%22%2C%0A%20%20%22lineJoin%22%3A%20%22round%22%2C%0A%20%20%22opacity%22%3A%201.0%2C%0A%20%20%22radius%22%3A%205%2C%0A%20%20%22stroke%22%3A%20true%2C%0A%20%20%22weight%22%3A%203%0A%7D%0A%20%20%20%20%20%20%20%20%20%20%20%20%20%20%20%20%29%0A%20%20%20%20%20%20%20%20%20%20%20%20%20%20%20%20.addTo%28map_e8b8885878634cabbb575d0d84a248c7%29%3B%0A%20%20%20%20%20%20%20%20%20%20%20%20%0A%20%20%20%20%0A%20%20%20%20%20%20%20%20%20%20%20%20var%20popup_59d5259a191f455a87ae3dd6b35e3482%20%3D%20L.popup%28%7BmaxWidth%3A%20%27100%25%27%0A%20%20%20%20%20%20%20%20%20%20%20%20%0A%20%20%20%20%20%20%20%20%20%20%20%20%7D%29%3B%0A%0A%20%20%20%20%20%20%20%20%20%20%20%20%0A%20%20%20%20%20%20%20%20%20%20%20%20%20%20%20%20var%20html_9f6718820a9b491ba12a7a9d70f477aa%20%3D%20%24%28%60%3Cdiv%20id%3D%22html_9f6718820a9b491ba12a7a9d70f477aa%22%20style%3D%22width%3A%20100.0%25%3B%20height%3A%20100.0%25%3B%22%3EPathum%20Wan%3C/div%3E%60%29%5B0%5D%3B%0A%20%20%20%20%20%20%20%20%20%20%20%20%20%20%20%20popup_59d5259a191f455a87ae3dd6b35e3482.setContent%28html_9f6718820a9b491ba12a7a9d70f477aa%29%3B%0A%20%20%20%20%20%20%20%20%20%20%20%20%0A%0A%20%20%20%20%20%20%20%20%20%20%20%20circle_marker_ff18c928075b405f8b6932c5e55255b2.bindPopup%28popup_59d5259a191f455a87ae3dd6b35e3482%29%0A%20%20%20%20%20%20%20%20%20%20%20%20%3B%0A%0A%20%20%20%20%20%20%20%20%20%20%20%20%0A%20%20%20%20%20%20%20%20%0A%20%20%20%20%0A%20%20%20%20%20%20%20%20%20%20%20%20var%20circle_marker_d49e4e4f202c4a8f884ed470ec1d5a6a%20%3D%20L.circleMarker%28%0A%20%20%20%20%20%20%20%20%20%20%20%20%20%20%20%20%5B13.758056%2C%20100.513056%5D%2C%0A%20%20%20%20%20%20%20%20%20%20%20%20%20%20%20%20%7B%0A%20%20%22bubblingMouseEvents%22%3A%20true%2C%0A%20%20%22color%22%3A%20%22blue%22%2C%0A%20%20%22dashArray%22%3A%20null%2C%0A%20%20%22dashOffset%22%3A%20null%2C%0A%20%20%22fill%22%3A%20true%2C%0A%20%20%22fillColor%22%3A%20%22%233186cc%22%2C%0A%20%20%22fillOpacity%22%3A%200.7%2C%0A%20%20%22fillRule%22%3A%20%22evenodd%22%2C%0A%20%20%22lineCap%22%3A%20%22round%22%2C%0A%20%20%22lineJoin%22%3A%20%22round%22%2C%0A%20%20%22opacity%22%3A%201.0%2C%0A%20%20%22radius%22%3A%205%2C%0A%20%20%22stroke%22%3A%20true%2C%0A%20%20%22weight%22%3A%203%0A%7D%0A%20%20%20%20%20%20%20%20%20%20%20%20%20%20%20%20%29%0A%20%20%20%20%20%20%20%20%20%20%20%20%20%20%20%20.addTo%28map_e8b8885878634cabbb575d0d84a248c7%29%3B%0A%20%20%20%20%20%20%20%20%20%20%20%20%0A%20%20%20%20%0A%20%20%20%20%20%20%20%20%20%20%20%20var%20popup_c9d16965f7b643e0b4679df2688c7083%20%3D%20L.popup%28%7BmaxWidth%3A%20%27100%25%27%0A%20%20%20%20%20%20%20%20%20%20%20%20%0A%20%20%20%20%20%20%20%20%20%20%20%20%7D%29%3B%0A%0A%20%20%20%20%20%20%20%20%20%20%20%20%0A%20%20%20%20%20%20%20%20%20%20%20%20%20%20%20%20var%20html_651eee98097440cb9df0336c09b0d076%20%3D%20%24%28%60%3Cdiv%20id%3D%22html_651eee98097440cb9df0336c09b0d076%22%20style%3D%22width%3A%20100.0%25%3B%20height%3A%20100.0%25%3B%22%3EPom%20Prap%20Sattru%20Phai%3C/div%3E%60%29%5B0%5D%3B%0A%20%20%20%20%20%20%20%20%20%20%20%20%20%20%20%20popup_c9d16965f7b643e0b4679df2688c7083.setContent%28html_651eee98097440cb9df0336c09b0d076%29%3B%0A%20%20%20%20%20%20%20%20%20%20%20%20%0A%0A%20%20%20%20%20%20%20%20%20%20%20%20circle_marker_d49e4e4f202c4a8f884ed470ec1d5a6a.bindPopup%28popup_c9d16965f7b643e0b4679df2688c7083%29%0A%20%20%20%20%20%20%20%20%20%20%20%20%3B%0A%0A%20%20%20%20%20%20%20%20%20%20%20%20%0A%20%20%20%20%20%20%20%20%0A%20%20%20%20%0A%20%20%20%20%20%20%20%20%20%20%20%20var%20circle_marker_b1c1deab8c91414ca81f4eaae77ae223%20%3D%20L.circleMarker%28%0A%20%20%20%20%20%20%20%20%20%20%20%20%20%20%20%20%5B13.702222%2C%20100.601667%5D%2C%0A%20%20%20%20%20%20%20%20%20%20%20%20%20%20%20%20%7B%0A%20%20%22bubblingMouseEvents%22%3A%20true%2C%0A%20%20%22color%22%3A%20%22blue%22%2C%0A%20%20%22dashArray%22%3A%20null%2C%0A%20%20%22dashOffset%22%3A%20null%2C%0A%20%20%22fill%22%3A%20true%2C%0A%20%20%22fillColor%22%3A%20%22%233186cc%22%2C%0A%20%20%22fillOpacity%22%3A%200.7%2C%0A%20%20%22fillRule%22%3A%20%22evenodd%22%2C%0A%20%20%22lineCap%22%3A%20%22round%22%2C%0A%20%20%22lineJoin%22%3A%20%22round%22%2C%0A%20%20%22opacity%22%3A%201.0%2C%0A%20%20%22radius%22%3A%205%2C%0A%20%20%22stroke%22%3A%20true%2C%0A%20%20%22weight%22%3A%203%0A%7D%0A%20%20%20%20%20%20%20%20%20%20%20%20%20%20%20%20%29%0A%20%20%20%20%20%20%20%20%20%20%20%20%20%20%20%20.addTo%28map_e8b8885878634cabbb575d0d84a248c7%29%3B%0A%20%20%20%20%20%20%20%20%20%20%20%20%0A%20%20%20%20%0A%20%20%20%20%20%20%20%20%20%20%20%20var%20popup_157514b08e0c46acb1cd0b9e12367f8d%20%3D%20L.popup%28%7BmaxWidth%3A%20%27100%25%27%0A%20%20%20%20%20%20%20%20%20%20%20%20%0A%20%20%20%20%20%20%20%20%20%20%20%20%7D%29%3B%0A%0A%20%20%20%20%20%20%20%20%20%20%20%20%0A%20%20%20%20%20%20%20%20%20%20%20%20%20%20%20%20var%20html_910739d04da043d080b31ab2b3367316%20%3D%20%24%28%60%3Cdiv%20id%3D%22html_910739d04da043d080b31ab2b3367316%22%20style%3D%22width%3A%20100.0%25%3B%20height%3A%20100.0%25%3B%22%3EPhra%20Khanong%3C/div%3E%60%29%5B0%5D%3B%0A%20%20%20%20%20%20%20%20%20%20%20%20%20%20%20%20popup_157514b08e0c46acb1cd0b9e12367f8d.setContent%28html_910739d04da043d080b31ab2b3367316%29%3B%0A%20%20%20%20%20%20%20%20%20%20%20%20%0A%0A%20%20%20%20%20%20%20%20%20%20%20%20circle_marker_b1c1deab8c91414ca81f4eaae77ae223.bindPopup%28popup_157514b08e0c46acb1cd0b9e12367f8d%29%0A%20%20%20%20%20%20%20%20%20%20%20%20%3B%0A%0A%20%20%20%20%20%20%20%20%20%20%20%20%0A%20%20%20%20%20%20%20%20%0A%20%20%20%20%0A%20%20%20%20%20%20%20%20%20%20%20%20var%20circle_marker_b255fa7fbabf4a2297cd4d4cac1d55a3%20%3D%20L.circleMarker%28%0A%20%20%20%20%20%20%20%20%20%20%20%20%20%20%20%20%5B13.813889%2C%20100.748056%5D%2C%0A%20%20%20%20%20%20%20%20%20%20%20%20%20%20%20%20%7B%0A%20%20%22bubblingMouseEvents%22%3A%20true%2C%0A%20%20%22color%22%3A%20%22blue%22%2C%0A%20%20%22dashArray%22%3A%20null%2C%0A%20%20%22dashOffset%22%3A%20null%2C%0A%20%20%22fill%22%3A%20true%2C%0A%20%20%22fillColor%22%3A%20%22%233186cc%22%2C%0A%20%20%22fillOpacity%22%3A%200.7%2C%0A%20%20%22fillRule%22%3A%20%22evenodd%22%2C%0A%20%20%22lineCap%22%3A%20%22round%22%2C%0A%20%20%22lineJoin%22%3A%20%22round%22%2C%0A%20%20%22opacity%22%3A%201.0%2C%0A%20%20%22radius%22%3A%205%2C%0A%20%20%22stroke%22%3A%20true%2C%0A%20%20%22weight%22%3A%203%0A%7D%0A%20%20%20%20%20%20%20%20%20%20%20%20%20%20%20%20%29%0A%20%20%20%20%20%20%20%20%20%20%20%20%20%20%20%20.addTo%28map_e8b8885878634cabbb575d0d84a248c7%29%3B%0A%20%20%20%20%20%20%20%20%20%20%20%20%0A%20%20%20%20%0A%20%20%20%20%20%20%20%20%20%20%20%20var%20popup_81cec7f184cd4820b38519ff1a81b121%20%3D%20L.popup%28%7BmaxWidth%3A%20%27100%25%27%0A%20%20%20%20%20%20%20%20%20%20%20%20%0A%20%20%20%20%20%20%20%20%20%20%20%20%7D%29%3B%0A%0A%20%20%20%20%20%20%20%20%20%20%20%20%0A%20%20%20%20%20%20%20%20%20%20%20%20%20%20%20%20var%20html_10dd3bb8186844258f88836b75864435%20%3D%20%24%28%60%3Cdiv%20id%3D%22html_10dd3bb8186844258f88836b75864435%22%20style%3D%22width%3A%20100.0%25%3B%20height%3A%20100.0%25%3B%22%3EMin%20Buri%3C/div%3E%60%29%5B0%5D%3B%0A%20%20%20%20%20%20%20%20%20%20%20%20%20%20%20%20popup_81cec7f184cd4820b38519ff1a81b121.setContent%28html_10dd3bb8186844258f88836b75864435%29%3B%0A%20%20%20%20%20%20%20%20%20%20%20%20%0A%0A%20%20%20%20%20%20%20%20%20%20%20%20circle_marker_b255fa7fbabf4a2297cd4d4cac1d55a3.bindPopup%28popup_81cec7f184cd4820b38519ff1a81b121%29%0A%20%20%20%20%20%20%20%20%20%20%20%20%3B%0A%0A%20%20%20%20%20%20%20%20%20%20%20%20%0A%20%20%20%20%20%20%20%20%0A%20%20%20%20%0A%20%20%20%20%20%20%20%20%20%20%20%20var%20circle_marker_0ae2144035c848fd923d1acca52731e5%20%3D%20L.circleMarker%28%0A%20%20%20%20%20%20%20%20%20%20%20%20%20%20%20%20%5B13.722317%2C%20100.759669%5D%2C%0A%20%20%20%20%20%20%20%20%20%20%20%20%20%20%20%20%7B%0A%20%20%22bubblingMouseEvents%22%3A%20true%2C%0A%20%20%22color%22%3A%20%22blue%22%2C%0A%20%20%22dashArray%22%3A%20null%2C%0A%20%20%22dashOffset%22%3A%20null%2C%0A%20%20%22fill%22%3A%20true%2C%0A%20%20%22fillColor%22%3A%20%22%233186cc%22%2C%0A%20%20%22fillOpacity%22%3A%200.7%2C%0A%20%20%22fillRule%22%3A%20%22evenodd%22%2C%0A%20%20%22lineCap%22%3A%20%22round%22%2C%0A%20%20%22lineJoin%22%3A%20%22round%22%2C%0A%20%20%22opacity%22%3A%201.0%2C%0A%20%20%22radius%22%3A%205%2C%0A%20%20%22stroke%22%3A%20true%2C%0A%20%20%22weight%22%3A%203%0A%7D%0A%20%20%20%20%20%20%20%20%20%20%20%20%20%20%20%20%29%0A%20%20%20%20%20%20%20%20%20%20%20%20%20%20%20%20.addTo%28map_e8b8885878634cabbb575d0d84a248c7%29%3B%0A%20%20%20%20%20%20%20%20%20%20%20%20%0A%20%20%20%20%0A%20%20%20%20%20%20%20%20%20%20%20%20var%20popup_8c82de7e1a7d4f5d9df9143fa4735c51%20%3D%20L.popup%28%7BmaxWidth%3A%20%27100%25%27%0A%20%20%20%20%20%20%20%20%20%20%20%20%0A%20%20%20%20%20%20%20%20%20%20%20%20%7D%29%3B%0A%0A%20%20%20%20%20%20%20%20%20%20%20%20%0A%20%20%20%20%20%20%20%20%20%20%20%20%20%20%20%20var%20html_162c7ae8c055439eb74097adab2b286d%20%3D%20%24%28%60%3Cdiv%20id%3D%22html_162c7ae8c055439eb74097adab2b286d%22%20style%3D%22width%3A%20100.0%25%3B%20height%3A%20100.0%25%3B%22%3ELat%20Krabang%3C/div%3E%60%29%5B0%5D%3B%0A%20%20%20%20%20%20%20%20%20%20%20%20%20%20%20%20popup_8c82de7e1a7d4f5d9df9143fa4735c51.setContent%28html_162c7ae8c055439eb74097adab2b286d%29%3B%0A%20%20%20%20%20%20%20%20%20%20%20%20%0A%0A%20%20%20%20%20%20%20%20%20%20%20%20circle_marker_0ae2144035c848fd923d1acca52731e5.bindPopup%28popup_8c82de7e1a7d4f5d9df9143fa4735c51%29%0A%20%20%20%20%20%20%20%20%20%20%20%20%3B%0A%0A%20%20%20%20%20%20%20%20%20%20%20%20%0A%20%20%20%20%20%20%20%20%0A%20%20%20%20%0A%20%20%20%20%20%20%20%20%20%20%20%20var%20circle_marker_84480dc7431949e3b9ea7e9540707f98%20%3D%20L.circleMarker%28%0A%20%20%20%20%20%20%20%20%20%20%20%20%20%20%20%20%5B13.696944%2C%20100.543056%5D%2C%0A%20%20%20%20%20%20%20%20%20%20%20%20%20%20%20%20%7B%0A%20%20%22bubblingMouseEvents%22%3A%20true%2C%0A%20%20%22color%22%3A%20%22blue%22%2C%0A%20%20%22dashArray%22%3A%20null%2C%0A%20%20%22dashOffset%22%3A%20null%2C%0A%20%20%22fill%22%3A%20true%2C%0A%20%20%22fillColor%22%3A%20%22%233186cc%22%2C%0A%20%20%22fillOpacity%22%3A%200.7%2C%0A%20%20%22fillRule%22%3A%20%22evenodd%22%2C%0A%20%20%22lineCap%22%3A%20%22round%22%2C%0A%20%20%22lineJoin%22%3A%20%22round%22%2C%0A%20%20%22opacity%22%3A%201.0%2C%0A%20%20%22radius%22%3A%205%2C%0A%20%20%22stroke%22%3A%20true%2C%0A%20%20%22weight%22%3A%203%0A%7D%0A%20%20%20%20%20%20%20%20%20%20%20%20%20%20%20%20%29%0A%20%20%20%20%20%20%20%20%20%20%20%20%20%20%20%20.addTo%28map_e8b8885878634cabbb575d0d84a248c7%29%3B%0A%20%20%20%20%20%20%20%20%20%20%20%20%0A%20%20%20%20%0A%20%20%20%20%20%20%20%20%20%20%20%20var%20popup_708476e7fc2942c0b08101067ce2352b%20%3D%20L.popup%28%7BmaxWidth%3A%20%27100%25%27%0A%20%20%20%20%20%20%20%20%20%20%20%20%0A%20%20%20%20%20%20%20%20%20%20%20%20%7D%29%3B%0A%0A%20%20%20%20%20%20%20%20%20%20%20%20%0A%20%20%20%20%20%20%20%20%20%20%20%20%20%20%20%20var%20html_7a91dac5b6704ff1b62160c549f5d51f%20%3D%20%24%28%60%3Cdiv%20id%3D%22html_7a91dac5b6704ff1b62160c549f5d51f%22%20style%3D%22width%3A%20100.0%25%3B%20height%3A%20100.0%25%3B%22%3EYan%20Nawa%3C/div%3E%60%29%5B0%5D%3B%0A%20%20%20%20%20%20%20%20%20%20%20%20%20%20%20%20popup_708476e7fc2942c0b08101067ce2352b.setContent%28html_7a91dac5b6704ff1b62160c549f5d51f%29%3B%0A%20%20%20%20%20%20%20%20%20%20%20%20%0A%0A%20%20%20%20%20%20%20%20%20%20%20%20circle_marker_84480dc7431949e3b9ea7e9540707f98.bindPopup%28popup_708476e7fc2942c0b08101067ce2352b%29%0A%20%20%20%20%20%20%20%20%20%20%20%20%3B%0A%0A%20%20%20%20%20%20%20%20%20%20%20%20%0A%20%20%20%20%20%20%20%20%0A%20%20%20%20%0A%20%20%20%20%20%20%20%20%20%20%20%20var%20circle_marker_b8517ef6ae5e4f8f89ba94ece8478830%20%3D%20L.circleMarker%28%0A%20%20%20%20%20%20%20%20%20%20%20%20%20%20%20%20%5B13.731389%2C%20100.514167%5D%2C%0A%20%20%20%20%20%20%20%20%20%20%20%20%20%20%20%20%7B%0A%20%20%22bubblingMouseEvents%22%3A%20true%2C%0A%20%20%22color%22%3A%20%22blue%22%2C%0A%20%20%22dashArray%22%3A%20null%2C%0A%20%20%22dashOffset%22%3A%20null%2C%0A%20%20%22fill%22%3A%20true%2C%0A%20%20%22fillColor%22%3A%20%22%233186cc%22%2C%0A%20%20%22fillOpacity%22%3A%200.7%2C%0A%20%20%22fillRule%22%3A%20%22evenodd%22%2C%0A%20%20%22lineCap%22%3A%20%22round%22%2C%0A%20%20%22lineJoin%22%3A%20%22round%22%2C%0A%20%20%22opacity%22%3A%201.0%2C%0A%20%20%22radius%22%3A%205%2C%0A%20%20%22stroke%22%3A%20true%2C%0A%20%20%22weight%22%3A%203%0A%7D%0A%20%20%20%20%20%20%20%20%20%20%20%20%20%20%20%20%29%0A%20%20%20%20%20%20%20%20%20%20%20%20%20%20%20%20.addTo%28map_e8b8885878634cabbb575d0d84a248c7%29%3B%0A%20%20%20%20%20%20%20%20%20%20%20%20%0A%20%20%20%20%0A%20%20%20%20%20%20%20%20%20%20%20%20var%20popup_4f4744fbe95340dc9f620107e6883607%20%3D%20L.popup%28%7BmaxWidth%3A%20%27100%25%27%0A%20%20%20%20%20%20%20%20%20%20%20%20%0A%20%20%20%20%20%20%20%20%20%20%20%20%7D%29%3B%0A%0A%20%20%20%20%20%20%20%20%20%20%20%20%0A%20%20%20%20%20%20%20%20%20%20%20%20%20%20%20%20var%20html_6c3ccdfe5c7a48989813c461c7637f7f%20%3D%20%24%28%60%3Cdiv%20id%3D%22html_6c3ccdfe5c7a48989813c461c7637f7f%22%20style%3D%22width%3A%20100.0%25%3B%20height%3A%20100.0%25%3B%22%3ESamphanthawong%3C/div%3E%60%29%5B0%5D%3B%0A%20%20%20%20%20%20%20%20%20%20%20%20%20%20%20%20popup_4f4744fbe95340dc9f620107e6883607.setContent%28html_6c3ccdfe5c7a48989813c461c7637f7f%29%3B%0A%20%20%20%20%20%20%20%20%20%20%20%20%0A%0A%20%20%20%20%20%20%20%20%20%20%20%20circle_marker_b8517ef6ae5e4f8f89ba94ece8478830.bindPopup%28popup_4f4744fbe95340dc9f620107e6883607%29%0A%20%20%20%20%20%20%20%20%20%20%20%20%3B%0A%0A%20%20%20%20%20%20%20%20%20%20%20%20%0A%20%20%20%20%20%20%20%20%0A%20%20%20%20%0A%20%20%20%20%20%20%20%20%20%20%20%20var%20circle_marker_88371b3ed9b544a3822bb772729ffcf7%20%3D%20L.circleMarker%28%0A%20%20%20%20%20%20%20%20%20%20%20%20%20%20%20%20%5B13.78%2C%20100.542778%5D%2C%0A%20%20%20%20%20%20%20%20%20%20%20%20%20%20%20%20%7B%0A%20%20%22bubblingMouseEvents%22%3A%20true%2C%0A%20%20%22color%22%3A%20%22blue%22%2C%0A%20%20%22dashArray%22%3A%20null%2C%0A%20%20%22dashOffset%22%3A%20null%2C%0A%20%20%22fill%22%3A%20true%2C%0A%20%20%22fillColor%22%3A%20%22%233186cc%22%2C%0A%20%20%22fillOpacity%22%3A%200.7%2C%0A%20%20%22fillRule%22%3A%20%22evenodd%22%2C%0A%20%20%22lineCap%22%3A%20%22round%22%2C%0A%20%20%22lineJoin%22%3A%20%22round%22%2C%0A%20%20%22opacity%22%3A%201.0%2C%0A%20%20%22radius%22%3A%205%2C%0A%20%20%22stroke%22%3A%20true%2C%0A%20%20%22weight%22%3A%203%0A%7D%0A%20%20%20%20%20%20%20%20%20%20%20%20%20%20%20%20%29%0A%20%20%20%20%20%20%20%20%20%20%20%20%20%20%20%20.addTo%28map_e8b8885878634cabbb575d0d84a248c7%29%3B%0A%20%20%20%20%20%20%20%20%20%20%20%20%0A%20%20%20%20%0A%20%20%20%20%20%20%20%20%20%20%20%20var%20popup_4c5d8f164fa345a5b69f95fbbc82bd78%20%3D%20L.popup%28%7BmaxWidth%3A%20%27100%25%27%0A%20%20%20%20%20%20%20%20%20%20%20%20%0A%20%20%20%20%20%20%20%20%20%20%20%20%7D%29%3B%0A%0A%20%20%20%20%20%20%20%20%20%20%20%20%0A%20%20%20%20%20%20%20%20%20%20%20%20%20%20%20%20var%20html_52d7d692563d42fbb947f336c5681042%20%3D%20%24%28%60%3Cdiv%20id%3D%22html_52d7d692563d42fbb947f336c5681042%22%20style%3D%22width%3A%20100.0%25%3B%20height%3A%20100.0%25%3B%22%3EPhaya%20Thai%3C/div%3E%60%29%5B0%5D%3B%0A%20%20%20%20%20%20%20%20%20%20%20%20%20%20%20%20popup_4c5d8f164fa345a5b69f95fbbc82bd78.setContent%28html_52d7d692563d42fbb947f336c5681042%29%3B%0A%20%20%20%20%20%20%20%20%20%20%20%20%0A%0A%20%20%20%20%20%20%20%20%20%20%20%20circle_marker_88371b3ed9b544a3822bb772729ffcf7.bindPopup%28popup_4c5d8f164fa345a5b69f95fbbc82bd78%29%0A%20%20%20%20%20%20%20%20%20%20%20%20%3B%0A%0A%20%20%20%20%20%20%20%20%20%20%20%20%0A%20%20%20%20%20%20%20%20%0A%20%20%20%20%0A%20%20%20%20%20%20%20%20%20%20%20%20var%20circle_marker_9597b991d77a4db996589f47d2101000%20%3D%20L.circleMarker%28%0A%20%20%20%20%20%20%20%20%20%20%20%20%20%20%20%20%5B13.725%2C%20100.485833%5D%2C%0A%20%20%20%20%20%20%20%20%20%20%20%20%20%20%20%20%7B%0A%20%20%22bubblingMouseEvents%22%3A%20true%2C%0A%20%20%22color%22%3A%20%22blue%22%2C%0A%20%20%22dashArray%22%3A%20null%2C%0A%20%20%22dashOffset%22%3A%20null%2C%0A%20%20%22fill%22%3A%20true%2C%0A%20%20%22fillColor%22%3A%20%22%233186cc%22%2C%0A%20%20%22fillOpacity%22%3A%200.7%2C%0A%20%20%22fillRule%22%3A%20%22evenodd%22%2C%0A%20%20%22lineCap%22%3A%20%22round%22%2C%0A%20%20%22lineJoin%22%3A%20%22round%22%2C%0A%20%20%22opacity%22%3A%201.0%2C%0A%20%20%22radius%22%3A%205%2C%0A%20%20%22stroke%22%3A%20true%2C%0A%20%20%22weight%22%3A%203%0A%7D%0A%20%20%20%20%20%20%20%20%20%20%20%20%20%20%20%20%29%0A%20%20%20%20%20%20%20%20%20%20%20%20%20%20%20%20.addTo%28map_e8b8885878634cabbb575d0d84a248c7%29%3B%0A%20%20%20%20%20%20%20%20%20%20%20%20%0A%20%20%20%20%0A%20%20%20%20%20%20%20%20%20%20%20%20var%20popup_d7ec6047c27a48c08085b0b3cd5783bd%20%3D%20L.popup%28%7BmaxWidth%3A%20%27100%25%27%0A%20%20%20%20%20%20%20%20%20%20%20%20%0A%20%20%20%20%20%20%20%20%20%20%20%20%7D%29%3B%0A%0A%20%20%20%20%20%20%20%20%20%20%20%20%0A%20%20%20%20%20%20%20%20%20%20%20%20%20%20%20%20var%20html_352f9ed1c1a247fca500ff6e5149d7c5%20%3D%20%24%28%60%3Cdiv%20id%3D%22html_352f9ed1c1a247fca500ff6e5149d7c5%22%20style%3D%22width%3A%20100.0%25%3B%20height%3A%20100.0%25%3B%22%3EThon%20Buri%3C/div%3E%60%29%5B0%5D%3B%0A%20%20%20%20%20%20%20%20%20%20%20%20%20%20%20%20popup_d7ec6047c27a48c08085b0b3cd5783bd.setContent%28html_352f9ed1c1a247fca500ff6e5149d7c5%29%3B%0A%20%20%20%20%20%20%20%20%20%20%20%20%0A%0A%20%20%20%20%20%20%20%20%20%20%20%20circle_marker_9597b991d77a4db996589f47d2101000.bindPopup%28popup_d7ec6047c27a48c08085b0b3cd5783bd%29%0A%20%20%20%20%20%20%20%20%20%20%20%20%3B%0A%0A%20%20%20%20%20%20%20%20%20%20%20%20%0A%20%20%20%20%20%20%20%20%0A%20%20%20%20%0A%20%20%20%20%20%20%20%20%20%20%20%20var%20circle_marker_41f73daf53d44ea6921a5f3addb5431b%20%3D%20L.circleMarker%28%0A%20%20%20%20%20%20%20%20%20%20%20%20%20%20%20%20%5B13.722778%2C%20100.476389%5D%2C%0A%20%20%20%20%20%20%20%20%20%20%20%20%20%20%20%20%7B%0A%20%20%22bubblingMouseEvents%22%3A%20true%2C%0A%20%20%22color%22%3A%20%22blue%22%2C%0A%20%20%22dashArray%22%3A%20null%2C%0A%20%20%22dashOffset%22%3A%20null%2C%0A%20%20%22fill%22%3A%20true%2C%0A%20%20%22fillColor%22%3A%20%22%233186cc%22%2C%0A%20%20%22fillOpacity%22%3A%200.7%2C%0A%20%20%22fillRule%22%3A%20%22evenodd%22%2C%0A%20%20%22lineCap%22%3A%20%22round%22%2C%0A%20%20%22lineJoin%22%3A%20%22round%22%2C%0A%20%20%22opacity%22%3A%201.0%2C%0A%20%20%22radius%22%3A%205%2C%0A%20%20%22stroke%22%3A%20true%2C%0A%20%20%22weight%22%3A%203%0A%7D%0A%20%20%20%20%20%20%20%20%20%20%20%20%20%20%20%20%29%0A%20%20%20%20%20%20%20%20%20%20%20%20%20%20%20%20.addTo%28map_e8b8885878634cabbb575d0d84a248c7%29%3B%0A%20%20%20%20%20%20%20%20%20%20%20%20%0A%20%20%20%20%0A%20%20%20%20%20%20%20%20%20%20%20%20var%20popup_3fbad277bf9c427f99ce55c9e0110f5e%20%3D%20L.popup%28%7BmaxWidth%3A%20%27100%25%27%0A%20%20%20%20%20%20%20%20%20%20%20%20%0A%20%20%20%20%20%20%20%20%20%20%20%20%7D%29%3B%0A%0A%20%20%20%20%20%20%20%20%20%20%20%20%0A%20%20%20%20%20%20%20%20%20%20%20%20%20%20%20%20var%20html_5d7c4aae7575403389b8225ff6b476c0%20%3D%20%24%28%60%3Cdiv%20id%3D%22html_5d7c4aae7575403389b8225ff6b476c0%22%20style%3D%22width%3A%20100.0%25%3B%20height%3A%20100.0%25%3B%22%3EBangkok%20Yai%3C/div%3E%60%29%5B0%5D%3B%0A%20%20%20%20%20%20%20%20%20%20%20%20%20%20%20%20popup_3fbad277bf9c427f99ce55c9e0110f5e.setContent%28html_5d7c4aae7575403389b8225ff6b476c0%29%3B%0A%20%20%20%20%20%20%20%20%20%20%20%20%0A%0A%20%20%20%20%20%20%20%20%20%20%20%20circle_marker_41f73daf53d44ea6921a5f3addb5431b.bindPopup%28popup_3fbad277bf9c427f99ce55c9e0110f5e%29%0A%20%20%20%20%20%20%20%20%20%20%20%20%3B%0A%0A%20%20%20%20%20%20%20%20%20%20%20%20%0A%20%20%20%20%20%20%20%20%0A%20%20%20%20%0A%20%20%20%20%20%20%20%20%20%20%20%20var%20circle_marker_4f81181c855f47a39662f82c03dd6888%20%3D%20L.circleMarker%28%0A%20%20%20%20%20%20%20%20%20%20%20%20%20%20%20%20%5B13.776667%2C%20100.579444%5D%2C%0A%20%20%20%20%20%20%20%20%20%20%20%20%20%20%20%20%7B%0A%20%20%22bubblingMouseEvents%22%3A%20true%2C%0A%20%20%22color%22%3A%20%22blue%22%2C%0A%20%20%22dashArray%22%3A%20null%2C%0A%20%20%22dashOffset%22%3A%20null%2C%0A%20%20%22fill%22%3A%20true%2C%0A%20%20%22fillColor%22%3A%20%22%233186cc%22%2C%0A%20%20%22fillOpacity%22%3A%200.7%2C%0A%20%20%22fillRule%22%3A%20%22evenodd%22%2C%0A%20%20%22lineCap%22%3A%20%22round%22%2C%0A%20%20%22lineJoin%22%3A%20%22round%22%2C%0A%20%20%22opacity%22%3A%201.0%2C%0A%20%20%22radius%22%3A%205%2C%0A%20%20%22stroke%22%3A%20true%2C%0A%20%20%22weight%22%3A%203%0A%7D%0A%20%20%20%20%20%20%20%20%20%20%20%20%20%20%20%20%29%0A%20%20%20%20%20%20%20%20%20%20%20%20%20%20%20%20.addTo%28map_e8b8885878634cabbb575d0d84a248c7%29%3B%0A%20%20%20%20%20%20%20%20%20%20%20%20%0A%20%20%20%20%0A%20%20%20%20%20%20%20%20%20%20%20%20var%20popup_1ea566838ed948c2afe7ef07583191ff%20%3D%20L.popup%28%7BmaxWidth%3A%20%27100%25%27%0A%20%20%20%20%20%20%20%20%20%20%20%20%0A%20%20%20%20%20%20%20%20%20%20%20%20%7D%29%3B%0A%0A%20%20%20%20%20%20%20%20%20%20%20%20%0A%20%20%20%20%20%20%20%20%20%20%20%20%20%20%20%20var%20html_b115c6c27b514509a3af7454b8da7ba2%20%3D%20%24%28%60%3Cdiv%20id%3D%22html_b115c6c27b514509a3af7454b8da7ba2%22%20style%3D%22width%3A%20100.0%25%3B%20height%3A%20100.0%25%3B%22%3EHuai%20Khwang%3C/div%3E%60%29%5B0%5D%3B%0A%20%20%20%20%20%20%20%20%20%20%20%20%20%20%20%20popup_1ea566838ed948c2afe7ef07583191ff.setContent%28html_b115c6c27b514509a3af7454b8da7ba2%29%3B%0A%20%20%20%20%20%20%20%20%20%20%20%20%0A%0A%20%20%20%20%20%20%20%20%20%20%20%20circle_marker_4f81181c855f47a39662f82c03dd6888.bindPopup%28popup_1ea566838ed948c2afe7ef07583191ff%29%0A%20%20%20%20%20%20%20%20%20%20%20%20%3B%0A%0A%20%20%20%20%20%20%20%20%20%20%20%20%0A%20%20%20%20%20%20%20%20%0A%20%20%20%20%0A%20%20%20%20%20%20%20%20%20%20%20%20var%20circle_marker_81c3cbda68844299b81acbf42d84bb8a%20%3D%20L.circleMarker%28%0A%20%20%20%20%20%20%20%20%20%20%20%20%20%20%20%20%5B13.730278%2C%20100.509722%5D%2C%0A%20%20%20%20%20%20%20%20%20%20%20%20%20%20%20%20%7B%0A%20%20%22bubblingMouseEvents%22%3A%20true%2C%0A%20%20%22color%22%3A%20%22blue%22%2C%0A%20%20%22dashArray%22%3A%20null%2C%0A%20%20%22dashOffset%22%3A%20null%2C%0A%20%20%22fill%22%3A%20true%2C%0A%20%20%22fillColor%22%3A%20%22%233186cc%22%2C%0A%20%20%22fillOpacity%22%3A%200.7%2C%0A%20%20%22fillRule%22%3A%20%22evenodd%22%2C%0A%20%20%22lineCap%22%3A%20%22round%22%2C%0A%20%20%22lineJoin%22%3A%20%22round%22%2C%0A%20%20%22opacity%22%3A%201.0%2C%0A%20%20%22radius%22%3A%205%2C%0A%20%20%22stroke%22%3A%20true%2C%0A%20%20%22weight%22%3A%203%0A%7D%0A%20%20%20%20%20%20%20%20%20%20%20%20%20%20%20%20%29%0A%20%20%20%20%20%20%20%20%20%20%20%20%20%20%20%20.addTo%28map_e8b8885878634cabbb575d0d84a248c7%29%3B%0A%20%20%20%20%20%20%20%20%20%20%20%20%0A%20%20%20%20%0A%20%20%20%20%20%20%20%20%20%20%20%20var%20popup_222192b4cc564b03b0b4e4b9b077e556%20%3D%20L.popup%28%7BmaxWidth%3A%20%27100%25%27%0A%20%20%20%20%20%20%20%20%20%20%20%20%0A%20%20%20%20%20%20%20%20%20%20%20%20%7D%29%3B%0A%0A%20%20%20%20%20%20%20%20%20%20%20%20%0A%20%20%20%20%20%20%20%20%20%20%20%20%20%20%20%20var%20html_9ce3ed1722de42019e9d01bef848613a%20%3D%20%24%28%60%3Cdiv%20id%3D%22html_9ce3ed1722de42019e9d01bef848613a%22%20style%3D%22width%3A%20100.0%25%3B%20height%3A%20100.0%25%3B%22%3EKhlong%20San%3C/div%3E%60%29%5B0%5D%3B%0A%20%20%20%20%20%20%20%20%20%20%20%20%20%20%20%20popup_222192b4cc564b03b0b4e4b9b077e556.setContent%28html_9ce3ed1722de42019e9d01bef848613a%29%3B%0A%20%20%20%20%20%20%20%20%20%20%20%20%0A%0A%20%20%20%20%20%20%20%20%20%20%20%20circle_marker_81c3cbda68844299b81acbf42d84bb8a.bindPopup%28popup_222192b4cc564b03b0b4e4b9b077e556%29%0A%20%20%20%20%20%20%20%20%20%20%20%20%3B%0A%0A%20%20%20%20%20%20%20%20%20%20%20%20%0A%20%20%20%20%20%20%20%20%0A%20%20%20%20%0A%20%20%20%20%20%20%20%20%20%20%20%20var%20circle_marker_1cbd835291604b2793dac739bf6d1f26%20%3D%20L.circleMarker%28%0A%20%20%20%20%20%20%20%20%20%20%20%20%20%20%20%20%5B13.776944%2C%20100.456667%5D%2C%0A%20%20%20%20%20%20%20%20%20%20%20%20%20%20%20%20%7B%0A%20%20%22bubblingMouseEvents%22%3A%20true%2C%0A%20%20%22color%22%3A%20%22blue%22%2C%0A%20%20%22dashArray%22%3A%20null%2C%0A%20%20%22dashOffset%22%3A%20null%2C%0A%20%20%22fill%22%3A%20true%2C%0A%20%20%22fillColor%22%3A%20%22%233186cc%22%2C%0A%20%20%22fillOpacity%22%3A%200.7%2C%0A%20%20%22fillRule%22%3A%20%22evenodd%22%2C%0A%20%20%22lineCap%22%3A%20%22round%22%2C%0A%20%20%22lineJoin%22%3A%20%22round%22%2C%0A%20%20%22opacity%22%3A%201.0%2C%0A%20%20%22radius%22%3A%205%2C%0A%20%20%22stroke%22%3A%20true%2C%0A%20%20%22weight%22%3A%203%0A%7D%0A%20%20%20%20%20%20%20%20%20%20%20%20%20%20%20%20%29%0A%20%20%20%20%20%20%20%20%20%20%20%20%20%20%20%20.addTo%28map_e8b8885878634cabbb575d0d84a248c7%29%3B%0A%20%20%20%20%20%20%20%20%20%20%20%20%0A%20%20%20%20%0A%20%20%20%20%20%20%20%20%20%20%20%20var%20popup_38c4884b1d1e497facf1cb629add19d6%20%3D%20L.popup%28%7BmaxWidth%3A%20%27100%25%27%0A%20%20%20%20%20%20%20%20%20%20%20%20%0A%20%20%20%20%20%20%20%20%20%20%20%20%7D%29%3B%0A%0A%20%20%20%20%20%20%20%20%20%20%20%20%0A%20%20%20%20%20%20%20%20%20%20%20%20%20%20%20%20var%20html_be7ea7cf12304c57865b36f312200bae%20%3D%20%24%28%60%3Cdiv%20id%3D%22html_be7ea7cf12304c57865b36f312200bae%22%20style%3D%22width%3A%20100.0%25%3B%20height%3A%20100.0%25%3B%22%3ETaling%20Chan%3C/div%3E%60%29%5B0%5D%3B%0A%20%20%20%20%20%20%20%20%20%20%20%20%20%20%20%20popup_38c4884b1d1e497facf1cb629add19d6.setContent%28html_be7ea7cf12304c57865b36f312200bae%29%3B%0A%20%20%20%20%20%20%20%20%20%20%20%20%0A%0A%20%20%20%20%20%20%20%20%20%20%20%20circle_marker_1cbd835291604b2793dac739bf6d1f26.bindPopup%28popup_38c4884b1d1e497facf1cb629add19d6%29%0A%20%20%20%20%20%20%20%20%20%20%20%20%3B%0A%0A%20%20%20%20%20%20%20%20%20%20%20%20%0A%20%20%20%20%20%20%20%20%0A%20%20%20%20%0A%20%20%20%20%20%20%20%20%20%20%20%20var%20circle_marker_99b44488058b42ac8bf52bc1236bb66c%20%3D%20L.circleMarker%28%0A%20%20%20%20%20%20%20%20%20%20%20%20%20%20%20%20%5B13.770867%2C%20100.467933%5D%2C%0A%20%20%20%20%20%20%20%20%20%20%20%20%20%20%20%20%7B%0A%20%20%22bubblingMouseEvents%22%3A%20true%2C%0A%20%20%22color%22%3A%20%22blue%22%2C%0A%20%20%22dashArray%22%3A%20null%2C%0A%20%20%22dashOffset%22%3A%20null%2C%0A%20%20%22fill%22%3A%20true%2C%0A%20%20%22fillColor%22%3A%20%22%233186cc%22%2C%0A%20%20%22fillOpacity%22%3A%200.7%2C%0A%20%20%22fillRule%22%3A%20%22evenodd%22%2C%0A%20%20%22lineCap%22%3A%20%22round%22%2C%0A%20%20%22lineJoin%22%3A%20%22round%22%2C%0A%20%20%22opacity%22%3A%201.0%2C%0A%20%20%22radius%22%3A%205%2C%0A%20%20%22stroke%22%3A%20true%2C%0A%20%20%22weight%22%3A%203%0A%7D%0A%20%20%20%20%20%20%20%20%20%20%20%20%20%20%20%20%29%0A%20%20%20%20%20%20%20%20%20%20%20%20%20%20%20%20.addTo%28map_e8b8885878634cabbb575d0d84a248c7%29%3B%0A%20%20%20%20%20%20%20%20%20%20%20%20%0A%20%20%20%20%0A%20%20%20%20%20%20%20%20%20%20%20%20var%20popup_5fc5542ce7104c3292556a6ce3b84e19%20%3D%20L.popup%28%7BmaxWidth%3A%20%27100%25%27%0A%20%20%20%20%20%20%20%20%20%20%20%20%0A%20%20%20%20%20%20%20%20%20%20%20%20%7D%29%3B%0A%0A%20%20%20%20%20%20%20%20%20%20%20%20%0A%20%20%20%20%20%20%20%20%20%20%20%20%20%20%20%20var%20html_e87ed517689b4e0490a6e1fc8be4eeb3%20%3D%20%24%28%60%3Cdiv%20id%3D%22html_e87ed517689b4e0490a6e1fc8be4eeb3%22%20style%3D%22width%3A%20100.0%25%3B%20height%3A%20100.0%25%3B%22%3EBangkok%20Noi%3C/div%3E%60%29%5B0%5D%3B%0A%20%20%20%20%20%20%20%20%20%20%20%20%20%20%20%20popup_5fc5542ce7104c3292556a6ce3b84e19.setContent%28html_e87ed517689b4e0490a6e1fc8be4eeb3%29%3B%0A%20%20%20%20%20%20%20%20%20%20%20%20%0A%0A%20%20%20%20%20%20%20%20%20%20%20%20circle_marker_99b44488058b42ac8bf52bc1236bb66c.bindPopup%28popup_5fc5542ce7104c3292556a6ce3b84e19%29%0A%20%20%20%20%20%20%20%20%20%20%20%20%3B%0A%0A%20%20%20%20%20%20%20%20%20%20%20%20%0A%20%20%20%20%20%20%20%20%0A%20%20%20%20%0A%20%20%20%20%20%20%20%20%20%20%20%20var%20circle_marker_fdcf97b0381549818841c342ee82afff%20%3D%20L.circleMarker%28%0A%20%20%20%20%20%20%20%20%20%20%20%20%20%20%20%20%5B13.660833%2C%20100.435833%5D%2C%0A%20%20%20%20%20%20%20%20%20%20%20%20%20%20%20%20%7B%0A%20%20%22bubblingMouseEvents%22%3A%20true%2C%0A%20%20%22color%22%3A%20%22blue%22%2C%0A%20%20%22dashArray%22%3A%20null%2C%0A%20%20%22dashOffset%22%3A%20null%2C%0A%20%20%22fill%22%3A%20true%2C%0A%20%20%22fillColor%22%3A%20%22%233186cc%22%2C%0A%20%20%22fillOpacity%22%3A%200.7%2C%0A%20%20%22fillRule%22%3A%20%22evenodd%22%2C%0A%20%20%22lineCap%22%3A%20%22round%22%2C%0A%20%20%22lineJoin%22%3A%20%22round%22%2C%0A%20%20%22opacity%22%3A%201.0%2C%0A%20%20%22radius%22%3A%205%2C%0A%20%20%22stroke%22%3A%20true%2C%0A%20%20%22weight%22%3A%203%0A%7D%0A%20%20%20%20%20%20%20%20%20%20%20%20%20%20%20%20%29%0A%20%20%20%20%20%20%20%20%20%20%20%20%20%20%20%20.addTo%28map_e8b8885878634cabbb575d0d84a248c7%29%3B%0A%20%20%20%20%20%20%20%20%20%20%20%20%0A%20%20%20%20%0A%20%20%20%20%20%20%20%20%20%20%20%20var%20popup_b2ab8ce8e39144c8a9f7b26b52fc8d72%20%3D%20L.popup%28%7BmaxWidth%3A%20%27100%25%27%0A%20%20%20%20%20%20%20%20%20%20%20%20%0A%20%20%20%20%20%20%20%20%20%20%20%20%7D%29%3B%0A%0A%20%20%20%20%20%20%20%20%20%20%20%20%0A%20%20%20%20%20%20%20%20%20%20%20%20%20%20%20%20var%20html_25bcdd1b84b7418b8d6432a88303c724%20%3D%20%24%28%60%3Cdiv%20id%3D%22html_25bcdd1b84b7418b8d6432a88303c724%22%20style%3D%22width%3A%20100.0%25%3B%20height%3A%20100.0%25%3B%22%3EBang%20Khun%20Thian%3C/div%3E%60%29%5B0%5D%3B%0A%20%20%20%20%20%20%20%20%20%20%20%20%20%20%20%20popup_b2ab8ce8e39144c8a9f7b26b52fc8d72.setContent%28html_25bcdd1b84b7418b8d6432a88303c724%29%3B%0A%20%20%20%20%20%20%20%20%20%20%20%20%0A%0A%20%20%20%20%20%20%20%20%20%20%20%20circle_marker_fdcf97b0381549818841c342ee82afff.bindPopup%28popup_b2ab8ce8e39144c8a9f7b26b52fc8d72%29%0A%20%20%20%20%20%20%20%20%20%20%20%20%3B%0A%0A%20%20%20%20%20%20%20%20%20%20%20%20%0A%20%20%20%20%20%20%20%20%0A%20%20%20%20%0A%20%20%20%20%20%20%20%20%20%20%20%20var%20circle_marker_63c3db8caa6141f28147b91596ada037%20%3D%20L.circleMarker%28%0A%20%20%20%20%20%20%20%20%20%20%20%20%20%20%20%20%5B13.714722%2C%20100.437222%5D%2C%0A%20%20%20%20%20%20%20%20%20%20%20%20%20%20%20%20%7B%0A%20%20%22bubblingMouseEvents%22%3A%20true%2C%0A%20%20%22color%22%3A%20%22blue%22%2C%0A%20%20%22dashArray%22%3A%20null%2C%0A%20%20%22dashOffset%22%3A%20null%2C%0A%20%20%22fill%22%3A%20true%2C%0A%20%20%22fillColor%22%3A%20%22%233186cc%22%2C%0A%20%20%22fillOpacity%22%3A%200.7%2C%0A%20%20%22fillRule%22%3A%20%22evenodd%22%2C%0A%20%20%22lineCap%22%3A%20%22round%22%2C%0A%20%20%22lineJoin%22%3A%20%22round%22%2C%0A%20%20%22opacity%22%3A%201.0%2C%0A%20%20%22radius%22%3A%205%2C%0A%20%20%22stroke%22%3A%20true%2C%0A%20%20%22weight%22%3A%203%0A%7D%0A%20%20%20%20%20%20%20%20%20%20%20%20%20%20%20%20%29%0A%20%20%20%20%20%20%20%20%20%20%20%20%20%20%20%20.addTo%28map_e8b8885878634cabbb575d0d84a248c7%29%3B%0A%20%20%20%20%20%20%20%20%20%20%20%20%0A%20%20%20%20%0A%20%20%20%20%20%20%20%20%20%20%20%20var%20popup_cac890b3cde744b5901c166e73fa3230%20%3D%20L.popup%28%7BmaxWidth%3A%20%27100%25%27%0A%20%20%20%20%20%20%20%20%20%20%20%20%0A%20%20%20%20%20%20%20%20%20%20%20%20%7D%29%3B%0A%0A%20%20%20%20%20%20%20%20%20%20%20%20%0A%20%20%20%20%20%20%20%20%20%20%20%20%20%20%20%20var%20html_4eab8afdcebc46aebee2c874dbc59331%20%3D%20%24%28%60%3Cdiv%20id%3D%22html_4eab8afdcebc46aebee2c874dbc59331%22%20style%3D%22width%3A%20100.0%25%3B%20height%3A%20100.0%25%3B%22%3EPhasi%20Charoen%3C/div%3E%60%29%5B0%5D%3B%0A%20%20%20%20%20%20%20%20%20%20%20%20%20%20%20%20popup_cac890b3cde744b5901c166e73fa3230.setContent%28html_4eab8afdcebc46aebee2c874dbc59331%29%3B%0A%20%20%20%20%20%20%20%20%20%20%20%20%0A%0A%20%20%20%20%20%20%20%20%20%20%20%20circle_marker_63c3db8caa6141f28147b91596ada037.bindPopup%28popup_cac890b3cde744b5901c166e73fa3230%29%0A%20%20%20%20%20%20%20%20%20%20%20%20%3B%0A%0A%20%20%20%20%20%20%20%20%20%20%20%20%0A%20%20%20%20%20%20%20%20%0A%20%20%20%20%0A%20%20%20%20%20%20%20%20%20%20%20%20var%20circle_marker_4729b87af9074d7ea71ab0b6e07814a5%20%3D%20L.circleMarker%28%0A%20%20%20%20%20%20%20%20%20%20%20%20%20%20%20%20%5B13.704722%2C%20100.348889%5D%2C%0A%20%20%20%20%20%20%20%20%20%20%20%20%20%20%20%20%7B%0A%20%20%22bubblingMouseEvents%22%3A%20true%2C%0A%20%20%22color%22%3A%20%22blue%22%2C%0A%20%20%22dashArray%22%3A%20null%2C%0A%20%20%22dashOffset%22%3A%20null%2C%0A%20%20%22fill%22%3A%20true%2C%0A%20%20%22fillColor%22%3A%20%22%233186cc%22%2C%0A%20%20%22fillOpacity%22%3A%200.7%2C%0A%20%20%22fillRule%22%3A%20%22evenodd%22%2C%0A%20%20%22lineCap%22%3A%20%22round%22%2C%0A%20%20%22lineJoin%22%3A%20%22round%22%2C%0A%20%20%22opacity%22%3A%201.0%2C%0A%20%20%22radius%22%3A%205%2C%0A%20%20%22stroke%22%3A%20true%2C%0A%20%20%22weight%22%3A%203%0A%7D%0A%20%20%20%20%20%20%20%20%20%20%20%20%20%20%20%20%29%0A%20%20%20%20%20%20%20%20%20%20%20%20%20%20%20%20.addTo%28map_e8b8885878634cabbb575d0d84a248c7%29%3B%0A%20%20%20%20%20%20%20%20%20%20%20%20%0A%20%20%20%20%0A%20%20%20%20%20%20%20%20%20%20%20%20var%20popup_9176d5762d994454888ba7f7025d0223%20%3D%20L.popup%28%7BmaxWidth%3A%20%27100%25%27%0A%20%20%20%20%20%20%20%20%20%20%20%20%0A%20%20%20%20%20%20%20%20%20%20%20%20%7D%29%3B%0A%0A%20%20%20%20%20%20%20%20%20%20%20%20%0A%20%20%20%20%20%20%20%20%20%20%20%20%20%20%20%20var%20html_5274847a363942aaa8e3cadad7b25e49%20%3D%20%24%28%60%3Cdiv%20id%3D%22html_5274847a363942aaa8e3cadad7b25e49%22%20style%3D%22width%3A%20100.0%25%3B%20height%3A%20100.0%25%3B%22%3ENong%20Khaem%3C/div%3E%60%29%5B0%5D%3B%0A%20%20%20%20%20%20%20%20%20%20%20%20%20%20%20%20popup_9176d5762d994454888ba7f7025d0223.setContent%28html_5274847a363942aaa8e3cadad7b25e49%29%3B%0A%20%20%20%20%20%20%20%20%20%20%20%20%0A%0A%20%20%20%20%20%20%20%20%20%20%20%20circle_marker_4729b87af9074d7ea71ab0b6e07814a5.bindPopup%28popup_9176d5762d994454888ba7f7025d0223%29%0A%20%20%20%20%20%20%20%20%20%20%20%20%3B%0A%0A%20%20%20%20%20%20%20%20%20%20%20%20%0A%20%20%20%20%20%20%20%20%0A%20%20%20%20%0A%20%20%20%20%20%20%20%20%20%20%20%20var%20circle_marker_fe49a5c81f2f438d87fead1f21cda3ff%20%3D%20L.circleMarker%28%0A%20%20%20%20%20%20%20%20%20%20%20%20%20%20%20%20%5B13.682222%2C%20100.505556%5D%2C%0A%20%20%20%20%20%20%20%20%20%20%20%20%20%20%20%20%7B%0A%20%20%22bubblingMouseEvents%22%3A%20true%2C%0A%20%20%22color%22%3A%20%22blue%22%2C%0A%20%20%22dashArray%22%3A%20null%2C%0A%20%20%22dashOffset%22%3A%20null%2C%0A%20%20%22fill%22%3A%20true%2C%0A%20%20%22fillColor%22%3A%20%22%233186cc%22%2C%0A%20%20%22fillOpacity%22%3A%200.7%2C%0A%20%20%22fillRule%22%3A%20%22evenodd%22%2C%0A%20%20%22lineCap%22%3A%20%22round%22%2C%0A%20%20%22lineJoin%22%3A%20%22round%22%2C%0A%20%20%22opacity%22%3A%201.0%2C%0A%20%20%22radius%22%3A%205%2C%0A%20%20%22stroke%22%3A%20true%2C%0A%20%20%22weight%22%3A%203%0A%7D%0A%20%20%20%20%20%20%20%20%20%20%20%20%20%20%20%20%29%0A%20%20%20%20%20%20%20%20%20%20%20%20%20%20%20%20.addTo%28map_e8b8885878634cabbb575d0d84a248c7%29%3B%0A%20%20%20%20%20%20%20%20%20%20%20%20%0A%20%20%20%20%0A%20%20%20%20%20%20%20%20%20%20%20%20var%20popup_76aff557fee44481afb8f25259db0708%20%3D%20L.popup%28%7BmaxWidth%3A%20%27100%25%27%0A%20%20%20%20%20%20%20%20%20%20%20%20%0A%20%20%20%20%20%20%20%20%20%20%20%20%7D%29%3B%0A%0A%20%20%20%20%20%20%20%20%20%20%20%20%0A%20%20%20%20%20%20%20%20%20%20%20%20%20%20%20%20var%20html_71688b5aff9443a281df5457702a134c%20%3D%20%24%28%60%3Cdiv%20id%3D%22html_71688b5aff9443a281df5457702a134c%22%20style%3D%22width%3A%20100.0%25%3B%20height%3A%20100.0%25%3B%22%3ERat%20Burana%3C/div%3E%60%29%5B0%5D%3B%0A%20%20%20%20%20%20%20%20%20%20%20%20%20%20%20%20popup_76aff557fee44481afb8f25259db0708.setContent%28html_71688b5aff9443a281df5457702a134c%29%3B%0A%20%20%20%20%20%20%20%20%20%20%20%20%0A%0A%20%20%20%20%20%20%20%20%20%20%20%20circle_marker_fe49a5c81f2f438d87fead1f21cda3ff.bindPopup%28popup_76aff557fee44481afb8f25259db0708%29%0A%20%20%20%20%20%20%20%20%20%20%20%20%3B%0A%0A%20%20%20%20%20%20%20%20%20%20%20%20%0A%20%20%20%20%20%20%20%20%0A%20%20%20%20%0A%20%20%20%20%20%20%20%20%20%20%20%20var%20circle_marker_c8308db7fe8c426f8ac7af87e0389974%20%3D%20L.circleMarker%28%0A%20%20%20%20%20%20%20%20%20%20%20%20%20%20%20%20%5B13.793889%2C%20100.505%5D%2C%0A%20%20%20%20%20%20%20%20%20%20%20%20%20%20%20%20%7B%0A%20%20%22bubblingMouseEvents%22%3A%20true%2C%0A%20%20%22color%22%3A%20%22blue%22%2C%0A%20%20%22dashArray%22%3A%20null%2C%0A%20%20%22dashOffset%22%3A%20null%2C%0A%20%20%22fill%22%3A%20true%2C%0A%20%20%22fillColor%22%3A%20%22%233186cc%22%2C%0A%20%20%22fillOpacity%22%3A%200.7%2C%0A%20%20%22fillRule%22%3A%20%22evenodd%22%2C%0A%20%20%22lineCap%22%3A%20%22round%22%2C%0A%20%20%22lineJoin%22%3A%20%22round%22%2C%0A%20%20%22opacity%22%3A%201.0%2C%0A%20%20%22radius%22%3A%205%2C%0A%20%20%22stroke%22%3A%20true%2C%0A%20%20%22weight%22%3A%203%0A%7D%0A%20%20%20%20%20%20%20%20%20%20%20%20%20%20%20%20%29%0A%20%20%20%20%20%20%20%20%20%20%20%20%20%20%20%20.addTo%28map_e8b8885878634cabbb575d0d84a248c7%29%3B%0A%20%20%20%20%20%20%20%20%20%20%20%20%0A%20%20%20%20%0A%20%20%20%20%20%20%20%20%20%20%20%20var%20popup_edeea87582c04705b16bf9a26c22815d%20%3D%20L.popup%28%7BmaxWidth%3A%20%27100%25%27%0A%20%20%20%20%20%20%20%20%20%20%20%20%0A%20%20%20%20%20%20%20%20%20%20%20%20%7D%29%3B%0A%0A%20%20%20%20%20%20%20%20%20%20%20%20%0A%20%20%20%20%20%20%20%20%20%20%20%20%20%20%20%20var%20html_c61f16d2200541aba8c4ede88762d62d%20%3D%20%24%28%60%3Cdiv%20id%3D%22html_c61f16d2200541aba8c4ede88762d62d%22%20style%3D%22width%3A%20100.0%25%3B%20height%3A%20100.0%25%3B%22%3EBang%20Phlat%3C/div%3E%60%29%5B0%5D%3B%0A%20%20%20%20%20%20%20%20%20%20%20%20%20%20%20%20popup_edeea87582c04705b16bf9a26c22815d.setContent%28html_c61f16d2200541aba8c4ede88762d62d%29%3B%0A%20%20%20%20%20%20%20%20%20%20%20%20%0A%0A%20%20%20%20%20%20%20%20%20%20%20%20circle_marker_c8308db7fe8c426f8ac7af87e0389974.bindPopup%28popup_edeea87582c04705b16bf9a26c22815d%29%0A%20%20%20%20%20%20%20%20%20%20%20%20%3B%0A%0A%20%20%20%20%20%20%20%20%20%20%20%20%0A%20%20%20%20%20%20%20%20%0A%20%20%20%20%0A%20%20%20%20%20%20%20%20%20%20%20%20var%20circle_marker_1697eddba67041d2970fb2207bddc772%20%3D%20L.circleMarker%28%0A%20%20%20%20%20%20%20%20%20%20%20%20%20%20%20%20%5B13.769722%2C%20100.552778%5D%2C%0A%20%20%20%20%20%20%20%20%20%20%20%20%20%20%20%20%7B%0A%20%20%22bubblingMouseEvents%22%3A%20true%2C%0A%20%20%22color%22%3A%20%22blue%22%2C%0A%20%20%22dashArray%22%3A%20null%2C%0A%20%20%22dashOffset%22%3A%20null%2C%0A%20%20%22fill%22%3A%20true%2C%0A%20%20%22fillColor%22%3A%20%22%233186cc%22%2C%0A%20%20%22fillOpacity%22%3A%200.7%2C%0A%20%20%22fillRule%22%3A%20%22evenodd%22%2C%0A%20%20%22lineCap%22%3A%20%22round%22%2C%0A%20%20%22lineJoin%22%3A%20%22round%22%2C%0A%20%20%22opacity%22%3A%201.0%2C%0A%20%20%22radius%22%3A%205%2C%0A%20%20%22stroke%22%3A%20true%2C%0A%20%20%22weight%22%3A%203%0A%7D%0A%20%20%20%20%20%20%20%20%20%20%20%20%20%20%20%20%29%0A%20%20%20%20%20%20%20%20%20%20%20%20%20%20%20%20.addTo%28map_e8b8885878634cabbb575d0d84a248c7%29%3B%0A%20%20%20%20%20%20%20%20%20%20%20%20%0A%20%20%20%20%0A%20%20%20%20%20%20%20%20%20%20%20%20var%20popup_dcb827096d214c8dbd317e634fff1ada%20%3D%20L.popup%28%7BmaxWidth%3A%20%27100%25%27%0A%20%20%20%20%20%20%20%20%20%20%20%20%0A%20%20%20%20%20%20%20%20%20%20%20%20%7D%29%3B%0A%0A%20%20%20%20%20%20%20%20%20%20%20%20%0A%20%20%20%20%20%20%20%20%20%20%20%20%20%20%20%20var%20html_17a3958ef1284bbb850dd47ef0310275%20%3D%20%24%28%60%3Cdiv%20id%3D%22html_17a3958ef1284bbb850dd47ef0310275%22%20style%3D%22width%3A%20100.0%25%3B%20height%3A%20100.0%25%3B%22%3EDin%20Daeng%3C/div%3E%60%29%5B0%5D%3B%0A%20%20%20%20%20%20%20%20%20%20%20%20%20%20%20%20popup_dcb827096d214c8dbd317e634fff1ada.setContent%28html_17a3958ef1284bbb850dd47ef0310275%29%3B%0A%20%20%20%20%20%20%20%20%20%20%20%20%0A%0A%20%20%20%20%20%20%20%20%20%20%20%20circle_marker_1697eddba67041d2970fb2207bddc772.bindPopup%28popup_dcb827096d214c8dbd317e634fff1ada%29%0A%20%20%20%20%20%20%20%20%20%20%20%20%3B%0A%0A%20%20%20%20%20%20%20%20%20%20%20%20%0A%20%20%20%20%20%20%20%20%0A%20%20%20%20%0A%20%20%20%20%20%20%20%20%20%20%20%20var%20circle_marker_7a94616e35dc49ff8fa5109485d5940c%20%3D%20L.circleMarker%28%0A%20%20%20%20%20%20%20%20%20%20%20%20%20%20%20%20%5B13.785278%2C%20100.669167%5D%2C%0A%20%20%20%20%20%20%20%20%20%20%20%20%20%20%20%20%7B%0A%20%20%22bubblingMouseEvents%22%3A%20true%2C%0A%20%20%22color%22%3A%20%22blue%22%2C%0A%20%20%22dashArray%22%3A%20null%2C%0A%20%20%22dashOffset%22%3A%20null%2C%0A%20%20%22fill%22%3A%20true%2C%0A%20%20%22fillColor%22%3A%20%22%233186cc%22%2C%0A%20%20%22fillOpacity%22%3A%200.7%2C%0A%20%20%22fillRule%22%3A%20%22evenodd%22%2C%0A%20%20%22lineCap%22%3A%20%22round%22%2C%0A%20%20%22lineJoin%22%3A%20%22round%22%2C%0A%20%20%22opacity%22%3A%201.0%2C%0A%20%20%22radius%22%3A%205%2C%0A%20%20%22stroke%22%3A%20true%2C%0A%20%20%22weight%22%3A%203%0A%7D%0A%20%20%20%20%20%20%20%20%20%20%20%20%20%20%20%20%29%0A%20%20%20%20%20%20%20%20%20%20%20%20%20%20%20%20.addTo%28map_e8b8885878634cabbb575d0d84a248c7%29%3B%0A%20%20%20%20%20%20%20%20%20%20%20%20%0A%20%20%20%20%0A%20%20%20%20%20%20%20%20%20%20%20%20var%20popup_5855ddea42a644c487f77c577d63defd%20%3D%20L.popup%28%7BmaxWidth%3A%20%27100%25%27%0A%20%20%20%20%20%20%20%20%20%20%20%20%0A%20%20%20%20%20%20%20%20%20%20%20%20%7D%29%3B%0A%0A%20%20%20%20%20%20%20%20%20%20%20%20%0A%20%20%20%20%20%20%20%20%20%20%20%20%20%20%20%20var%20html_8cc37744c1354826894b0ea61941cdb6%20%3D%20%24%28%60%3Cdiv%20id%3D%22html_8cc37744c1354826894b0ea61941cdb6%22%20style%3D%22width%3A%20100.0%25%3B%20height%3A%20100.0%25%3B%22%3EBueng%20Kum%3C/div%3E%60%29%5B0%5D%3B%0A%20%20%20%20%20%20%20%20%20%20%20%20%20%20%20%20popup_5855ddea42a644c487f77c577d63defd.setContent%28html_8cc37744c1354826894b0ea61941cdb6%29%3B%0A%20%20%20%20%20%20%20%20%20%20%20%20%0A%0A%20%20%20%20%20%20%20%20%20%20%20%20circle_marker_7a94616e35dc49ff8fa5109485d5940c.bindPopup%28popup_5855ddea42a644c487f77c577d63defd%29%0A%20%20%20%20%20%20%20%20%20%20%20%20%3B%0A%0A%20%20%20%20%20%20%20%20%20%20%20%20%0A%20%20%20%20%20%20%20%20%0A%20%20%20%20%0A%20%20%20%20%20%20%20%20%20%20%20%20var%20circle_marker_5a3bcdf10dbc4263932ae2620f533d74%20%3D%20L.circleMarker%28%0A%20%20%20%20%20%20%20%20%20%20%20%20%20%20%20%20%5B13.708056%2C%20100.526389%5D%2C%0A%20%20%20%20%20%20%20%20%20%20%20%20%20%20%20%20%7B%0A%20%20%22bubblingMouseEvents%22%3A%20true%2C%0A%20%20%22color%22%3A%20%22blue%22%2C%0A%20%20%22dashArray%22%3A%20null%2C%0A%20%20%22dashOffset%22%3A%20null%2C%0A%20%20%22fill%22%3A%20true%2C%0A%20%20%22fillColor%22%3A%20%22%233186cc%22%2C%0A%20%20%22fillOpacity%22%3A%200.7%2C%0A%20%20%22fillRule%22%3A%20%22evenodd%22%2C%0A%20%20%22lineCap%22%3A%20%22round%22%2C%0A%20%20%22lineJoin%22%3A%20%22round%22%2C%0A%20%20%22opacity%22%3A%201.0%2C%0A%20%20%22radius%22%3A%205%2C%0A%20%20%22stroke%22%3A%20true%2C%0A%20%20%22weight%22%3A%203%0A%7D%0A%20%20%20%20%20%20%20%20%20%20%20%20%20%20%20%20%29%0A%20%20%20%20%20%20%20%20%20%20%20%20%20%20%20%20.addTo%28map_e8b8885878634cabbb575d0d84a248c7%29%3B%0A%20%20%20%20%20%20%20%20%20%20%20%20%0A%20%20%20%20%0A%20%20%20%20%20%20%20%20%20%20%20%20var%20popup_2b88386f3c38418d9fba50fd4a6bce84%20%3D%20L.popup%28%7BmaxWidth%3A%20%27100%25%27%0A%20%20%20%20%20%20%20%20%20%20%20%20%0A%20%20%20%20%20%20%20%20%20%20%20%20%7D%29%3B%0A%0A%20%20%20%20%20%20%20%20%20%20%20%20%0A%20%20%20%20%20%20%20%20%20%20%20%20%20%20%20%20var%20html_59d6a9589ec84c5a8db4cf45e7237418%20%3D%20%24%28%60%3Cdiv%20id%3D%22html_59d6a9589ec84c5a8db4cf45e7237418%22%20style%3D%22width%3A%20100.0%25%3B%20height%3A%20100.0%25%3B%22%3ESathon%3C/div%3E%60%29%5B0%5D%3B%0A%20%20%20%20%20%20%20%20%20%20%20%20%20%20%20%20popup_2b88386f3c38418d9fba50fd4a6bce84.setContent%28html_59d6a9589ec84c5a8db4cf45e7237418%29%3B%0A%20%20%20%20%20%20%20%20%20%20%20%20%0A%0A%20%20%20%20%20%20%20%20%20%20%20%20circle_marker_5a3bcdf10dbc4263932ae2620f533d74.bindPopup%28popup_2b88386f3c38418d9fba50fd4a6bce84%29%0A%20%20%20%20%20%20%20%20%20%20%20%20%3B%0A%0A%20%20%20%20%20%20%20%20%20%20%20%20%0A%20%20%20%20%20%20%20%20%0A%20%20%20%20%0A%20%20%20%20%20%20%20%20%20%20%20%20var%20circle_marker_5070d126895c455aa55ec7b1aa7c9525%20%3D%20L.circleMarker%28%0A%20%20%20%20%20%20%20%20%20%20%20%20%20%20%20%20%5B13.809722%2C%20100.537222%5D%2C%0A%20%20%20%20%20%20%20%20%20%20%20%20%20%20%20%20%7B%0A%20%20%22bubblingMouseEvents%22%3A%20true%2C%0A%20%20%22color%22%3A%20%22blue%22%2C%0A%20%20%22dashArray%22%3A%20null%2C%0A%20%20%22dashOffset%22%3A%20null%2C%0A%20%20%22fill%22%3A%20true%2C%0A%20%20%22fillColor%22%3A%20%22%233186cc%22%2C%0A%20%20%22fillOpacity%22%3A%200.7%2C%0A%20%20%22fillRule%22%3A%20%22evenodd%22%2C%0A%20%20%22lineCap%22%3A%20%22round%22%2C%0A%20%20%22lineJoin%22%3A%20%22round%22%2C%0A%20%20%22opacity%22%3A%201.0%2C%0A%20%20%22radius%22%3A%205%2C%0A%20%20%22stroke%22%3A%20true%2C%0A%20%20%22weight%22%3A%203%0A%7D%0A%20%20%20%20%20%20%20%20%20%20%20%20%20%20%20%20%29%0A%20%20%20%20%20%20%20%20%20%20%20%20%20%20%20%20.addTo%28map_e8b8885878634cabbb575d0d84a248c7%29%3B%0A%20%20%20%20%20%20%20%20%20%20%20%20%0A%20%20%20%20%0A%20%20%20%20%20%20%20%20%20%20%20%20var%20popup_d6f2e3ee9ab14caaa24f57ee3500125f%20%3D%20L.popup%28%7BmaxWidth%3A%20%27100%25%27%0A%20%20%20%20%20%20%20%20%20%20%20%20%0A%20%20%20%20%20%20%20%20%20%20%20%20%7D%29%3B%0A%0A%20%20%20%20%20%20%20%20%20%20%20%20%0A%20%20%20%20%20%20%20%20%20%20%20%20%20%20%20%20var%20html_8a037d82e56b42558079f4bdc3ca7cc3%20%3D%20%24%28%60%3Cdiv%20id%3D%22html_8a037d82e56b42558079f4bdc3ca7cc3%22%20style%3D%22width%3A%20100.0%25%3B%20height%3A%20100.0%25%3B%22%3EBang%20Sue%3C/div%3E%60%29%5B0%5D%3B%0A%20%20%20%20%20%20%20%20%20%20%20%20%20%20%20%20popup_d6f2e3ee9ab14caaa24f57ee3500125f.setContent%28html_8a037d82e56b42558079f4bdc3ca7cc3%29%3B%0A%20%20%20%20%20%20%20%20%20%20%20%20%0A%0A%20%20%20%20%20%20%20%20%20%20%20%20circle_marker_5070d126895c455aa55ec7b1aa7c9525.bindPopup%28popup_d6f2e3ee9ab14caaa24f57ee3500125f%29%0A%20%20%20%20%20%20%20%20%20%20%20%20%3B%0A%0A%20%20%20%20%20%20%20%20%20%20%20%20%0A%20%20%20%20%20%20%20%20%0A%20%20%20%20%0A%20%20%20%20%20%20%20%20%20%20%20%20var%20circle_marker_637e03ed75a84129aeb8813480f6d943%20%3D%20L.circleMarker%28%0A%20%20%20%20%20%20%20%20%20%20%20%20%20%20%20%20%5B13.828611%2C%20100.559722%5D%2C%0A%20%20%20%20%20%20%20%20%20%20%20%20%20%20%20%20%7B%0A%20%20%22bubblingMouseEvents%22%3A%20true%2C%0A%20%20%22color%22%3A%20%22blue%22%2C%0A%20%20%22dashArray%22%3A%20null%2C%0A%20%20%22dashOffset%22%3A%20null%2C%0A%20%20%22fill%22%3A%20true%2C%0A%20%20%22fillColor%22%3A%20%22%233186cc%22%2C%0A%20%20%22fillOpacity%22%3A%200.7%2C%0A%20%20%22fillRule%22%3A%20%22evenodd%22%2C%0A%20%20%22lineCap%22%3A%20%22round%22%2C%0A%20%20%22lineJoin%22%3A%20%22round%22%2C%0A%20%20%22opacity%22%3A%201.0%2C%0A%20%20%22radius%22%3A%205%2C%0A%20%20%22stroke%22%3A%20true%2C%0A%20%20%22weight%22%3A%203%0A%7D%0A%20%20%20%20%20%20%20%20%20%20%20%20%20%20%20%20%29%0A%20%20%20%20%20%20%20%20%20%20%20%20%20%20%20%20.addTo%28map_e8b8885878634cabbb575d0d84a248c7%29%3B%0A%20%20%20%20%20%20%20%20%20%20%20%20%0A%20%20%20%20%0A%20%20%20%20%20%20%20%20%20%20%20%20var%20popup_9291d60c22c04f08a783f04da7ba44ba%20%3D%20L.popup%28%7BmaxWidth%3A%20%27100%25%27%0A%20%20%20%20%20%20%20%20%20%20%20%20%0A%20%20%20%20%20%20%20%20%20%20%20%20%7D%29%3B%0A%0A%20%20%20%20%20%20%20%20%20%20%20%20%0A%20%20%20%20%20%20%20%20%20%20%20%20%20%20%20%20var%20html_62d639b16bb74d83a3ff273292f86030%20%3D%20%24%28%60%3Cdiv%20id%3D%22html_62d639b16bb74d83a3ff273292f86030%22%20style%3D%22width%3A%20100.0%25%3B%20height%3A%20100.0%25%3B%22%3EChatuchak%3C/div%3E%60%29%5B0%5D%3B%0A%20%20%20%20%20%20%20%20%20%20%20%20%20%20%20%20popup_9291d60c22c04f08a783f04da7ba44ba.setContent%28html_62d639b16bb74d83a3ff273292f86030%29%3B%0A%20%20%20%20%20%20%20%20%20%20%20%20%0A%0A%20%20%20%20%20%20%20%20%20%20%20%20circle_marker_637e03ed75a84129aeb8813480f6d943.bindPopup%28popup_9291d60c22c04f08a783f04da7ba44ba%29%0A%20%20%20%20%20%20%20%20%20%20%20%20%3B%0A%0A%20%20%20%20%20%20%20%20%20%20%20%20%0A%20%20%20%20%20%20%20%20%0A%20%20%20%20%0A%20%20%20%20%20%20%20%20%20%20%20%20var%20circle_marker_4e18e1e3867940d8a2c7fae39c32b444%20%3D%20L.circleMarker%28%0A%20%20%20%20%20%20%20%20%20%20%20%20%20%20%20%20%5B13.693333%2C%20100.5025%5D%2C%0A%20%20%20%20%20%20%20%20%20%20%20%20%20%20%20%20%7B%0A%20%20%22bubblingMouseEvents%22%3A%20true%2C%0A%20%20%22color%22%3A%20%22blue%22%2C%0A%20%20%22dashArray%22%3A%20null%2C%0A%20%20%22dashOffset%22%3A%20null%2C%0A%20%20%22fill%22%3A%20true%2C%0A%20%20%22fillColor%22%3A%20%22%233186cc%22%2C%0A%20%20%22fillOpacity%22%3A%200.7%2C%0A%20%20%22fillRule%22%3A%20%22evenodd%22%2C%0A%20%20%22lineCap%22%3A%20%22round%22%2C%0A%20%20%22lineJoin%22%3A%20%22round%22%2C%0A%20%20%22opacity%22%3A%201.0%2C%0A%20%20%22radius%22%3A%205%2C%0A%20%20%22stroke%22%3A%20true%2C%0A%20%20%22weight%22%3A%203%0A%7D%0A%20%20%20%20%20%20%20%20%20%20%20%20%20%20%20%20%29%0A%20%20%20%20%20%20%20%20%20%20%20%20%20%20%20%20.addTo%28map_e8b8885878634cabbb575d0d84a248c7%29%3B%0A%20%20%20%20%20%20%20%20%20%20%20%20%0A%20%20%20%20%0A%20%20%20%20%20%20%20%20%20%20%20%20var%20popup_fd6c0f006aa548d1b1c5f0557a3cedeb%20%3D%20L.popup%28%7BmaxWidth%3A%20%27100%25%27%0A%20%20%20%20%20%20%20%20%20%20%20%20%0A%20%20%20%20%20%20%20%20%20%20%20%20%7D%29%3B%0A%0A%20%20%20%20%20%20%20%20%20%20%20%20%0A%20%20%20%20%20%20%20%20%20%20%20%20%20%20%20%20var%20html_742c0d0a582c49e7a50b794a9198dbc2%20%3D%20%24%28%60%3Cdiv%20id%3D%22html_742c0d0a582c49e7a50b794a9198dbc2%22%20style%3D%22width%3A%20100.0%25%3B%20height%3A%20100.0%25%3B%22%3EBang%20Kho%20Laem%3C/div%3E%60%29%5B0%5D%3B%0A%20%20%20%20%20%20%20%20%20%20%20%20%20%20%20%20popup_fd6c0f006aa548d1b1c5f0557a3cedeb.setContent%28html_742c0d0a582c49e7a50b794a9198dbc2%29%3B%0A%20%20%20%20%20%20%20%20%20%20%20%20%0A%0A%20%20%20%20%20%20%20%20%20%20%20%20circle_marker_4e18e1e3867940d8a2c7fae39c32b444.bindPopup%28popup_fd6c0f006aa548d1b1c5f0557a3cedeb%29%0A%20%20%20%20%20%20%20%20%20%20%20%20%3B%0A%0A%20%20%20%20%20%20%20%20%20%20%20%20%0A%20%20%20%20%20%20%20%20%0A%20%20%20%20%0A%20%20%20%20%20%20%20%20%20%20%20%20var%20circle_marker_3968e0868d784d49807085d64b2fdb9d%20%3D%20L.circleMarker%28%0A%20%20%20%20%20%20%20%20%20%20%20%20%20%20%20%20%5B13.716944%2C%20100.694444%5D%2C%0A%20%20%20%20%20%20%20%20%20%20%20%20%20%20%20%20%7B%0A%20%20%22bubblingMouseEvents%22%3A%20true%2C%0A%20%20%22color%22%3A%20%22blue%22%2C%0A%20%20%22dashArray%22%3A%20null%2C%0A%20%20%22dashOffset%22%3A%20null%2C%0A%20%20%22fill%22%3A%20true%2C%0A%20%20%22fillColor%22%3A%20%22%233186cc%22%2C%0A%20%20%22fillOpacity%22%3A%200.7%2C%0A%20%20%22fillRule%22%3A%20%22evenodd%22%2C%0A%20%20%22lineCap%22%3A%20%22round%22%2C%0A%20%20%22lineJoin%22%3A%20%22round%22%2C%0A%20%20%22opacity%22%3A%201.0%2C%0A%20%20%22radius%22%3A%205%2C%0A%20%20%22stroke%22%3A%20true%2C%0A%20%20%22weight%22%3A%203%0A%7D%0A%20%20%20%20%20%20%20%20%20%20%20%20%20%20%20%20%29%0A%20%20%20%20%20%20%20%20%20%20%20%20%20%20%20%20.addTo%28map_e8b8885878634cabbb575d0d84a248c7%29%3B%0A%20%20%20%20%20%20%20%20%20%20%20%20%0A%20%20%20%20%0A%20%20%20%20%20%20%20%20%20%20%20%20var%20popup_c95ef341ebe94d7f88cfbf599a3d85b5%20%3D%20L.popup%28%7BmaxWidth%3A%20%27100%25%27%0A%20%20%20%20%20%20%20%20%20%20%20%20%0A%20%20%20%20%20%20%20%20%20%20%20%20%7D%29%3B%0A%0A%20%20%20%20%20%20%20%20%20%20%20%20%0A%20%20%20%20%20%20%20%20%20%20%20%20%20%20%20%20var%20html_55ce17fa756e4462be839867a7cf20c0%20%3D%20%24%28%60%3Cdiv%20id%3D%22html_55ce17fa756e4462be839867a7cf20c0%22%20style%3D%22width%3A%20100.0%25%3B%20height%3A%20100.0%25%3B%22%3EPrawet%3C/div%3E%60%29%5B0%5D%3B%0A%20%20%20%20%20%20%20%20%20%20%20%20%20%20%20%20popup_c95ef341ebe94d7f88cfbf599a3d85b5.setContent%28html_55ce17fa756e4462be839867a7cf20c0%29%3B%0A%20%20%20%20%20%20%20%20%20%20%20%20%0A%0A%20%20%20%20%20%20%20%20%20%20%20%20circle_marker_3968e0868d784d49807085d64b2fdb9d.bindPopup%28popup_c95ef341ebe94d7f88cfbf599a3d85b5%29%0A%20%20%20%20%20%20%20%20%20%20%20%20%3B%0A%0A%20%20%20%20%20%20%20%20%20%20%20%20%0A%20%20%20%20%20%20%20%20%0A%20%20%20%20%0A%20%20%20%20%20%20%20%20%20%20%20%20var%20circle_marker_6a308bcbc63b43a09b8207518759e49f%20%3D%20L.circleMarker%28%0A%20%20%20%20%20%20%20%20%20%20%20%20%20%20%20%20%5B13.708056%2C%20100.583889%5D%2C%0A%20%20%20%20%20%20%20%20%20%20%20%20%20%20%20%20%7B%0A%20%20%22bubblingMouseEvents%22%3A%20true%2C%0A%20%20%22color%22%3A%20%22blue%22%2C%0A%20%20%22dashArray%22%3A%20null%2C%0A%20%20%22dashOffset%22%3A%20null%2C%0A%20%20%22fill%22%3A%20true%2C%0A%20%20%22fillColor%22%3A%20%22%233186cc%22%2C%0A%20%20%22fillOpacity%22%3A%200.7%2C%0A%20%20%22fillRule%22%3A%20%22evenodd%22%2C%0A%20%20%22lineCap%22%3A%20%22round%22%2C%0A%20%20%22lineJoin%22%3A%20%22round%22%2C%0A%20%20%22opacity%22%3A%201.0%2C%0A%20%20%22radius%22%3A%205%2C%0A%20%20%22stroke%22%3A%20true%2C%0A%20%20%22weight%22%3A%203%0A%7D%0A%20%20%20%20%20%20%20%20%20%20%20%20%20%20%20%20%29%0A%20%20%20%20%20%20%20%20%20%20%20%20%20%20%20%20.addTo%28map_e8b8885878634cabbb575d0d84a248c7%29%3B%0A%20%20%20%20%20%20%20%20%20%20%20%20%0A%20%20%20%20%0A%20%20%20%20%20%20%20%20%20%20%20%20var%20popup_7574d508cbec456580b56e6ca74eeb46%20%3D%20L.popup%28%7BmaxWidth%3A%20%27100%25%27%0A%20%20%20%20%20%20%20%20%20%20%20%20%0A%20%20%20%20%20%20%20%20%20%20%20%20%7D%29%3B%0A%0A%20%20%20%20%20%20%20%20%20%20%20%20%0A%20%20%20%20%20%20%20%20%20%20%20%20%20%20%20%20var%20html_a62863ce2d08437a8fbd7692e49513ac%20%3D%20%24%28%60%3Cdiv%20id%3D%22html_a62863ce2d08437a8fbd7692e49513ac%22%20style%3D%22width%3A%20100.0%25%3B%20height%3A%20100.0%25%3B%22%3EKhlong%20Toei%3C/div%3E%60%29%5B0%5D%3B%0A%20%20%20%20%20%20%20%20%20%20%20%20%20%20%20%20popup_7574d508cbec456580b56e6ca74eeb46.setContent%28html_a62863ce2d08437a8fbd7692e49513ac%29%3B%0A%20%20%20%20%20%20%20%20%20%20%20%20%0A%0A%20%20%20%20%20%20%20%20%20%20%20%20circle_marker_6a308bcbc63b43a09b8207518759e49f.bindPopup%28popup_7574d508cbec456580b56e6ca74eeb46%29%0A%20%20%20%20%20%20%20%20%20%20%20%20%3B%0A%0A%20%20%20%20%20%20%20%20%20%20%20%20%0A%20%20%20%20%20%20%20%20%0A%20%20%20%20%0A%20%20%20%20%20%20%20%20%20%20%20%20var%20circle_marker_5e1692db20c54ba08d4d905de8ce9e00%20%3D%20L.circleMarker%28%0A%20%20%20%20%20%20%20%20%20%20%20%20%20%20%20%20%5B13.730278%2C%20100.651389%5D%2C%0A%20%20%20%20%20%20%20%20%20%20%20%20%20%20%20%20%7B%0A%20%20%22bubblingMouseEvents%22%3A%20true%2C%0A%20%20%22color%22%3A%20%22blue%22%2C%0A%20%20%22dashArray%22%3A%20null%2C%0A%20%20%22dashOffset%22%3A%20null%2C%0A%20%20%22fill%22%3A%20true%2C%0A%20%20%22fillColor%22%3A%20%22%233186cc%22%2C%0A%20%20%22fillOpacity%22%3A%200.7%2C%0A%20%20%22fillRule%22%3A%20%22evenodd%22%2C%0A%20%20%22lineCap%22%3A%20%22round%22%2C%0A%20%20%22lineJoin%22%3A%20%22round%22%2C%0A%20%20%22opacity%22%3A%201.0%2C%0A%20%20%22radius%22%3A%205%2C%0A%20%20%22stroke%22%3A%20true%2C%0A%20%20%22weight%22%3A%203%0A%7D%0A%20%20%20%20%20%20%20%20%20%20%20%20%20%20%20%20%29%0A%20%20%20%20%20%20%20%20%20%20%20%20%20%20%20%20.addTo%28map_e8b8885878634cabbb575d0d84a248c7%29%3B%0A%20%20%20%20%20%20%20%20%20%20%20%20%0A%20%20%20%20%0A%20%20%20%20%20%20%20%20%20%20%20%20var%20popup_836ba4db3024412c97584cf0f43c1571%20%3D%20L.popup%28%7BmaxWidth%3A%20%27100%25%27%0A%20%20%20%20%20%20%20%20%20%20%20%20%0A%20%20%20%20%20%20%20%20%20%20%20%20%7D%29%3B%0A%0A%20%20%20%20%20%20%20%20%20%20%20%20%0A%20%20%20%20%20%20%20%20%20%20%20%20%20%20%20%20var%20html_3b1da9f043b341c18c0e761b61311c43%20%3D%20%24%28%60%3Cdiv%20id%3D%22html_3b1da9f043b341c18c0e761b61311c43%22%20style%3D%22width%3A%20100.0%25%3B%20height%3A%20100.0%25%3B%22%3ESuan%20Luang%3C/div%3E%60%29%5B0%5D%3B%0A%20%20%20%20%20%20%20%20%20%20%20%20%20%20%20%20popup_836ba4db3024412c97584cf0f43c1571.setContent%28html_3b1da9f043b341c18c0e761b61311c43%29%3B%0A%20%20%20%20%20%20%20%20%20%20%20%20%0A%0A%20%20%20%20%20%20%20%20%20%20%20%20circle_marker_5e1692db20c54ba08d4d905de8ce9e00.bindPopup%28popup_836ba4db3024412c97584cf0f43c1571%29%0A%20%20%20%20%20%20%20%20%20%20%20%20%3B%0A%0A%20%20%20%20%20%20%20%20%20%20%20%20%0A%20%20%20%20%20%20%20%20%0A%20%20%20%20%0A%20%20%20%20%20%20%20%20%20%20%20%20var%20circle_marker_bdb9e6cccb704a4081298c788e0d9dbe%20%3D%20L.circleMarker%28%0A%20%20%20%20%20%20%20%20%20%20%20%20%20%20%20%20%5B13.677222%2C%20100.484722%5D%2C%0A%20%20%20%20%20%20%20%20%20%20%20%20%20%20%20%20%7B%0A%20%20%22bubblingMouseEvents%22%3A%20true%2C%0A%20%20%22color%22%3A%20%22blue%22%2C%0A%20%20%22dashArray%22%3A%20null%2C%0A%20%20%22dashOffset%22%3A%20null%2C%0A%20%20%22fill%22%3A%20true%2C%0A%20%20%22fillColor%22%3A%20%22%233186cc%22%2C%0A%20%20%22fillOpacity%22%3A%200.7%2C%0A%20%20%22fillRule%22%3A%20%22evenodd%22%2C%0A%20%20%22lineCap%22%3A%20%22round%22%2C%0A%20%20%22lineJoin%22%3A%20%22round%22%2C%0A%20%20%22opacity%22%3A%201.0%2C%0A%20%20%22radius%22%3A%205%2C%0A%20%20%22stroke%22%3A%20true%2C%0A%20%20%22weight%22%3A%203%0A%7D%0A%20%20%20%20%20%20%20%20%20%20%20%20%20%20%20%20%29%0A%20%20%20%20%20%20%20%20%20%20%20%20%20%20%20%20.addTo%28map_e8b8885878634cabbb575d0d84a248c7%29%3B%0A%20%20%20%20%20%20%20%20%20%20%20%20%0A%20%20%20%20%0A%20%20%20%20%20%20%20%20%20%20%20%20var%20popup_6cdce49f197044ea95571a94c5a9f0c5%20%3D%20L.popup%28%7BmaxWidth%3A%20%27100%25%27%0A%20%20%20%20%20%20%20%20%20%20%20%20%0A%20%20%20%20%20%20%20%20%20%20%20%20%7D%29%3B%0A%0A%20%20%20%20%20%20%20%20%20%20%20%20%0A%20%20%20%20%20%20%20%20%20%20%20%20%20%20%20%20var%20html_7b33786b24704875bca88e0a5ada71ad%20%3D%20%24%28%60%3Cdiv%20id%3D%22html_7b33786b24704875bca88e0a5ada71ad%22%20style%3D%22width%3A%20100.0%25%3B%20height%3A%20100.0%25%3B%22%3EChom%20Thong%3C/div%3E%60%29%5B0%5D%3B%0A%20%20%20%20%20%20%20%20%20%20%20%20%20%20%20%20popup_6cdce49f197044ea95571a94c5a9f0c5.setContent%28html_7b33786b24704875bca88e0a5ada71ad%29%3B%0A%20%20%20%20%20%20%20%20%20%20%20%20%0A%0A%20%20%20%20%20%20%20%20%20%20%20%20circle_marker_bdb9e6cccb704a4081298c788e0d9dbe.bindPopup%28popup_6cdce49f197044ea95571a94c5a9f0c5%29%0A%20%20%20%20%20%20%20%20%20%20%20%20%3B%0A%0A%20%20%20%20%20%20%20%20%20%20%20%20%0A%20%20%20%20%20%20%20%20%0A%20%20%20%20%0A%20%20%20%20%20%20%20%20%20%20%20%20var%20circle_marker_8560064648e546658061cfb3153a311d%20%3D%20L.circleMarker%28%0A%20%20%20%20%20%20%20%20%20%20%20%20%20%20%20%20%5B13.913611%2C%20100.589722%5D%2C%0A%20%20%20%20%20%20%20%20%20%20%20%20%20%20%20%20%7B%0A%20%20%22bubblingMouseEvents%22%3A%20true%2C%0A%20%20%22color%22%3A%20%22blue%22%2C%0A%20%20%22dashArray%22%3A%20null%2C%0A%20%20%22dashOffset%22%3A%20null%2C%0A%20%20%22fill%22%3A%20true%2C%0A%20%20%22fillColor%22%3A%20%22%233186cc%22%2C%0A%20%20%22fillOpacity%22%3A%200.7%2C%0A%20%20%22fillRule%22%3A%20%22evenodd%22%2C%0A%20%20%22lineCap%22%3A%20%22round%22%2C%0A%20%20%22lineJoin%22%3A%20%22round%22%2C%0A%20%20%22opacity%22%3A%201.0%2C%0A%20%20%22radius%22%3A%205%2C%0A%20%20%22stroke%22%3A%20true%2C%0A%20%20%22weight%22%3A%203%0A%7D%0A%20%20%20%20%20%20%20%20%20%20%20%20%20%20%20%20%29%0A%20%20%20%20%20%20%20%20%20%20%20%20%20%20%20%20.addTo%28map_e8b8885878634cabbb575d0d84a248c7%29%3B%0A%20%20%20%20%20%20%20%20%20%20%20%20%0A%20%20%20%20%0A%20%20%20%20%20%20%20%20%20%20%20%20var%20popup_7ddf82203af84416be0f020203a86db2%20%3D%20L.popup%28%7BmaxWidth%3A%20%27100%25%27%0A%20%20%20%20%20%20%20%20%20%20%20%20%0A%20%20%20%20%20%20%20%20%20%20%20%20%7D%29%3B%0A%0A%20%20%20%20%20%20%20%20%20%20%20%20%0A%20%20%20%20%20%20%20%20%20%20%20%20%20%20%20%20var%20html_a1b3939266634148a90af16d09cb507f%20%3D%20%24%28%60%3Cdiv%20id%3D%22html_a1b3939266634148a90af16d09cb507f%22%20style%3D%22width%3A%20100.0%25%3B%20height%3A%20100.0%25%3B%22%3EDon%20Mueang%3C/div%3E%60%29%5B0%5D%3B%0A%20%20%20%20%20%20%20%20%20%20%20%20%20%20%20%20popup_7ddf82203af84416be0f020203a86db2.setContent%28html_a1b3939266634148a90af16d09cb507f%29%3B%0A%20%20%20%20%20%20%20%20%20%20%20%20%0A%0A%20%20%20%20%20%20%20%20%20%20%20%20circle_marker_8560064648e546658061cfb3153a311d.bindPopup%28popup_7ddf82203af84416be0f020203a86db2%29%0A%20%20%20%20%20%20%20%20%20%20%20%20%3B%0A%0A%20%20%20%20%20%20%20%20%20%20%20%20%0A%20%20%20%20%20%20%20%20%0A%20%20%20%20%0A%20%20%20%20%20%20%20%20%20%20%20%20var%20circle_marker_cd2a7881a55e4519a2084e8ff2df6e0b%20%3D%20L.circleMarker%28%0A%20%20%20%20%20%20%20%20%20%20%20%20%20%20%20%20%5B13.758889%2C%20100.534444%5D%2C%0A%20%20%20%20%20%20%20%20%20%20%20%20%20%20%20%20%7B%0A%20%20%22bubblingMouseEvents%22%3A%20true%2C%0A%20%20%22color%22%3A%20%22blue%22%2C%0A%20%20%22dashArray%22%3A%20null%2C%0A%20%20%22dashOffset%22%3A%20null%2C%0A%20%20%22fill%22%3A%20true%2C%0A%20%20%22fillColor%22%3A%20%22%233186cc%22%2C%0A%20%20%22fillOpacity%22%3A%200.7%2C%0A%20%20%22fillRule%22%3A%20%22evenodd%22%2C%0A%20%20%22lineCap%22%3A%20%22round%22%2C%0A%20%20%22lineJoin%22%3A%20%22round%22%2C%0A%20%20%22opacity%22%3A%201.0%2C%0A%20%20%22radius%22%3A%205%2C%0A%20%20%22stroke%22%3A%20true%2C%0A%20%20%22weight%22%3A%203%0A%7D%0A%20%20%20%20%20%20%20%20%20%20%20%20%20%20%20%20%29%0A%20%20%20%20%20%20%20%20%20%20%20%20%20%20%20%20.addTo%28map_e8b8885878634cabbb575d0d84a248c7%29%3B%0A%20%20%20%20%20%20%20%20%20%20%20%20%0A%20%20%20%20%0A%20%20%20%20%20%20%20%20%20%20%20%20var%20popup_3ff05a1d310742249c23835035f9bd28%20%3D%20L.popup%28%7BmaxWidth%3A%20%27100%25%27%0A%20%20%20%20%20%20%20%20%20%20%20%20%0A%20%20%20%20%20%20%20%20%20%20%20%20%7D%29%3B%0A%0A%20%20%20%20%20%20%20%20%20%20%20%20%0A%20%20%20%20%20%20%20%20%20%20%20%20%20%20%20%20var%20html_759190bef92f43c6b8d78a393114219f%20%3D%20%24%28%60%3Cdiv%20id%3D%22html_759190bef92f43c6b8d78a393114219f%22%20style%3D%22width%3A%20100.0%25%3B%20height%3A%20100.0%25%3B%22%3ERatchathewi%3C/div%3E%60%29%5B0%5D%3B%0A%20%20%20%20%20%20%20%20%20%20%20%20%20%20%20%20popup_3ff05a1d310742249c23835035f9bd28.setContent%28html_759190bef92f43c6b8d78a393114219f%29%3B%0A%20%20%20%20%20%20%20%20%20%20%20%20%0A%0A%20%20%20%20%20%20%20%20%20%20%20%20circle_marker_cd2a7881a55e4519a2084e8ff2df6e0b.bindPopup%28popup_3ff05a1d310742249c23835035f9bd28%29%0A%20%20%20%20%20%20%20%20%20%20%20%20%3B%0A%0A%20%20%20%20%20%20%20%20%20%20%20%20%0A%20%20%20%20%20%20%20%20%0A%20%20%20%20%0A%20%20%20%20%20%20%20%20%20%20%20%20var%20circle_marker_1201e8726b704c6291b95a628ea320bb%20%3D%20L.circleMarker%28%0A%20%20%20%20%20%20%20%20%20%20%20%20%20%20%20%20%5B13.803611%2C%20100.6075%5D%2C%0A%20%20%20%20%20%20%20%20%20%20%20%20%20%20%20%20%7B%0A%20%20%22bubblingMouseEvents%22%3A%20true%2C%0A%20%20%22color%22%3A%20%22blue%22%2C%0A%20%20%22dashArray%22%3A%20null%2C%0A%20%20%22dashOffset%22%3A%20null%2C%0A%20%20%22fill%22%3A%20true%2C%0A%20%20%22fillColor%22%3A%20%22%233186cc%22%2C%0A%20%20%22fillOpacity%22%3A%200.7%2C%0A%20%20%22fillRule%22%3A%20%22evenodd%22%2C%0A%20%20%22lineCap%22%3A%20%22round%22%2C%0A%20%20%22lineJoin%22%3A%20%22round%22%2C%0A%20%20%22opacity%22%3A%201.0%2C%0A%20%20%22radius%22%3A%205%2C%0A%20%20%22stroke%22%3A%20true%2C%0A%20%20%22weight%22%3A%203%0A%7D%0A%20%20%20%20%20%20%20%20%20%20%20%20%20%20%20%20%29%0A%20%20%20%20%20%20%20%20%20%20%20%20%20%20%20%20.addTo%28map_e8b8885878634cabbb575d0d84a248c7%29%3B%0A%20%20%20%20%20%20%20%20%20%20%20%20%0A%20%20%20%20%0A%20%20%20%20%20%20%20%20%20%20%20%20var%20popup_951e9f563f7748e1915a30ab30970de0%20%3D%20L.popup%28%7BmaxWidth%3A%20%27100%25%27%0A%20%20%20%20%20%20%20%20%20%20%20%20%0A%20%20%20%20%20%20%20%20%20%20%20%20%7D%29%3B%0A%0A%20%20%20%20%20%20%20%20%20%20%20%20%0A%20%20%20%20%20%20%20%20%20%20%20%20%20%20%20%20var%20html_5c7ef15398ed4c85ad31ef5cb1276f3d%20%3D%20%24%28%60%3Cdiv%20id%3D%22html_5c7ef15398ed4c85ad31ef5cb1276f3d%22%20style%3D%22width%3A%20100.0%25%3B%20height%3A%20100.0%25%3B%22%3ELat%20Phrao%3C/div%3E%60%29%5B0%5D%3B%0A%20%20%20%20%20%20%20%20%20%20%20%20%20%20%20%20popup_951e9f563f7748e1915a30ab30970de0.setContent%28html_5c7ef15398ed4c85ad31ef5cb1276f3d%29%3B%0A%20%20%20%20%20%20%20%20%20%20%20%20%0A%0A%20%20%20%20%20%20%20%20%20%20%20%20circle_marker_1201e8726b704c6291b95a628ea320bb.bindPopup%28popup_951e9f563f7748e1915a30ab30970de0%29%0A%20%20%20%20%20%20%20%20%20%20%20%20%3B%0A%0A%20%20%20%20%20%20%20%20%20%20%20%20%0A%20%20%20%20%20%20%20%20%0A%20%20%20%20%0A%20%20%20%20%20%20%20%20%20%20%20%20var%20circle_marker_e770107f037e497bbaba5859dcdd726d%20%3D%20L.circleMarker%28%0A%20%20%20%20%20%20%20%20%20%20%20%20%20%20%20%20%5B13.742222%2C%20100.585833%5D%2C%0A%20%20%20%20%20%20%20%20%20%20%20%20%20%20%20%20%7B%0A%20%20%22bubblingMouseEvents%22%3A%20true%2C%0A%20%20%22color%22%3A%20%22blue%22%2C%0A%20%20%22dashArray%22%3A%20null%2C%0A%20%20%22dashOffset%22%3A%20null%2C%0A%20%20%22fill%22%3A%20true%2C%0A%20%20%22fillColor%22%3A%20%22%233186cc%22%2C%0A%20%20%22fillOpacity%22%3A%200.7%2C%0A%20%20%22fillRule%22%3A%20%22evenodd%22%2C%0A%20%20%22lineCap%22%3A%20%22round%22%2C%0A%20%20%22lineJoin%22%3A%20%22round%22%2C%0A%20%20%22opacity%22%3A%201.0%2C%0A%20%20%22radius%22%3A%205%2C%0A%20%20%22stroke%22%3A%20true%2C%0A%20%20%22weight%22%3A%203%0A%7D%0A%20%20%20%20%20%20%20%20%20%20%20%20%20%20%20%20%29%0A%20%20%20%20%20%20%20%20%20%20%20%20%20%20%20%20.addTo%28map_e8b8885878634cabbb575d0d84a248c7%29%3B%0A%20%20%20%20%20%20%20%20%20%20%20%20%0A%20%20%20%20%0A%20%20%20%20%20%20%20%20%20%20%20%20var%20popup_a8e28aff5ee34516b3e8bd14f68f01d8%20%3D%20L.popup%28%7BmaxWidth%3A%20%27100%25%27%0A%20%20%20%20%20%20%20%20%20%20%20%20%0A%20%20%20%20%20%20%20%20%20%20%20%20%7D%29%3B%0A%0A%20%20%20%20%20%20%20%20%20%20%20%20%0A%20%20%20%20%20%20%20%20%20%20%20%20%20%20%20%20var%20html_23a234d6fad4411ab9a96637e1f8b8cc%20%3D%20%24%28%60%3Cdiv%20id%3D%22html_23a234d6fad4411ab9a96637e1f8b8cc%22%20style%3D%22width%3A%20100.0%25%3B%20height%3A%20100.0%25%3B%22%3EWatthana%3C/div%3E%60%29%5B0%5D%3B%0A%20%20%20%20%20%20%20%20%20%20%20%20%20%20%20%20popup_a8e28aff5ee34516b3e8bd14f68f01d8.setContent%28html_23a234d6fad4411ab9a96637e1f8b8cc%29%3B%0A%20%20%20%20%20%20%20%20%20%20%20%20%0A%0A%20%20%20%20%20%20%20%20%20%20%20%20circle_marker_e770107f037e497bbaba5859dcdd726d.bindPopup%28popup_a8e28aff5ee34516b3e8bd14f68f01d8%29%0A%20%20%20%20%20%20%20%20%20%20%20%20%3B%0A%0A%20%20%20%20%20%20%20%20%20%20%20%20%0A%20%20%20%20%20%20%20%20%0A%20%20%20%20%0A%20%20%20%20%20%20%20%20%20%20%20%20var%20circle_marker_6b3fe9cdb2bc435487393be2c6ba444e%20%3D%20L.circleMarker%28%0A%20%20%20%20%20%20%20%20%20%20%20%20%20%20%20%20%5B13.696111%2C%20100.409444%5D%2C%0A%20%20%20%20%20%20%20%20%20%20%20%20%20%20%20%20%7B%0A%20%20%22bubblingMouseEvents%22%3A%20true%2C%0A%20%20%22color%22%3A%20%22blue%22%2C%0A%20%20%22dashArray%22%3A%20null%2C%0A%20%20%22dashOffset%22%3A%20null%2C%0A%20%20%22fill%22%3A%20true%2C%0A%20%20%22fillColor%22%3A%20%22%233186cc%22%2C%0A%20%20%22fillOpacity%22%3A%200.7%2C%0A%20%20%22fillRule%22%3A%20%22evenodd%22%2C%0A%20%20%22lineCap%22%3A%20%22round%22%2C%0A%20%20%22lineJoin%22%3A%20%22round%22%2C%0A%20%20%22opacity%22%3A%201.0%2C%0A%20%20%22radius%22%3A%205%2C%0A%20%20%22stroke%22%3A%20true%2C%0A%20%20%22weight%22%3A%203%0A%7D%0A%20%20%20%20%20%20%20%20%20%20%20%20%20%20%20%20%29%0A%20%20%20%20%20%20%20%20%20%20%20%20%20%20%20%20.addTo%28map_e8b8885878634cabbb575d0d84a248c7%29%3B%0A%20%20%20%20%20%20%20%20%20%20%20%20%0A%20%20%20%20%0A%20%20%20%20%20%20%20%20%20%20%20%20var%20popup_b52d8758419446ee81910b9ad8b39b07%20%3D%20L.popup%28%7BmaxWidth%3A%20%27100%25%27%0A%20%20%20%20%20%20%20%20%20%20%20%20%0A%20%20%20%20%20%20%20%20%20%20%20%20%7D%29%3B%0A%0A%20%20%20%20%20%20%20%20%20%20%20%20%0A%20%20%20%20%20%20%20%20%20%20%20%20%20%20%20%20var%20html_64d2c26c0ecc4ae080e4c08bd0bf1fb1%20%3D%20%24%28%60%3Cdiv%20id%3D%22html_64d2c26c0ecc4ae080e4c08bd0bf1fb1%22%20style%3D%22width%3A%20100.0%25%3B%20height%3A%20100.0%25%3B%22%3EBang%20Khae%3C/div%3E%60%29%5B0%5D%3B%0A%20%20%20%20%20%20%20%20%20%20%20%20%20%20%20%20popup_b52d8758419446ee81910b9ad8b39b07.setContent%28html_64d2c26c0ecc4ae080e4c08bd0bf1fb1%29%3B%0A%20%20%20%20%20%20%20%20%20%20%20%20%0A%0A%20%20%20%20%20%20%20%20%20%20%20%20circle_marker_6b3fe9cdb2bc435487393be2c6ba444e.bindPopup%28popup_b52d8758419446ee81910b9ad8b39b07%29%0A%20%20%20%20%20%20%20%20%20%20%20%20%3B%0A%0A%20%20%20%20%20%20%20%20%20%20%20%20%0A%20%20%20%20%20%20%20%20%0A%20%20%20%20%0A%20%20%20%20%20%20%20%20%20%20%20%20var%20circle_marker_77b9e873e65245409924b65e504766fd%20%3D%20L.circleMarker%28%0A%20%20%20%20%20%20%20%20%20%20%20%20%20%20%20%20%5B13.8875%2C%20100.578889%5D%2C%0A%20%20%20%20%20%20%20%20%20%20%20%20%20%20%20%20%7B%0A%20%20%22bubblingMouseEvents%22%3A%20true%2C%0A%20%20%22color%22%3A%20%22blue%22%2C%0A%20%20%22dashArray%22%3A%20null%2C%0A%20%20%22dashOffset%22%3A%20null%2C%0A%20%20%22fill%22%3A%20true%2C%0A%20%20%22fillColor%22%3A%20%22%233186cc%22%2C%0A%20%20%22fillOpacity%22%3A%200.7%2C%0A%20%20%22fillRule%22%3A%20%22evenodd%22%2C%0A%20%20%22lineCap%22%3A%20%22round%22%2C%0A%20%20%22lineJoin%22%3A%20%22round%22%2C%0A%20%20%22opacity%22%3A%201.0%2C%0A%20%20%22radius%22%3A%205%2C%0A%20%20%22stroke%22%3A%20true%2C%0A%20%20%22weight%22%3A%203%0A%7D%0A%20%20%20%20%20%20%20%20%20%20%20%20%20%20%20%20%29%0A%20%20%20%20%20%20%20%20%20%20%20%20%20%20%20%20.addTo%28map_e8b8885878634cabbb575d0d84a248c7%29%3B%0A%20%20%20%20%20%20%20%20%20%20%20%20%0A%20%20%20%20%0A%20%20%20%20%20%20%20%20%20%20%20%20var%20popup_19386cfbf04c43819d62a181b926b93d%20%3D%20L.popup%28%7BmaxWidth%3A%20%27100%25%27%0A%20%20%20%20%20%20%20%20%20%20%20%20%0A%20%20%20%20%20%20%20%20%20%20%20%20%7D%29%3B%0A%0A%20%20%20%20%20%20%20%20%20%20%20%20%0A%20%20%20%20%20%20%20%20%20%20%20%20%20%20%20%20var%20html_ac74a1e23b734ae795ca21643f79697c%20%3D%20%24%28%60%3Cdiv%20id%3D%22html_ac74a1e23b734ae795ca21643f79697c%22%20style%3D%22width%3A%20100.0%25%3B%20height%3A%20100.0%25%3B%22%3ELak%20Si%3C/div%3E%60%29%5B0%5D%3B%0A%20%20%20%20%20%20%20%20%20%20%20%20%20%20%20%20popup_19386cfbf04c43819d62a181b926b93d.setContent%28html_ac74a1e23b734ae795ca21643f79697c%29%3B%0A%20%20%20%20%20%20%20%20%20%20%20%20%0A%0A%20%20%20%20%20%20%20%20%20%20%20%20circle_marker_77b9e873e65245409924b65e504766fd.bindPopup%28popup_19386cfbf04c43819d62a181b926b93d%29%0A%20%20%20%20%20%20%20%20%20%20%20%20%3B%0A%0A%20%20%20%20%20%20%20%20%20%20%20%20%0A%20%20%20%20%20%20%20%20%0A%20%20%20%20%0A%20%20%20%20%20%20%20%20%20%20%20%20var%20circle_marker_2cc16aef6c3b47b6a2a22713954822d3%20%3D%20L.circleMarker%28%0A%20%20%20%20%20%20%20%20%20%20%20%20%20%20%20%20%5B13.919167%2C%20100.645833%5D%2C%0A%20%20%20%20%20%20%20%20%20%20%20%20%20%20%20%20%7B%0A%20%20%22bubblingMouseEvents%22%3A%20true%2C%0A%20%20%22color%22%3A%20%22blue%22%2C%0A%20%20%22dashArray%22%3A%20null%2C%0A%20%20%22dashOffset%22%3A%20null%2C%0A%20%20%22fill%22%3A%20true%2C%0A%20%20%22fillColor%22%3A%20%22%233186cc%22%2C%0A%20%20%22fillOpacity%22%3A%200.7%2C%0A%20%20%22fillRule%22%3A%20%22evenodd%22%2C%0A%20%20%22lineCap%22%3A%20%22round%22%2C%0A%20%20%22lineJoin%22%3A%20%22round%22%2C%0A%20%20%22opacity%22%3A%201.0%2C%0A%20%20%22radius%22%3A%205%2C%0A%20%20%22stroke%22%3A%20true%2C%0A%20%20%22weight%22%3A%203%0A%7D%0A%20%20%20%20%20%20%20%20%20%20%20%20%20%20%20%20%29%0A%20%20%20%20%20%20%20%20%20%20%20%20%20%20%20%20.addTo%28map_e8b8885878634cabbb575d0d84a248c7%29%3B%0A%20%20%20%20%20%20%20%20%20%20%20%20%0A%20%20%20%20%0A%20%20%20%20%20%20%20%20%20%20%20%20var%20popup_6b4bdd5c248a457096398fdd820d6962%20%3D%20L.popup%28%7BmaxWidth%3A%20%27100%25%27%0A%20%20%20%20%20%20%20%20%20%20%20%20%0A%20%20%20%20%20%20%20%20%20%20%20%20%7D%29%3B%0A%0A%20%20%20%20%20%20%20%20%20%20%20%20%0A%20%20%20%20%20%20%20%20%20%20%20%20%20%20%20%20var%20html_c205329bcf91484789fd3c68e5984c64%20%3D%20%24%28%60%3Cdiv%20id%3D%22html_c205329bcf91484789fd3c68e5984c64%22%20style%3D%22width%3A%20100.0%25%3B%20height%3A%20100.0%25%3B%22%3ESai%20Mai%3C/div%3E%60%29%5B0%5D%3B%0A%20%20%20%20%20%20%20%20%20%20%20%20%20%20%20%20popup_6b4bdd5c248a457096398fdd820d6962.setContent%28html_c205329bcf91484789fd3c68e5984c64%29%3B%0A%20%20%20%20%20%20%20%20%20%20%20%20%0A%0A%20%20%20%20%20%20%20%20%20%20%20%20circle_marker_2cc16aef6c3b47b6a2a22713954822d3.bindPopup%28popup_6b4bdd5c248a457096398fdd820d6962%29%0A%20%20%20%20%20%20%20%20%20%20%20%20%3B%0A%0A%20%20%20%20%20%20%20%20%20%20%20%20%0A%20%20%20%20%20%20%20%20%0A%20%20%20%20%0A%20%20%20%20%20%20%20%20%20%20%20%20var%20circle_marker_400db18b81bb45a9bf038bbf14377517%20%3D%20L.circleMarker%28%0A%20%20%20%20%20%20%20%20%20%20%20%20%20%20%20%20%5B13.8271%2C%20100.6743%5D%2C%0A%20%20%20%20%20%20%20%20%20%20%20%20%20%20%20%20%7B%0A%20%20%22bubblingMouseEvents%22%3A%20true%2C%0A%20%20%22color%22%3A%20%22blue%22%2C%0A%20%20%22dashArray%22%3A%20null%2C%0A%20%20%22dashOffset%22%3A%20null%2C%0A%20%20%22fill%22%3A%20true%2C%0A%20%20%22fillColor%22%3A%20%22%233186cc%22%2C%0A%20%20%22fillOpacity%22%3A%200.7%2C%0A%20%20%22fillRule%22%3A%20%22evenodd%22%2C%0A%20%20%22lineCap%22%3A%20%22round%22%2C%0A%20%20%22lineJoin%22%3A%20%22round%22%2C%0A%20%20%22opacity%22%3A%201.0%2C%0A%20%20%22radius%22%3A%205%2C%0A%20%20%22stroke%22%3A%20true%2C%0A%20%20%22weight%22%3A%203%0A%7D%0A%20%20%20%20%20%20%20%20%20%20%20%20%20%20%20%20%29%0A%20%20%20%20%20%20%20%20%20%20%20%20%20%20%20%20.addTo%28map_e8b8885878634cabbb575d0d84a248c7%29%3B%0A%20%20%20%20%20%20%20%20%20%20%20%20%0A%20%20%20%20%0A%20%20%20%20%20%20%20%20%20%20%20%20var%20popup_8137e76c8a91438eb8b85d7932c9420b%20%3D%20L.popup%28%7BmaxWidth%3A%20%27100%25%27%0A%20%20%20%20%20%20%20%20%20%20%20%20%0A%20%20%20%20%20%20%20%20%20%20%20%20%7D%29%3B%0A%0A%20%20%20%20%20%20%20%20%20%20%20%20%0A%20%20%20%20%20%20%20%20%20%20%20%20%20%20%20%20var%20html_4c84a12a0f834702be6e913085e813d8%20%3D%20%24%28%60%3Cdiv%20id%3D%22html_4c84a12a0f834702be6e913085e813d8%22%20style%3D%22width%3A%20100.0%25%3B%20height%3A%20100.0%25%3B%22%3EKhan%20Na%20Yao%3C/div%3E%60%29%5B0%5D%3B%0A%20%20%20%20%20%20%20%20%20%20%20%20%20%20%20%20popup_8137e76c8a91438eb8b85d7932c9420b.setContent%28html_4c84a12a0f834702be6e913085e813d8%29%3B%0A%20%20%20%20%20%20%20%20%20%20%20%20%0A%0A%20%20%20%20%20%20%20%20%20%20%20%20circle_marker_400db18b81bb45a9bf038bbf14377517.bindPopup%28popup_8137e76c8a91438eb8b85d7932c9420b%29%0A%20%20%20%20%20%20%20%20%20%20%20%20%3B%0A%0A%20%20%20%20%20%20%20%20%20%20%20%20%0A%20%20%20%20%20%20%20%20%0A%20%20%20%20%0A%20%20%20%20%20%20%20%20%20%20%20%20var%20circle_marker_f5cfaa5bfb584fecaee0fd46d43e7262%20%3D%20L.circleMarker%28%0A%20%20%20%20%20%20%20%20%20%20%20%20%20%20%20%20%5B13.77%2C%20100.684722%5D%2C%0A%20%20%20%20%20%20%20%20%20%20%20%20%20%20%20%20%7B%0A%20%20%22bubblingMouseEvents%22%3A%20true%2C%0A%20%20%22color%22%3A%20%22blue%22%2C%0A%20%20%22dashArray%22%3A%20null%2C%0A%20%20%22dashOffset%22%3A%20null%2C%0A%20%20%22fill%22%3A%20true%2C%0A%20%20%22fillColor%22%3A%20%22%233186cc%22%2C%0A%20%20%22fillOpacity%22%3A%200.7%2C%0A%20%20%22fillRule%22%3A%20%22evenodd%22%2C%0A%20%20%22lineCap%22%3A%20%22round%22%2C%0A%20%20%22lineJoin%22%3A%20%22round%22%2C%0A%20%20%22opacity%22%3A%201.0%2C%0A%20%20%22radius%22%3A%205%2C%0A%20%20%22stroke%22%3A%20true%2C%0A%20%20%22weight%22%3A%203%0A%7D%0A%20%20%20%20%20%20%20%20%20%20%20%20%20%20%20%20%29%0A%20%20%20%20%20%20%20%20%20%20%20%20%20%20%20%20.addTo%28map_e8b8885878634cabbb575d0d84a248c7%29%3B%0A%20%20%20%20%20%20%20%20%20%20%20%20%0A%20%20%20%20%0A%20%20%20%20%20%20%20%20%20%20%20%20var%20popup_9ae34ad17f5d4139b2d35109bc394735%20%3D%20L.popup%28%7BmaxWidth%3A%20%27100%25%27%0A%20%20%20%20%20%20%20%20%20%20%20%20%0A%20%20%20%20%20%20%20%20%20%20%20%20%7D%29%3B%0A%0A%20%20%20%20%20%20%20%20%20%20%20%20%0A%20%20%20%20%20%20%20%20%20%20%20%20%20%20%20%20var%20html_16e5be508e7d4475bc72a32d3939bea9%20%3D%20%24%28%60%3Cdiv%20id%3D%22html_16e5be508e7d4475bc72a32d3939bea9%22%20style%3D%22width%3A%20100.0%25%3B%20height%3A%20100.0%25%3B%22%3ESaphan%20Sung%3C/div%3E%60%29%5B0%5D%3B%0A%20%20%20%20%20%20%20%20%20%20%20%20%20%20%20%20popup_9ae34ad17f5d4139b2d35109bc394735.setContent%28html_16e5be508e7d4475bc72a32d3939bea9%29%3B%0A%20%20%20%20%20%20%20%20%20%20%20%20%0A%0A%20%20%20%20%20%20%20%20%20%20%20%20circle_marker_f5cfaa5bfb584fecaee0fd46d43e7262.bindPopup%28popup_9ae34ad17f5d4139b2d35109bc394735%29%0A%20%20%20%20%20%20%20%20%20%20%20%20%3B%0A%0A%20%20%20%20%20%20%20%20%20%20%20%20%0A%20%20%20%20%20%20%20%20%0A%20%20%20%20%0A%20%20%20%20%20%20%20%20%20%20%20%20var%20circle_marker_32aa7d70d863408495364d92d5781b4b%20%3D%20L.circleMarker%28%0A%20%20%20%20%20%20%20%20%20%20%20%20%20%20%20%20%5B13.7864%2C%20100.6087%5D%2C%0A%20%20%20%20%20%20%20%20%20%20%20%20%20%20%20%20%7B%0A%20%20%22bubblingMouseEvents%22%3A%20true%2C%0A%20%20%22color%22%3A%20%22blue%22%2C%0A%20%20%22dashArray%22%3A%20null%2C%0A%20%20%22dashOffset%22%3A%20null%2C%0A%20%20%22fill%22%3A%20true%2C%0A%20%20%22fillColor%22%3A%20%22%233186cc%22%2C%0A%20%20%22fillOpacity%22%3A%200.7%2C%0A%20%20%22fillRule%22%3A%20%22evenodd%22%2C%0A%20%20%22lineCap%22%3A%20%22round%22%2C%0A%20%20%22lineJoin%22%3A%20%22round%22%2C%0A%20%20%22opacity%22%3A%201.0%2C%0A%20%20%22radius%22%3A%205%2C%0A%20%20%22stroke%22%3A%20true%2C%0A%20%20%22weight%22%3A%203%0A%7D%0A%20%20%20%20%20%20%20%20%20%20%20%20%20%20%20%20%29%0A%20%20%20%20%20%20%20%20%20%20%20%20%20%20%20%20.addTo%28map_e8b8885878634cabbb575d0d84a248c7%29%3B%0A%20%20%20%20%20%20%20%20%20%20%20%20%0A%20%20%20%20%0A%20%20%20%20%20%20%20%20%20%20%20%20var%20popup_343ea8296fed424e815beaa4e02e14b3%20%3D%20L.popup%28%7BmaxWidth%3A%20%27100%25%27%0A%20%20%20%20%20%20%20%20%20%20%20%20%0A%20%20%20%20%20%20%20%20%20%20%20%20%7D%29%3B%0A%0A%20%20%20%20%20%20%20%20%20%20%20%20%0A%20%20%20%20%20%20%20%20%20%20%20%20%20%20%20%20var%20html_bee0ce1210774b2daeaf9fc17106e0f2%20%3D%20%24%28%60%3Cdiv%20id%3D%22html_bee0ce1210774b2daeaf9fc17106e0f2%22%20style%3D%22width%3A%20100.0%25%3B%20height%3A%20100.0%25%3B%22%3EWang%20Thonglang%3C/div%3E%60%29%5B0%5D%3B%0A%20%20%20%20%20%20%20%20%20%20%20%20%20%20%20%20popup_343ea8296fed424e815beaa4e02e14b3.setContent%28html_bee0ce1210774b2daeaf9fc17106e0f2%29%3B%0A%20%20%20%20%20%20%20%20%20%20%20%20%0A%0A%20%20%20%20%20%20%20%20%20%20%20%20circle_marker_32aa7d70d863408495364d92d5781b4b.bindPopup%28popup_343ea8296fed424e815beaa4e02e14b3%29%0A%20%20%20%20%20%20%20%20%20%20%20%20%3B%0A%0A%20%20%20%20%20%20%20%20%20%20%20%20%0A%20%20%20%20%20%20%20%20%0A%20%20%20%20%0A%20%20%20%20%20%20%20%20%20%20%20%20var%20circle_marker_274a7aa3fd5e446da853043d6d60648c%20%3D%20L.circleMarker%28%0A%20%20%20%20%20%20%20%20%20%20%20%20%20%20%20%20%5B13.859722%2C%20100.704167%5D%2C%0A%20%20%20%20%20%20%20%20%20%20%20%20%20%20%20%20%7B%0A%20%20%22bubblingMouseEvents%22%3A%20true%2C%0A%20%20%22color%22%3A%20%22blue%22%2C%0A%20%20%22dashArray%22%3A%20null%2C%0A%20%20%22dashOffset%22%3A%20null%2C%0A%20%20%22fill%22%3A%20true%2C%0A%20%20%22fillColor%22%3A%20%22%233186cc%22%2C%0A%20%20%22fillOpacity%22%3A%200.7%2C%0A%20%20%22fillRule%22%3A%20%22evenodd%22%2C%0A%20%20%22lineCap%22%3A%20%22round%22%2C%0A%20%20%22lineJoin%22%3A%20%22round%22%2C%0A%20%20%22opacity%22%3A%201.0%2C%0A%20%20%22radius%22%3A%205%2C%0A%20%20%22stroke%22%3A%20true%2C%0A%20%20%22weight%22%3A%203%0A%7D%0A%20%20%20%20%20%20%20%20%20%20%20%20%20%20%20%20%29%0A%20%20%20%20%20%20%20%20%20%20%20%20%20%20%20%20.addTo%28map_e8b8885878634cabbb575d0d84a248c7%29%3B%0A%20%20%20%20%20%20%20%20%20%20%20%20%0A%20%20%20%20%0A%20%20%20%20%20%20%20%20%20%20%20%20var%20popup_247eaa843e464f6ca14ddb4455e6ba5e%20%3D%20L.popup%28%7BmaxWidth%3A%20%27100%25%27%0A%20%20%20%20%20%20%20%20%20%20%20%20%0A%20%20%20%20%20%20%20%20%20%20%20%20%7D%29%3B%0A%0A%20%20%20%20%20%20%20%20%20%20%20%20%0A%20%20%20%20%20%20%20%20%20%20%20%20%20%20%20%20var%20html_f65128fad0404edab97f88ce45f93356%20%3D%20%24%28%60%3Cdiv%20id%3D%22html_f65128fad0404edab97f88ce45f93356%22%20style%3D%22width%3A%20100.0%25%3B%20height%3A%20100.0%25%3B%22%3EKhlong%20Sam%20Wa%3C/div%3E%60%29%5B0%5D%3B%0A%20%20%20%20%20%20%20%20%20%20%20%20%20%20%20%20popup_247eaa843e464f6ca14ddb4455e6ba5e.setContent%28html_f65128fad0404edab97f88ce45f93356%29%3B%0A%20%20%20%20%20%20%20%20%20%20%20%20%0A%0A%20%20%20%20%20%20%20%20%20%20%20%20circle_marker_274a7aa3fd5e446da853043d6d60648c.bindPopup%28popup_247eaa843e464f6ca14ddb4455e6ba5e%29%0A%20%20%20%20%20%20%20%20%20%20%20%20%3B%0A%0A%20%20%20%20%20%20%20%20%20%20%20%20%0A%20%20%20%20%20%20%20%20%0A%20%20%20%20%0A%20%20%20%20%20%20%20%20%20%20%20%20var%20circle_marker_2e4247168cec47b5abc1479d5799ab98%20%3D%20L.circleMarker%28%0A%20%20%20%20%20%20%20%20%20%20%20%20%20%20%20%20%5B13.680081%2C%20100.5918%5D%2C%0A%20%20%20%20%20%20%20%20%20%20%20%20%20%20%20%20%7B%0A%20%20%22bubblingMouseEvents%22%3A%20true%2C%0A%20%20%22color%22%3A%20%22blue%22%2C%0A%20%20%22dashArray%22%3A%20null%2C%0A%20%20%22dashOffset%22%3A%20null%2C%0A%20%20%22fill%22%3A%20true%2C%0A%20%20%22fillColor%22%3A%20%22%233186cc%22%2C%0A%20%20%22fillOpacity%22%3A%200.7%2C%0A%20%20%22fillRule%22%3A%20%22evenodd%22%2C%0A%20%20%22lineCap%22%3A%20%22round%22%2C%0A%20%20%22lineJoin%22%3A%20%22round%22%2C%0A%20%20%22opacity%22%3A%201.0%2C%0A%20%20%22radius%22%3A%205%2C%0A%20%20%22stroke%22%3A%20true%2C%0A%20%20%22weight%22%3A%203%0A%7D%0A%20%20%20%20%20%20%20%20%20%20%20%20%20%20%20%20%29%0A%20%20%20%20%20%20%20%20%20%20%20%20%20%20%20%20.addTo%28map_e8b8885878634cabbb575d0d84a248c7%29%3B%0A%20%20%20%20%20%20%20%20%20%20%20%20%0A%20%20%20%20%0A%20%20%20%20%20%20%20%20%20%20%20%20var%20popup_7c9b0b8c8130492497e968bc05debfd5%20%3D%20L.popup%28%7BmaxWidth%3A%20%27100%25%27%0A%20%20%20%20%20%20%20%20%20%20%20%20%0A%20%20%20%20%20%20%20%20%20%20%20%20%7D%29%3B%0A%0A%20%20%20%20%20%20%20%20%20%20%20%20%0A%20%20%20%20%20%20%20%20%20%20%20%20%20%20%20%20var%20html_59e20851ebc647b4be6ef512ef8ab718%20%3D%20%24%28%60%3Cdiv%20id%3D%22html_59e20851ebc647b4be6ef512ef8ab718%22%20style%3D%22width%3A%20100.0%25%3B%20height%3A%20100.0%25%3B%22%3EBang%20Na%3C/div%3E%60%29%5B0%5D%3B%0A%20%20%20%20%20%20%20%20%20%20%20%20%20%20%20%20popup_7c9b0b8c8130492497e968bc05debfd5.setContent%28html_59e20851ebc647b4be6ef512ef8ab718%29%3B%0A%20%20%20%20%20%20%20%20%20%20%20%20%0A%0A%20%20%20%20%20%20%20%20%20%20%20%20circle_marker_2e4247168cec47b5abc1479d5799ab98.bindPopup%28popup_7c9b0b8c8130492497e968bc05debfd5%29%0A%20%20%20%20%20%20%20%20%20%20%20%20%3B%0A%0A%20%20%20%20%20%20%20%20%20%20%20%20%0A%20%20%20%20%20%20%20%20%0A%20%20%20%20%0A%20%20%20%20%20%20%20%20%20%20%20%20var%20circle_marker_4e8f38fdc70c4a45bf9cdd5d320161be%20%3D%20L.circleMarker%28%0A%20%20%20%20%20%20%20%20%20%20%20%20%20%20%20%20%5B13.7878%2C%20100.3638%5D%2C%0A%20%20%20%20%20%20%20%20%20%20%20%20%20%20%20%20%7B%0A%20%20%22bubblingMouseEvents%22%3A%20true%2C%0A%20%20%22color%22%3A%20%22blue%22%2C%0A%20%20%22dashArray%22%3A%20null%2C%0A%20%20%22dashOffset%22%3A%20null%2C%0A%20%20%22fill%22%3A%20true%2C%0A%20%20%22fillColor%22%3A%20%22%233186cc%22%2C%0A%20%20%22fillOpacity%22%3A%200.7%2C%0A%20%20%22fillRule%22%3A%20%22evenodd%22%2C%0A%20%20%22lineCap%22%3A%20%22round%22%2C%0A%20%20%22lineJoin%22%3A%20%22round%22%2C%0A%20%20%22opacity%22%3A%201.0%2C%0A%20%20%22radius%22%3A%205%2C%0A%20%20%22stroke%22%3A%20true%2C%0A%20%20%22weight%22%3A%203%0A%7D%0A%20%20%20%20%20%20%20%20%20%20%20%20%20%20%20%20%29%0A%20%20%20%20%20%20%20%20%20%20%20%20%20%20%20%20.addTo%28map_e8b8885878634cabbb575d0d84a248c7%29%3B%0A%20%20%20%20%20%20%20%20%20%20%20%20%0A%20%20%20%20%0A%20%20%20%20%20%20%20%20%20%20%20%20var%20popup_f7fb5e2f232b4dc39e593af4b2d44ba4%20%3D%20L.popup%28%7BmaxWidth%3A%20%27100%25%27%0A%20%20%20%20%20%20%20%20%20%20%20%20%0A%20%20%20%20%20%20%20%20%20%20%20%20%7D%29%3B%0A%0A%20%20%20%20%20%20%20%20%20%20%20%20%0A%20%20%20%20%20%20%20%20%20%20%20%20%20%20%20%20var%20html_efdc747087ae47e68c3048bd98d16193%20%3D%20%24%28%60%3Cdiv%20id%3D%22html_efdc747087ae47e68c3048bd98d16193%22%20style%3D%22width%3A%20100.0%25%3B%20height%3A%20100.0%25%3B%22%3EThawi%20Watthana%3C/div%3E%60%29%5B0%5D%3B%0A%20%20%20%20%20%20%20%20%20%20%20%20%20%20%20%20popup_f7fb5e2f232b4dc39e593af4b2d44ba4.setContent%28html_efdc747087ae47e68c3048bd98d16193%29%3B%0A%20%20%20%20%20%20%20%20%20%20%20%20%0A%0A%20%20%20%20%20%20%20%20%20%20%20%20circle_marker_4e8f38fdc70c4a45bf9cdd5d320161be.bindPopup%28popup_f7fb5e2f232b4dc39e593af4b2d44ba4%29%0A%20%20%20%20%20%20%20%20%20%20%20%20%3B%0A%0A%20%20%20%20%20%20%20%20%20%20%20%20%0A%20%20%20%20%20%20%20%20%0A%20%20%20%20%0A%20%20%20%20%20%20%20%20%20%20%20%20var%20circle_marker_791f9bc833e546d8968620f383cc880f%20%3D%20L.circleMarker%28%0A%20%20%20%20%20%20%20%20%20%20%20%20%20%20%20%20%5B13.6472%2C%20100.4958%5D%2C%0A%20%20%20%20%20%20%20%20%20%20%20%20%20%20%20%20%7B%0A%20%20%22bubblingMouseEvents%22%3A%20true%2C%0A%20%20%22color%22%3A%20%22blue%22%2C%0A%20%20%22dashArray%22%3A%20null%2C%0A%20%20%22dashOffset%22%3A%20null%2C%0A%20%20%22fill%22%3A%20true%2C%0A%20%20%22fillColor%22%3A%20%22%233186cc%22%2C%0A%20%20%22fillOpacity%22%3A%200.7%2C%0A%20%20%22fillRule%22%3A%20%22evenodd%22%2C%0A%20%20%22lineCap%22%3A%20%22round%22%2C%0A%20%20%22lineJoin%22%3A%20%22round%22%2C%0A%20%20%22opacity%22%3A%201.0%2C%0A%20%20%22radius%22%3A%205%2C%0A%20%20%22stroke%22%3A%20true%2C%0A%20%20%22weight%22%3A%203%0A%7D%0A%20%20%20%20%20%20%20%20%20%20%20%20%20%20%20%20%29%0A%20%20%20%20%20%20%20%20%20%20%20%20%20%20%20%20.addTo%28map_e8b8885878634cabbb575d0d84a248c7%29%3B%0A%20%20%20%20%20%20%20%20%20%20%20%20%0A%20%20%20%20%0A%20%20%20%20%20%20%20%20%20%20%20%20var%20popup_b9e5a3b123ea42b2a94d289eaed9f8f0%20%3D%20L.popup%28%7BmaxWidth%3A%20%27100%25%27%0A%20%20%20%20%20%20%20%20%20%20%20%20%0A%20%20%20%20%20%20%20%20%20%20%20%20%7D%29%3B%0A%0A%20%20%20%20%20%20%20%20%20%20%20%20%0A%20%20%20%20%20%20%20%20%20%20%20%20%20%20%20%20var%20html_5cb3767163854e5f8eed314993d2e849%20%3D%20%24%28%60%3Cdiv%20id%3D%22html_5cb3767163854e5f8eed314993d2e849%22%20style%3D%22width%3A%20100.0%25%3B%20height%3A%20100.0%25%3B%22%3EThung%20Khru%3C/div%3E%60%29%5B0%5D%3B%0A%20%20%20%20%20%20%20%20%20%20%20%20%20%20%20%20popup_b9e5a3b123ea42b2a94d289eaed9f8f0.setContent%28html_5cb3767163854e5f8eed314993d2e849%29%3B%0A%20%20%20%20%20%20%20%20%20%20%20%20%0A%0A%20%20%20%20%20%20%20%20%20%20%20%20circle_marker_791f9bc833e546d8968620f383cc880f.bindPopup%28popup_b9e5a3b123ea42b2a94d289eaed9f8f0%29%0A%20%20%20%20%20%20%20%20%20%20%20%20%3B%0A%0A%20%20%20%20%20%20%20%20%20%20%20%20%0A%20%20%20%20%20%20%20%20%0A%20%20%20%20%0A%20%20%20%20%20%20%20%20%20%20%20%20var%20circle_marker_ea55be0670a543689b5133dad400f93d%20%3D%20L.circleMarker%28%0A%20%20%20%20%20%20%20%20%20%20%20%20%20%20%20%20%5B13.6592%2C%20100.3991%5D%2C%0A%20%20%20%20%20%20%20%20%20%20%20%20%20%20%20%20%7B%0A%20%20%22bubblingMouseEvents%22%3A%20true%2C%0A%20%20%22color%22%3A%20%22blue%22%2C%0A%20%20%22dashArray%22%3A%20null%2C%0A%20%20%22dashOffset%22%3A%20null%2C%0A%20%20%22fill%22%3A%20true%2C%0A%20%20%22fillColor%22%3A%20%22%233186cc%22%2C%0A%20%20%22fillOpacity%22%3A%200.7%2C%0A%20%20%22fillRule%22%3A%20%22evenodd%22%2C%0A%20%20%22lineCap%22%3A%20%22round%22%2C%0A%20%20%22lineJoin%22%3A%20%22round%22%2C%0A%20%20%22opacity%22%3A%201.0%2C%0A%20%20%22radius%22%3A%205%2C%0A%20%20%22stroke%22%3A%20true%2C%0A%20%20%22weight%22%3A%203%0A%7D%0A%20%20%20%20%20%20%20%20%20%20%20%20%20%20%20%20%29%0A%20%20%20%20%20%20%20%20%20%20%20%20%20%20%20%20.addTo%28map_e8b8885878634cabbb575d0d84a248c7%29%3B%0A%20%20%20%20%20%20%20%20%20%20%20%20%0A%20%20%20%20%0A%20%20%20%20%20%20%20%20%20%20%20%20var%20popup_dbbd3e90f8644509ae3bb3e972ff8e15%20%3D%20L.popup%28%7BmaxWidth%3A%20%27100%25%27%0A%20%20%20%20%20%20%20%20%20%20%20%20%0A%20%20%20%20%20%20%20%20%20%20%20%20%7D%29%3B%0A%0A%20%20%20%20%20%20%20%20%20%20%20%20%0A%20%20%20%20%20%20%20%20%20%20%20%20%20%20%20%20var%20html_9b935d29a8994f03ab1e564edf18efd0%20%3D%20%24%28%60%3Cdiv%20id%3D%22html_9b935d29a8994f03ab1e564edf18efd0%22%20style%3D%22width%3A%20100.0%25%3B%20height%3A%20100.0%25%3B%22%3EBang%20Bon%3C/div%3E%60%29%5B0%5D%3B%0A%20%20%20%20%20%20%20%20%20%20%20%20%20%20%20%20popup_dbbd3e90f8644509ae3bb3e972ff8e15.setContent%28html_9b935d29a8994f03ab1e564edf18efd0%29%3B%0A%20%20%20%20%20%20%20%20%20%20%20%20%0A%0A%20%20%20%20%20%20%20%20%20%20%20%20circle_marker_ea55be0670a543689b5133dad400f93d.bindPopup%28popup_dbbd3e90f8644509ae3bb3e972ff8e15%29%0A%20%20%20%20%20%20%20%20%20%20%20%20%3B%0A%0A%20%20%20%20%20%20%20%20%20%20%20%20%0A%20%20%20%20%20%20%20%20%0A%3C/script%3E onload=\"this.contentDocument.open();this.contentDocument.write(    decodeURIComponent(this.getAttribute('data-html')));this.contentDocument.close();\" allowfullscreen webkitallowfullscreen mozallowfullscreen></iframe></div></div>"
            ],
            "text/plain": [
              "<folium.folium.Map at 0x7f2f0c5b2f10>"
            ]
          },
          "metadata": {
            "tags": []
          },
          "execution_count": 16
        }
      ]
    },
    {
      "cell_type": "markdown",
      "metadata": {
        "id": "XZQsV5fQZxKK"
      },
      "source": [
        "## Methodology <a name=\"methodology\"></a>"
      ]
    },
    {
      "cell_type": "markdown",
      "metadata": {
        "id": "Lks9fLATZuW7"
      },
      "source": [
        "In this project, we will detect the data that indicates the country of the restaurant in the Bangkok district. So it must match the purpose of the project to find the type of restaurant which contain in each district.\n",
        "\n",
        "Analytical Approach\n",
        "The total number of the district in Bangkok are 50 so we need to find a way to cluster them based on their similarities, that are the number and the kind of restaurant. Briefly, after some steps of Data Cleaning and Data Exploration choose only national restaurants except Thai food because we would like to recommend foreigners to find type of restaurant which fimilar their country, this project will use a K-Means algorithm to extract the clusters, produce a map and make an argument on the final result.\n",
        "\n",
        "\n"
      ]
    },
    {
      "cell_type": "markdown",
      "metadata": {
        "id": "-H03sQS6Z9hb"
      },
      "source": [
        "### Foursquare"
      ]
    },
    {
      "cell_type": "markdown",
      "metadata": {
        "id": "vblcKlAU0wfv"
      },
      "source": [
        "Foursquare\n",
        "Now that we have our location candidates, let's use Foursquare API to get info on restaurants in each neighborhood.\n",
        "\n",
        "We're interested in venues in 'food' category, but only those that are proper restaurants - coffe shops, pizza places, bakeries etc. are not direct competitors so we don't care about those. So we will include in out list only venues that have 'restaurant' in category name, and we'll make sure to detect and include all the subcategories of specific nationality restaurants category, as we need info Restaurants from various countries in the neighborhood except Thai restaurants."
      ]
    },
    {
      "cell_type": "code",
      "metadata": {
        "id": "hGPvHfYH89W5",
        "colab": {
          "base_uri": "https://localhost:8080/"
        },
        "outputId": "8ecb4a08-ecb1-4ca0-d346-85eac3b83836"
      },
      "source": [
        "CLIENT_ID = 'OFAU3SDP4NPVZXTJCNWHL4RU23LQZCY3NYWO0VRDJYUWPRXP' # your Foursquare ID\n",
        "CLIENT_SECRET = 'SQMJCPSAWI4THEXLU2CLTUA3YHXEKBFCMX4AJW2ICJZD1TWH' # your Foursquare Secret\n",
        "VERSION = '20180605' # Foursquare API version\n",
        "LIMIT = 100 # A default Foursquare API limit value\n",
        "\n",
        "print('Your credentails:')\n",
        "print('CLIENT_ID: ' + 'OFAU3SDP4NPVZXTJCNWHL4RU23LQZCY3NYWO0VRDJYUWPRXP')\n",
        "print('CLIENT_SECRET:' + 'SQMJCPSAWI4THEXLU2CLTUA3YHXEKBFCMX4AJW2ICJZD1TWH')"
      ],
      "execution_count": 17,
      "outputs": [
        {
          "output_type": "stream",
          "text": [
            "Your credentails:\n",
            "CLIENT_ID: OFAU3SDP4NPVZXTJCNWHL4RU23LQZCY3NYWO0VRDJYUWPRXP\n",
            "CLIENT_SECRET:SQMJCPSAWI4THEXLU2CLTUA3YHXEKBFCMX4AJW2ICJZD1TWH\n"
          ],
          "name": "stdout"
        }
      ]
    },
    {
      "cell_type": "code",
      "metadata": {
        "colab": {
          "base_uri": "https://localhost:8080/"
        },
        "id": "rM33pVs7IVPA",
        "outputId": "2c2d8148-d3fa-4e4c-d711-c62fd1638129"
      },
      "source": [
        "neighborhood_latitude = neighborhoods_bangkok.loc[1, 'Latitude'] # neighborhood latitude value\n",
        "neighborhood_longitude = neighborhoods_bangkok.loc[1, 'Longitude'] # neighborhood longitude value\n",
        "\n",
        "District_name = neighborhoods_bangkok.loc[1, 'District'] # neighborhood name\n",
        "\n",
        "print('Latitude and longitude values of {} are {}, {}.'.format(District_name, \n",
        "                                                               neighborhood_latitude, \n",
        "                                                               neighborhood_longitude))"
      ],
      "execution_count": 18,
      "outputs": [
        {
          "output_type": "stream",
          "text": [
            "Latitude and longitude values of Phra Nakhon are 13.764444, 100.499167.\n"
          ],
          "name": "stdout"
        }
      ]
    },
    {
      "cell_type": "code",
      "metadata": {
        "colab": {
          "base_uri": "https://localhost:8080/",
          "height": 52
        },
        "id": "tfN4CQBdJtNj",
        "outputId": "329087ab-b0d3-41bc-a08d-e25b95a95855"
      },
      "source": [
        "radius = 500\n",
        "url = 'https://api.foursquare.com/v2/venues/explore?client_id={}&client_secret={}&ll={},{}&v={}&radius={}&limit={}'.format(CLIENT_ID, CLIENT_SECRET, latitude, longitude, VERSION, radius, LIMIT)\n",
        "url"
      ],
      "execution_count": 19,
      "outputs": [
        {
          "output_type": "execute_result",
          "data": {
            "application/vnd.google.colaboratory.intrinsic+json": {
              "type": "string"
            },
            "text/plain": [
              "'https://api.foursquare.com/v2/venues/explore?client_id=OFAU3SDP4NPVZXTJCNWHL4RU23LQZCY3NYWO0VRDJYUWPRXP&client_secret=SQMJCPSAWI4THEXLU2CLTUA3YHXEKBFCMX4AJW2ICJZD1TWH&ll=13.696944\\n,100.543056&v=20180605&radius=500&limit=100'"
            ]
          },
          "metadata": {
            "tags": []
          },
          "execution_count": 19
        }
      ]
    },
    {
      "cell_type": "code",
      "metadata": {
        "id": "FAP2bOg7LgYN"
      },
      "source": [
        "results = requests.get(url).json()\n",
        "#results"
      ],
      "execution_count": 20,
      "outputs": []
    },
    {
      "cell_type": "code",
      "metadata": {
        "id": "jK2g2WNZLjp_"
      },
      "source": [
        "def get_category_type(row):\n",
        "    try:\n",
        "        categories_list = row['categories']\n",
        "    except:\n",
        "        categories_list = row['venue.categories']\n",
        "        \n",
        "    if len(categories_list) == 0:\n",
        "        return None\n",
        "    else:\n",
        "        return categories_list[0]['name']"
      ],
      "execution_count": null,
      "outputs": []
    },
    {
      "cell_type": "code",
      "metadata": {
        "colab": {
          "base_uri": "https://localhost:8080/"
        },
        "id": "wSw7rAr3LrVu",
        "outputId": "ffd11f69-9ae1-44ee-dac2-7c3b06f57c84"
      },
      "source": [
        "venues = results['response']['groups'][0]['items']\n",
        "    \n",
        "nearby_venues = json_normalize(venues) # flatten JSON\n",
        "\n",
        "# filter columns\n",
        "filtered_columns = ['venue.name', 'venue.categories', 'venue.location.lat', 'venue.location.lng']\n",
        "nearby_venues =nearby_venues.loc[:, filtered_columns]\n",
        "\n",
        "# filter the category for each row\n",
        "nearby_venues['venue.categories'] = nearby_venues.apply(get_category_type, axis=1)\n",
        "\n",
        "# clean columns\n",
        "nearby_venues.columns = [col.split(\".\")[-1] for col in nearby_venues.columns]\n",
        "\n",
        "nearby_venues.head()"
      ],
      "execution_count": null,
      "outputs": [
        {
          "output_type": "stream",
          "text": [
            "/usr/local/lib/python3.7/dist-packages/ipykernel_launcher.py:3: FutureWarning: pandas.io.json.json_normalize is deprecated, use pandas.json_normalize instead\n",
            "  This is separate from the ipykernel package so we can avoid doing imports until\n"
          ],
          "name": "stderr"
        },
        {
          "output_type": "execute_result",
          "data": {
            "text/html": [
              "<div>\n",
              "<style scoped>\n",
              "    .dataframe tbody tr th:only-of-type {\n",
              "        vertical-align: middle;\n",
              "    }\n",
              "\n",
              "    .dataframe tbody tr th {\n",
              "        vertical-align: top;\n",
              "    }\n",
              "\n",
              "    .dataframe thead th {\n",
              "        text-align: right;\n",
              "    }\n",
              "</style>\n",
              "<table border=\"1\" class=\"dataframe\">\n",
              "  <thead>\n",
              "    <tr style=\"text-align: right;\">\n",
              "      <th></th>\n",
              "      <th>name</th>\n",
              "      <th>categories</th>\n",
              "      <th>lat</th>\n",
              "      <th>lng</th>\n",
              "    </tr>\n",
              "  </thead>\n",
              "  <tbody>\n",
              "    <tr>\n",
              "      <th>0</th>\n",
              "      <td>Recreational Bangkok Biking</td>\n",
              "      <td>Bike Rental / Bike Share</td>\n",
              "      <td>13.698552</td>\n",
              "      <td>100.544010</td>\n",
              "    </tr>\n",
              "    <tr>\n",
              "      <th>1</th>\n",
              "      <td>Tawandang German Brewery (โรงเบียร์เยอรมันตะวั...</td>\n",
              "      <td>Brewery</td>\n",
              "      <td>13.696742</td>\n",
              "      <td>100.545958</td>\n",
              "    </tr>\n",
              "    <tr>\n",
              "      <th>2</th>\n",
              "      <td>Hachiban Ramen (ฮะจิบัง ราเมน)</td>\n",
              "      <td>Ramen Restaurant</td>\n",
              "      <td>13.697124</td>\n",
              "      <td>100.540969</td>\n",
              "    </tr>\n",
              "    <tr>\n",
              "      <th>3</th>\n",
              "      <td>Fuji (ฟูจิ)</td>\n",
              "      <td>Japanese Restaurant</td>\n",
              "      <td>13.697371</td>\n",
              "      <td>100.541175</td>\n",
              "    </tr>\n",
              "    <tr>\n",
              "      <th>4</th>\n",
              "      <td>Moo-Hun-Song-Pee-Nong (หมูหันสองพี่น้อง)</td>\n",
              "      <td>Chinese Restaurant</td>\n",
              "      <td>13.698668</td>\n",
              "      <td>100.542877</td>\n",
              "    </tr>\n",
              "  </tbody>\n",
              "</table>\n",
              "</div>"
            ],
            "text/plain": [
              "                                                name  ...         lng\n",
              "0                        Recreational Bangkok Biking  ...  100.544010\n",
              "1  Tawandang German Brewery (โรงเบียร์เยอรมันตะวั...  ...  100.545958\n",
              "2                     Hachiban Ramen (ฮะจิบัง ราเมน)  ...  100.540969\n",
              "3                                        Fuji (ฟูจิ)  ...  100.541175\n",
              "4           Moo-Hun-Song-Pee-Nong (หมูหันสองพี่น้อง)  ...  100.542877\n",
              "\n",
              "[5 rows x 4 columns]"
            ]
          },
          "metadata": {
            "tags": []
          },
          "execution_count": 24
        }
      ]
    },
    {
      "cell_type": "code",
      "metadata": {
        "colab": {
          "base_uri": "https://localhost:8080/"
        },
        "id": "VGJxu_TJLz_u",
        "outputId": "11936725-14ed-4956-98fb-81cfa51bf576"
      },
      "source": [
        "print('{} venues were returned by Foursquare.'.format(nearby_venues.shape[0]))"
      ],
      "execution_count": null,
      "outputs": [
        {
          "output_type": "stream",
          "text": [
            "27 venues were returned by Foursquare.\n"
          ],
          "name": "stdout"
        }
      ]
    },
    {
      "cell_type": "code",
      "metadata": {
        "id": "edVah3mMMJrp"
      },
      "source": [
        "def getNearbyVenues(names, latitudes, longitudes, radius=500):\n",
        "    \n",
        "    venues_list=[]\n",
        "    for name, lat, lng in zip(names, latitudes, longitudes):\n",
        "        print(name)\n",
        "            \n",
        "        # create the API request URL\n",
        "        url = 'https://api.foursquare.com/v2/venues/explore?&client_id={}&client_secret={}&v={}&ll={},{}&radius={}&limit={}'.format(\n",
        "            CLIENT_ID, \n",
        "            CLIENT_SECRET, \n",
        "            VERSION, \n",
        "            lat, \n",
        "            lng, \n",
        "            radius, \n",
        "            LIMIT)\n",
        "            \n",
        "        # make the GET request\n",
        "        results = requests.get(url).json()[\"response\"]['groups'][0]['items']\n",
        "        \n",
        "        # return only relevant information for each nearby venue\n",
        "        venues_list.append([(\n",
        "            name, \n",
        "            lat, \n",
        "            lng, \n",
        "            v['venue']['name'], \n",
        "            v['venue']['location']['lat'], \n",
        "            v['venue']['location']['lng'],  \n",
        "            v['venue']['categories'][0]['name']) for v in results])\n",
        "\n",
        "    nearby_venues = pd.DataFrame([item for venue_list in venues_list for item in venue_list])\n",
        "    nearby_venues.columns = ['Neighborhood', \n",
        "                  'Neighborhood Latitude', \n",
        "                  'Neighborhood Longitude', \n",
        "                  'Venue', \n",
        "                  'Venue Latitude', \n",
        "                  'Venue Longitude', \n",
        "                  'Venue Category']\n",
        "    \n",
        "    return(nearby_venues)"
      ],
      "execution_count": null,
      "outputs": []
    },
    {
      "cell_type": "code",
      "metadata": {
        "colab": {
          "base_uri": "https://localhost:8080/"
        },
        "id": "unMdCTtpMMdE",
        "outputId": "dab07b64-2a72-4a0b-a910-e31a83c90348"
      },
      "source": [
        "bangkok_venues = getNearbyVenues(names=neighborhoods_bangkok['District'],\n",
        "                            latitudes=neighborhoods_bangkok['Latitude'],\n",
        "                            longitudes=neighborhoods_bangkok['Longitude'])"
      ],
      "execution_count": null,
      "outputs": [
        {
          "output_type": "stream",
          "text": [
            "Phra Nakhon\n",
            "Dusit\n",
            "Nong Chok\n",
            "Bang Rak\n",
            "Bang Khen\n",
            "Bang Kapi\n",
            "Pathum Wan\n",
            "Pom Prap Sattru Phai\n",
            "Phra Khanong\n",
            "Min Buri\n",
            "Lat Krabang\n",
            "Yan Nawa\n",
            "Samphanthawong\n",
            "Phaya Thai\n",
            "Thon Buri\n",
            "Bangkok Yai\n",
            "Huai Khwang\n",
            "Khlong San\n",
            "Taling Chan\n",
            "Bangkok Noi\n",
            "Bang Khun Thian\n",
            "Phasi Charoen\n",
            "Nong Khaem\n",
            "Rat Burana\n",
            "Bang Phlat\n",
            "Din Daeng\n",
            "Bueng Kum\n",
            "Sathon\n",
            "Bang Sue\n",
            "Chatuchak\n",
            "Bang Kho Laem\n",
            "Prawet\n",
            "Khlong Toei\n",
            "Suan Luang\n",
            "Chom Thong\n",
            "Don Mueang\n",
            "Ratchathewi\n",
            "Lat Phrao\n",
            "Watthana\n",
            "Bang Khae\n",
            "Lak Si\n",
            "Sai Mai\n",
            "Khan Na Yao\n",
            "Saphan Sung\n",
            "Wang Thonglang\n",
            "Khlong Sam Wa\n",
            "Bang Na\n",
            "Thawi Watthana\n",
            "Thung Khru\n",
            "Bang Bon\n"
          ],
          "name": "stdout"
        }
      ]
    },
    {
      "cell_type": "code",
      "metadata": {
        "id": "19mE7NrcMUil",
        "colab": {
          "base_uri": "https://localhost:8080/"
        },
        "outputId": "c0bb77ec-481c-441f-aca3-756336f41110"
      },
      "source": [
        "print(bangkok_venues.shape)\n",
        "bangkok_venues.head()"
      ],
      "execution_count": null,
      "outputs": [
        {
          "output_type": "stream",
          "text": [
            "(1157, 7)\n"
          ],
          "name": "stdout"
        },
        {
          "output_type": "execute_result",
          "data": {
            "text/html": [
              "<div>\n",
              "<style scoped>\n",
              "    .dataframe tbody tr th:only-of-type {\n",
              "        vertical-align: middle;\n",
              "    }\n",
              "\n",
              "    .dataframe tbody tr th {\n",
              "        vertical-align: top;\n",
              "    }\n",
              "\n",
              "    .dataframe thead th {\n",
              "        text-align: right;\n",
              "    }\n",
              "</style>\n",
              "<table border=\"1\" class=\"dataframe\">\n",
              "  <thead>\n",
              "    <tr style=\"text-align: right;\">\n",
              "      <th></th>\n",
              "      <th>Neighborhood</th>\n",
              "      <th>Neighborhood Latitude</th>\n",
              "      <th>Neighborhood Longitude</th>\n",
              "      <th>Venue</th>\n",
              "      <th>Venue Latitude</th>\n",
              "      <th>Venue Longitude</th>\n",
              "      <th>Venue Category</th>\n",
              "    </tr>\n",
              "  </thead>\n",
              "  <tbody>\n",
              "    <tr>\n",
              "      <th>0</th>\n",
              "      <td>Phra Nakhon</td>\n",
              "      <td>13.764444</td>\n",
              "      <td>100.499167</td>\n",
              "      <td>Adhere the 13th Blues Bar</td>\n",
              "      <td>13.763043</td>\n",
              "      <td>100.498839</td>\n",
              "      <td>Jazz Club</td>\n",
              "    </tr>\n",
              "    <tr>\n",
              "      <th>1</th>\n",
              "      <td>Phra Nakhon</td>\n",
              "      <td>13.764444</td>\n",
              "      <td>100.499167</td>\n",
              "      <td>Teddy The Bake</td>\n",
              "      <td>13.766085</td>\n",
              "      <td>100.499858</td>\n",
              "      <td>Café</td>\n",
              "    </tr>\n",
              "    <tr>\n",
              "      <th>2</th>\n",
              "      <td>Phra Nakhon</td>\n",
              "      <td>13.764444</td>\n",
              "      <td>100.499167</td>\n",
              "      <td>Beer and Cider House</td>\n",
              "      <td>13.762882</td>\n",
              "      <td>100.498841</td>\n",
              "      <td>Beer Bar</td>\n",
              "    </tr>\n",
              "    <tr>\n",
              "      <th>3</th>\n",
              "      <td>Phra Nakhon</td>\n",
              "      <td>13.764444</td>\n",
              "      <td>100.499167</td>\n",
              "      <td>Khaosan Baan Thai</td>\n",
              "      <td>13.766141</td>\n",
              "      <td>100.497963</td>\n",
              "      <td>Hostel</td>\n",
              "    </tr>\n",
              "    <tr>\n",
              "      <th>4</th>\n",
              "      <td>Phra Nakhon</td>\n",
              "      <td>13.764444</td>\n",
              "      <td>100.499167</td>\n",
              "      <td>Casa Nithra Hotel</td>\n",
              "      <td>13.765834</td>\n",
              "      <td>100.500721</td>\n",
              "      <td>Hotel</td>\n",
              "    </tr>\n",
              "  </tbody>\n",
              "</table>\n",
              "</div>"
            ],
            "text/plain": [
              "  Neighborhood  Neighborhood Latitude  ...  Venue Longitude Venue Category\n",
              "0  Phra Nakhon              13.764444  ...       100.498839      Jazz Club\n",
              "1  Phra Nakhon              13.764444  ...       100.499858           Café\n",
              "2  Phra Nakhon              13.764444  ...       100.498841       Beer Bar\n",
              "3  Phra Nakhon              13.764444  ...       100.497963         Hostel\n",
              "4  Phra Nakhon              13.764444  ...       100.500721          Hotel\n",
              "\n",
              "[5 rows x 7 columns]"
            ]
          },
          "metadata": {
            "tags": []
          },
          "execution_count": 28
        }
      ]
    },
    {
      "cell_type": "code",
      "metadata": {
        "colab": {
          "base_uri": "https://localhost:8080/"
        },
        "id": "ZsoR76xVmbOo",
        "outputId": "56a73a5f-e8c9-48d3-bbcf-cf03b63b12bc"
      },
      "source": [
        "print('There are {} uniques categories.'.format(bangkok_venues['Venue Category'].value_counts()))"
      ],
      "execution_count": null,
      "outputs": [
        {
          "output_type": "stream",
          "text": [
            "There are Noodle House         131\n",
            "Convenience Store     77\n",
            "Coffee Shop           74\n",
            "Thai Restaurant       69\n",
            "Café                  51\n",
            "                    ... \n",
            "Movie Theater          1\n",
            "Nightclub              1\n",
            "Pool                   1\n",
            "Garden                 1\n",
            "Salad Place            1\n",
            "Name: Venue Category, Length: 167, dtype: int64 uniques categories.\n"
          ],
          "name": "stdout"
        }
      ]
    },
    {
      "cell_type": "markdown",
      "metadata": {
        "id": "WQoFbSh9BPJu"
      },
      "source": [
        "### Extract and clean the data from foursqure\n",
        "Let's extract the category type of restaurant, separated by country In some venues category type list we have some restaurants that can estimate that it is suitable for which country"
      ]
    },
    {
      "cell_type": "code",
      "metadata": {
        "id": "J4kIrqbKkYn8"
      },
      "source": [
        "bangkok_Venues_only_restaurant = bangkok_venues[bangkok_venues['Venue Category'].str.contains('Restaurant')].reset_index(drop=True)\n",
        "bangkok_Venues_only_restaurant.index = np.arange(1, len(bangkok_Venues_only_restaurant )+1)"
      ],
      "execution_count": null,
      "outputs": []
    },
    {
      "cell_type": "code",
      "metadata": {
        "colab": {
          "base_uri": "https://localhost:8080/"
        },
        "id": "tg4Z3GLjkdr3",
        "outputId": "5855298a-6233-430d-9fe1-b14cdd073623"
      },
      "source": [
        "print (bangkok_Venues_only_restaurant['Venue Category'].value_counts())"
      ],
      "execution_count": null,
      "outputs": [
        {
          "output_type": "stream",
          "text": [
            "Thai Restaurant                  69\n",
            "Asian Restaurant                 45\n",
            "Chinese Restaurant               31\n",
            "Japanese Restaurant              29\n",
            "Som Tum Restaurant               22\n",
            "Fast Food Restaurant             20\n",
            "Hotpot Restaurant                19\n",
            "Seafood Restaurant               16\n",
            "Restaurant                       13\n",
            "Sushi Restaurant                  9\n",
            "Italian Restaurant                9\n",
            "Dim Sum Restaurant                9\n",
            "Ramen Restaurant                  7\n",
            "Shabu-Shabu Restaurant            7\n",
            "Vietnamese Restaurant             6\n",
            "Korean Restaurant                 5\n",
            "Halal Restaurant                  4\n",
            "Satay Restaurant                  2\n",
            "Donburi Restaurant                2\n",
            "Japanese Curry Restaurant         2\n",
            "American Restaurant               2\n",
            "Vegetarian / Vegan Restaurant     2\n",
            "Udon Restaurant                   1\n",
            "New American Restaurant           1\n",
            "German Restaurant                 1\n",
            "Mexican Restaurant                1\n",
            "Mediterranean Restaurant          1\n",
            "Tonkatsu Restaurant               1\n",
            "Comfort Food Restaurant           1\n",
            "Dumpling Restaurant               1\n",
            "Name: Venue Category, dtype: int64\n"
          ],
          "name": "stdout"
        }
      ]
    },
    {
      "cell_type": "markdown",
      "metadata": {
        "id": "cXYsItPtSo8U"
      },
      "source": [
        "We have some categories that do not identify food countries. So we need to scan these categories which have any restaurant can identify food country by searching name restaurant in google."
      ]
    },
    {
      "cell_type": "code",
      "metadata": {
        "colab": {
          "base_uri": "https://localhost:8080/"
        },
        "id": "rxfrXIxDo1sO",
        "outputId": "a8685dbe-32b9-40ba-dcbd-836e0dc36e35"
      },
      "source": [
        "extract_restaurant = [\"Asian Restaurant\",\"Hotpot Restaurant\",\"Fast Food Restaurant\",\"Restaurant\",\"Shabu-Shabu Restaurant\",\"Halal Restaurant\",\"Seafood Restaurant\"]\n",
        "asian_cate = bangkok_Venues_only_restaurant[bangkok_Venues_only_restaurant['Venue Category'].isin(extract_restaurant)]\n",
        "asian_cate[\"Venue Category\"].unique()"
      ],
      "execution_count": null,
      "outputs": [
        {
          "output_type": "execute_result",
          "data": {
            "text/plain": [
              "array(['Asian Restaurant', 'Halal Restaurant', 'Seafood Restaurant',\n",
              "       'Hotpot Restaurant', 'Shabu-Shabu Restaurant',\n",
              "       'Fast Food Restaurant', 'Restaurant'], dtype=object)"
            ]
          },
          "metadata": {
            "tags": []
          },
          "execution_count": 32
        }
      ]
    },
    {
      "cell_type": "code",
      "metadata": {
        "id": "UOklkOqZqMET"
      },
      "source": [
        "asian_cate.to_excel('asian_cate.xlsx')"
      ],
      "execution_count": null,
      "outputs": []
    },
    {
      "cell_type": "markdown",
      "metadata": {
        "id": "m6j3OSzEoQ_I"
      },
      "source": [
        "After we searching some keywords in the restaurant names for finding the type of restaurant next we will replace the category name to indicate food country"
      ]
    },
    {
      "cell_type": "code",
      "metadata": {
        "colab": {
          "base_uri": "https://localhost:8080/"
        },
        "id": "ha-fesTTt7Si",
        "outputId": "74aa2d68-3646-4a32-8585-5d895234a1cf"
      },
      "source": [
        "chinese_th = [\"โจ๊ก\",\"ข้าวต้ม\",\"Haidilao\",\"โชคดี\",\"ฮ่องเต้\",\"เรือนหยก\",\"เยาวราช\",\"LonLon\",\"Taiwan\",\"Koa\"]\n",
        "vietnam_th = [\"เฝอ\"]\n",
        "japan_th = [\"Mo-Mo-Paradise\",\"Shabushi\",\"Pladib\",\"Akiyoshi\",\"Shibuya\",\"Shabu\",\"Sushi\"]\n",
        "American_th = [\"แม็คโดนัลด์\",\"KFC\",\"Burger\",\"Canyon\",\"เคเอฟซี\",\"A&W\",\"CANYON\",\"McDonald\",\"Florida\"]\n",
        "india_th = [\"โรตี\",\"หมกไก่\",\"ฮาลาล\",\"มุสลิม\",\"Muslim\"]\n",
        "europe_th = [\"Verandah\",\"YAZEE\",\"TREEBOX\",\"Emmie's\",\"VOF\",\"Number 9\",\"BUNG\",\"Cuisine\",\"Clay\"]\n",
        "\n",
        "chinese = bangkok_Venues_only_restaurant[bangkok_Venues_only_restaurant['Venue'].str.contains('|'.join(chinese_th))]\n",
        "ch = chinese[\"Venue\"].values.tolist()\n",
        "vietnam = bangkok_Venues_only_restaurant[bangkok_Venues_only_restaurant['Venue'].str.contains('|'.join(vietnam_th))]\n",
        "vt = vietnam[\"Venue\"].values.tolist()\n",
        "japan = bangkok_Venues_only_restaurant[bangkok_Venues_only_restaurant['Venue'].str.contains('|'.join(japan_th))]\n",
        "jp = japan[\"Venue\"].values.tolist()\n",
        "american = bangkok_Venues_only_restaurant[bangkok_Venues_only_restaurant['Venue'].str.contains('|'.join(American_th))]\n",
        "usa = american[\"Venue\"].values.tolist()\n",
        "india = bangkok_Venues_only_restaurant[bangkok_Venues_only_restaurant['Venue'].str.contains('|'.join(india_th))]\n",
        "ind = india[\"Venue\"].values.tolist()\n",
        "europe = bangkok_Venues_only_restaurant[bangkok_Venues_only_restaurant['Venue'].str.contains('|'.join(europe_th))]\n",
        "eu = europe[\"Venue\"].values.tolist()\n",
        "print(ch)"
      ],
      "execution_count": null,
      "outputs": [
        {
          "output_type": "stream",
          "text": [
            "['ข้าวต้มเพ่งเพ้ง', 'Khaotom Bawon (ข้าวต้มบวร)', 'โจ๊กสามย่าน', 'Chokdee Dimsum (โชคดีติ่มซำ)', 'Khaw Tom Heng Rim Nuun (ข้าวต้มแห้งริมหนน)', 'FuFu Taiwanese Shabu', 'ตึ๊ง ข้าวต้มหัวปลา หลังติดรถไฟ', 'เรือนหยก สุกี้โบราณ', 'Joke Moo Thong (โจ๊กหมูทอง)', 'ขาหมูฮ่องเต้', 'โจ๊กสยาม', 'โจ๊กหม้อดิน พัฒนาการ', 'ครัวข้าวต้มเจ้ใส', 'เฮงเฮงข้าวต้มปูดอง']\n"
          ],
          "name": "stdout"
        }
      ]
    },
    {
      "cell_type": "code",
      "metadata": {
        "colab": {
          "base_uri": "https://localhost:8080/"
        },
        "id": "LcPpqTjwlvDg",
        "outputId": "0b8d77c0-0ea6-4615-8b5e-5492cb043043"
      },
      "source": [
        "for i in range(0,len(bangkok_Venues_only_restaurant)):\n",
        "  #print (bangkok_Venues_only_restaurant['Venue'].iloc[i])\n",
        "  if bangkok_Venues_only_restaurant['Venue'].iloc[i] in ch:\n",
        "     bangkok_Venues_only_restaurant['Venue Category'].iloc[i] = \"Chinese Restaurant\"\n",
        "  elif  bangkok_Venues_only_restaurant['Venue'].iloc[i] in vt:\n",
        "     bangkok_Venues_only_restaurant['Venue Category'].iloc[i] = \"Vietnamese Restaurant\"\n",
        "  elif  bangkok_Venues_only_restaurant['Venue'].iloc[i] in jp:\n",
        "     bangkok_Venues_only_restaurant['Venue Category'].iloc[i] = \"Japanese Restaurant\"\n",
        "  elif  bangkok_Venues_only_restaurant['Venue'].iloc[i] in usa:\n",
        "     bangkok_Venues_only_restaurant['Venue Category'].iloc[i] = \"American Restaurant\"\n",
        "  elif  bangkok_Venues_only_restaurant['Venue'].iloc[i] in ind:\n",
        "     bangkok_Venues_only_restaurant['Venue Category'].iloc[i] = \"Indian Restaurant\"\n",
        "  elif  bangkok_Venues_only_restaurant['Venue'].iloc[i] in eu:\n",
        "     bangkok_Venues_only_restaurant['Venue Category'].iloc[i] = \"European restaurant\""
      ],
      "execution_count": null,
      "outputs": [
        {
          "output_type": "stream",
          "text": [
            "/usr/local/lib/python3.7/dist-packages/pandas/core/indexing.py:670: SettingWithCopyWarning: \n",
            "A value is trying to be set on a copy of a slice from a DataFrame\n",
            "\n",
            "See the caveats in the documentation: https://pandas.pydata.org/pandas-docs/stable/user_guide/indexing.html#returning-a-view-versus-a-copy\n",
            "  iloc._setitem_with_indexer(indexer, value)\n"
          ],
          "name": "stderr"
        }
      ]
    },
    {
      "cell_type": "markdown",
      "metadata": {
        "id": "2d2VUsluShB_"
      },
      "source": [
        "Let recheck the quantity of food country again after We identify food country in category Asian Restaurant,Hotpot Restaurant,Fast Food Restaurant,Restaurant,Shabu-Shabu Restaurant,Halal Restaurant,Seafood Restaurant"
      ]
    },
    {
      "cell_type": "code",
      "metadata": {
        "colab": {
          "base_uri": "https://localhost:8080/"
        },
        "id": "6WnRHThLrAYq",
        "outputId": "6967a23b-fbc5-4bc0-a6fc-733bfd6942b9"
      },
      "source": [
        "print (bangkok_Venues_only_restaurant['Venue Category'].value_counts())"
      ],
      "execution_count": null,
      "outputs": [
        {
          "output_type": "stream",
          "text": [
            "Thai Restaurant                  66\n",
            "Japanese Restaurant              44\n",
            "Chinese Restaurant               44\n",
            "Asian Restaurant                 38\n",
            "Som Tum Restaurant               22\n",
            "American Restaurant              18\n",
            "Hotpot Restaurant                16\n",
            "Seafood Restaurant               15\n",
            "Italian Restaurant                9\n",
            "Dim Sum Restaurant                8\n",
            "Restaurant                        8\n",
            "Ramen Restaurant                  7\n",
            "Fast Food Restaurant              6\n",
            "Vietnamese Restaurant             6\n",
            "Korean Restaurant                 5\n",
            "Sushi Restaurant                  4\n",
            "European restaurant               3\n",
            "Satay Restaurant                  2\n",
            "Donburi Restaurant                2\n",
            "Japanese Curry Restaurant         2\n",
            "Indian Restaurant                 2\n",
            "Vegetarian / Vegan Restaurant     2\n",
            "Udon Restaurant                   1\n",
            "New American Restaurant           1\n",
            "German Restaurant                 1\n",
            "Mexican Restaurant                1\n",
            "Halal Restaurant                  1\n",
            "Mediterranean Restaurant          1\n",
            "Tonkatsu Restaurant               1\n",
            "Comfort Food Restaurant           1\n",
            "Dumpling Restaurant               1\n",
            "Name: Venue Category, dtype: int64\n"
          ],
          "name": "stdout"
        }
      ]
    },
    {
      "cell_type": "code",
      "metadata": {
        "id": "CjKBYpNJlY3T",
        "colab": {
          "base_uri": "https://localhost:8080/"
        },
        "outputId": "c5498e17-3954-4e9e-d175-d16c4f1af612"
      },
      "source": [
        "print('There are {} unique categories.'.format(len(bangkok_Venues_only_restaurant['Venue Category'].unique())))"
      ],
      "execution_count": null,
      "outputs": [
        {
          "output_type": "stream",
          "text": [
            "There are 31 unique categories.\n"
          ],
          "name": "stdout"
        }
      ]
    },
    {
      "cell_type": "markdown",
      "metadata": {
        "id": "DeY5DSiBVf_Q"
      },
      "source": [
        "Create Food country column"
      ]
    },
    {
      "cell_type": "code",
      "metadata": {
        "id": "b14NJE_m94Vn"
      },
      "source": [
        "bangkok_Venues_only_restaurant[\"Food country\"] = bangkok_Venues_only_restaurant[\"Venue Category\"].copy()"
      ],
      "execution_count": null,
      "outputs": []
    },
    {
      "cell_type": "code",
      "metadata": {
        "id": "mCo3xQL--LuL",
        "colab": {
          "base_uri": "https://localhost:8080/"
        },
        "outputId": "474714bf-58a9-446b-fa34-5e3b49a4fa30"
      },
      "source": [
        "bangkok_Venues_only_restaurant.head()"
      ],
      "execution_count": null,
      "outputs": [
        {
          "output_type": "execute_result",
          "data": {
            "text/html": [
              "<div>\n",
              "<style scoped>\n",
              "    .dataframe tbody tr th:only-of-type {\n",
              "        vertical-align: middle;\n",
              "    }\n",
              "\n",
              "    .dataframe tbody tr th {\n",
              "        vertical-align: top;\n",
              "    }\n",
              "\n",
              "    .dataframe thead th {\n",
              "        text-align: right;\n",
              "    }\n",
              "</style>\n",
              "<table border=\"1\" class=\"dataframe\">\n",
              "  <thead>\n",
              "    <tr style=\"text-align: right;\">\n",
              "      <th></th>\n",
              "      <th>Neighborhood</th>\n",
              "      <th>Neighborhood Latitude</th>\n",
              "      <th>Neighborhood Longitude</th>\n",
              "      <th>Venue</th>\n",
              "      <th>Venue Latitude</th>\n",
              "      <th>Venue Longitude</th>\n",
              "      <th>Venue Category</th>\n",
              "      <th>Food country</th>\n",
              "    </tr>\n",
              "  </thead>\n",
              "  <tbody>\n",
              "    <tr>\n",
              "      <th>1</th>\n",
              "      <td>Phra Nakhon</td>\n",
              "      <td>13.764444</td>\n",
              "      <td>100.499167</td>\n",
              "      <td>Thamna Hometaurant (ทำนา)</td>\n",
              "      <td>13.765223</td>\n",
              "      <td>100.500124</td>\n",
              "      <td>Vegetarian / Vegan Restaurant</td>\n",
              "      <td>Vegetarian / Vegan Restaurant</td>\n",
              "    </tr>\n",
              "    <tr>\n",
              "      <th>2</th>\n",
              "      <td>Phra Nakhon</td>\n",
              "      <td>13.764444</td>\n",
              "      <td>100.499167</td>\n",
              "      <td>Sushi Express</td>\n",
              "      <td>13.761450</td>\n",
              "      <td>100.499306</td>\n",
              "      <td>Japanese Restaurant</td>\n",
              "      <td>Japanese Restaurant</td>\n",
              "    </tr>\n",
              "    <tr>\n",
              "      <th>3</th>\n",
              "      <td>Phra Nakhon</td>\n",
              "      <td>13.764444</td>\n",
              "      <td>100.499167</td>\n",
              "      <td>ข้าวต้มเพ่งเพ้ง</td>\n",
              "      <td>13.761792</td>\n",
              "      <td>100.499359</td>\n",
              "      <td>Chinese Restaurant</td>\n",
              "      <td>Chinese Restaurant</td>\n",
              "    </tr>\n",
              "    <tr>\n",
              "      <th>4</th>\n",
              "      <td>Phra Nakhon</td>\n",
              "      <td>13.764444</td>\n",
              "      <td>100.499167</td>\n",
              "      <td>Joy Luck Club พระอาทิตย์</td>\n",
              "      <td>13.763594</td>\n",
              "      <td>100.496110</td>\n",
              "      <td>Thai Restaurant</td>\n",
              "      <td>Thai Restaurant</td>\n",
              "    </tr>\n",
              "    <tr>\n",
              "      <th>5</th>\n",
              "      <td>Phra Nakhon</td>\n",
              "      <td>13.764444</td>\n",
              "      <td>100.499167</td>\n",
              "      <td>ต้มยำกุ้ง บางลำพู</td>\n",
              "      <td>13.760900</td>\n",
              "      <td>100.498337</td>\n",
              "      <td>Thai Restaurant</td>\n",
              "      <td>Thai Restaurant</td>\n",
              "    </tr>\n",
              "  </tbody>\n",
              "</table>\n",
              "</div>"
            ],
            "text/plain": [
              "  Neighborhood  ...                   Food country\n",
              "1  Phra Nakhon  ...  Vegetarian / Vegan Restaurant\n",
              "2  Phra Nakhon  ...            Japanese Restaurant\n",
              "3  Phra Nakhon  ...             Chinese Restaurant\n",
              "4  Phra Nakhon  ...                Thai Restaurant\n",
              "5  Phra Nakhon  ...                Thai Restaurant\n",
              "\n",
              "[5 rows x 8 columns]"
            ]
          },
          "metadata": {
            "tags": []
          },
          "execution_count": 39
        }
      ]
    },
    {
      "cell_type": "markdown",
      "metadata": {
        "id": "ypt79lAwVnuN"
      },
      "source": [
        "Change name category for making the data indicate only name of country "
      ]
    },
    {
      "cell_type": "code",
      "metadata": {
        "id": "M-Bq4k1M4eG1",
        "colab": {
          "base_uri": "https://localhost:8080/"
        },
        "outputId": "6d6477ff-92db-49f4-cbc5-0d86eea69b26"
      },
      "source": [
        "bangkok_Venues_only_restaurant['Food country'] = bangkok_Venues_only_restaurant['Food country'].apply(lambda x:\"Chinese Restaurant\"  if x == \"Dim Sum Restaurant\" or x ==\"Taiwanese Restaurant\"or x==\"Cantonese Restaurant\" \n",
        "                                              or x == \"Taiwanese Restaurant\" or x == \"Hainan Restaurant\" or x == \"Dumpling Restaurant\" or x == \"Szechuan Restaurant\" else x)\n",
        "bangkok_Venues_only_restaurant['Food country'] = bangkok_Venues_only_restaurant['Food country'].apply(lambda x:\"Japanese Restaurant\"  if x == \"Sushi Restaurant\" or x ==\"Ramen Restaurant\"or x==\"Tonkatsu Restaurant\" \n",
        "                                              or x == \"Kaiseki Restaurant\" or x == \"Japanese Curry Restaurant\" or x==\"Soba Restaurant\"or x ==\"Yoshoku Restaurant\" or x == \"Donburi Restaurant\" else x)\n",
        "bangkok_Venues_only_restaurant['Food country'] = bangkok_Venues_only_restaurant['Food country'].apply(lambda x:\"Indian Restaurant\"  if x == \"South Indian Restaurant\" else x)\n",
        "bangkok_Venues_only_restaurant['Food country'] = bangkok_Venues_only_restaurant['Food country'].apply(lambda x:\"European restaurant\"  if x == \"Italian Restaurant\" or x == \"French Restaurant\"or x == \"German Restaurant\" \n",
        "                                              or x== \"Modern European Restaurant\" or x == \"Greek Restaurant\" or x ==\"Eastern European Restaurant\" or x == \"Mediterranean Restaurant\"or x ==\"Swiss Restaurant\" or x == \"Cajun / Creole Restaurant\"\n",
        "                                              or x == \"Spanish Restaurant\" else x)\n",
        "bangkok_Venues_only_restaurant['Food country'] = bangkok_Venues_only_restaurant['Food country'].apply(lambda x:\"American Restaurant\"  if x == \"New American Restaurant\" or x == \"Mexican Restaurant\"else x)\n",
        "print (bangkok_Venues_only_restaurant['Food country'].value_counts()) "
      ],
      "execution_count": null,
      "outputs": [
        {
          "output_type": "stream",
          "text": [
            "Thai Restaurant                  66\n",
            "Japanese Restaurant              60\n",
            "Chinese Restaurant               53\n",
            "Asian Restaurant                 38\n",
            "Som Tum Restaurant               22\n",
            "American Restaurant              20\n",
            "Hotpot Restaurant                16\n",
            "Seafood Restaurant               15\n",
            "European restaurant              14\n",
            "Restaurant                        8\n",
            "Fast Food Restaurant              6\n",
            "Vietnamese Restaurant             6\n",
            "Korean Restaurant                 5\n",
            "Vegetarian / Vegan Restaurant     2\n",
            "Satay Restaurant                  2\n",
            "Indian Restaurant                 2\n",
            "Udon Restaurant                   1\n",
            "Halal Restaurant                  1\n",
            "Comfort Food Restaurant           1\n",
            "Name: Food country, dtype: int64\n"
          ],
          "name": "stdout"
        }
      ]
    },
    {
      "cell_type": "markdown",
      "metadata": {
        "id": "k2U0pP2UYrOb"
      },
      "source": [
        "Remove some category cannot indicate country and related Thai food "
      ]
    },
    {
      "cell_type": "code",
      "metadata": {
        "id": "4IKlvuQcdmjP",
        "colab": {
          "base_uri": "https://localhost:8080/"
        },
        "outputId": "5f294704-6e19-4c18-c8d0-8bb16d539ff5"
      },
      "source": [
        "listnotuse = [\"Thai Restaurant\",\"Restaurant\",\"Som Tum Restaurant\",\"Seafood Restaurant\",\"Fast Food Restaurant\",\"Hotpot Restaurant\",\"Shabu-Shabu Restaurant\",\"Vegetarian / Vegan Restaurant\"\n",
        "                  ,\"Satay Restaurant\",\"Halal Restaurant\",\"Molecular Gastronomy Restaurant\",\"Asian Restaurant\",\"Middle Eastern Restaurant\",\"Comfort Food Restaurant\",\n",
        "                  \"Southern / Soul Food Restaurant\",\"Udon Restaurant\"]\n",
        "for i in listnotuse:\n",
        "  bangkok_Venues_only_restaurant = bangkok_Venues_only_restaurant[bangkok_Venues_only_restaurant[\"Food country\"] != i]\n",
        "print (bangkok_Venues_only_restaurant['Food country'].value_counts())"
      ],
      "execution_count": null,
      "outputs": [
        {
          "output_type": "stream",
          "text": [
            "Japanese Restaurant      60\n",
            "Chinese Restaurant       53\n",
            "American Restaurant      20\n",
            "European restaurant      14\n",
            "Vietnamese Restaurant     6\n",
            "Korean Restaurant         5\n",
            "Indian Restaurant         2\n",
            "Name: Food country, dtype: int64\n"
          ],
          "name": "stdout"
        }
      ]
    },
    {
      "cell_type": "markdown",
      "metadata": {
        "id": "OG5tP7sbm-Bh"
      },
      "source": [
        "After finish extract and clean the data from foursquare.\n",
        "We will get six different types of restaurants \n"
      ]
    },
    {
      "cell_type": "code",
      "metadata": {
        "id": "1b9d6GhLmCVl",
        "colab": {
          "base_uri": "https://localhost:8080/"
        },
        "outputId": "b5a1957e-50f5-4194-ee75-6fa0430a1df0"
      },
      "source": [
        "bangkok_Venues_Top10 = bangkok_Venues_only_restaurant['Food country'].value_counts()[0:10].to_frame(name='frequency')\n",
        "bangkok_Venues_Top10=bangkok_Venues_Top10.reset_index()\n",
        "bangkok_Venues_Top10.rename(index=str, columns={\"index\": \"Food country\", \"frequency\": \"Frequency\"}, inplace=True)\n",
        "bangkok_Venues_Top10"
      ],
      "execution_count": null,
      "outputs": [
        {
          "output_type": "execute_result",
          "data": {
            "text/html": [
              "<div>\n",
              "<style scoped>\n",
              "    .dataframe tbody tr th:only-of-type {\n",
              "        vertical-align: middle;\n",
              "    }\n",
              "\n",
              "    .dataframe tbody tr th {\n",
              "        vertical-align: top;\n",
              "    }\n",
              "\n",
              "    .dataframe thead th {\n",
              "        text-align: right;\n",
              "    }\n",
              "</style>\n",
              "<table border=\"1\" class=\"dataframe\">\n",
              "  <thead>\n",
              "    <tr style=\"text-align: right;\">\n",
              "      <th></th>\n",
              "      <th>Food country</th>\n",
              "      <th>Frequency</th>\n",
              "    </tr>\n",
              "  </thead>\n",
              "  <tbody>\n",
              "    <tr>\n",
              "      <th>0</th>\n",
              "      <td>Japanese Restaurant</td>\n",
              "      <td>60</td>\n",
              "    </tr>\n",
              "    <tr>\n",
              "      <th>1</th>\n",
              "      <td>Chinese Restaurant</td>\n",
              "      <td>53</td>\n",
              "    </tr>\n",
              "    <tr>\n",
              "      <th>2</th>\n",
              "      <td>American Restaurant</td>\n",
              "      <td>20</td>\n",
              "    </tr>\n",
              "    <tr>\n",
              "      <th>3</th>\n",
              "      <td>European restaurant</td>\n",
              "      <td>14</td>\n",
              "    </tr>\n",
              "    <tr>\n",
              "      <th>4</th>\n",
              "      <td>Vietnamese Restaurant</td>\n",
              "      <td>6</td>\n",
              "    </tr>\n",
              "    <tr>\n",
              "      <th>5</th>\n",
              "      <td>Korean Restaurant</td>\n",
              "      <td>5</td>\n",
              "    </tr>\n",
              "    <tr>\n",
              "      <th>6</th>\n",
              "      <td>Indian Restaurant</td>\n",
              "      <td>2</td>\n",
              "    </tr>\n",
              "  </tbody>\n",
              "</table>\n",
              "</div>"
            ],
            "text/plain": [
              "            Food country  Frequency\n",
              "0    Japanese Restaurant         60\n",
              "1     Chinese Restaurant         53\n",
              "2    American Restaurant         20\n",
              "3    European restaurant         14\n",
              "4  Vietnamese Restaurant          6\n",
              "5      Korean Restaurant          5\n",
              "6      Indian Restaurant          2"
            ]
          },
          "metadata": {
            "tags": []
          },
          "execution_count": 42
        }
      ]
    },
    {
      "cell_type": "markdown",
      "metadata": {
        "id": "w9cREUGeaJ31"
      },
      "source": [
        "Create histogram chart for show type of restaurant frequently "
      ]
    },
    {
      "cell_type": "code",
      "metadata": {
        "id": "owjuaRU5qFt_",
        "colab": {
          "base_uri": "https://localhost:8080/"
        },
        "outputId": "ee72cfea-fe14-4c0b-b2f9-74d692c10083"
      },
      "source": [
        "import seaborn as sns\n",
        "from matplotlib import pyplot as plt\n",
        "\n",
        "s=sns.barplot(x=\"Food country\", y=\"Frequency\", data=bangkok_Venues_Top10)\n",
        "s.set_xticklabels(s.get_xticklabels(), rotation=45, horizontalalignment='right')\n",
        "\n",
        "plt.title('7 Most Frequently Occuring in bangkok', fontsize=15)\n",
        "plt.xlabel(\"Food country\", fontsize=15)\n",
        "plt.ylabel (\"Frequency\", fontsize=15)\n",
        "plt.savefig(\"Most_Freq_Venues1.png\", dpi=300)\n",
        "fig = plt.figure(figsize=(18,7))\n",
        "plt.show()"
      ],
      "execution_count": null,
      "outputs": [
        {
          "output_type": "display_data",
          "data": {
            "image/png": "[encoded data removed]",
            "text/plain": [
              "<Figure size 432x288 with 1 Axes>"
            ]
          },
          "metadata": {
            "tags": [],
            "image/png": {
              "width": 405,
              "height": 364
            },
            "needs_background": "light"
          }
        },
        {
          "output_type": "display_data",
          "data": {
            "text/plain": [
              "<Figure size 1296x504 with 0 Axes>"
            ]
          },
          "metadata": {
            "tags": []
          }
        }
      ]
    },
    {
      "cell_type": "code",
      "metadata": {
        "id": "fLaka0tEqZum",
        "colab": {
          "base_uri": "https://localhost:8080/"
        },
        "outputId": "cd5868b2-d18a-4467-d2aa-6f68e1026034"
      },
      "source": [
        "print (\"Shape of the Data-Frame with Venue Category only Restaurant: \", bangkok_Venues_only_restaurant.shape)\n",
        "bangkok_Venues_only_restaurant.head(10)"
      ],
      "execution_count": null,
      "outputs": [
        {
          "output_type": "stream",
          "text": [
            "Shape of the Data-Frame with Venue Category only Restaurant:  (160, 8)\n"
          ],
          "name": "stdout"
        },
        {
          "output_type": "execute_result",
          "data": {
            "text/html": [
              "<div>\n",
              "<style scoped>\n",
              "    .dataframe tbody tr th:only-of-type {\n",
              "        vertical-align: middle;\n",
              "    }\n",
              "\n",
              "    .dataframe tbody tr th {\n",
              "        vertical-align: top;\n",
              "    }\n",
              "\n",
              "    .dataframe thead th {\n",
              "        text-align: right;\n",
              "    }\n",
              "</style>\n",
              "<table border=\"1\" class=\"dataframe\">\n",
              "  <thead>\n",
              "    <tr style=\"text-align: right;\">\n",
              "      <th></th>\n",
              "      <th>Neighborhood</th>\n",
              "      <th>Neighborhood Latitude</th>\n",
              "      <th>Neighborhood Longitude</th>\n",
              "      <th>Venue</th>\n",
              "      <th>Venue Latitude</th>\n",
              "      <th>Venue Longitude</th>\n",
              "      <th>Venue Category</th>\n",
              "      <th>Food country</th>\n",
              "    </tr>\n",
              "  </thead>\n",
              "  <tbody>\n",
              "    <tr>\n",
              "      <th>2</th>\n",
              "      <td>Phra Nakhon</td>\n",
              "      <td>13.764444</td>\n",
              "      <td>100.499167</td>\n",
              "      <td>Sushi Express</td>\n",
              "      <td>13.761450</td>\n",
              "      <td>100.499306</td>\n",
              "      <td>Japanese Restaurant</td>\n",
              "      <td>Japanese Restaurant</td>\n",
              "    </tr>\n",
              "    <tr>\n",
              "      <th>3</th>\n",
              "      <td>Phra Nakhon</td>\n",
              "      <td>13.764444</td>\n",
              "      <td>100.499167</td>\n",
              "      <td>ข้าวต้มเพ่งเพ้ง</td>\n",
              "      <td>13.761792</td>\n",
              "      <td>100.499359</td>\n",
              "      <td>Chinese Restaurant</td>\n",
              "      <td>Chinese Restaurant</td>\n",
              "    </tr>\n",
              "    <tr>\n",
              "      <th>6</th>\n",
              "      <td>Phra Nakhon</td>\n",
              "      <td>13.764444</td>\n",
              "      <td>100.499167</td>\n",
              "      <td>Roti-Mataba (โรตี-มะตะบะ)</td>\n",
              "      <td>13.763593</td>\n",
              "      <td>100.495590</td>\n",
              "      <td>Indian Restaurant</td>\n",
              "      <td>Indian Restaurant</td>\n",
              "    </tr>\n",
              "    <tr>\n",
              "      <th>7</th>\n",
              "      <td>Phra Nakhon</td>\n",
              "      <td>13.764444</td>\n",
              "      <td>100.499167</td>\n",
              "      <td>Khaotom Bawon (ข้าวต้มบวร)</td>\n",
              "      <td>13.761043</td>\n",
              "      <td>100.500233</td>\n",
              "      <td>Chinese Restaurant</td>\n",
              "      <td>Chinese Restaurant</td>\n",
              "    </tr>\n",
              "    <tr>\n",
              "      <th>15</th>\n",
              "      <td>Bang Rak</td>\n",
              "      <td>13.730833</td>\n",
              "      <td>100.524167</td>\n",
              "      <td>China Palace (ไชน่าพาเลซ)</td>\n",
              "      <td>13.731122</td>\n",
              "      <td>100.523996</td>\n",
              "      <td>Chinese Restaurant</td>\n",
              "      <td>Chinese Restaurant</td>\n",
              "    </tr>\n",
              "    <tr>\n",
              "      <th>17</th>\n",
              "      <td>Bang Rak</td>\n",
              "      <td>13.730833</td>\n",
              "      <td>100.524167</td>\n",
              "      <td>ฮกหูฉลาม (Hok Shark Fin) 福</td>\n",
              "      <td>13.728625</td>\n",
              "      <td>100.527474</td>\n",
              "      <td>Chinese Restaurant</td>\n",
              "      <td>Chinese Restaurant</td>\n",
              "    </tr>\n",
              "    <tr>\n",
              "      <th>19</th>\n",
              "      <td>Bang Rak</td>\n",
              "      <td>13.730833</td>\n",
              "      <td>100.524167</td>\n",
              "      <td>ครัวปักกิ่ง</td>\n",
              "      <td>13.734883</td>\n",
              "      <td>100.526153</td>\n",
              "      <td>Chinese Restaurant</td>\n",
              "      <td>Chinese Restaurant</td>\n",
              "    </tr>\n",
              "    <tr>\n",
              "      <th>23</th>\n",
              "      <td>Bang Khen</td>\n",
              "      <td>13.873889</td>\n",
              "      <td>100.596389</td>\n",
              "      <td>แหนมเนืองคุณนิด (อาหารเวียดนาม)</td>\n",
              "      <td>13.874746</td>\n",
              "      <td>100.600030</td>\n",
              "      <td>Vietnamese Restaurant</td>\n",
              "      <td>Vietnamese Restaurant</td>\n",
              "    </tr>\n",
              "    <tr>\n",
              "      <th>25</th>\n",
              "      <td>Bang Kapi</td>\n",
              "      <td>13.765833</td>\n",
              "      <td>100.647778</td>\n",
              "      <td>Shabushi (ชาบูชิ)</td>\n",
              "      <td>13.767332</td>\n",
              "      <td>100.643828</td>\n",
              "      <td>Japanese Restaurant</td>\n",
              "      <td>Japanese Restaurant</td>\n",
              "    </tr>\n",
              "    <tr>\n",
              "      <th>27</th>\n",
              "      <td>Bang Kapi</td>\n",
              "      <td>13.765833</td>\n",
              "      <td>100.647778</td>\n",
              "      <td>Hachiban Ramen (ฮะจิบัง ราเมน)</td>\n",
              "      <td>13.767572</td>\n",
              "      <td>100.643591</td>\n",
              "      <td>Ramen Restaurant</td>\n",
              "      <td>Japanese Restaurant</td>\n",
              "    </tr>\n",
              "  </tbody>\n",
              "</table>\n",
              "</div>"
            ],
            "text/plain": [
              "   Neighborhood  ...           Food country\n",
              "2   Phra Nakhon  ...    Japanese Restaurant\n",
              "3   Phra Nakhon  ...     Chinese Restaurant\n",
              "6   Phra Nakhon  ...      Indian Restaurant\n",
              "7   Phra Nakhon  ...     Chinese Restaurant\n",
              "15     Bang Rak  ...     Chinese Restaurant\n",
              "17     Bang Rak  ...     Chinese Restaurant\n",
              "19     Bang Rak  ...     Chinese Restaurant\n",
              "23    Bang Khen  ...  Vietnamese Restaurant\n",
              "25    Bang Kapi  ...    Japanese Restaurant\n",
              "27    Bang Kapi  ...    Japanese Restaurant\n",
              "\n",
              "[10 rows x 8 columns]"
            ]
          },
          "metadata": {
            "tags": []
          },
          "execution_count": 44
        }
      ]
    },
    {
      "cell_type": "code",
      "metadata": {
        "id": "qzsK9h1pqyRI"
      },
      "source": [
        "bangkok_Venues_restaurant = bangkok_Venues_only_restaurant.groupby(['Neighborhood'])['Food country'].apply(lambda x: x[x.str.contains('Restaurant')].count())"
      ],
      "execution_count": null,
      "outputs": []
    },
    {
      "cell_type": "code",
      "metadata": {
        "id": "YAK2aonjrFn_",
        "colab": {
          "base_uri": "https://localhost:8080/"
        },
        "outputId": "4ef6fbcf-961c-4ceb-c89b-7a8fca92fa33"
      },
      "source": [
        "bangkok_Venues_restaurant"
      ],
      "execution_count": null,
      "outputs": [
        {
          "output_type": "execute_result",
          "data": {
            "text/plain": [
              "Neighborhood\n",
              "Bang Bon                 1\n",
              "Bang Kapi                3\n",
              "Bang Khae                2\n",
              "Bang Khen                1\n",
              "Bang Kho Laem            4\n",
              "Bang Khun Thian          6\n",
              "Bang Phlat               1\n",
              "Bang Rak                 3\n",
              "Bangkok Noi              1\n",
              "Bangkok Yai              2\n",
              "Bueng Kum                1\n",
              "Chatuchak                1\n",
              "Huai Khwang              2\n",
              "Khan Na Yao              8\n",
              "Khlong Sam Wa            3\n",
              "Khlong San               4\n",
              "Khlong Toei              1\n",
              "Lak Si                   3\n",
              "Lat Phrao                2\n",
              "Pathum Wan              16\n",
              "Phasi Charoen            9\n",
              "Phaya Thai              17\n",
              "Phra Khanong             3\n",
              "Phra Nakhon              4\n",
              "Pom Prap Sattru Phai     7\n",
              "Prawet                   1\n",
              "Rat Burana               2\n",
              "Ratchathewi              4\n",
              "Samphanthawong           4\n",
              "Saphan Sung              1\n",
              "Sathon                   7\n",
              "Suan Luang               3\n",
              "Thawi Watthana           2\n",
              "Thung Khru               1\n",
              "Wang Thonglang           3\n",
              "Watthana                 6\n",
              "Yan Nawa                 7\n",
              "Name: Food country, dtype: int64"
            ]
          },
          "metadata": {
            "tags": []
          },
          "execution_count": 46
        }
      ]
    },
    {
      "cell_type": "code",
      "metadata": {
        "id": "Q6eE4DqFrN0K"
      },
      "source": [
        "bangkok_Venues_restaurant_df  = bangkok_Venues_restaurant.to_frame().reset_index()\n",
        "bangkok_Venues_restaurant_df.columns = ['Neighborhood', 'Number of Restaurant']\n",
        "bangkok_Venues_restaurant_df.index = np.arange(1, len(bangkok_Venues_restaurant_df)+1)\n",
        "list_rest_no =bangkok_Venues_restaurant_df['Number of Restaurant'].to_list()\n",
        "list_dist =bangkok_Venues_restaurant_df['Neighborhood'].to_list()"
      ],
      "execution_count": null,
      "outputs": []
    },
    {
      "cell_type": "markdown",
      "metadata": {
        "id": "6Ne7ViRPZnVh"
      },
      "source": [
        "## Analysis <a name=\"analysis\"></a>"
      ]
    },
    {
      "cell_type": "markdown",
      "metadata": {
        "id": "gmrzequls8SR"
      },
      "source": [
        "After finish explores data from foursquare section we will receive 7 food countries for analysis.\n",
        "Next step in analysis section Let prepare the data to be in  ready to use the format"
      ]
    },
    {
      "cell_type": "markdown",
      "metadata": {
        "id": "vZ1NSZBgpena"
      },
      "source": [
        "Use one hot encoding technique to make data in numeric format."
      ]
    },
    {
      "cell_type": "code",
      "metadata": {
        "id": "e48E3Dzgrq5p",
        "colab": {
          "base_uri": "https://localhost:8080/",
          "height": 203
        },
        "outputId": "19da5f77-a50c-4edc-ac73-51409b8cb622"
      },
      "source": [
        "# one hot encoding\n",
        "bangkok_onehot = pd.get_dummies(bangkok_Venues_only_restaurant[['Food country']], prefix=\"\", prefix_sep=\"\")\n",
        "\n",
        "# add neighborhood column back to dataframe\n",
        "bangkok_onehot['Neighborhood'] = bangkok_Venues_only_restaurant['Neighborhood'] \n",
        "\n",
        "# move neighborhood column to the first column\n",
        "fixed_columns = [bangkok_onehot.columns[-1]] + list(bangkok_onehot.columns[:-1])\n",
        "bangkok_onehot = bangkok_onehot[fixed_columns]\n",
        "\n",
        "bangkok_onehot.head()"
      ],
      "execution_count": null,
      "outputs": [
        {
          "output_type": "execute_result",
          "data": {
            "text/html": [
              "<div>\n",
              "<style scoped>\n",
              "    .dataframe tbody tr th:only-of-type {\n",
              "        vertical-align: middle;\n",
              "    }\n",
              "\n",
              "    .dataframe tbody tr th {\n",
              "        vertical-align: top;\n",
              "    }\n",
              "\n",
              "    .dataframe thead th {\n",
              "        text-align: right;\n",
              "    }\n",
              "</style>\n",
              "<table border=\"1\" class=\"dataframe\">\n",
              "  <thead>\n",
              "    <tr style=\"text-align: right;\">\n",
              "      <th></th>\n",
              "      <th>Neighborhood</th>\n",
              "      <th>American Restaurant</th>\n",
              "      <th>Chinese Restaurant</th>\n",
              "      <th>European restaurant</th>\n",
              "      <th>Indian Restaurant</th>\n",
              "      <th>Japanese Restaurant</th>\n",
              "      <th>Korean Restaurant</th>\n",
              "      <th>Vietnamese Restaurant</th>\n",
              "    </tr>\n",
              "  </thead>\n",
              "  <tbody>\n",
              "    <tr>\n",
              "      <th>2</th>\n",
              "      <td>Phra Nakhon</td>\n",
              "      <td>0</td>\n",
              "      <td>0</td>\n",
              "      <td>0</td>\n",
              "      <td>0</td>\n",
              "      <td>1</td>\n",
              "      <td>0</td>\n",
              "      <td>0</td>\n",
              "    </tr>\n",
              "    <tr>\n",
              "      <th>3</th>\n",
              "      <td>Phra Nakhon</td>\n",
              "      <td>0</td>\n",
              "      <td>1</td>\n",
              "      <td>0</td>\n",
              "      <td>0</td>\n",
              "      <td>0</td>\n",
              "      <td>0</td>\n",
              "      <td>0</td>\n",
              "    </tr>\n",
              "    <tr>\n",
              "      <th>6</th>\n",
              "      <td>Phra Nakhon</td>\n",
              "      <td>0</td>\n",
              "      <td>0</td>\n",
              "      <td>0</td>\n",
              "      <td>1</td>\n",
              "      <td>0</td>\n",
              "      <td>0</td>\n",
              "      <td>0</td>\n",
              "    </tr>\n",
              "    <tr>\n",
              "      <th>7</th>\n",
              "      <td>Phra Nakhon</td>\n",
              "      <td>0</td>\n",
              "      <td>1</td>\n",
              "      <td>0</td>\n",
              "      <td>0</td>\n",
              "      <td>0</td>\n",
              "      <td>0</td>\n",
              "      <td>0</td>\n",
              "    </tr>\n",
              "    <tr>\n",
              "      <th>15</th>\n",
              "      <td>Bang Rak</td>\n",
              "      <td>0</td>\n",
              "      <td>1</td>\n",
              "      <td>0</td>\n",
              "      <td>0</td>\n",
              "      <td>0</td>\n",
              "      <td>0</td>\n",
              "      <td>0</td>\n",
              "    </tr>\n",
              "  </tbody>\n",
              "</table>\n",
              "</div>"
            ],
            "text/plain": [
              "   Neighborhood  American Restaurant  ...  Korean Restaurant  Vietnamese Restaurant\n",
              "2   Phra Nakhon                    0  ...                  0                      0\n",
              "3   Phra Nakhon                    0  ...                  0                      0\n",
              "6   Phra Nakhon                    0  ...                  0                      0\n",
              "7   Phra Nakhon                    0  ...                  0                      0\n",
              "15     Bang Rak                    0  ...                  0                      0\n",
              "\n",
              "[5 rows x 8 columns]"
            ]
          },
          "metadata": {
            "tags": []
          },
          "execution_count": 48
        }
      ]
    },
    {
      "cell_type": "code",
      "metadata": {
        "id": "xMI2GPWcr9eT",
        "colab": {
          "base_uri": "https://localhost:8080/"
        },
        "outputId": "c17166b0-d772-437e-fb5c-462ad8d6c30c"
      },
      "source": [
        "bangkok_onehot.shape"
      ],
      "execution_count": null,
      "outputs": [
        {
          "output_type": "execute_result",
          "data": {
            "text/plain": [
              "(160, 8)"
            ]
          },
          "metadata": {
            "tags": []
          },
          "execution_count": 49
        }
      ]
    },
    {
      "cell_type": "markdown",
      "metadata": {
        "id": "08_KgOygwu12"
      },
      "source": [
        "Groupby the type of restaurant"
      ]
    },
    {
      "cell_type": "code",
      "metadata": {
        "id": "R258MwbhsF3p",
        "colab": {
          "base_uri": "https://localhost:8080/",
          "height": 1000
        },
        "outputId": "b9493235-7585-40b9-ab1e-b69eb068d38c"
      },
      "source": [
        "bangkok_grouped = bangkok_onehot.groupby('Neighborhood').mean().reset_index()\n",
        "bangkok_grouped"
      ],
      "execution_count": null,
      "outputs": [
        {
          "output_type": "execute_result",
          "data": {
            "text/html": [
              "<div>\n",
              "<style scoped>\n",
              "    .dataframe tbody tr th:only-of-type {\n",
              "        vertical-align: middle;\n",
              "    }\n",
              "\n",
              "    .dataframe tbody tr th {\n",
              "        vertical-align: top;\n",
              "    }\n",
              "\n",
              "    .dataframe thead th {\n",
              "        text-align: right;\n",
              "    }\n",
              "</style>\n",
              "<table border=\"1\" class=\"dataframe\">\n",
              "  <thead>\n",
              "    <tr style=\"text-align: right;\">\n",
              "      <th></th>\n",
              "      <th>Neighborhood</th>\n",
              "      <th>American Restaurant</th>\n",
              "      <th>Chinese Restaurant</th>\n",
              "      <th>European restaurant</th>\n",
              "      <th>Indian Restaurant</th>\n",
              "      <th>Japanese Restaurant</th>\n",
              "      <th>Korean Restaurant</th>\n",
              "      <th>Vietnamese Restaurant</th>\n",
              "    </tr>\n",
              "  </thead>\n",
              "  <tbody>\n",
              "    <tr>\n",
              "      <th>0</th>\n",
              "      <td>Bang Bon</td>\n",
              "      <td>0.000000</td>\n",
              "      <td>0.000000</td>\n",
              "      <td>0.000000</td>\n",
              "      <td>0.0000</td>\n",
              "      <td>1.000000</td>\n",
              "      <td>0.000000</td>\n",
              "      <td>0.000000</td>\n",
              "    </tr>\n",
              "    <tr>\n",
              "      <th>1</th>\n",
              "      <td>Bang Kapi</td>\n",
              "      <td>0.000000</td>\n",
              "      <td>0.000000</td>\n",
              "      <td>0.000000</td>\n",
              "      <td>0.0000</td>\n",
              "      <td>0.666667</td>\n",
              "      <td>0.333333</td>\n",
              "      <td>0.000000</td>\n",
              "    </tr>\n",
              "    <tr>\n",
              "      <th>2</th>\n",
              "      <td>Bang Khae</td>\n",
              "      <td>0.500000</td>\n",
              "      <td>0.000000</td>\n",
              "      <td>0.000000</td>\n",
              "      <td>0.0000</td>\n",
              "      <td>0.500000</td>\n",
              "      <td>0.000000</td>\n",
              "      <td>0.000000</td>\n",
              "    </tr>\n",
              "    <tr>\n",
              "      <th>3</th>\n",
              "      <td>Bang Khen</td>\n",
              "      <td>0.000000</td>\n",
              "      <td>0.000000</td>\n",
              "      <td>0.000000</td>\n",
              "      <td>0.0000</td>\n",
              "      <td>0.000000</td>\n",
              "      <td>0.000000</td>\n",
              "      <td>1.000000</td>\n",
              "    </tr>\n",
              "    <tr>\n",
              "      <th>4</th>\n",
              "      <td>Bang Kho Laem</td>\n",
              "      <td>0.250000</td>\n",
              "      <td>0.500000</td>\n",
              "      <td>0.000000</td>\n",
              "      <td>0.0000</td>\n",
              "      <td>0.000000</td>\n",
              "      <td>0.000000</td>\n",
              "      <td>0.250000</td>\n",
              "    </tr>\n",
              "    <tr>\n",
              "      <th>5</th>\n",
              "      <td>Bang Khun Thian</td>\n",
              "      <td>0.166667</td>\n",
              "      <td>0.166667</td>\n",
              "      <td>0.000000</td>\n",
              "      <td>0.0000</td>\n",
              "      <td>0.666667</td>\n",
              "      <td>0.000000</td>\n",
              "      <td>0.000000</td>\n",
              "    </tr>\n",
              "    <tr>\n",
              "      <th>6</th>\n",
              "      <td>Bang Phlat</td>\n",
              "      <td>1.000000</td>\n",
              "      <td>0.000000</td>\n",
              "      <td>0.000000</td>\n",
              "      <td>0.0000</td>\n",
              "      <td>0.000000</td>\n",
              "      <td>0.000000</td>\n",
              "      <td>0.000000</td>\n",
              "    </tr>\n",
              "    <tr>\n",
              "      <th>7</th>\n",
              "      <td>Bang Rak</td>\n",
              "      <td>0.000000</td>\n",
              "      <td>1.000000</td>\n",
              "      <td>0.000000</td>\n",
              "      <td>0.0000</td>\n",
              "      <td>0.000000</td>\n",
              "      <td>0.000000</td>\n",
              "      <td>0.000000</td>\n",
              "    </tr>\n",
              "    <tr>\n",
              "      <th>8</th>\n",
              "      <td>Bangkok Noi</td>\n",
              "      <td>0.000000</td>\n",
              "      <td>1.000000</td>\n",
              "      <td>0.000000</td>\n",
              "      <td>0.0000</td>\n",
              "      <td>0.000000</td>\n",
              "      <td>0.000000</td>\n",
              "      <td>0.000000</td>\n",
              "    </tr>\n",
              "    <tr>\n",
              "      <th>9</th>\n",
              "      <td>Bangkok Yai</td>\n",
              "      <td>0.000000</td>\n",
              "      <td>1.000000</td>\n",
              "      <td>0.000000</td>\n",
              "      <td>0.0000</td>\n",
              "      <td>0.000000</td>\n",
              "      <td>0.000000</td>\n",
              "      <td>0.000000</td>\n",
              "    </tr>\n",
              "    <tr>\n",
              "      <th>10</th>\n",
              "      <td>Bueng Kum</td>\n",
              "      <td>1.000000</td>\n",
              "      <td>0.000000</td>\n",
              "      <td>0.000000</td>\n",
              "      <td>0.0000</td>\n",
              "      <td>0.000000</td>\n",
              "      <td>0.000000</td>\n",
              "      <td>0.000000</td>\n",
              "    </tr>\n",
              "    <tr>\n",
              "      <th>11</th>\n",
              "      <td>Chatuchak</td>\n",
              "      <td>1.000000</td>\n",
              "      <td>0.000000</td>\n",
              "      <td>0.000000</td>\n",
              "      <td>0.0000</td>\n",
              "      <td>0.000000</td>\n",
              "      <td>0.000000</td>\n",
              "      <td>0.000000</td>\n",
              "    </tr>\n",
              "    <tr>\n",
              "      <th>12</th>\n",
              "      <td>Huai Khwang</td>\n",
              "      <td>0.000000</td>\n",
              "      <td>0.500000</td>\n",
              "      <td>0.000000</td>\n",
              "      <td>0.0000</td>\n",
              "      <td>0.500000</td>\n",
              "      <td>0.000000</td>\n",
              "      <td>0.000000</td>\n",
              "    </tr>\n",
              "    <tr>\n",
              "      <th>13</th>\n",
              "      <td>Khan Na Yao</td>\n",
              "      <td>0.125000</td>\n",
              "      <td>0.000000</td>\n",
              "      <td>0.000000</td>\n",
              "      <td>0.0000</td>\n",
              "      <td>0.875000</td>\n",
              "      <td>0.000000</td>\n",
              "      <td>0.000000</td>\n",
              "    </tr>\n",
              "    <tr>\n",
              "      <th>14</th>\n",
              "      <td>Khlong Sam Wa</td>\n",
              "      <td>0.000000</td>\n",
              "      <td>0.666667</td>\n",
              "      <td>0.000000</td>\n",
              "      <td>0.0000</td>\n",
              "      <td>0.333333</td>\n",
              "      <td>0.000000</td>\n",
              "      <td>0.000000</td>\n",
              "    </tr>\n",
              "    <tr>\n",
              "      <th>15</th>\n",
              "      <td>Khlong San</td>\n",
              "      <td>0.000000</td>\n",
              "      <td>0.400000</td>\n",
              "      <td>0.200000</td>\n",
              "      <td>0.0000</td>\n",
              "      <td>0.400000</td>\n",
              "      <td>0.000000</td>\n",
              "      <td>0.000000</td>\n",
              "    </tr>\n",
              "    <tr>\n",
              "      <th>16</th>\n",
              "      <td>Khlong Toei</td>\n",
              "      <td>1.000000</td>\n",
              "      <td>0.000000</td>\n",
              "      <td>0.000000</td>\n",
              "      <td>0.0000</td>\n",
              "      <td>0.000000</td>\n",
              "      <td>0.000000</td>\n",
              "      <td>0.000000</td>\n",
              "    </tr>\n",
              "    <tr>\n",
              "      <th>17</th>\n",
              "      <td>Lak Si</td>\n",
              "      <td>0.333333</td>\n",
              "      <td>0.000000</td>\n",
              "      <td>0.000000</td>\n",
              "      <td>0.0000</td>\n",
              "      <td>0.666667</td>\n",
              "      <td>0.000000</td>\n",
              "      <td>0.000000</td>\n",
              "    </tr>\n",
              "    <tr>\n",
              "      <th>18</th>\n",
              "      <td>Lat Phrao</td>\n",
              "      <td>0.000000</td>\n",
              "      <td>0.500000</td>\n",
              "      <td>0.000000</td>\n",
              "      <td>0.0000</td>\n",
              "      <td>0.500000</td>\n",
              "      <td>0.000000</td>\n",
              "      <td>0.000000</td>\n",
              "    </tr>\n",
              "    <tr>\n",
              "      <th>19</th>\n",
              "      <td>Pathum Wan</td>\n",
              "      <td>0.000000</td>\n",
              "      <td>0.500000</td>\n",
              "      <td>0.000000</td>\n",
              "      <td>0.0625</td>\n",
              "      <td>0.375000</td>\n",
              "      <td>0.062500</td>\n",
              "      <td>0.000000</td>\n",
              "    </tr>\n",
              "    <tr>\n",
              "      <th>20</th>\n",
              "      <td>Phasi Charoen</td>\n",
              "      <td>0.222222</td>\n",
              "      <td>0.000000</td>\n",
              "      <td>0.000000</td>\n",
              "      <td>0.0000</td>\n",
              "      <td>0.777778</td>\n",
              "      <td>0.000000</td>\n",
              "      <td>0.000000</td>\n",
              "    </tr>\n",
              "    <tr>\n",
              "      <th>21</th>\n",
              "      <td>Phaya Thai</td>\n",
              "      <td>0.052632</td>\n",
              "      <td>0.157895</td>\n",
              "      <td>0.105263</td>\n",
              "      <td>0.0000</td>\n",
              "      <td>0.578947</td>\n",
              "      <td>0.052632</td>\n",
              "      <td>0.052632</td>\n",
              "    </tr>\n",
              "    <tr>\n",
              "      <th>22</th>\n",
              "      <td>Phra Khanong</td>\n",
              "      <td>0.600000</td>\n",
              "      <td>0.000000</td>\n",
              "      <td>0.400000</td>\n",
              "      <td>0.0000</td>\n",
              "      <td>0.000000</td>\n",
              "      <td>0.000000</td>\n",
              "      <td>0.000000</td>\n",
              "    </tr>\n",
              "    <tr>\n",
              "      <th>23</th>\n",
              "      <td>Phra Nakhon</td>\n",
              "      <td>0.000000</td>\n",
              "      <td>0.500000</td>\n",
              "      <td>0.000000</td>\n",
              "      <td>0.2500</td>\n",
              "      <td>0.250000</td>\n",
              "      <td>0.000000</td>\n",
              "      <td>0.000000</td>\n",
              "    </tr>\n",
              "    <tr>\n",
              "      <th>24</th>\n",
              "      <td>Pom Prap Sattru Phai</td>\n",
              "      <td>0.125000</td>\n",
              "      <td>0.625000</td>\n",
              "      <td>0.125000</td>\n",
              "      <td>0.0000</td>\n",
              "      <td>0.125000</td>\n",
              "      <td>0.000000</td>\n",
              "      <td>0.000000</td>\n",
              "    </tr>\n",
              "    <tr>\n",
              "      <th>25</th>\n",
              "      <td>Prawet</td>\n",
              "      <td>0.000000</td>\n",
              "      <td>0.000000</td>\n",
              "      <td>0.000000</td>\n",
              "      <td>0.0000</td>\n",
              "      <td>1.000000</td>\n",
              "      <td>0.000000</td>\n",
              "      <td>0.000000</td>\n",
              "    </tr>\n",
              "    <tr>\n",
              "      <th>26</th>\n",
              "      <td>Rat Burana</td>\n",
              "      <td>0.000000</td>\n",
              "      <td>0.500000</td>\n",
              "      <td>0.000000</td>\n",
              "      <td>0.0000</td>\n",
              "      <td>0.000000</td>\n",
              "      <td>0.000000</td>\n",
              "      <td>0.500000</td>\n",
              "    </tr>\n",
              "    <tr>\n",
              "      <th>27</th>\n",
              "      <td>Ratchathewi</td>\n",
              "      <td>0.166667</td>\n",
              "      <td>0.166667</td>\n",
              "      <td>0.333333</td>\n",
              "      <td>0.0000</td>\n",
              "      <td>0.000000</td>\n",
              "      <td>0.166667</td>\n",
              "      <td>0.166667</td>\n",
              "    </tr>\n",
              "    <tr>\n",
              "      <th>28</th>\n",
              "      <td>Samphanthawong</td>\n",
              "      <td>0.000000</td>\n",
              "      <td>0.600000</td>\n",
              "      <td>0.200000</td>\n",
              "      <td>0.0000</td>\n",
              "      <td>0.200000</td>\n",
              "      <td>0.000000</td>\n",
              "      <td>0.000000</td>\n",
              "    </tr>\n",
              "    <tr>\n",
              "      <th>29</th>\n",
              "      <td>Saphan Sung</td>\n",
              "      <td>0.000000</td>\n",
              "      <td>0.000000</td>\n",
              "      <td>0.000000</td>\n",
              "      <td>0.0000</td>\n",
              "      <td>1.000000</td>\n",
              "      <td>0.000000</td>\n",
              "      <td>0.000000</td>\n",
              "    </tr>\n",
              "    <tr>\n",
              "      <th>30</th>\n",
              "      <td>Sathon</td>\n",
              "      <td>0.000000</td>\n",
              "      <td>0.857143</td>\n",
              "      <td>0.000000</td>\n",
              "      <td>0.0000</td>\n",
              "      <td>0.142857</td>\n",
              "      <td>0.000000</td>\n",
              "      <td>0.000000</td>\n",
              "    </tr>\n",
              "    <tr>\n",
              "      <th>31</th>\n",
              "      <td>Suan Luang</td>\n",
              "      <td>0.000000</td>\n",
              "      <td>0.600000</td>\n",
              "      <td>0.400000</td>\n",
              "      <td>0.0000</td>\n",
              "      <td>0.000000</td>\n",
              "      <td>0.000000</td>\n",
              "      <td>0.000000</td>\n",
              "    </tr>\n",
              "    <tr>\n",
              "      <th>32</th>\n",
              "      <td>Thawi Watthana</td>\n",
              "      <td>0.000000</td>\n",
              "      <td>1.000000</td>\n",
              "      <td>0.000000</td>\n",
              "      <td>0.0000</td>\n",
              "      <td>0.000000</td>\n",
              "      <td>0.000000</td>\n",
              "      <td>0.000000</td>\n",
              "    </tr>\n",
              "    <tr>\n",
              "      <th>33</th>\n",
              "      <td>Thung Khru</td>\n",
              "      <td>0.000000</td>\n",
              "      <td>0.000000</td>\n",
              "      <td>0.000000</td>\n",
              "      <td>0.0000</td>\n",
              "      <td>1.000000</td>\n",
              "      <td>0.000000</td>\n",
              "      <td>0.000000</td>\n",
              "    </tr>\n",
              "    <tr>\n",
              "      <th>34</th>\n",
              "      <td>Wang Thonglang</td>\n",
              "      <td>0.333333</td>\n",
              "      <td>0.000000</td>\n",
              "      <td>0.000000</td>\n",
              "      <td>0.0000</td>\n",
              "      <td>0.333333</td>\n",
              "      <td>0.000000</td>\n",
              "      <td>0.333333</td>\n",
              "    </tr>\n",
              "    <tr>\n",
              "      <th>35</th>\n",
              "      <td>Watthana</td>\n",
              "      <td>0.000000</td>\n",
              "      <td>0.222222</td>\n",
              "      <td>0.333333</td>\n",
              "      <td>0.0000</td>\n",
              "      <td>0.444444</td>\n",
              "      <td>0.000000</td>\n",
              "      <td>0.000000</td>\n",
              "    </tr>\n",
              "    <tr>\n",
              "      <th>36</th>\n",
              "      <td>Yan Nawa</td>\n",
              "      <td>0.285714</td>\n",
              "      <td>0.285714</td>\n",
              "      <td>0.000000</td>\n",
              "      <td>0.0000</td>\n",
              "      <td>0.285714</td>\n",
              "      <td>0.142857</td>\n",
              "      <td>0.000000</td>\n",
              "    </tr>\n",
              "  </tbody>\n",
              "</table>\n",
              "</div>"
            ],
            "text/plain": [
              "            Neighborhood  ...  Vietnamese Restaurant\n",
              "0               Bang Bon  ...               0.000000\n",
              "1              Bang Kapi  ...               0.000000\n",
              "2              Bang Khae  ...               0.000000\n",
              "3              Bang Khen  ...               1.000000\n",
              "4          Bang Kho Laem  ...               0.250000\n",
              "5        Bang Khun Thian  ...               0.000000\n",
              "6             Bang Phlat  ...               0.000000\n",
              "7               Bang Rak  ...               0.000000\n",
              "8            Bangkok Noi  ...               0.000000\n",
              "9            Bangkok Yai  ...               0.000000\n",
              "10             Bueng Kum  ...               0.000000\n",
              "11             Chatuchak  ...               0.000000\n",
              "12           Huai Khwang  ...               0.000000\n",
              "13           Khan Na Yao  ...               0.000000\n",
              "14         Khlong Sam Wa  ...               0.000000\n",
              "15            Khlong San  ...               0.000000\n",
              "16           Khlong Toei  ...               0.000000\n",
              "17                Lak Si  ...               0.000000\n",
              "18             Lat Phrao  ...               0.000000\n",
              "19            Pathum Wan  ...               0.000000\n",
              "20         Phasi Charoen  ...               0.000000\n",
              "21            Phaya Thai  ...               0.052632\n",
              "22          Phra Khanong  ...               0.000000\n",
              "23           Phra Nakhon  ...               0.000000\n",
              "24  Pom Prap Sattru Phai  ...               0.000000\n",
              "25                Prawet  ...               0.000000\n",
              "26            Rat Burana  ...               0.500000\n",
              "27           Ratchathewi  ...               0.166667\n",
              "28        Samphanthawong  ...               0.000000\n",
              "29           Saphan Sung  ...               0.000000\n",
              "30                Sathon  ...               0.000000\n",
              "31            Suan Luang  ...               0.000000\n",
              "32        Thawi Watthana  ...               0.000000\n",
              "33            Thung Khru  ...               0.000000\n",
              "34        Wang Thonglang  ...               0.333333\n",
              "35              Watthana  ...               0.000000\n",
              "36              Yan Nawa  ...               0.000000\n",
              "\n",
              "[37 rows x 8 columns]"
            ]
          },
          "metadata": {
            "tags": []
          },
          "execution_count": 50
        }
      ]
    },
    {
      "cell_type": "code",
      "metadata": {
        "id": "_zGzyThwsO_T",
        "colab": {
          "base_uri": "https://localhost:8080/"
        },
        "outputId": "1501e42b-d7dd-40a8-f3d9-63515c225550"
      },
      "source": [
        "bangkok_grouped.shape"
      ],
      "execution_count": null,
      "outputs": [
        {
          "output_type": "execute_result",
          "data": {
            "text/plain": [
              "(37, 8)"
            ]
          },
          "metadata": {
            "tags": []
          },
          "execution_count": 51
        }
      ]
    },
    {
      "cell_type": "markdown",
      "metadata": {
        "id": "xyleXUTfzzc7"
      },
      "source": [
        "Show the top 7 food country in each distict"
      ]
    },
    {
      "cell_type": "code",
      "metadata": {
        "id": "UxMZvrx_sWvm",
        "colab": {
          "base_uri": "https://localhost:8080/"
        },
        "outputId": "d3905ae4-4319-4251-9862-ae150e1a1144"
      },
      "source": [
        "num_top_venues = 7\n",
        "\n",
        "for hood in bangkok_grouped['Neighborhood']:\n",
        "    print(\"----\"+hood+\"----\")\n",
        "    temp = bangkok_grouped[bangkok_grouped['Neighborhood'] == hood].T.reset_index()\n",
        "    temp.columns = ['venue','freq']\n",
        "    temp = temp.iloc[1:]\n",
        "    temp['freq'] = temp['freq'].astype(float)\n",
        "    temp = temp.round({'freq': 2})\n",
        "    print(temp.sort_values('freq', ascending=False).reset_index(drop=True).head(num_top_venues))\n",
        "    print('\\n')"
      ],
      "execution_count": null,
      "outputs": [
        {
          "output_type": "stream",
          "text": [
            "----Bang Bon----\n",
            "                   venue  freq\n",
            "0    Japanese Restaurant   1.0\n",
            "1    American Restaurant   0.0\n",
            "2     Chinese Restaurant   0.0\n",
            "3    European restaurant   0.0\n",
            "4      Indian Restaurant   0.0\n",
            "5      Korean Restaurant   0.0\n",
            "6  Vietnamese Restaurant   0.0\n",
            "\n",
            "\n",
            "----Bang Kapi----\n",
            "                   venue  freq\n",
            "0    Japanese Restaurant  0.67\n",
            "1      Korean Restaurant  0.33\n",
            "2    American Restaurant  0.00\n",
            "3     Chinese Restaurant  0.00\n",
            "4    European restaurant  0.00\n",
            "5      Indian Restaurant  0.00\n",
            "6  Vietnamese Restaurant  0.00\n",
            "\n",
            "\n",
            "----Bang Khae----\n",
            "                   venue  freq\n",
            "0    American Restaurant   0.5\n",
            "1    Japanese Restaurant   0.5\n",
            "2     Chinese Restaurant   0.0\n",
            "3    European restaurant   0.0\n",
            "4      Indian Restaurant   0.0\n",
            "5      Korean Restaurant   0.0\n",
            "6  Vietnamese Restaurant   0.0\n",
            "\n",
            "\n",
            "----Bang Khen----\n",
            "                   venue  freq\n",
            "0  Vietnamese Restaurant   1.0\n",
            "1    American Restaurant   0.0\n",
            "2     Chinese Restaurant   0.0\n",
            "3    European restaurant   0.0\n",
            "4      Indian Restaurant   0.0\n",
            "5    Japanese Restaurant   0.0\n",
            "6      Korean Restaurant   0.0\n",
            "\n",
            "\n",
            "----Bang Kho Laem----\n",
            "                   venue  freq\n",
            "0     Chinese Restaurant  0.50\n",
            "1    American Restaurant  0.25\n",
            "2  Vietnamese Restaurant  0.25\n",
            "3    European restaurant  0.00\n",
            "4      Indian Restaurant  0.00\n",
            "5    Japanese Restaurant  0.00\n",
            "6      Korean Restaurant  0.00\n",
            "\n",
            "\n",
            "----Bang Khun Thian----\n",
            "                   venue  freq\n",
            "0    Japanese Restaurant  0.67\n",
            "1    American Restaurant  0.17\n",
            "2     Chinese Restaurant  0.17\n",
            "3    European restaurant  0.00\n",
            "4      Indian Restaurant  0.00\n",
            "5      Korean Restaurant  0.00\n",
            "6  Vietnamese Restaurant  0.00\n",
            "\n",
            "\n",
            "----Bang Phlat----\n",
            "                   venue  freq\n",
            "0    American Restaurant   1.0\n",
            "1     Chinese Restaurant   0.0\n",
            "2    European restaurant   0.0\n",
            "3      Indian Restaurant   0.0\n",
            "4    Japanese Restaurant   0.0\n",
            "5      Korean Restaurant   0.0\n",
            "6  Vietnamese Restaurant   0.0\n",
            "\n",
            "\n",
            "----Bang Rak----\n",
            "                   venue  freq\n",
            "0     Chinese Restaurant   1.0\n",
            "1    American Restaurant   0.0\n",
            "2    European restaurant   0.0\n",
            "3      Indian Restaurant   0.0\n",
            "4    Japanese Restaurant   0.0\n",
            "5      Korean Restaurant   0.0\n",
            "6  Vietnamese Restaurant   0.0\n",
            "\n",
            "\n",
            "----Bangkok Noi----\n",
            "                   venue  freq\n",
            "0     Chinese Restaurant   1.0\n",
            "1    American Restaurant   0.0\n",
            "2    European restaurant   0.0\n",
            "3      Indian Restaurant   0.0\n",
            "4    Japanese Restaurant   0.0\n",
            "5      Korean Restaurant   0.0\n",
            "6  Vietnamese Restaurant   0.0\n",
            "\n",
            "\n",
            "----Bangkok Yai----\n",
            "                   venue  freq\n",
            "0     Chinese Restaurant   1.0\n",
            "1    American Restaurant   0.0\n",
            "2    European restaurant   0.0\n",
            "3      Indian Restaurant   0.0\n",
            "4    Japanese Restaurant   0.0\n",
            "5      Korean Restaurant   0.0\n",
            "6  Vietnamese Restaurant   0.0\n",
            "\n",
            "\n",
            "----Bueng Kum----\n",
            "                   venue  freq\n",
            "0    American Restaurant   1.0\n",
            "1     Chinese Restaurant   0.0\n",
            "2    European restaurant   0.0\n",
            "3      Indian Restaurant   0.0\n",
            "4    Japanese Restaurant   0.0\n",
            "5      Korean Restaurant   0.0\n",
            "6  Vietnamese Restaurant   0.0\n",
            "\n",
            "\n",
            "----Chatuchak----\n",
            "                   venue  freq\n",
            "0    American Restaurant   1.0\n",
            "1     Chinese Restaurant   0.0\n",
            "2    European restaurant   0.0\n",
            "3      Indian Restaurant   0.0\n",
            "4    Japanese Restaurant   0.0\n",
            "5      Korean Restaurant   0.0\n",
            "6  Vietnamese Restaurant   0.0\n",
            "\n",
            "\n",
            "----Huai Khwang----\n",
            "                   venue  freq\n",
            "0     Chinese Restaurant   0.5\n",
            "1    Japanese Restaurant   0.5\n",
            "2    American Restaurant   0.0\n",
            "3    European restaurant   0.0\n",
            "4      Indian Restaurant   0.0\n",
            "5      Korean Restaurant   0.0\n",
            "6  Vietnamese Restaurant   0.0\n",
            "\n",
            "\n",
            "----Khan Na Yao----\n",
            "                   venue  freq\n",
            "0    Japanese Restaurant  0.88\n",
            "1    American Restaurant  0.12\n",
            "2     Chinese Restaurant  0.00\n",
            "3    European restaurant  0.00\n",
            "4      Indian Restaurant  0.00\n",
            "5      Korean Restaurant  0.00\n",
            "6  Vietnamese Restaurant  0.00\n",
            "\n",
            "\n",
            "----Khlong Sam Wa----\n",
            "                   venue  freq\n",
            "0     Chinese Restaurant  0.67\n",
            "1    Japanese Restaurant  0.33\n",
            "2    American Restaurant  0.00\n",
            "3    European restaurant  0.00\n",
            "4      Indian Restaurant  0.00\n",
            "5      Korean Restaurant  0.00\n",
            "6  Vietnamese Restaurant  0.00\n",
            "\n",
            "\n",
            "----Khlong San----\n",
            "                   venue  freq\n",
            "0     Chinese Restaurant   0.4\n",
            "1    Japanese Restaurant   0.4\n",
            "2    European restaurant   0.2\n",
            "3    American Restaurant   0.0\n",
            "4      Indian Restaurant   0.0\n",
            "5      Korean Restaurant   0.0\n",
            "6  Vietnamese Restaurant   0.0\n",
            "\n",
            "\n",
            "----Khlong Toei----\n",
            "                   venue  freq\n",
            "0    American Restaurant   1.0\n",
            "1     Chinese Restaurant   0.0\n",
            "2    European restaurant   0.0\n",
            "3      Indian Restaurant   0.0\n",
            "4    Japanese Restaurant   0.0\n",
            "5      Korean Restaurant   0.0\n",
            "6  Vietnamese Restaurant   0.0\n",
            "\n",
            "\n",
            "----Lak Si----\n",
            "                   venue  freq\n",
            "0    Japanese Restaurant  0.67\n",
            "1    American Restaurant  0.33\n",
            "2     Chinese Restaurant  0.00\n",
            "3    European restaurant  0.00\n",
            "4      Indian Restaurant  0.00\n",
            "5      Korean Restaurant  0.00\n",
            "6  Vietnamese Restaurant  0.00\n",
            "\n",
            "\n",
            "----Lat Phrao----\n",
            "                   venue  freq\n",
            "0     Chinese Restaurant   0.5\n",
            "1    Japanese Restaurant   0.5\n",
            "2    American Restaurant   0.0\n",
            "3    European restaurant   0.0\n",
            "4      Indian Restaurant   0.0\n",
            "5      Korean Restaurant   0.0\n",
            "6  Vietnamese Restaurant   0.0\n",
            "\n",
            "\n",
            "----Pathum Wan----\n",
            "                   venue  freq\n",
            "0     Chinese Restaurant  0.50\n",
            "1    Japanese Restaurant  0.38\n",
            "2      Indian Restaurant  0.06\n",
            "3      Korean Restaurant  0.06\n",
            "4    American Restaurant  0.00\n",
            "5    European restaurant  0.00\n",
            "6  Vietnamese Restaurant  0.00\n",
            "\n",
            "\n",
            "----Phasi Charoen----\n",
            "                   venue  freq\n",
            "0    Japanese Restaurant  0.78\n",
            "1    American Restaurant  0.22\n",
            "2     Chinese Restaurant  0.00\n",
            "3    European restaurant  0.00\n",
            "4      Indian Restaurant  0.00\n",
            "5      Korean Restaurant  0.00\n",
            "6  Vietnamese Restaurant  0.00\n",
            "\n",
            "\n",
            "----Phaya Thai----\n",
            "                   venue  freq\n",
            "0    Japanese Restaurant  0.58\n",
            "1     Chinese Restaurant  0.16\n",
            "2    European restaurant  0.11\n",
            "3    American Restaurant  0.05\n",
            "4      Korean Restaurant  0.05\n",
            "5  Vietnamese Restaurant  0.05\n",
            "6      Indian Restaurant  0.00\n",
            "\n",
            "\n",
            "----Phra Khanong----\n",
            "                   venue  freq\n",
            "0    American Restaurant   0.6\n",
            "1    European restaurant   0.4\n",
            "2     Chinese Restaurant   0.0\n",
            "3      Indian Restaurant   0.0\n",
            "4    Japanese Restaurant   0.0\n",
            "5      Korean Restaurant   0.0\n",
            "6  Vietnamese Restaurant   0.0\n",
            "\n",
            "\n",
            "----Phra Nakhon----\n",
            "                   venue  freq\n",
            "0     Chinese Restaurant  0.50\n",
            "1      Indian Restaurant  0.25\n",
            "2    Japanese Restaurant  0.25\n",
            "3    American Restaurant  0.00\n",
            "4    European restaurant  0.00\n",
            "5      Korean Restaurant  0.00\n",
            "6  Vietnamese Restaurant  0.00\n",
            "\n",
            "\n",
            "----Pom Prap Sattru Phai----\n",
            "                   venue  freq\n",
            "0     Chinese Restaurant  0.62\n",
            "1    American Restaurant  0.12\n",
            "2    European restaurant  0.12\n",
            "3    Japanese Restaurant  0.12\n",
            "4      Indian Restaurant  0.00\n",
            "5      Korean Restaurant  0.00\n",
            "6  Vietnamese Restaurant  0.00\n",
            "\n",
            "\n",
            "----Prawet----\n",
            "                   venue  freq\n",
            "0    Japanese Restaurant   1.0\n",
            "1    American Restaurant   0.0\n",
            "2     Chinese Restaurant   0.0\n",
            "3    European restaurant   0.0\n",
            "4      Indian Restaurant   0.0\n",
            "5      Korean Restaurant   0.0\n",
            "6  Vietnamese Restaurant   0.0\n",
            "\n",
            "\n",
            "----Rat Burana----\n",
            "                   venue  freq\n",
            "0     Chinese Restaurant   0.5\n",
            "1  Vietnamese Restaurant   0.5\n",
            "2    American Restaurant   0.0\n",
            "3    European restaurant   0.0\n",
            "4      Indian Restaurant   0.0\n",
            "5    Japanese Restaurant   0.0\n",
            "6      Korean Restaurant   0.0\n",
            "\n",
            "\n",
            "----Ratchathewi----\n",
            "                   venue  freq\n",
            "0    European restaurant  0.33\n",
            "1    American Restaurant  0.17\n",
            "2     Chinese Restaurant  0.17\n",
            "3      Korean Restaurant  0.17\n",
            "4  Vietnamese Restaurant  0.17\n",
            "5      Indian Restaurant  0.00\n",
            "6    Japanese Restaurant  0.00\n",
            "\n",
            "\n",
            "----Samphanthawong----\n",
            "                   venue  freq\n",
            "0     Chinese Restaurant   0.6\n",
            "1    European restaurant   0.2\n",
            "2    Japanese Restaurant   0.2\n",
            "3    American Restaurant   0.0\n",
            "4      Indian Restaurant   0.0\n",
            "5      Korean Restaurant   0.0\n",
            "6  Vietnamese Restaurant   0.0\n",
            "\n",
            "\n",
            "----Saphan Sung----\n",
            "                   venue  freq\n",
            "0    Japanese Restaurant   1.0\n",
            "1    American Restaurant   0.0\n",
            "2     Chinese Restaurant   0.0\n",
            "3    European restaurant   0.0\n",
            "4      Indian Restaurant   0.0\n",
            "5      Korean Restaurant   0.0\n",
            "6  Vietnamese Restaurant   0.0\n",
            "\n",
            "\n",
            "----Sathon----\n",
            "                   venue  freq\n",
            "0     Chinese Restaurant  0.86\n",
            "1    Japanese Restaurant  0.14\n",
            "2    American Restaurant  0.00\n",
            "3    European restaurant  0.00\n",
            "4      Indian Restaurant  0.00\n",
            "5      Korean Restaurant  0.00\n",
            "6  Vietnamese Restaurant  0.00\n",
            "\n",
            "\n",
            "----Suan Luang----\n",
            "                   venue  freq\n",
            "0     Chinese Restaurant   0.6\n",
            "1    European restaurant   0.4\n",
            "2    American Restaurant   0.0\n",
            "3      Indian Restaurant   0.0\n",
            "4    Japanese Restaurant   0.0\n",
            "5      Korean Restaurant   0.0\n",
            "6  Vietnamese Restaurant   0.0\n",
            "\n",
            "\n",
            "----Thawi Watthana----\n",
            "                   venue  freq\n",
            "0     Chinese Restaurant   1.0\n",
            "1    American Restaurant   0.0\n",
            "2    European restaurant   0.0\n",
            "3      Indian Restaurant   0.0\n",
            "4    Japanese Restaurant   0.0\n",
            "5      Korean Restaurant   0.0\n",
            "6  Vietnamese Restaurant   0.0\n",
            "\n",
            "\n",
            "----Thung Khru----\n",
            "                   venue  freq\n",
            "0    Japanese Restaurant   1.0\n",
            "1    American Restaurant   0.0\n",
            "2     Chinese Restaurant   0.0\n",
            "3    European restaurant   0.0\n",
            "4      Indian Restaurant   0.0\n",
            "5      Korean Restaurant   0.0\n",
            "6  Vietnamese Restaurant   0.0\n",
            "\n",
            "\n",
            "----Wang Thonglang----\n",
            "                   venue  freq\n",
            "0    American Restaurant  0.33\n",
            "1    Japanese Restaurant  0.33\n",
            "2  Vietnamese Restaurant  0.33\n",
            "3     Chinese Restaurant  0.00\n",
            "4    European restaurant  0.00\n",
            "5      Indian Restaurant  0.00\n",
            "6      Korean Restaurant  0.00\n",
            "\n",
            "\n",
            "----Watthana----\n",
            "                   venue  freq\n",
            "0    Japanese Restaurant  0.44\n",
            "1    European restaurant  0.33\n",
            "2     Chinese Restaurant  0.22\n",
            "3    American Restaurant  0.00\n",
            "4      Indian Restaurant  0.00\n",
            "5      Korean Restaurant  0.00\n",
            "6  Vietnamese Restaurant  0.00\n",
            "\n",
            "\n",
            "----Yan Nawa----\n",
            "                   venue  freq\n",
            "0    American Restaurant  0.29\n",
            "1     Chinese Restaurant  0.29\n",
            "2    Japanese Restaurant  0.29\n",
            "3      Korean Restaurant  0.14\n",
            "4    European restaurant  0.00\n",
            "5      Indian Restaurant  0.00\n",
            "6  Vietnamese Restaurant  0.00\n",
            "\n",
            "\n"
          ],
          "name": "stdout"
        }
      ]
    },
    {
      "cell_type": "code",
      "metadata": {
        "id": "sl80m0HTsjPi"
      },
      "source": [
        "def return_most_common_venues(row, num_top_venues):\n",
        "    row_categories = row.iloc[1:]\n",
        "    row_categories_sorted = row_categories.sort_values(ascending=False)\n",
        "    \n",
        "    return row_categories_sorted.index.values[0:num_top_venues]"
      ],
      "execution_count": null,
      "outputs": []
    },
    {
      "cell_type": "markdown",
      "metadata": {
        "id": "DCgF3UTw0FdK"
      },
      "source": [
        "As previous markdown. We use this data to create data frame"
      ]
    },
    {
      "cell_type": "code",
      "metadata": {
        "id": "IocAmjNJs4Xs",
        "colab": {
          "base_uri": "https://localhost:8080/",
          "height": 791
        },
        "outputId": "34ca37aa-027b-44fd-c5c3-fb6f257db4e1"
      },
      "source": [
        "num_top_venues = 7\n",
        "\n",
        "indicators = ['st', 'nd', 'rd']\n",
        "\n",
        "# create columns according to number of top venues\n",
        "columns = ['Neighborhood']\n",
        "for ind in np.arange(num_top_venues):\n",
        "    try:\n",
        "        columns.append('{}{} Most Common Venue'.format(ind+1, indicators[ind]))\n",
        "    except:\n",
        "        columns.append('{}th Most Common Venue'.format(ind+1))\n",
        "\n",
        "# create a new dataframe\n",
        "neighborhoods_venues_sorted = pd.DataFrame(columns=columns)\n",
        "neighborhoods_venues_sorted['Neighborhood'] = bangkok_grouped['Neighborhood']\n",
        "\n",
        "for ind in np.arange(bangkok_grouped.shape[0]):\n",
        "    neighborhoods_venues_sorted.iloc[ind, 1:] = return_most_common_venues(bangkok_grouped.iloc[ind, :], num_top_venues)\n",
        "\n",
        "neighborhoods_venues_sorted.head(23)"
      ],
      "execution_count": null,
      "outputs": [
        {
          "output_type": "execute_result",
          "data": {
            "text/html": [
              "<div>\n",
              "<style scoped>\n",
              "    .dataframe tbody tr th:only-of-type {\n",
              "        vertical-align: middle;\n",
              "    }\n",
              "\n",
              "    .dataframe tbody tr th {\n",
              "        vertical-align: top;\n",
              "    }\n",
              "\n",
              "    .dataframe thead th {\n",
              "        text-align: right;\n",
              "    }\n",
              "</style>\n",
              "<table border=\"1\" class=\"dataframe\">\n",
              "  <thead>\n",
              "    <tr style=\"text-align: right;\">\n",
              "      <th></th>\n",
              "      <th>Neighborhood</th>\n",
              "      <th>1st Most Common Venue</th>\n",
              "      <th>2nd Most Common Venue</th>\n",
              "      <th>3rd Most Common Venue</th>\n",
              "      <th>4th Most Common Venue</th>\n",
              "      <th>5th Most Common Venue</th>\n",
              "      <th>6th Most Common Venue</th>\n",
              "      <th>7th Most Common Venue</th>\n",
              "    </tr>\n",
              "  </thead>\n",
              "  <tbody>\n",
              "    <tr>\n",
              "      <th>0</th>\n",
              "      <td>Bang Bon</td>\n",
              "      <td>Japanese Restaurant</td>\n",
              "      <td>Vietnamese Restaurant</td>\n",
              "      <td>Korean Restaurant</td>\n",
              "      <td>Indian Restaurant</td>\n",
              "      <td>European restaurant</td>\n",
              "      <td>Chinese Restaurant</td>\n",
              "      <td>American Restaurant</td>\n",
              "    </tr>\n",
              "    <tr>\n",
              "      <th>1</th>\n",
              "      <td>Bang Kapi</td>\n",
              "      <td>Japanese Restaurant</td>\n",
              "      <td>Korean Restaurant</td>\n",
              "      <td>Vietnamese Restaurant</td>\n",
              "      <td>Indian Restaurant</td>\n",
              "      <td>European restaurant</td>\n",
              "      <td>Chinese Restaurant</td>\n",
              "      <td>American Restaurant</td>\n",
              "    </tr>\n",
              "    <tr>\n",
              "      <th>2</th>\n",
              "      <td>Bang Khae</td>\n",
              "      <td>Japanese Restaurant</td>\n",
              "      <td>American Restaurant</td>\n",
              "      <td>Vietnamese Restaurant</td>\n",
              "      <td>Korean Restaurant</td>\n",
              "      <td>Indian Restaurant</td>\n",
              "      <td>European restaurant</td>\n",
              "      <td>Chinese Restaurant</td>\n",
              "    </tr>\n",
              "    <tr>\n",
              "      <th>3</th>\n",
              "      <td>Bang Khen</td>\n",
              "      <td>Vietnamese Restaurant</td>\n",
              "      <td>Korean Restaurant</td>\n",
              "      <td>Japanese Restaurant</td>\n",
              "      <td>Indian Restaurant</td>\n",
              "      <td>European restaurant</td>\n",
              "      <td>Chinese Restaurant</td>\n",
              "      <td>American Restaurant</td>\n",
              "    </tr>\n",
              "    <tr>\n",
              "      <th>4</th>\n",
              "      <td>Bang Kho Laem</td>\n",
              "      <td>Chinese Restaurant</td>\n",
              "      <td>Vietnamese Restaurant</td>\n",
              "      <td>American Restaurant</td>\n",
              "      <td>Korean Restaurant</td>\n",
              "      <td>Japanese Restaurant</td>\n",
              "      <td>Indian Restaurant</td>\n",
              "      <td>European restaurant</td>\n",
              "    </tr>\n",
              "    <tr>\n",
              "      <th>5</th>\n",
              "      <td>Bang Khun Thian</td>\n",
              "      <td>Japanese Restaurant</td>\n",
              "      <td>Chinese Restaurant</td>\n",
              "      <td>American Restaurant</td>\n",
              "      <td>Vietnamese Restaurant</td>\n",
              "      <td>Korean Restaurant</td>\n",
              "      <td>Indian Restaurant</td>\n",
              "      <td>European restaurant</td>\n",
              "    </tr>\n",
              "    <tr>\n",
              "      <th>6</th>\n",
              "      <td>Bang Phlat</td>\n",
              "      <td>American Restaurant</td>\n",
              "      <td>Vietnamese Restaurant</td>\n",
              "      <td>Korean Restaurant</td>\n",
              "      <td>Japanese Restaurant</td>\n",
              "      <td>Indian Restaurant</td>\n",
              "      <td>European restaurant</td>\n",
              "      <td>Chinese Restaurant</td>\n",
              "    </tr>\n",
              "    <tr>\n",
              "      <th>7</th>\n",
              "      <td>Bang Rak</td>\n",
              "      <td>Chinese Restaurant</td>\n",
              "      <td>Vietnamese Restaurant</td>\n",
              "      <td>Korean Restaurant</td>\n",
              "      <td>Japanese Restaurant</td>\n",
              "      <td>Indian Restaurant</td>\n",
              "      <td>European restaurant</td>\n",
              "      <td>American Restaurant</td>\n",
              "    </tr>\n",
              "    <tr>\n",
              "      <th>8</th>\n",
              "      <td>Bangkok Noi</td>\n",
              "      <td>Chinese Restaurant</td>\n",
              "      <td>Vietnamese Restaurant</td>\n",
              "      <td>Korean Restaurant</td>\n",
              "      <td>Japanese Restaurant</td>\n",
              "      <td>Indian Restaurant</td>\n",
              "      <td>European restaurant</td>\n",
              "      <td>American Restaurant</td>\n",
              "    </tr>\n",
              "    <tr>\n",
              "      <th>9</th>\n",
              "      <td>Bangkok Yai</td>\n",
              "      <td>Chinese Restaurant</td>\n",
              "      <td>Vietnamese Restaurant</td>\n",
              "      <td>Korean Restaurant</td>\n",
              "      <td>Japanese Restaurant</td>\n",
              "      <td>Indian Restaurant</td>\n",
              "      <td>European restaurant</td>\n",
              "      <td>American Restaurant</td>\n",
              "    </tr>\n",
              "    <tr>\n",
              "      <th>10</th>\n",
              "      <td>Bueng Kum</td>\n",
              "      <td>American Restaurant</td>\n",
              "      <td>Vietnamese Restaurant</td>\n",
              "      <td>Korean Restaurant</td>\n",
              "      <td>Japanese Restaurant</td>\n",
              "      <td>Indian Restaurant</td>\n",
              "      <td>European restaurant</td>\n",
              "      <td>Chinese Restaurant</td>\n",
              "    </tr>\n",
              "    <tr>\n",
              "      <th>11</th>\n",
              "      <td>Chatuchak</td>\n",
              "      <td>American Restaurant</td>\n",
              "      <td>Vietnamese Restaurant</td>\n",
              "      <td>Korean Restaurant</td>\n",
              "      <td>Japanese Restaurant</td>\n",
              "      <td>Indian Restaurant</td>\n",
              "      <td>European restaurant</td>\n",
              "      <td>Chinese Restaurant</td>\n",
              "    </tr>\n",
              "    <tr>\n",
              "      <th>12</th>\n",
              "      <td>Huai Khwang</td>\n",
              "      <td>Japanese Restaurant</td>\n",
              "      <td>Chinese Restaurant</td>\n",
              "      <td>Vietnamese Restaurant</td>\n",
              "      <td>Korean Restaurant</td>\n",
              "      <td>Indian Restaurant</td>\n",
              "      <td>European restaurant</td>\n",
              "      <td>American Restaurant</td>\n",
              "    </tr>\n",
              "    <tr>\n",
              "      <th>13</th>\n",
              "      <td>Khan Na Yao</td>\n",
              "      <td>Japanese Restaurant</td>\n",
              "      <td>American Restaurant</td>\n",
              "      <td>Vietnamese Restaurant</td>\n",
              "      <td>Korean Restaurant</td>\n",
              "      <td>Indian Restaurant</td>\n",
              "      <td>European restaurant</td>\n",
              "      <td>Chinese Restaurant</td>\n",
              "    </tr>\n",
              "    <tr>\n",
              "      <th>14</th>\n",
              "      <td>Khlong Sam Wa</td>\n",
              "      <td>Chinese Restaurant</td>\n",
              "      <td>Japanese Restaurant</td>\n",
              "      <td>Vietnamese Restaurant</td>\n",
              "      <td>Korean Restaurant</td>\n",
              "      <td>Indian Restaurant</td>\n",
              "      <td>European restaurant</td>\n",
              "      <td>American Restaurant</td>\n",
              "    </tr>\n",
              "    <tr>\n",
              "      <th>15</th>\n",
              "      <td>Khlong San</td>\n",
              "      <td>Japanese Restaurant</td>\n",
              "      <td>Chinese Restaurant</td>\n",
              "      <td>European restaurant</td>\n",
              "      <td>Vietnamese Restaurant</td>\n",
              "      <td>Korean Restaurant</td>\n",
              "      <td>Indian Restaurant</td>\n",
              "      <td>American Restaurant</td>\n",
              "    </tr>\n",
              "    <tr>\n",
              "      <th>16</th>\n",
              "      <td>Khlong Toei</td>\n",
              "      <td>American Restaurant</td>\n",
              "      <td>Vietnamese Restaurant</td>\n",
              "      <td>Korean Restaurant</td>\n",
              "      <td>Japanese Restaurant</td>\n",
              "      <td>Indian Restaurant</td>\n",
              "      <td>European restaurant</td>\n",
              "      <td>Chinese Restaurant</td>\n",
              "    </tr>\n",
              "    <tr>\n",
              "      <th>17</th>\n",
              "      <td>Lak Si</td>\n",
              "      <td>Japanese Restaurant</td>\n",
              "      <td>American Restaurant</td>\n",
              "      <td>Vietnamese Restaurant</td>\n",
              "      <td>Korean Restaurant</td>\n",
              "      <td>Indian Restaurant</td>\n",
              "      <td>European restaurant</td>\n",
              "      <td>Chinese Restaurant</td>\n",
              "    </tr>\n",
              "    <tr>\n",
              "      <th>18</th>\n",
              "      <td>Lat Phrao</td>\n",
              "      <td>Japanese Restaurant</td>\n",
              "      <td>Chinese Restaurant</td>\n",
              "      <td>Vietnamese Restaurant</td>\n",
              "      <td>Korean Restaurant</td>\n",
              "      <td>Indian Restaurant</td>\n",
              "      <td>European restaurant</td>\n",
              "      <td>American Restaurant</td>\n",
              "    </tr>\n",
              "    <tr>\n",
              "      <th>19</th>\n",
              "      <td>Pathum Wan</td>\n",
              "      <td>Chinese Restaurant</td>\n",
              "      <td>Japanese Restaurant</td>\n",
              "      <td>Korean Restaurant</td>\n",
              "      <td>Indian Restaurant</td>\n",
              "      <td>Vietnamese Restaurant</td>\n",
              "      <td>European restaurant</td>\n",
              "      <td>American Restaurant</td>\n",
              "    </tr>\n",
              "    <tr>\n",
              "      <th>20</th>\n",
              "      <td>Phasi Charoen</td>\n",
              "      <td>Japanese Restaurant</td>\n",
              "      <td>American Restaurant</td>\n",
              "      <td>Vietnamese Restaurant</td>\n",
              "      <td>Korean Restaurant</td>\n",
              "      <td>Indian Restaurant</td>\n",
              "      <td>European restaurant</td>\n",
              "      <td>Chinese Restaurant</td>\n",
              "    </tr>\n",
              "    <tr>\n",
              "      <th>21</th>\n",
              "      <td>Phaya Thai</td>\n",
              "      <td>Japanese Restaurant</td>\n",
              "      <td>Chinese Restaurant</td>\n",
              "      <td>European restaurant</td>\n",
              "      <td>Vietnamese Restaurant</td>\n",
              "      <td>Korean Restaurant</td>\n",
              "      <td>American Restaurant</td>\n",
              "      <td>Indian Restaurant</td>\n",
              "    </tr>\n",
              "    <tr>\n",
              "      <th>22</th>\n",
              "      <td>Phra Khanong</td>\n",
              "      <td>American Restaurant</td>\n",
              "      <td>European restaurant</td>\n",
              "      <td>Vietnamese Restaurant</td>\n",
              "      <td>Korean Restaurant</td>\n",
              "      <td>Japanese Restaurant</td>\n",
              "      <td>Indian Restaurant</td>\n",
              "      <td>Chinese Restaurant</td>\n",
              "    </tr>\n",
              "  </tbody>\n",
              "</table>\n",
              "</div>"
            ],
            "text/plain": [
              "       Neighborhood  ... 7th Most Common Venue\n",
              "0          Bang Bon  ...   American Restaurant\n",
              "1         Bang Kapi  ...   American Restaurant\n",
              "2         Bang Khae  ...    Chinese Restaurant\n",
              "3         Bang Khen  ...   American Restaurant\n",
              "4     Bang Kho Laem  ...   European restaurant\n",
              "5   Bang Khun Thian  ...   European restaurant\n",
              "6        Bang Phlat  ...    Chinese Restaurant\n",
              "7          Bang Rak  ...   American Restaurant\n",
              "8       Bangkok Noi  ...   American Restaurant\n",
              "9       Bangkok Yai  ...   American Restaurant\n",
              "10        Bueng Kum  ...    Chinese Restaurant\n",
              "11        Chatuchak  ...    Chinese Restaurant\n",
              "12      Huai Khwang  ...   American Restaurant\n",
              "13      Khan Na Yao  ...    Chinese Restaurant\n",
              "14    Khlong Sam Wa  ...   American Restaurant\n",
              "15       Khlong San  ...   American Restaurant\n",
              "16      Khlong Toei  ...    Chinese Restaurant\n",
              "17           Lak Si  ...    Chinese Restaurant\n",
              "18        Lat Phrao  ...   American Restaurant\n",
              "19       Pathum Wan  ...   American Restaurant\n",
              "20    Phasi Charoen  ...    Chinese Restaurant\n",
              "21       Phaya Thai  ...     Indian Restaurant\n",
              "22     Phra Khanong  ...    Chinese Restaurant\n",
              "\n",
              "[23 rows x 8 columns]"
            ]
          },
          "metadata": {
            "tags": []
          },
          "execution_count": 54
        }
      ]
    },
    {
      "cell_type": "code",
      "metadata": {
        "id": "V9BJmay5Lb-s",
        "colab": {
          "base_uri": "https://localhost:8080/"
        },
        "outputId": "b178267b-7184-4aab-deb7-7db190a1ae63"
      },
      "source": [
        "neighborhoods_venues_sorted.shape"
      ],
      "execution_count": null,
      "outputs": [
        {
          "output_type": "execute_result",
          "data": {
            "text/plain": [
              "(37, 8)"
            ]
          },
          "metadata": {
            "tags": []
          },
          "execution_count": 55
        }
      ]
    },
    {
      "cell_type": "markdown",
      "metadata": {
        "id": "biCnk-Qfmd7M"
      },
      "source": [
        "###Clustering\n",
        "To analyze food country in the neighborhood of Bangkok I will use a K-means clustering technic which in part of unsupervised learning. The goal of this algorithm is to find groups in the data, with the number of groups represented by the variable K. The algorithm works iteratively to assign each data point to one of K groups based on the features that are provided. Data points are clustered based on feature similarity."
      ]
    },
    {
      "cell_type": "markdown",
      "metadata": {
        "id": "3_zlffCqy-BX"
      },
      "source": [
        "###Elbow method\n",
        "The first step we will use elbow method for identify the best of K value"
      ]
    },
    {
      "cell_type": "code",
      "metadata": {
        "id": "EUEoBBM7lHNO"
      },
      "source": [
        "distortions = []\n",
        "K = range(1,10)\n",
        "for k in K:\n",
        "    kmeanModel = KMeans(n_clusters=k)\n",
        "    kmeanModel.fit(bangkok_grouped.drop('Neighborhood', 1))\n",
        "    distortions.append(kmeanModel.inertia_)"
      ],
      "execution_count": null,
      "outputs": []
    },
    {
      "cell_type": "code",
      "metadata": {
        "id": "Qm0PQzfDlNCp",
        "colab": {
          "base_uri": "https://localhost:8080/",
          "height": 511
        },
        "outputId": "3fe4f08a-02cb-4bba-d38b-d64d2640084e"
      },
      "source": [
        "plt.figure(figsize=(16,8))\n",
        "plt.plot(K, distortions, 'bx-')\n",
        "plt.xlabel('k')\n",
        "plt.ylabel('Distortion')\n",
        "plt.title('The Elbow Method showing the optimal k')\n",
        "plt.show()"
      ],
      "execution_count": null,
      "outputs": [
        {
          "output_type": "display_data",
          "data": {
            "image/png": "[encoded data removed]",
            "text/plain": [
              "<Figure size 1152x576 with 1 Axes>"
            ]
          },
          "metadata": {
            "tags": [],
            "image/png": {
              "width": 940,
              "height": 494
            },
            "needs_background": "light"
          }
        }
      ]
    },
    {
      "cell_type": "markdown",
      "metadata": {
        "id": "d2IO53Vm2mub"
      },
      "source": [
        "From the plot up here, I can easily say that the best K is 5.\n",
        "Now it's time to run the kmeans algorithm:"
      ]
    },
    {
      "cell_type": "markdown",
      "metadata": {
        "id": "_UY5rLekm8-4"
      },
      "source": [
        "### Kmeans clustering"
      ]
    },
    {
      "cell_type": "code",
      "metadata": {
        "id": "lGVc0m5ltAGu",
        "colab": {
          "base_uri": "https://localhost:8080/"
        },
        "outputId": "4d8e0913-0ae0-4e12-de73-568dd69e2cdb"
      },
      "source": [
        "# set number of clusters (I choose 5)\n",
        "kclusters = 5\n",
        "\n",
        "bangkok_grouped_clustering = bangkok_grouped.drop('Neighborhood', 1)\n",
        "\n",
        "# run k-means clustering\n",
        "kmeans = KMeans(n_clusters=kclusters, random_state=0).fit(bangkok_grouped_clustering)\n",
        "\n",
        "# check cluster labels generated for each row in the dataframe\n",
        "kmeans.labels_[0:10]"
      ],
      "execution_count": null,
      "outputs": [
        {
          "output_type": "execute_result",
          "data": {
            "text/plain": [
              "array([1, 1, 1, 0, 0, 1, 2, 3, 3, 3], dtype=int32)"
            ]
          },
          "metadata": {
            "tags": []
          },
          "execution_count": 58
        }
      ]
    },
    {
      "cell_type": "code",
      "metadata": {
        "id": "HjbP6N0xtZKx",
        "colab": {
          "base_uri": "https://localhost:8080/",
          "height": 388
        },
        "outputId": "fa451a29-608f-4635-b1ae-ccc528a0a494"
      },
      "source": [
        "bangkok_merged = neighborhoods_bangkok\n",
        "bangkok_merged.head(10)"
      ],
      "execution_count": null,
      "outputs": [
        {
          "output_type": "execute_result",
          "data": {
            "text/html": [
              "<div>\n",
              "<style scoped>\n",
              "    .dataframe tbody tr th:only-of-type {\n",
              "        vertical-align: middle;\n",
              "    }\n",
              "\n",
              "    .dataframe tbody tr th {\n",
              "        vertical-align: top;\n",
              "    }\n",
              "\n",
              "    .dataframe thead th {\n",
              "        text-align: right;\n",
              "    }\n",
              "</style>\n",
              "<table border=\"1\" class=\"dataframe\">\n",
              "  <thead>\n",
              "    <tr style=\"text-align: right;\">\n",
              "      <th></th>\n",
              "      <th>District</th>\n",
              "      <th>Postcode</th>\n",
              "      <th>Thai</th>\n",
              "      <th>Population</th>\n",
              "      <th>Latitude</th>\n",
              "      <th>Longitude</th>\n",
              "    </tr>\n",
              "    <tr>\n",
              "      <th>Map</th>\n",
              "      <th></th>\n",
              "      <th></th>\n",
              "      <th></th>\n",
              "      <th></th>\n",
              "      <th></th>\n",
              "      <th></th>\n",
              "    </tr>\n",
              "  </thead>\n",
              "  <tbody>\n",
              "    <tr>\n",
              "      <th>1</th>\n",
              "      <td>Phra Nakhon</td>\n",
              "      <td>10200</td>\n",
              "      <td>พระนคร</td>\n",
              "      <td>57876</td>\n",
              "      <td>13.764444</td>\n",
              "      <td>100.499167</td>\n",
              "    </tr>\n",
              "    <tr>\n",
              "      <th>2</th>\n",
              "      <td>Dusit</td>\n",
              "      <td>10300</td>\n",
              "      <td>ดุสิต</td>\n",
              "      <td>107655</td>\n",
              "      <td>13.776944</td>\n",
              "      <td>100.520556</td>\n",
              "    </tr>\n",
              "    <tr>\n",
              "      <th>3</th>\n",
              "      <td>Nong Chok</td>\n",
              "      <td>10530</td>\n",
              "      <td>หนองจอก</td>\n",
              "      <td>157138</td>\n",
              "      <td>13.855556</td>\n",
              "      <td>100.862500</td>\n",
              "    </tr>\n",
              "    <tr>\n",
              "      <th>4</th>\n",
              "      <td>Bang Rak</td>\n",
              "      <td>10500</td>\n",
              "      <td>บางรัก</td>\n",
              "      <td>45875</td>\n",
              "      <td>13.730833</td>\n",
              "      <td>100.524167</td>\n",
              "    </tr>\n",
              "    <tr>\n",
              "      <th>5</th>\n",
              "      <td>Bang Khen</td>\n",
              "      <td>10220</td>\n",
              "      <td>บางเขน</td>\n",
              "      <td>189539</td>\n",
              "      <td>13.873889</td>\n",
              "      <td>100.596389</td>\n",
              "    </tr>\n",
              "    <tr>\n",
              "      <th>6</th>\n",
              "      <td>Bang Kapi</td>\n",
              "      <td>10240</td>\n",
              "      <td>บางกะปิ</td>\n",
              "      <td>148465</td>\n",
              "      <td>13.765833</td>\n",
              "      <td>100.647778</td>\n",
              "    </tr>\n",
              "    <tr>\n",
              "      <th>7</th>\n",
              "      <td>Pathum Wan</td>\n",
              "      <td>10330</td>\n",
              "      <td>ปทุมวัน</td>\n",
              "      <td>53263</td>\n",
              "      <td>13.744942</td>\n",
              "      <td>100.522200</td>\n",
              "    </tr>\n",
              "    <tr>\n",
              "      <th>8</th>\n",
              "      <td>Pom Prap Sattru Phai</td>\n",
              "      <td>10100</td>\n",
              "      <td>ป้อมปราบศัตรูพ่าย</td>\n",
              "      <td>51006</td>\n",
              "      <td>13.758056</td>\n",
              "      <td>100.513056</td>\n",
              "    </tr>\n",
              "    <tr>\n",
              "      <th>9</th>\n",
              "      <td>Phra Khanong</td>\n",
              "      <td>10260</td>\n",
              "      <td>พระโขนง</td>\n",
              "      <td>93482</td>\n",
              "      <td>13.702222</td>\n",
              "      <td>100.601667</td>\n",
              "    </tr>\n",
              "    <tr>\n",
              "      <th>10</th>\n",
              "      <td>Min Buri</td>\n",
              "      <td>10510</td>\n",
              "      <td>มีนบุรี</td>\n",
              "      <td>137251</td>\n",
              "      <td>13.813889</td>\n",
              "      <td>100.748056</td>\n",
              "    </tr>\n",
              "  </tbody>\n",
              "</table>\n",
              "</div>"
            ],
            "text/plain": [
              "                 District Postcode  ...   Latitude   Longitude\n",
              "Map                                 ...                       \n",
              "1             Phra Nakhon    10200  ...  13.764444  100.499167\n",
              "2                   Dusit    10300  ...  13.776944  100.520556\n",
              "3               Nong Chok    10530  ...  13.855556  100.862500\n",
              "4                Bang Rak    10500  ...  13.730833  100.524167\n",
              "5               Bang Khen    10220  ...  13.873889  100.596389\n",
              "6               Bang Kapi    10240  ...  13.765833  100.647778\n",
              "7              Pathum Wan    10330  ...  13.744942  100.522200\n",
              "8    Pom Prap Sattru Phai    10100  ...  13.758056  100.513056\n",
              "9            Phra Khanong    10260  ...  13.702222  100.601667\n",
              "10               Min Buri    10510  ...  13.813889  100.748056\n",
              "\n",
              "[10 rows x 6 columns]"
            ]
          },
          "metadata": {
            "tags": []
          },
          "execution_count": 59
        }
      ]
    },
    {
      "cell_type": "code",
      "metadata": {
        "id": "xoCli_feuUo9"
      },
      "source": [
        "neighborhoods_venues_sorted_w_clusters = neighborhoods_venues_sorted"
      ],
      "execution_count": null,
      "outputs": []
    },
    {
      "cell_type": "markdown",
      "metadata": {
        "id": "hLu4XRle7B2E"
      },
      "source": [
        "Add cluster label"
      ]
    },
    {
      "cell_type": "code",
      "metadata": {
        "colab": {
          "base_uri": "https://localhost:8080/",
          "height": 220
        },
        "id": "CUOHjZBLAA9U",
        "outputId": "acb0f677-d38f-4206-fbde-abd192bc2e79"
      },
      "source": [
        "neighborhoods_venues_sorted_w_clusters.insert(0, 'Cluster Labels', kmeans.labels_)\n",
        "neighborhoods_venues_sorted_w_clusters.head()"
      ],
      "execution_count": null,
      "outputs": [
        {
          "output_type": "execute_result",
          "data": {
            "text/html": [
              "<div>\n",
              "<style scoped>\n",
              "    .dataframe tbody tr th:only-of-type {\n",
              "        vertical-align: middle;\n",
              "    }\n",
              "\n",
              "    .dataframe tbody tr th {\n",
              "        vertical-align: top;\n",
              "    }\n",
              "\n",
              "    .dataframe thead th {\n",
              "        text-align: right;\n",
              "    }\n",
              "</style>\n",
              "<table border=\"1\" class=\"dataframe\">\n",
              "  <thead>\n",
              "    <tr style=\"text-align: right;\">\n",
              "      <th></th>\n",
              "      <th>Cluster Labels</th>\n",
              "      <th>Neighborhood</th>\n",
              "      <th>1st Most Common Venue</th>\n",
              "      <th>2nd Most Common Venue</th>\n",
              "      <th>3rd Most Common Venue</th>\n",
              "      <th>4th Most Common Venue</th>\n",
              "      <th>5th Most Common Venue</th>\n",
              "      <th>6th Most Common Venue</th>\n",
              "      <th>7th Most Common Venue</th>\n",
              "    </tr>\n",
              "  </thead>\n",
              "  <tbody>\n",
              "    <tr>\n",
              "      <th>0</th>\n",
              "      <td>1</td>\n",
              "      <td>Bang Bon</td>\n",
              "      <td>Japanese Restaurant</td>\n",
              "      <td>Vietnamese Restaurant</td>\n",
              "      <td>Korean Restaurant</td>\n",
              "      <td>Indian Restaurant</td>\n",
              "      <td>European restaurant</td>\n",
              "      <td>Chinese Restaurant</td>\n",
              "      <td>American Restaurant</td>\n",
              "    </tr>\n",
              "    <tr>\n",
              "      <th>1</th>\n",
              "      <td>1</td>\n",
              "      <td>Bang Kapi</td>\n",
              "      <td>Japanese Restaurant</td>\n",
              "      <td>Korean Restaurant</td>\n",
              "      <td>Vietnamese Restaurant</td>\n",
              "      <td>Indian Restaurant</td>\n",
              "      <td>European restaurant</td>\n",
              "      <td>Chinese Restaurant</td>\n",
              "      <td>American Restaurant</td>\n",
              "    </tr>\n",
              "    <tr>\n",
              "      <th>2</th>\n",
              "      <td>1</td>\n",
              "      <td>Bang Khae</td>\n",
              "      <td>Japanese Restaurant</td>\n",
              "      <td>American Restaurant</td>\n",
              "      <td>Vietnamese Restaurant</td>\n",
              "      <td>Korean Restaurant</td>\n",
              "      <td>Indian Restaurant</td>\n",
              "      <td>European restaurant</td>\n",
              "      <td>Chinese Restaurant</td>\n",
              "    </tr>\n",
              "    <tr>\n",
              "      <th>3</th>\n",
              "      <td>0</td>\n",
              "      <td>Bang Khen</td>\n",
              "      <td>Vietnamese Restaurant</td>\n",
              "      <td>Korean Restaurant</td>\n",
              "      <td>Japanese Restaurant</td>\n",
              "      <td>Indian Restaurant</td>\n",
              "      <td>European restaurant</td>\n",
              "      <td>Chinese Restaurant</td>\n",
              "      <td>American Restaurant</td>\n",
              "    </tr>\n",
              "    <tr>\n",
              "      <th>4</th>\n",
              "      <td>0</td>\n",
              "      <td>Bang Kho Laem</td>\n",
              "      <td>Chinese Restaurant</td>\n",
              "      <td>Vietnamese Restaurant</td>\n",
              "      <td>American Restaurant</td>\n",
              "      <td>Korean Restaurant</td>\n",
              "      <td>Japanese Restaurant</td>\n",
              "      <td>Indian Restaurant</td>\n",
              "      <td>European restaurant</td>\n",
              "    </tr>\n",
              "  </tbody>\n",
              "</table>\n",
              "</div>"
            ],
            "text/plain": [
              "   Cluster Labels   Neighborhood  ... 6th Most Common Venue 7th Most Common Venue\n",
              "0               1       Bang Bon  ...    Chinese Restaurant   American Restaurant\n",
              "1               1      Bang Kapi  ...    Chinese Restaurant   American Restaurant\n",
              "2               1      Bang Khae  ...   European restaurant    Chinese Restaurant\n",
              "3               0      Bang Khen  ...    Chinese Restaurant   American Restaurant\n",
              "4               0  Bang Kho Laem  ...     Indian Restaurant   European restaurant\n",
              "\n",
              "[5 rows x 9 columns]"
            ]
          },
          "metadata": {
            "tags": []
          },
          "execution_count": 61
        }
      ]
    },
    {
      "cell_type": "markdown",
      "metadata": {
        "id": "YYMin3pk7YT8"
      },
      "source": [
        "Add the Postcode,thai,Population,Latitude and Longitude"
      ]
    },
    {
      "cell_type": "code",
      "metadata": {
        "id": "28UozJLAvBch",
        "colab": {
          "base_uri": "https://localhost:8080/",
          "height": 539
        },
        "outputId": "53342747-d084-4da3-cca5-036a20a1f331"
      },
      "source": [
        "bangkok_merged.rename(columns={'District':'Neighborhood'}, inplace=True)\n",
        "\n",
        "bangkok_merged = bangkok_merged.join(neighborhoods_venues_sorted.set_index('Neighborhood'), on='Neighborhood')\n",
        "\n",
        "bangkok_merged.head(10)"
      ],
      "execution_count": null,
      "outputs": [
        {
          "output_type": "execute_result",
          "data": {
            "text/html": [
              "<div>\n",
              "<style scoped>\n",
              "    .dataframe tbody tr th:only-of-type {\n",
              "        vertical-align: middle;\n",
              "    }\n",
              "\n",
              "    .dataframe tbody tr th {\n",
              "        vertical-align: top;\n",
              "    }\n",
              "\n",
              "    .dataframe thead th {\n",
              "        text-align: right;\n",
              "    }\n",
              "</style>\n",
              "<table border=\"1\" class=\"dataframe\">\n",
              "  <thead>\n",
              "    <tr style=\"text-align: right;\">\n",
              "      <th></th>\n",
              "      <th>Neighborhood</th>\n",
              "      <th>Postcode</th>\n",
              "      <th>Thai</th>\n",
              "      <th>Population</th>\n",
              "      <th>Latitude</th>\n",
              "      <th>Longitude</th>\n",
              "      <th>Cluster Labels</th>\n",
              "      <th>1st Most Common Venue</th>\n",
              "      <th>2nd Most Common Venue</th>\n",
              "      <th>3rd Most Common Venue</th>\n",
              "      <th>4th Most Common Venue</th>\n",
              "      <th>5th Most Common Venue</th>\n",
              "      <th>6th Most Common Venue</th>\n",
              "      <th>7th Most Common Venue</th>\n",
              "    </tr>\n",
              "    <tr>\n",
              "      <th>Map</th>\n",
              "      <th></th>\n",
              "      <th></th>\n",
              "      <th></th>\n",
              "      <th></th>\n",
              "      <th></th>\n",
              "      <th></th>\n",
              "      <th></th>\n",
              "      <th></th>\n",
              "      <th></th>\n",
              "      <th></th>\n",
              "      <th></th>\n",
              "      <th></th>\n",
              "      <th></th>\n",
              "      <th></th>\n",
              "    </tr>\n",
              "  </thead>\n",
              "  <tbody>\n",
              "    <tr>\n",
              "      <th>1</th>\n",
              "      <td>Phra Nakhon</td>\n",
              "      <td>10200</td>\n",
              "      <td>พระนคร</td>\n",
              "      <td>57876</td>\n",
              "      <td>13.764444</td>\n",
              "      <td>100.499167</td>\n",
              "      <td>4.0</td>\n",
              "      <td>Chinese Restaurant</td>\n",
              "      <td>Japanese Restaurant</td>\n",
              "      <td>Indian Restaurant</td>\n",
              "      <td>Vietnamese Restaurant</td>\n",
              "      <td>Korean Restaurant</td>\n",
              "      <td>European restaurant</td>\n",
              "      <td>American Restaurant</td>\n",
              "    </tr>\n",
              "    <tr>\n",
              "      <th>2</th>\n",
              "      <td>Dusit</td>\n",
              "      <td>10300</td>\n",
              "      <td>ดุสิต</td>\n",
              "      <td>107655</td>\n",
              "      <td>13.776944</td>\n",
              "      <td>100.520556</td>\n",
              "      <td>NaN</td>\n",
              "      <td>NaN</td>\n",
              "      <td>NaN</td>\n",
              "      <td>NaN</td>\n",
              "      <td>NaN</td>\n",
              "      <td>NaN</td>\n",
              "      <td>NaN</td>\n",
              "      <td>NaN</td>\n",
              "    </tr>\n",
              "    <tr>\n",
              "      <th>3</th>\n",
              "      <td>Nong Chok</td>\n",
              "      <td>10530</td>\n",
              "      <td>หนองจอก</td>\n",
              "      <td>157138</td>\n",
              "      <td>13.855556</td>\n",
              "      <td>100.862500</td>\n",
              "      <td>NaN</td>\n",
              "      <td>NaN</td>\n",
              "      <td>NaN</td>\n",
              "      <td>NaN</td>\n",
              "      <td>NaN</td>\n",
              "      <td>NaN</td>\n",
              "      <td>NaN</td>\n",
              "      <td>NaN</td>\n",
              "    </tr>\n",
              "    <tr>\n",
              "      <th>4</th>\n",
              "      <td>Bang Rak</td>\n",
              "      <td>10500</td>\n",
              "      <td>บางรัก</td>\n",
              "      <td>45875</td>\n",
              "      <td>13.730833</td>\n",
              "      <td>100.524167</td>\n",
              "      <td>3.0</td>\n",
              "      <td>Chinese Restaurant</td>\n",
              "      <td>Vietnamese Restaurant</td>\n",
              "      <td>Korean Restaurant</td>\n",
              "      <td>Japanese Restaurant</td>\n",
              "      <td>Indian Restaurant</td>\n",
              "      <td>European restaurant</td>\n",
              "      <td>American Restaurant</td>\n",
              "    </tr>\n",
              "    <tr>\n",
              "      <th>5</th>\n",
              "      <td>Bang Khen</td>\n",
              "      <td>10220</td>\n",
              "      <td>บางเขน</td>\n",
              "      <td>189539</td>\n",
              "      <td>13.873889</td>\n",
              "      <td>100.596389</td>\n",
              "      <td>0.0</td>\n",
              "      <td>Vietnamese Restaurant</td>\n",
              "      <td>Korean Restaurant</td>\n",
              "      <td>Japanese Restaurant</td>\n",
              "      <td>Indian Restaurant</td>\n",
              "      <td>European restaurant</td>\n",
              "      <td>Chinese Restaurant</td>\n",
              "      <td>American Restaurant</td>\n",
              "    </tr>\n",
              "    <tr>\n",
              "      <th>6</th>\n",
              "      <td>Bang Kapi</td>\n",
              "      <td>10240</td>\n",
              "      <td>บางกะปิ</td>\n",
              "      <td>148465</td>\n",
              "      <td>13.765833</td>\n",
              "      <td>100.647778</td>\n",
              "      <td>1.0</td>\n",
              "      <td>Japanese Restaurant</td>\n",
              "      <td>Korean Restaurant</td>\n",
              "      <td>Vietnamese Restaurant</td>\n",
              "      <td>Indian Restaurant</td>\n",
              "      <td>European restaurant</td>\n",
              "      <td>Chinese Restaurant</td>\n",
              "      <td>American Restaurant</td>\n",
              "    </tr>\n",
              "    <tr>\n",
              "      <th>7</th>\n",
              "      <td>Pathum Wan</td>\n",
              "      <td>10330</td>\n",
              "      <td>ปทุมวัน</td>\n",
              "      <td>53263</td>\n",
              "      <td>13.744942</td>\n",
              "      <td>100.522200</td>\n",
              "      <td>4.0</td>\n",
              "      <td>Chinese Restaurant</td>\n",
              "      <td>Japanese Restaurant</td>\n",
              "      <td>Korean Restaurant</td>\n",
              "      <td>Indian Restaurant</td>\n",
              "      <td>Vietnamese Restaurant</td>\n",
              "      <td>European restaurant</td>\n",
              "      <td>American Restaurant</td>\n",
              "    </tr>\n",
              "    <tr>\n",
              "      <th>8</th>\n",
              "      <td>Pom Prap Sattru Phai</td>\n",
              "      <td>10100</td>\n",
              "      <td>ป้อมปราบศัตรูพ่าย</td>\n",
              "      <td>51006</td>\n",
              "      <td>13.758056</td>\n",
              "      <td>100.513056</td>\n",
              "      <td>4.0</td>\n",
              "      <td>Chinese Restaurant</td>\n",
              "      <td>Japanese Restaurant</td>\n",
              "      <td>European restaurant</td>\n",
              "      <td>American Restaurant</td>\n",
              "      <td>Vietnamese Restaurant</td>\n",
              "      <td>Korean Restaurant</td>\n",
              "      <td>Indian Restaurant</td>\n",
              "    </tr>\n",
              "    <tr>\n",
              "      <th>9</th>\n",
              "      <td>Phra Khanong</td>\n",
              "      <td>10260</td>\n",
              "      <td>พระโขนง</td>\n",
              "      <td>93482</td>\n",
              "      <td>13.702222</td>\n",
              "      <td>100.601667</td>\n",
              "      <td>2.0</td>\n",
              "      <td>American Restaurant</td>\n",
              "      <td>European restaurant</td>\n",
              "      <td>Vietnamese Restaurant</td>\n",
              "      <td>Korean Restaurant</td>\n",
              "      <td>Japanese Restaurant</td>\n",
              "      <td>Indian Restaurant</td>\n",
              "      <td>Chinese Restaurant</td>\n",
              "    </tr>\n",
              "    <tr>\n",
              "      <th>10</th>\n",
              "      <td>Min Buri</td>\n",
              "      <td>10510</td>\n",
              "      <td>มีนบุรี</td>\n",
              "      <td>137251</td>\n",
              "      <td>13.813889</td>\n",
              "      <td>100.748056</td>\n",
              "      <td>NaN</td>\n",
              "      <td>NaN</td>\n",
              "      <td>NaN</td>\n",
              "      <td>NaN</td>\n",
              "      <td>NaN</td>\n",
              "      <td>NaN</td>\n",
              "      <td>NaN</td>\n",
              "      <td>NaN</td>\n",
              "    </tr>\n",
              "  </tbody>\n",
              "</table>\n",
              "</div>"
            ],
            "text/plain": [
              "             Neighborhood Postcode  ... 6th Most Common Venue  7th Most Common Venue\n",
              "Map                                 ...                                             \n",
              "1             Phra Nakhon    10200  ...   European restaurant    American Restaurant\n",
              "2                   Dusit    10300  ...                   NaN                    NaN\n",
              "3               Nong Chok    10530  ...                   NaN                    NaN\n",
              "4                Bang Rak    10500  ...   European restaurant    American Restaurant\n",
              "5               Bang Khen    10220  ...    Chinese Restaurant    American Restaurant\n",
              "6               Bang Kapi    10240  ...    Chinese Restaurant    American Restaurant\n",
              "7              Pathum Wan    10330  ...   European restaurant    American Restaurant\n",
              "8    Pom Prap Sattru Phai    10100  ...     Korean Restaurant      Indian Restaurant\n",
              "9            Phra Khanong    10260  ...     Indian Restaurant     Chinese Restaurant\n",
              "10               Min Buri    10510  ...                   NaN                    NaN\n",
              "\n",
              "[10 rows x 14 columns]"
            ]
          },
          "metadata": {
            "tags": []
          },
          "execution_count": 62
        }
      ]
    },
    {
      "cell_type": "markdown",
      "metadata": {
        "id": "xKeWXbF47zf7"
      },
      "source": [
        "Change type of cluster label to integer "
      ]
    },
    {
      "cell_type": "code",
      "metadata": {
        "id": "RcIr9xsRZunF",
        "colab": {
          "base_uri": "https://localhost:8080/",
          "height": 590
        },
        "outputId": "31cb6bf2-514d-4435-bb81-86021da4d3fa"
      },
      "source": [
        "bangkok_merged.dropna(axis=0,inplace=True)\n",
        "bangkok_merged[\"Cluster Labels\"] = bangkok_merged[\"Cluster Labels\"].astype('int')\n",
        "bangkok_merged.head(10)"
      ],
      "execution_count": null,
      "outputs": [
        {
          "output_type": "execute_result",
          "data": {
            "text/html": [
              "<div>\n",
              "<style scoped>\n",
              "    .dataframe tbody tr th:only-of-type {\n",
              "        vertical-align: middle;\n",
              "    }\n",
              "\n",
              "    .dataframe tbody tr th {\n",
              "        vertical-align: top;\n",
              "    }\n",
              "\n",
              "    .dataframe thead th {\n",
              "        text-align: right;\n",
              "    }\n",
              "</style>\n",
              "<table border=\"1\" class=\"dataframe\">\n",
              "  <thead>\n",
              "    <tr style=\"text-align: right;\">\n",
              "      <th></th>\n",
              "      <th>Neighborhood</th>\n",
              "      <th>Postcode</th>\n",
              "      <th>Thai</th>\n",
              "      <th>Population</th>\n",
              "      <th>Latitude</th>\n",
              "      <th>Longitude</th>\n",
              "      <th>Cluster Labels</th>\n",
              "      <th>1st Most Common Venue</th>\n",
              "      <th>2nd Most Common Venue</th>\n",
              "      <th>3rd Most Common Venue</th>\n",
              "      <th>4th Most Common Venue</th>\n",
              "      <th>5th Most Common Venue</th>\n",
              "      <th>6th Most Common Venue</th>\n",
              "      <th>7th Most Common Venue</th>\n",
              "    </tr>\n",
              "    <tr>\n",
              "      <th>Map</th>\n",
              "      <th></th>\n",
              "      <th></th>\n",
              "      <th></th>\n",
              "      <th></th>\n",
              "      <th></th>\n",
              "      <th></th>\n",
              "      <th></th>\n",
              "      <th></th>\n",
              "      <th></th>\n",
              "      <th></th>\n",
              "      <th></th>\n",
              "      <th></th>\n",
              "      <th></th>\n",
              "      <th></th>\n",
              "    </tr>\n",
              "  </thead>\n",
              "  <tbody>\n",
              "    <tr>\n",
              "      <th>1</th>\n",
              "      <td>Phra Nakhon</td>\n",
              "      <td>10200</td>\n",
              "      <td>พระนคร</td>\n",
              "      <td>57876</td>\n",
              "      <td>13.764444</td>\n",
              "      <td>100.499167</td>\n",
              "      <td>4</td>\n",
              "      <td>Chinese Restaurant</td>\n",
              "      <td>Japanese Restaurant</td>\n",
              "      <td>Indian Restaurant</td>\n",
              "      <td>Vietnamese Restaurant</td>\n",
              "      <td>Korean Restaurant</td>\n",
              "      <td>European restaurant</td>\n",
              "      <td>American Restaurant</td>\n",
              "    </tr>\n",
              "    <tr>\n",
              "      <th>4</th>\n",
              "      <td>Bang Rak</td>\n",
              "      <td>10500</td>\n",
              "      <td>บางรัก</td>\n",
              "      <td>45875</td>\n",
              "      <td>13.730833</td>\n",
              "      <td>100.524167</td>\n",
              "      <td>3</td>\n",
              "      <td>Chinese Restaurant</td>\n",
              "      <td>Vietnamese Restaurant</td>\n",
              "      <td>Korean Restaurant</td>\n",
              "      <td>Japanese Restaurant</td>\n",
              "      <td>Indian Restaurant</td>\n",
              "      <td>European restaurant</td>\n",
              "      <td>American Restaurant</td>\n",
              "    </tr>\n",
              "    <tr>\n",
              "      <th>5</th>\n",
              "      <td>Bang Khen</td>\n",
              "      <td>10220</td>\n",
              "      <td>บางเขน</td>\n",
              "      <td>189539</td>\n",
              "      <td>13.873889</td>\n",
              "      <td>100.596389</td>\n",
              "      <td>0</td>\n",
              "      <td>Vietnamese Restaurant</td>\n",
              "      <td>Korean Restaurant</td>\n",
              "      <td>Japanese Restaurant</td>\n",
              "      <td>Indian Restaurant</td>\n",
              "      <td>European restaurant</td>\n",
              "      <td>Chinese Restaurant</td>\n",
              "      <td>American Restaurant</td>\n",
              "    </tr>\n",
              "    <tr>\n",
              "      <th>6</th>\n",
              "      <td>Bang Kapi</td>\n",
              "      <td>10240</td>\n",
              "      <td>บางกะปิ</td>\n",
              "      <td>148465</td>\n",
              "      <td>13.765833</td>\n",
              "      <td>100.647778</td>\n",
              "      <td>1</td>\n",
              "      <td>Japanese Restaurant</td>\n",
              "      <td>Korean Restaurant</td>\n",
              "      <td>Vietnamese Restaurant</td>\n",
              "      <td>Indian Restaurant</td>\n",
              "      <td>European restaurant</td>\n",
              "      <td>Chinese Restaurant</td>\n",
              "      <td>American Restaurant</td>\n",
              "    </tr>\n",
              "    <tr>\n",
              "      <th>7</th>\n",
              "      <td>Pathum Wan</td>\n",
              "      <td>10330</td>\n",
              "      <td>ปทุมวัน</td>\n",
              "      <td>53263</td>\n",
              "      <td>13.744942</td>\n",
              "      <td>100.522200</td>\n",
              "      <td>4</td>\n",
              "      <td>Chinese Restaurant</td>\n",
              "      <td>Japanese Restaurant</td>\n",
              "      <td>Korean Restaurant</td>\n",
              "      <td>Indian Restaurant</td>\n",
              "      <td>Vietnamese Restaurant</td>\n",
              "      <td>European restaurant</td>\n",
              "      <td>American Restaurant</td>\n",
              "    </tr>\n",
              "    <tr>\n",
              "      <th>8</th>\n",
              "      <td>Pom Prap Sattru Phai</td>\n",
              "      <td>10100</td>\n",
              "      <td>ป้อมปราบศัตรูพ่าย</td>\n",
              "      <td>51006</td>\n",
              "      <td>13.758056</td>\n",
              "      <td>100.513056</td>\n",
              "      <td>4</td>\n",
              "      <td>Chinese Restaurant</td>\n",
              "      <td>Japanese Restaurant</td>\n",
              "      <td>European restaurant</td>\n",
              "      <td>American Restaurant</td>\n",
              "      <td>Vietnamese Restaurant</td>\n",
              "      <td>Korean Restaurant</td>\n",
              "      <td>Indian Restaurant</td>\n",
              "    </tr>\n",
              "    <tr>\n",
              "      <th>9</th>\n",
              "      <td>Phra Khanong</td>\n",
              "      <td>10260</td>\n",
              "      <td>พระโขนง</td>\n",
              "      <td>93482</td>\n",
              "      <td>13.702222</td>\n",
              "      <td>100.601667</td>\n",
              "      <td>2</td>\n",
              "      <td>American Restaurant</td>\n",
              "      <td>European restaurant</td>\n",
              "      <td>Vietnamese Restaurant</td>\n",
              "      <td>Korean Restaurant</td>\n",
              "      <td>Japanese Restaurant</td>\n",
              "      <td>Indian Restaurant</td>\n",
              "      <td>Chinese Restaurant</td>\n",
              "    </tr>\n",
              "    <tr>\n",
              "      <th>12</th>\n",
              "      <td>Yan Nawa</td>\n",
              "      <td>10120</td>\n",
              "      <td>ยานนาวา</td>\n",
              "      <td>81521</td>\n",
              "      <td>13.696944</td>\n",
              "      <td>100.543056</td>\n",
              "      <td>4</td>\n",
              "      <td>Japanese Restaurant</td>\n",
              "      <td>Chinese Restaurant</td>\n",
              "      <td>American Restaurant</td>\n",
              "      <td>Korean Restaurant</td>\n",
              "      <td>Vietnamese Restaurant</td>\n",
              "      <td>Indian Restaurant</td>\n",
              "      <td>European restaurant</td>\n",
              "    </tr>\n",
              "    <tr>\n",
              "      <th>13</th>\n",
              "      <td>Samphanthawong</td>\n",
              "      <td>10100</td>\n",
              "      <td>สัมพันธวงศ์</td>\n",
              "      <td>27452</td>\n",
              "      <td>13.731389</td>\n",
              "      <td>100.514167</td>\n",
              "      <td>4</td>\n",
              "      <td>Chinese Restaurant</td>\n",
              "      <td>Japanese Restaurant</td>\n",
              "      <td>European restaurant</td>\n",
              "      <td>Vietnamese Restaurant</td>\n",
              "      <td>Korean Restaurant</td>\n",
              "      <td>Indian Restaurant</td>\n",
              "      <td>American Restaurant</td>\n",
              "    </tr>\n",
              "    <tr>\n",
              "      <th>14</th>\n",
              "      <td>Phaya Thai</td>\n",
              "      <td>10400</td>\n",
              "      <td>พญาไท</td>\n",
              "      <td>72952</td>\n",
              "      <td>13.780000</td>\n",
              "      <td>100.542778</td>\n",
              "      <td>1</td>\n",
              "      <td>Japanese Restaurant</td>\n",
              "      <td>Chinese Restaurant</td>\n",
              "      <td>European restaurant</td>\n",
              "      <td>Vietnamese Restaurant</td>\n",
              "      <td>Korean Restaurant</td>\n",
              "      <td>American Restaurant</td>\n",
              "      <td>Indian Restaurant</td>\n",
              "    </tr>\n",
              "  </tbody>\n",
              "</table>\n",
              "</div>"
            ],
            "text/plain": [
              "             Neighborhood Postcode  ... 6th Most Common Venue  7th Most Common Venue\n",
              "Map                                 ...                                             \n",
              "1             Phra Nakhon    10200  ...   European restaurant    American Restaurant\n",
              "4                Bang Rak    10500  ...   European restaurant    American Restaurant\n",
              "5               Bang Khen    10220  ...    Chinese Restaurant    American Restaurant\n",
              "6               Bang Kapi    10240  ...    Chinese Restaurant    American Restaurant\n",
              "7              Pathum Wan    10330  ...   European restaurant    American Restaurant\n",
              "8    Pom Prap Sattru Phai    10100  ...     Korean Restaurant      Indian Restaurant\n",
              "9            Phra Khanong    10260  ...     Indian Restaurant     Chinese Restaurant\n",
              "12               Yan Nawa    10120  ...     Indian Restaurant    European restaurant\n",
              "13         Samphanthawong    10100  ...     Indian Restaurant    American Restaurant\n",
              "14             Phaya Thai    10400  ...   American Restaurant      Indian Restaurant\n",
              "\n",
              "[10 rows x 14 columns]"
            ]
          },
          "metadata": {
            "tags": []
          },
          "execution_count": 63
        }
      ]
    },
    {
      "cell_type": "markdown",
      "metadata": {
        "id": "ow3XEm-zm1mN"
      },
      "source": [
        "## Results and Discussion <a name=\"results\"></a>\n",
        "This section will show the result after perform by K-mean clustering let’s take a look on a folium map:"
      ]
    },
    {
      "cell_type": "code",
      "metadata": {
        "id": "8f7cH3usvU4I",
        "colab": {
          "base_uri": "https://localhost:8080/",
          "height": 866
        },
        "outputId": "c76c3b18-ff7b-487b-be60-ad5061910052"
      },
      "source": [
        "# create a map with folium\n",
        "map_restaurants10 =  folium.Map(location=[latitudes, longitudes], zoom_start=11)\n",
        "                               #attr=\"<a href=https://github.com/python-visualization/folium/>Folium</a>\")\n",
        "#map_bangkok = folium.Map(location=[latitudes, longitudes], zoom_start=11)\n",
        "\n",
        "# set color scheme for the five clusters\n",
        "x = np.arange(kclusters)\n",
        "ys = [i + x + (i*x)**2 for i in range(kclusters)]\n",
        "colors_array = cm.rainbow(np.linspace(0, 1, len(ys)))\n",
        "rainbow = [colors.rgb2hex(i) for i in colors_array]\n",
        "\n",
        "# add markers to the map\n",
        "for lat, lon, poi, cluster in zip(bangkok_merged['Latitude'], \n",
        "                                  bangkok_merged['Longitude'], \n",
        "                                  bangkok_merged['Neighborhood'], \n",
        "                                  bangkok_merged['Cluster Labels']):\n",
        "    label = folium.Popup(str(poi) + ' Cluster ' + str(cluster), parse_html=True)\n",
        "    folium.CircleMarker(\n",
        "        [lat, lon],\n",
        "        radius=list_rest_no[list_dist.index(poi)]*0.7,\n",
        "        popup=label,\n",
        "        color=rainbow[cluster-1],\n",
        "        fill=True,\n",
        "        fill_color=rainbow[cluster-1],\n",
        "        fill_opacity=0.7).add_to(map_restaurants10)\n",
        "       \n",
        "map_restaurants10"
      ],
      "execution_count": null,
      "outputs": [
        {
          "output_type": "execute_result",
          "data": {
            "text/html": [
              "<div style=\"width:100%;\"><div style=\"position:relative;width:100%;height:0;padding-bottom:60%;\"><span style=\"color:#565656\">Make this Notebook Trusted to load map: File -> Trust Notebook</span><iframe src=\"about:blank\" style=\"position:absolute;width:100%;height:100%;left:0;top:0;border:none !important;\" data-html=%3C%21DOCTYPE%20html%3E%0A%3Chead%3E%20%20%20%20%0A%20%20%20%20%3Cmeta%20http-equiv%3D%22content-type%22%20content%3D%22text/html%3B%20charset%3DUTF-8%22%20/%3E%0A%20%20%20%20%3Cscript%3EL_PREFER_CANVAS%3Dfalse%3B%20L_NO_TOUCH%3Dfalse%3B%20L_DISABLE_3D%3Dfalse%3B%3C/script%3E%0A%20%20%20%20%3Cscript%20src%3D%22https%3A//cdn.jsdelivr.net/npm/leaflet%401.4.0/dist/leaflet.js%22%3E%3C/script%3E%0A%20%20%20%20%3Cscript%20src%3D%22https%3A//code.jquery.com/jquery-1.12.4.min.js%22%3E%3C/script%3E%0A%20%20%20%20%3Cscript%20src%3D%22https%3A//maxcdn.bootstrapcdn.com/bootstrap/3.2.0/js/bootstrap.min.js%22%3E%3C/script%3E%0A%20%20%20%20%3Cscript%20src%3D%22https%3A//cdnjs.cloudflare.com/ajax/libs/Leaflet.awesome-markers/2.0.2/leaflet.awesome-markers.js%22%3E%3C/script%3E%0A%20%20%20%20%3Clink%20rel%3D%22stylesheet%22%20href%3D%22https%3A//cdn.jsdelivr.net/npm/leaflet%401.4.0/dist/leaflet.css%22/%3E%0A%20%20%20%20%3Clink%20rel%3D%22stylesheet%22%20href%3D%22https%3A//maxcdn.bootstrapcdn.com/bootstrap/3.2.0/css/bootstrap.min.css%22/%3E%0A%20%20%20%20%3Clink%20rel%3D%22stylesheet%22%20href%3D%22https%3A//maxcdn.bootstrapcdn.com/bootstrap/3.2.0/css/bootstrap-theme.min.css%22/%3E%0A%20%20%20%20%3Clink%20rel%3D%22stylesheet%22%20href%3D%22https%3A//maxcdn.bootstrapcdn.com/font-awesome/4.6.3/css/font-awesome.min.css%22/%3E%0A%20%20%20%20%3Clink%20rel%3D%22stylesheet%22%20href%3D%22https%3A//cdnjs.cloudflare.com/ajax/libs/Leaflet.awesome-markers/2.0.2/leaflet.awesome-markers.css%22/%3E%0A%20%20%20%20%3Clink%20rel%3D%22stylesheet%22%20href%3D%22https%3A//rawcdn.githack.com/python-visualization/folium/master/folium/templates/leaflet.awesome.rotate.css%22/%3E%0A%20%20%20%20%3Cstyle%3Ehtml%2C%20body%20%7Bwidth%3A%20100%25%3Bheight%3A%20100%25%3Bmargin%3A%200%3Bpadding%3A%200%3B%7D%3C/style%3E%0A%20%20%20%20%3Cstyle%3E%23map%20%7Bposition%3Aabsolute%3Btop%3A0%3Bbottom%3A0%3Bright%3A0%3Bleft%3A0%3B%7D%3C/style%3E%0A%20%20%20%20%0A%20%20%20%20%3Cmeta%20name%3D%22viewport%22%20content%3D%22width%3Ddevice-width%2C%0A%20%20%20%20%20%20%20%20initial-scale%3D1.0%2C%20maximum-scale%3D1.0%2C%20user-scalable%3Dno%22%20/%3E%0A%20%20%20%20%3Cstyle%3E%23map_cc29b72e8206469895da2126911396f3%20%7B%0A%20%20%20%20%20%20%20%20position%3A%20relative%3B%0A%20%20%20%20%20%20%20%20width%3A%20100.0%25%3B%0A%20%20%20%20%20%20%20%20height%3A%20100.0%25%3B%0A%20%20%20%20%20%20%20%20left%3A%200.0%25%3B%0A%20%20%20%20%20%20%20%20top%3A%200.0%25%3B%0A%20%20%20%20%20%20%20%20%7D%0A%20%20%20%20%3C/style%3E%0A%3C/head%3E%0A%3Cbody%3E%20%20%20%20%0A%20%20%20%20%0A%20%20%20%20%3Cdiv%20class%3D%22folium-map%22%20id%3D%22map_cc29b72e8206469895da2126911396f3%22%20%3E%3C/div%3E%0A%3C/body%3E%0A%3Cscript%3E%20%20%20%20%0A%20%20%20%20%0A%20%20%20%20%0A%20%20%20%20%20%20%20%20var%20bounds%20%3D%20null%3B%0A%20%20%20%20%0A%0A%20%20%20%20var%20map_cc29b72e8206469895da2126911396f3%20%3D%20L.map%28%0A%20%20%20%20%20%20%20%20%27map_cc29b72e8206469895da2126911396f3%27%2C%20%7B%0A%20%20%20%20%20%20%20%20center%3A%20%5B13.7544238%2C%20100.4930399%5D%2C%0A%20%20%20%20%20%20%20%20zoom%3A%2011%2C%0A%20%20%20%20%20%20%20%20maxBounds%3A%20bounds%2C%0A%20%20%20%20%20%20%20%20layers%3A%20%5B%5D%2C%0A%20%20%20%20%20%20%20%20worldCopyJump%3A%20false%2C%0A%20%20%20%20%20%20%20%20crs%3A%20L.CRS.EPSG3857%2C%0A%20%20%20%20%20%20%20%20zoomControl%3A%20true%2C%0A%20%20%20%20%20%20%20%20%7D%29%3B%0A%0A%0A%20%20%20%20%0A%20%20%20%20var%20tile_layer_004bb78dbeba41eb976daca9be17b8cb%20%3D%20L.tileLayer%28%0A%20%20%20%20%20%20%20%20%27https%3A//%7Bs%7D.tile.openstreetmap.org/%7Bz%7D/%7Bx%7D/%7By%7D.png%27%2C%0A%20%20%20%20%20%20%20%20%7B%0A%20%20%20%20%20%20%20%20%22attribution%22%3A%20null%2C%0A%20%20%20%20%20%20%20%20%22detectRetina%22%3A%20false%2C%0A%20%20%20%20%20%20%20%20%22maxNativeZoom%22%3A%2018%2C%0A%20%20%20%20%20%20%20%20%22maxZoom%22%3A%2018%2C%0A%20%20%20%20%20%20%20%20%22minZoom%22%3A%200%2C%0A%20%20%20%20%20%20%20%20%22noWrap%22%3A%20false%2C%0A%20%20%20%20%20%20%20%20%22opacity%22%3A%201%2C%0A%20%20%20%20%20%20%20%20%22subdomains%22%3A%20%22abc%22%2C%0A%20%20%20%20%20%20%20%20%22tms%22%3A%20false%0A%7D%29.addTo%28map_cc29b72e8206469895da2126911396f3%29%3B%0A%20%20%20%20%0A%20%20%20%20%20%20%20%20%20%20%20%20var%20circle_marker_3626fc4e2a4941f39a3cee2da8284f1c%20%3D%20L.circleMarker%28%0A%20%20%20%20%20%20%20%20%20%20%20%20%20%20%20%20%5B13.764444%2C%20100.499167%5D%2C%0A%20%20%20%20%20%20%20%20%20%20%20%20%20%20%20%20%7B%0A%20%20%22bubblingMouseEvents%22%3A%20true%2C%0A%20%20%22color%22%3A%20%22%23ffb360%22%2C%0A%20%20%22dashArray%22%3A%20null%2C%0A%20%20%22dashOffset%22%3A%20null%2C%0A%20%20%22fill%22%3A%20true%2C%0A%20%20%22fillColor%22%3A%20%22%23ffb360%22%2C%0A%20%20%22fillOpacity%22%3A%200.7%2C%0A%20%20%22fillRule%22%3A%20%22evenodd%22%2C%0A%20%20%22lineCap%22%3A%20%22round%22%2C%0A%20%20%22lineJoin%22%3A%20%22round%22%2C%0A%20%20%22opacity%22%3A%201.0%2C%0A%20%20%22radius%22%3A%202.8%2C%0A%20%20%22stroke%22%3A%20true%2C%0A%20%20%22weight%22%3A%203%0A%7D%0A%20%20%20%20%20%20%20%20%20%20%20%20%20%20%20%20%29%0A%20%20%20%20%20%20%20%20%20%20%20%20%20%20%20%20.addTo%28map_cc29b72e8206469895da2126911396f3%29%3B%0A%20%20%20%20%20%20%20%20%20%20%20%20%0A%20%20%20%20%0A%20%20%20%20%20%20%20%20%20%20%20%20var%20popup_ffd66d2ba5bf4bc5830140e6a5674ea0%20%3D%20L.popup%28%7BmaxWidth%3A%20%27100%25%27%0A%20%20%20%20%20%20%20%20%20%20%20%20%0A%20%20%20%20%20%20%20%20%20%20%20%20%7D%29%3B%0A%0A%20%20%20%20%20%20%20%20%20%20%20%20%0A%20%20%20%20%20%20%20%20%20%20%20%20%20%20%20%20var%20html_2491e753781a44f393d552bd82481290%20%3D%20%24%28%60%3Cdiv%20id%3D%22html_2491e753781a44f393d552bd82481290%22%20style%3D%22width%3A%20100.0%25%3B%20height%3A%20100.0%25%3B%22%3EPhra%20Nakhon%20Cluster%204%3C/div%3E%60%29%5B0%5D%3B%0A%20%20%20%20%20%20%20%20%20%20%20%20%20%20%20%20popup_ffd66d2ba5bf4bc5830140e6a5674ea0.setContent%28html_2491e753781a44f393d552bd82481290%29%3B%0A%20%20%20%20%20%20%20%20%20%20%20%20%0A%0A%20%20%20%20%20%20%20%20%20%20%20%20circle_marker_3626fc4e2a4941f39a3cee2da8284f1c.bindPopup%28popup_ffd66d2ba5bf4bc5830140e6a5674ea0%29%0A%20%20%20%20%20%20%20%20%20%20%20%20%3B%0A%0A%20%20%20%20%20%20%20%20%20%20%20%20%0A%20%20%20%20%20%20%20%20%0A%20%20%20%20%0A%20%20%20%20%20%20%20%20%20%20%20%20var%20circle_marker_dec36cdb59bf4e4c8927bd3b3646a807%20%3D%20L.circleMarker%28%0A%20%20%20%20%20%20%20%20%20%20%20%20%20%20%20%20%5B13.730833%2C%20100.524167%5D%2C%0A%20%20%20%20%20%20%20%20%20%20%20%20%20%20%20%20%7B%0A%20%20%22bubblingMouseEvents%22%3A%20true%2C%0A%20%20%22color%22%3A%20%22%2380ffb4%22%2C%0A%20%20%22dashArray%22%3A%20null%2C%0A%20%20%22dashOffset%22%3A%20null%2C%0A%20%20%22fill%22%3A%20true%2C%0A%20%20%22fillColor%22%3A%20%22%2380ffb4%22%2C%0A%20%20%22fillOpacity%22%3A%200.7%2C%0A%20%20%22fillRule%22%3A%20%22evenodd%22%2C%0A%20%20%22lineCap%22%3A%20%22round%22%2C%0A%20%20%22lineJoin%22%3A%20%22round%22%2C%0A%20%20%22opacity%22%3A%201.0%2C%0A%20%20%22radius%22%3A%202.0999999999999996%2C%0A%20%20%22stroke%22%3A%20true%2C%0A%20%20%22weight%22%3A%203%0A%7D%0A%20%20%20%20%20%20%20%20%20%20%20%20%20%20%20%20%29%0A%20%20%20%20%20%20%20%20%20%20%20%20%20%20%20%20.addTo%28map_cc29b72e8206469895da2126911396f3%29%3B%0A%20%20%20%20%20%20%20%20%20%20%20%20%0A%20%20%20%20%0A%20%20%20%20%20%20%20%20%20%20%20%20var%20popup_c14659e982c74aee86c26c6888081820%20%3D%20L.popup%28%7BmaxWidth%3A%20%27100%25%27%0A%20%20%20%20%20%20%20%20%20%20%20%20%0A%20%20%20%20%20%20%20%20%20%20%20%20%7D%29%3B%0A%0A%20%20%20%20%20%20%20%20%20%20%20%20%0A%20%20%20%20%20%20%20%20%20%20%20%20%20%20%20%20var%20html_47f04e62e16a444f9384d9e61b4292bb%20%3D%20%24%28%60%3Cdiv%20id%3D%22html_47f04e62e16a444f9384d9e61b4292bb%22%20style%3D%22width%3A%20100.0%25%3B%20height%3A%20100.0%25%3B%22%3EBang%20Rak%20Cluster%203%3C/div%3E%60%29%5B0%5D%3B%0A%20%20%20%20%20%20%20%20%20%20%20%20%20%20%20%20popup_c14659e982c74aee86c26c6888081820.setContent%28html_47f04e62e16a444f9384d9e61b4292bb%29%3B%0A%20%20%20%20%20%20%20%20%20%20%20%20%0A%0A%20%20%20%20%20%20%20%20%20%20%20%20circle_marker_dec36cdb59bf4e4c8927bd3b3646a807.bindPopup%28popup_c14659e982c74aee86c26c6888081820%29%0A%20%20%20%20%20%20%20%20%20%20%20%20%3B%0A%0A%20%20%20%20%20%20%20%20%20%20%20%20%0A%20%20%20%20%20%20%20%20%0A%20%20%20%20%0A%20%20%20%20%20%20%20%20%20%20%20%20var%20circle_marker_8262b648888549a5890760b4e242611a%20%3D%20L.circleMarker%28%0A%20%20%20%20%20%20%20%20%20%20%20%20%20%20%20%20%5B13.873889%2C%20100.596389%5D%2C%0A%20%20%20%20%20%20%20%20%20%20%20%20%20%20%20%20%7B%0A%20%20%22bubblingMouseEvents%22%3A%20true%2C%0A%20%20%22color%22%3A%20%22%23ff0000%22%2C%0A%20%20%22dashArray%22%3A%20null%2C%0A%20%20%22dashOffset%22%3A%20null%2C%0A%20%20%22fill%22%3A%20true%2C%0A%20%20%22fillColor%22%3A%20%22%23ff0000%22%2C%0A%20%20%22fillOpacity%22%3A%200.7%2C%0A%20%20%22fillRule%22%3A%20%22evenodd%22%2C%0A%20%20%22lineCap%22%3A%20%22round%22%2C%0A%20%20%22lineJoin%22%3A%20%22round%22%2C%0A%20%20%22opacity%22%3A%201.0%2C%0A%20%20%22radius%22%3A%200.7%2C%0A%20%20%22stroke%22%3A%20true%2C%0A%20%20%22weight%22%3A%203%0A%7D%0A%20%20%20%20%20%20%20%20%20%20%20%20%20%20%20%20%29%0A%20%20%20%20%20%20%20%20%20%20%20%20%20%20%20%20.addTo%28map_cc29b72e8206469895da2126911396f3%29%3B%0A%20%20%20%20%20%20%20%20%20%20%20%20%0A%20%20%20%20%0A%20%20%20%20%20%20%20%20%20%20%20%20var%20popup_7e4881bccead4cbc97ac9d552926d7f5%20%3D%20L.popup%28%7BmaxWidth%3A%20%27100%25%27%0A%20%20%20%20%20%20%20%20%20%20%20%20%0A%20%20%20%20%20%20%20%20%20%20%20%20%7D%29%3B%0A%0A%20%20%20%20%20%20%20%20%20%20%20%20%0A%20%20%20%20%20%20%20%20%20%20%20%20%20%20%20%20var%20html_4dbb233c44cf4383a1027e3f27d76b13%20%3D%20%24%28%60%3Cdiv%20id%3D%22html_4dbb233c44cf4383a1027e3f27d76b13%22%20style%3D%22width%3A%20100.0%25%3B%20height%3A%20100.0%25%3B%22%3EBang%20Khen%20Cluster%200%3C/div%3E%60%29%5B0%5D%3B%0A%20%20%20%20%20%20%20%20%20%20%20%20%20%20%20%20popup_7e4881bccead4cbc97ac9d552926d7f5.setContent%28html_4dbb233c44cf4383a1027e3f27d76b13%29%3B%0A%20%20%20%20%20%20%20%20%20%20%20%20%0A%0A%20%20%20%20%20%20%20%20%20%20%20%20circle_marker_8262b648888549a5890760b4e242611a.bindPopup%28popup_7e4881bccead4cbc97ac9d552926d7f5%29%0A%20%20%20%20%20%20%20%20%20%20%20%20%3B%0A%0A%20%20%20%20%20%20%20%20%20%20%20%20%0A%20%20%20%20%20%20%20%20%0A%20%20%20%20%0A%20%20%20%20%20%20%20%20%20%20%20%20var%20circle_marker_8235deeeb4d24882a819aba4d89dd297%20%3D%20L.circleMarker%28%0A%20%20%20%20%20%20%20%20%20%20%20%20%20%20%20%20%5B13.765833%2C%20100.647778%5D%2C%0A%20%20%20%20%20%20%20%20%20%20%20%20%20%20%20%20%7B%0A%20%20%22bubblingMouseEvents%22%3A%20true%2C%0A%20%20%22color%22%3A%20%22%238000ff%22%2C%0A%20%20%22dashArray%22%3A%20null%2C%0A%20%20%22dashOffset%22%3A%20null%2C%0A%20%20%22fill%22%3A%20true%2C%0A%20%20%22fillColor%22%3A%20%22%238000ff%22%2C%0A%20%20%22fillOpacity%22%3A%200.7%2C%0A%20%20%22fillRule%22%3A%20%22evenodd%22%2C%0A%20%20%22lineCap%22%3A%20%22round%22%2C%0A%20%20%22lineJoin%22%3A%20%22round%22%2C%0A%20%20%22opacity%22%3A%201.0%2C%0A%20%20%22radius%22%3A%202.0999999999999996%2C%0A%20%20%22stroke%22%3A%20true%2C%0A%20%20%22weight%22%3A%203%0A%7D%0A%20%20%20%20%20%20%20%20%20%20%20%20%20%20%20%20%29%0A%20%20%20%20%20%20%20%20%20%20%20%20%20%20%20%20.addTo%28map_cc29b72e8206469895da2126911396f3%29%3B%0A%20%20%20%20%20%20%20%20%20%20%20%20%0A%20%20%20%20%0A%20%20%20%20%20%20%20%20%20%20%20%20var%20popup_f78221d3d6b542c3b395cf761e114708%20%3D%20L.popup%28%7BmaxWidth%3A%20%27100%25%27%0A%20%20%20%20%20%20%20%20%20%20%20%20%0A%20%20%20%20%20%20%20%20%20%20%20%20%7D%29%3B%0A%0A%20%20%20%20%20%20%20%20%20%20%20%20%0A%20%20%20%20%20%20%20%20%20%20%20%20%20%20%20%20var%20html_e7927fc8029d40c3a67610cb432688b0%20%3D%20%24%28%60%3Cdiv%20id%3D%22html_e7927fc8029d40c3a67610cb432688b0%22%20style%3D%22width%3A%20100.0%25%3B%20height%3A%20100.0%25%3B%22%3EBang%20Kapi%20Cluster%201%3C/div%3E%60%29%5B0%5D%3B%0A%20%20%20%20%20%20%20%20%20%20%20%20%20%20%20%20popup_f78221d3d6b542c3b395cf761e114708.setContent%28html_e7927fc8029d40c3a67610cb432688b0%29%3B%0A%20%20%20%20%20%20%20%20%20%20%20%20%0A%0A%20%20%20%20%20%20%20%20%20%20%20%20circle_marker_8235deeeb4d24882a819aba4d89dd297.bindPopup%28popup_f78221d3d6b542c3b395cf761e114708%29%0A%20%20%20%20%20%20%20%20%20%20%20%20%3B%0A%0A%20%20%20%20%20%20%20%20%20%20%20%20%0A%20%20%20%20%20%20%20%20%0A%20%20%20%20%0A%20%20%20%20%20%20%20%20%20%20%20%20var%20circle_marker_9b72d9735b0843529c9e2428efad9fcc%20%3D%20L.circleMarker%28%0A%20%20%20%20%20%20%20%20%20%20%20%20%20%20%20%20%5B13.744942%2C%20100.5222%5D%2C%0A%20%20%20%20%20%20%20%20%20%20%20%20%20%20%20%20%7B%0A%20%20%22bubblingMouseEvents%22%3A%20true%2C%0A%20%20%22color%22%3A%20%22%23ffb360%22%2C%0A%20%20%22dashArray%22%3A%20null%2C%0A%20%20%22dashOffset%22%3A%20null%2C%0A%20%20%22fill%22%3A%20true%2C%0A%20%20%22fillColor%22%3A%20%22%23ffb360%22%2C%0A%20%20%22fillOpacity%22%3A%200.7%2C%0A%20%20%22fillRule%22%3A%20%22evenodd%22%2C%0A%20%20%22lineCap%22%3A%20%22round%22%2C%0A%20%20%22lineJoin%22%3A%20%22round%22%2C%0A%20%20%22opacity%22%3A%201.0%2C%0A%20%20%22radius%22%3A%2011.2%2C%0A%20%20%22stroke%22%3A%20true%2C%0A%20%20%22weight%22%3A%203%0A%7D%0A%20%20%20%20%20%20%20%20%20%20%20%20%20%20%20%20%29%0A%20%20%20%20%20%20%20%20%20%20%20%20%20%20%20%20.addTo%28map_cc29b72e8206469895da2126911396f3%29%3B%0A%20%20%20%20%20%20%20%20%20%20%20%20%0A%20%20%20%20%0A%20%20%20%20%20%20%20%20%20%20%20%20var%20popup_e0012109da364829967ef7b53e58e57f%20%3D%20L.popup%28%7BmaxWidth%3A%20%27100%25%27%0A%20%20%20%20%20%20%20%20%20%20%20%20%0A%20%20%20%20%20%20%20%20%20%20%20%20%7D%29%3B%0A%0A%20%20%20%20%20%20%20%20%20%20%20%20%0A%20%20%20%20%20%20%20%20%20%20%20%20%20%20%20%20var%20html_e687b4fdd77b4d7c853779223338dbfa%20%3D%20%24%28%60%3Cdiv%20id%3D%22html_e687b4fdd77b4d7c853779223338dbfa%22%20style%3D%22width%3A%20100.0%25%3B%20height%3A%20100.0%25%3B%22%3EPathum%20Wan%20Cluster%204%3C/div%3E%60%29%5B0%5D%3B%0A%20%20%20%20%20%20%20%20%20%20%20%20%20%20%20%20popup_e0012109da364829967ef7b53e58e57f.setContent%28html_e687b4fdd77b4d7c853779223338dbfa%29%3B%0A%20%20%20%20%20%20%20%20%20%20%20%20%0A%0A%20%20%20%20%20%20%20%20%20%20%20%20circle_marker_9b72d9735b0843529c9e2428efad9fcc.bindPopup%28popup_e0012109da364829967ef7b53e58e57f%29%0A%20%20%20%20%20%20%20%20%20%20%20%20%3B%0A%0A%20%20%20%20%20%20%20%20%20%20%20%20%0A%20%20%20%20%20%20%20%20%0A%20%20%20%20%0A%20%20%20%20%20%20%20%20%20%20%20%20var%20circle_marker_22e69116b97f44a2a50bc020a6586a29%20%3D%20L.circleMarker%28%0A%20%20%20%20%20%20%20%20%20%20%20%20%20%20%20%20%5B13.758056%2C%20100.513056%5D%2C%0A%20%20%20%20%20%20%20%20%20%20%20%20%20%20%20%20%7B%0A%20%20%22bubblingMouseEvents%22%3A%20true%2C%0A%20%20%22color%22%3A%20%22%23ffb360%22%2C%0A%20%20%22dashArray%22%3A%20null%2C%0A%20%20%22dashOffset%22%3A%20null%2C%0A%20%20%22fill%22%3A%20true%2C%0A%20%20%22fillColor%22%3A%20%22%23ffb360%22%2C%0A%20%20%22fillOpacity%22%3A%200.7%2C%0A%20%20%22fillRule%22%3A%20%22evenodd%22%2C%0A%20%20%22lineCap%22%3A%20%22round%22%2C%0A%20%20%22lineJoin%22%3A%20%22round%22%2C%0A%20%20%22opacity%22%3A%201.0%2C%0A%20%20%22radius%22%3A%204.8999999999999995%2C%0A%20%20%22stroke%22%3A%20true%2C%0A%20%20%22weight%22%3A%203%0A%7D%0A%20%20%20%20%20%20%20%20%20%20%20%20%20%20%20%20%29%0A%20%20%20%20%20%20%20%20%20%20%20%20%20%20%20%20.addTo%28map_cc29b72e8206469895da2126911396f3%29%3B%0A%20%20%20%20%20%20%20%20%20%20%20%20%0A%20%20%20%20%0A%20%20%20%20%20%20%20%20%20%20%20%20var%20popup_fb7548e8bc9741e58055f68e4c9f9bcf%20%3D%20L.popup%28%7BmaxWidth%3A%20%27100%25%27%0A%20%20%20%20%20%20%20%20%20%20%20%20%0A%20%20%20%20%20%20%20%20%20%20%20%20%7D%29%3B%0A%0A%20%20%20%20%20%20%20%20%20%20%20%20%0A%20%20%20%20%20%20%20%20%20%20%20%20%20%20%20%20var%20html_6ab432ac276d4a8f8b98e59af0b8458a%20%3D%20%24%28%60%3Cdiv%20id%3D%22html_6ab432ac276d4a8f8b98e59af0b8458a%22%20style%3D%22width%3A%20100.0%25%3B%20height%3A%20100.0%25%3B%22%3EPom%20Prap%20Sattru%20Phai%20Cluster%204%3C/div%3E%60%29%5B0%5D%3B%0A%20%20%20%20%20%20%20%20%20%20%20%20%20%20%20%20popup_fb7548e8bc9741e58055f68e4c9f9bcf.setContent%28html_6ab432ac276d4a8f8b98e59af0b8458a%29%3B%0A%20%20%20%20%20%20%20%20%20%20%20%20%0A%0A%20%20%20%20%20%20%20%20%20%20%20%20circle_marker_22e69116b97f44a2a50bc020a6586a29.bindPopup%28popup_fb7548e8bc9741e58055f68e4c9f9bcf%29%0A%20%20%20%20%20%20%20%20%20%20%20%20%3B%0A%0A%20%20%20%20%20%20%20%20%20%20%20%20%0A%20%20%20%20%20%20%20%20%0A%20%20%20%20%0A%20%20%20%20%20%20%20%20%20%20%20%20var%20circle_marker_b74ded5b41824380864002c7939cc96e%20%3D%20L.circleMarker%28%0A%20%20%20%20%20%20%20%20%20%20%20%20%20%20%20%20%5B13.702222%2C%20100.601667%5D%2C%0A%20%20%20%20%20%20%20%20%20%20%20%20%20%20%20%20%7B%0A%20%20%22bubblingMouseEvents%22%3A%20true%2C%0A%20%20%22color%22%3A%20%22%2300b5eb%22%2C%0A%20%20%22dashArray%22%3A%20null%2C%0A%20%20%22dashOffset%22%3A%20null%2C%0A%20%20%22fill%22%3A%20true%2C%0A%20%20%22fillColor%22%3A%20%22%2300b5eb%22%2C%0A%20%20%22fillOpacity%22%3A%200.7%2C%0A%20%20%22fillRule%22%3A%20%22evenodd%22%2C%0A%20%20%22lineCap%22%3A%20%22round%22%2C%0A%20%20%22lineJoin%22%3A%20%22round%22%2C%0A%20%20%22opacity%22%3A%201.0%2C%0A%20%20%22radius%22%3A%202.0999999999999996%2C%0A%20%20%22stroke%22%3A%20true%2C%0A%20%20%22weight%22%3A%203%0A%7D%0A%20%20%20%20%20%20%20%20%20%20%20%20%20%20%20%20%29%0A%20%20%20%20%20%20%20%20%20%20%20%20%20%20%20%20.addTo%28map_cc29b72e8206469895da2126911396f3%29%3B%0A%20%20%20%20%20%20%20%20%20%20%20%20%0A%20%20%20%20%0A%20%20%20%20%20%20%20%20%20%20%20%20var%20popup_75800024ffca444eb0f11d7a4f0f105f%20%3D%20L.popup%28%7BmaxWidth%3A%20%27100%25%27%0A%20%20%20%20%20%20%20%20%20%20%20%20%0A%20%20%20%20%20%20%20%20%20%20%20%20%7D%29%3B%0A%0A%20%20%20%20%20%20%20%20%20%20%20%20%0A%20%20%20%20%20%20%20%20%20%20%20%20%20%20%20%20var%20html_7943ef7a69bb4748b150f59f0d3e1b65%20%3D%20%24%28%60%3Cdiv%20id%3D%22html_7943ef7a69bb4748b150f59f0d3e1b65%22%20style%3D%22width%3A%20100.0%25%3B%20height%3A%20100.0%25%3B%22%3EPhra%20Khanong%20Cluster%202%3C/div%3E%60%29%5B0%5D%3B%0A%20%20%20%20%20%20%20%20%20%20%20%20%20%20%20%20popup_75800024ffca444eb0f11d7a4f0f105f.setContent%28html_7943ef7a69bb4748b150f59f0d3e1b65%29%3B%0A%20%20%20%20%20%20%20%20%20%20%20%20%0A%0A%20%20%20%20%20%20%20%20%20%20%20%20circle_marker_b74ded5b41824380864002c7939cc96e.bindPopup%28popup_75800024ffca444eb0f11d7a4f0f105f%29%0A%20%20%20%20%20%20%20%20%20%20%20%20%3B%0A%0A%20%20%20%20%20%20%20%20%20%20%20%20%0A%20%20%20%20%20%20%20%20%0A%20%20%20%20%0A%20%20%20%20%20%20%20%20%20%20%20%20var%20circle_marker_0dcde967275e4030bb9dda3e6d099cad%20%3D%20L.circleMarker%28%0A%20%20%20%20%20%20%20%20%20%20%20%20%20%20%20%20%5B13.696944%2C%20100.543056%5D%2C%0A%20%20%20%20%20%20%20%20%20%20%20%20%20%20%20%20%7B%0A%20%20%22bubblingMouseEvents%22%3A%20true%2C%0A%20%20%22color%22%3A%20%22%23ffb360%22%2C%0A%20%20%22dashArray%22%3A%20null%2C%0A%20%20%22dashOffset%22%3A%20null%2C%0A%20%20%22fill%22%3A%20true%2C%0A%20%20%22fillColor%22%3A%20%22%23ffb360%22%2C%0A%20%20%22fillOpacity%22%3A%200.7%2C%0A%20%20%22fillRule%22%3A%20%22evenodd%22%2C%0A%20%20%22lineCap%22%3A%20%22round%22%2C%0A%20%20%22lineJoin%22%3A%20%22round%22%2C%0A%20%20%22opacity%22%3A%201.0%2C%0A%20%20%22radius%22%3A%204.8999999999999995%2C%0A%20%20%22stroke%22%3A%20true%2C%0A%20%20%22weight%22%3A%203%0A%7D%0A%20%20%20%20%20%20%20%20%20%20%20%20%20%20%20%20%29%0A%20%20%20%20%20%20%20%20%20%20%20%20%20%20%20%20.addTo%28map_cc29b72e8206469895da2126911396f3%29%3B%0A%20%20%20%20%20%20%20%20%20%20%20%20%0A%20%20%20%20%0A%20%20%20%20%20%20%20%20%20%20%20%20var%20popup_ebeec38e92b34b108a2b2d4c64547271%20%3D%20L.popup%28%7BmaxWidth%3A%20%27100%25%27%0A%20%20%20%20%20%20%20%20%20%20%20%20%0A%20%20%20%20%20%20%20%20%20%20%20%20%7D%29%3B%0A%0A%20%20%20%20%20%20%20%20%20%20%20%20%0A%20%20%20%20%20%20%20%20%20%20%20%20%20%20%20%20var%20html_44d5331aa5864151a3c85b2343a0360c%20%3D%20%24%28%60%3Cdiv%20id%3D%22html_44d5331aa5864151a3c85b2343a0360c%22%20style%3D%22width%3A%20100.0%25%3B%20height%3A%20100.0%25%3B%22%3EYan%20Nawa%20Cluster%204%3C/div%3E%60%29%5B0%5D%3B%0A%20%20%20%20%20%20%20%20%20%20%20%20%20%20%20%20popup_ebeec38e92b34b108a2b2d4c64547271.setContent%28html_44d5331aa5864151a3c85b2343a0360c%29%3B%0A%20%20%20%20%20%20%20%20%20%20%20%20%0A%0A%20%20%20%20%20%20%20%20%20%20%20%20circle_marker_0dcde967275e4030bb9dda3e6d099cad.bindPopup%28popup_ebeec38e92b34b108a2b2d4c64547271%29%0A%20%20%20%20%20%20%20%20%20%20%20%20%3B%0A%0A%20%20%20%20%20%20%20%20%20%20%20%20%0A%20%20%20%20%20%20%20%20%0A%20%20%20%20%0A%20%20%20%20%20%20%20%20%20%20%20%20var%20circle_marker_c8a2736efd2e4a9081f05d2859ce8b7f%20%3D%20L.circleMarker%28%0A%20%20%20%20%20%20%20%20%20%20%20%20%20%20%20%20%5B13.731389%2C%20100.514167%5D%2C%0A%20%20%20%20%20%20%20%20%20%20%20%20%20%20%20%20%7B%0A%20%20%22bubblingMouseEvents%22%3A%20true%2C%0A%20%20%22color%22%3A%20%22%23ffb360%22%2C%0A%20%20%22dashArray%22%3A%20null%2C%0A%20%20%22dashOffset%22%3A%20null%2C%0A%20%20%22fill%22%3A%20true%2C%0A%20%20%22fillColor%22%3A%20%22%23ffb360%22%2C%0A%20%20%22fillOpacity%22%3A%200.7%2C%0A%20%20%22fillRule%22%3A%20%22evenodd%22%2C%0A%20%20%22lineCap%22%3A%20%22round%22%2C%0A%20%20%22lineJoin%22%3A%20%22round%22%2C%0A%20%20%22opacity%22%3A%201.0%2C%0A%20%20%22radius%22%3A%202.8%2C%0A%20%20%22stroke%22%3A%20true%2C%0A%20%20%22weight%22%3A%203%0A%7D%0A%20%20%20%20%20%20%20%20%20%20%20%20%20%20%20%20%29%0A%20%20%20%20%20%20%20%20%20%20%20%20%20%20%20%20.addTo%28map_cc29b72e8206469895da2126911396f3%29%3B%0A%20%20%20%20%20%20%20%20%20%20%20%20%0A%20%20%20%20%0A%20%20%20%20%20%20%20%20%20%20%20%20var%20popup_2e9f2c528d2b4b06b91d634ad08a757a%20%3D%20L.popup%28%7BmaxWidth%3A%20%27100%25%27%0A%20%20%20%20%20%20%20%20%20%20%20%20%0A%20%20%20%20%20%20%20%20%20%20%20%20%7D%29%3B%0A%0A%20%20%20%20%20%20%20%20%20%20%20%20%0A%20%20%20%20%20%20%20%20%20%20%20%20%20%20%20%20var%20html_b151ebf487c44fffbbebdb4c90833c2e%20%3D%20%24%28%60%3Cdiv%20id%3D%22html_b151ebf487c44fffbbebdb4c90833c2e%22%20style%3D%22width%3A%20100.0%25%3B%20height%3A%20100.0%25%3B%22%3ESamphanthawong%20Cluster%204%3C/div%3E%60%29%5B0%5D%3B%0A%20%20%20%20%20%20%20%20%20%20%20%20%20%20%20%20popup_2e9f2c528d2b4b06b91d634ad08a757a.setContent%28html_b151ebf487c44fffbbebdb4c90833c2e%29%3B%0A%20%20%20%20%20%20%20%20%20%20%20%20%0A%0A%20%20%20%20%20%20%20%20%20%20%20%20circle_marker_c8a2736efd2e4a9081f05d2859ce8b7f.bindPopup%28popup_2e9f2c528d2b4b06b91d634ad08a757a%29%0A%20%20%20%20%20%20%20%20%20%20%20%20%3B%0A%0A%20%20%20%20%20%20%20%20%20%20%20%20%0A%20%20%20%20%20%20%20%20%0A%20%20%20%20%0A%20%20%20%20%20%20%20%20%20%20%20%20var%20circle_marker_835cbedd8a4643699177e81c08ef8357%20%3D%20L.circleMarker%28%0A%20%20%20%20%20%20%20%20%20%20%20%20%20%20%20%20%5B13.78%2C%20100.542778%5D%2C%0A%20%20%20%20%20%20%20%20%20%20%20%20%20%20%20%20%7B%0A%20%20%22bubblingMouseEvents%22%3A%20true%2C%0A%20%20%22color%22%3A%20%22%238000ff%22%2C%0A%20%20%22dashArray%22%3A%20null%2C%0A%20%20%22dashOffset%22%3A%20null%2C%0A%20%20%22fill%22%3A%20true%2C%0A%20%20%22fillColor%22%3A%20%22%238000ff%22%2C%0A%20%20%22fillOpacity%22%3A%200.7%2C%0A%20%20%22fillRule%22%3A%20%22evenodd%22%2C%0A%20%20%22lineCap%22%3A%20%22round%22%2C%0A%20%20%22lineJoin%22%3A%20%22round%22%2C%0A%20%20%22opacity%22%3A%201.0%2C%0A%20%20%22radius%22%3A%2011.899999999999999%2C%0A%20%20%22stroke%22%3A%20true%2C%0A%20%20%22weight%22%3A%203%0A%7D%0A%20%20%20%20%20%20%20%20%20%20%20%20%20%20%20%20%29%0A%20%20%20%20%20%20%20%20%20%20%20%20%20%20%20%20.addTo%28map_cc29b72e8206469895da2126911396f3%29%3B%0A%20%20%20%20%20%20%20%20%20%20%20%20%0A%20%20%20%20%0A%20%20%20%20%20%20%20%20%20%20%20%20var%20popup_de2d309413254341ad084af18e1894ec%20%3D%20L.popup%28%7BmaxWidth%3A%20%27100%25%27%0A%20%20%20%20%20%20%20%20%20%20%20%20%0A%20%20%20%20%20%20%20%20%20%20%20%20%7D%29%3B%0A%0A%20%20%20%20%20%20%20%20%20%20%20%20%0A%20%20%20%20%20%20%20%20%20%20%20%20%20%20%20%20var%20html_0ecc1a73a22442a6b8a8878a0c854dc6%20%3D%20%24%28%60%3Cdiv%20id%3D%22html_0ecc1a73a22442a6b8a8878a0c854dc6%22%20style%3D%22width%3A%20100.0%25%3B%20height%3A%20100.0%25%3B%22%3EPhaya%20Thai%20Cluster%201%3C/div%3E%60%29%5B0%5D%3B%0A%20%20%20%20%20%20%20%20%20%20%20%20%20%20%20%20popup_de2d309413254341ad084af18e1894ec.setContent%28html_0ecc1a73a22442a6b8a8878a0c854dc6%29%3B%0A%20%20%20%20%20%20%20%20%20%20%20%20%0A%0A%20%20%20%20%20%20%20%20%20%20%20%20circle_marker_835cbedd8a4643699177e81c08ef8357.bindPopup%28popup_de2d309413254341ad084af18e1894ec%29%0A%20%20%20%20%20%20%20%20%20%20%20%20%3B%0A%0A%20%20%20%20%20%20%20%20%20%20%20%20%0A%20%20%20%20%20%20%20%20%0A%20%20%20%20%0A%20%20%20%20%20%20%20%20%20%20%20%20var%20circle_marker_6b659bc6b2894ef2b225b5f63fbd7d40%20%3D%20L.circleMarker%28%0A%20%20%20%20%20%20%20%20%20%20%20%20%20%20%20%20%5B13.722778%2C%20100.476389%5D%2C%0A%20%20%20%20%20%20%20%20%20%20%20%20%20%20%20%20%7B%0A%20%20%22bubblingMouseEvents%22%3A%20true%2C%0A%20%20%22color%22%3A%20%22%2380ffb4%22%2C%0A%20%20%22dashArray%22%3A%20null%2C%0A%20%20%22dashOffset%22%3A%20null%2C%0A%20%20%22fill%22%3A%20true%2C%0A%20%20%22fillColor%22%3A%20%22%2380ffb4%22%2C%0A%20%20%22fillOpacity%22%3A%200.7%2C%0A%20%20%22fillRule%22%3A%20%22evenodd%22%2C%0A%20%20%22lineCap%22%3A%20%22round%22%2C%0A%20%20%22lineJoin%22%3A%20%22round%22%2C%0A%20%20%22opacity%22%3A%201.0%2C%0A%20%20%22radius%22%3A%201.4%2C%0A%20%20%22stroke%22%3A%20true%2C%0A%20%20%22weight%22%3A%203%0A%7D%0A%20%20%20%20%20%20%20%20%20%20%20%20%20%20%20%20%29%0A%20%20%20%20%20%20%20%20%20%20%20%20%20%20%20%20.addTo%28map_cc29b72e8206469895da2126911396f3%29%3B%0A%20%20%20%20%20%20%20%20%20%20%20%20%0A%20%20%20%20%0A%20%20%20%20%20%20%20%20%20%20%20%20var%20popup_8eda592d16ab4b5884e3e12d4c147c2f%20%3D%20L.popup%28%7BmaxWidth%3A%20%27100%25%27%0A%20%20%20%20%20%20%20%20%20%20%20%20%0A%20%20%20%20%20%20%20%20%20%20%20%20%7D%29%3B%0A%0A%20%20%20%20%20%20%20%20%20%20%20%20%0A%20%20%20%20%20%20%20%20%20%20%20%20%20%20%20%20var%20html_8a8ec4e3ffa846f09fe9010c3e55ac0d%20%3D%20%24%28%60%3Cdiv%20id%3D%22html_8a8ec4e3ffa846f09fe9010c3e55ac0d%22%20style%3D%22width%3A%20100.0%25%3B%20height%3A%20100.0%25%3B%22%3EBangkok%20Yai%20Cluster%203%3C/div%3E%60%29%5B0%5D%3B%0A%20%20%20%20%20%20%20%20%20%20%20%20%20%20%20%20popup_8eda592d16ab4b5884e3e12d4c147c2f.setContent%28html_8a8ec4e3ffa846f09fe9010c3e55ac0d%29%3B%0A%20%20%20%20%20%20%20%20%20%20%20%20%0A%0A%20%20%20%20%20%20%20%20%20%20%20%20circle_marker_6b659bc6b2894ef2b225b5f63fbd7d40.bindPopup%28popup_8eda592d16ab4b5884e3e12d4c147c2f%29%0A%20%20%20%20%20%20%20%20%20%20%20%20%3B%0A%0A%20%20%20%20%20%20%20%20%20%20%20%20%0A%20%20%20%20%20%20%20%20%0A%20%20%20%20%0A%20%20%20%20%20%20%20%20%20%20%20%20var%20circle_marker_fbcf3a7bacce462c834c488300789635%20%3D%20L.circleMarker%28%0A%20%20%20%20%20%20%20%20%20%20%20%20%20%20%20%20%5B13.776667%2C%20100.579444%5D%2C%0A%20%20%20%20%20%20%20%20%20%20%20%20%20%20%20%20%7B%0A%20%20%22bubblingMouseEvents%22%3A%20true%2C%0A%20%20%22color%22%3A%20%22%23ffb360%22%2C%0A%20%20%22dashArray%22%3A%20null%2C%0A%20%20%22dashOffset%22%3A%20null%2C%0A%20%20%22fill%22%3A%20true%2C%0A%20%20%22fillColor%22%3A%20%22%23ffb360%22%2C%0A%20%20%22fillOpacity%22%3A%200.7%2C%0A%20%20%22fillRule%22%3A%20%22evenodd%22%2C%0A%20%20%22lineCap%22%3A%20%22round%22%2C%0A%20%20%22lineJoin%22%3A%20%22round%22%2C%0A%20%20%22opacity%22%3A%201.0%2C%0A%20%20%22radius%22%3A%201.4%2C%0A%20%20%22stroke%22%3A%20true%2C%0A%20%20%22weight%22%3A%203%0A%7D%0A%20%20%20%20%20%20%20%20%20%20%20%20%20%20%20%20%29%0A%20%20%20%20%20%20%20%20%20%20%20%20%20%20%20%20.addTo%28map_cc29b72e8206469895da2126911396f3%29%3B%0A%20%20%20%20%20%20%20%20%20%20%20%20%0A%20%20%20%20%0A%20%20%20%20%20%20%20%20%20%20%20%20var%20popup_d61c8766d35a49e28b8fd435e8051026%20%3D%20L.popup%28%7BmaxWidth%3A%20%27100%25%27%0A%20%20%20%20%20%20%20%20%20%20%20%20%0A%20%20%20%20%20%20%20%20%20%20%20%20%7D%29%3B%0A%0A%20%20%20%20%20%20%20%20%20%20%20%20%0A%20%20%20%20%20%20%20%20%20%20%20%20%20%20%20%20var%20html_0ee5d52a5aa443a59bdbf4ff017d2f84%20%3D%20%24%28%60%3Cdiv%20id%3D%22html_0ee5d52a5aa443a59bdbf4ff017d2f84%22%20style%3D%22width%3A%20100.0%25%3B%20height%3A%20100.0%25%3B%22%3EHuai%20Khwang%20Cluster%204%3C/div%3E%60%29%5B0%5D%3B%0A%20%20%20%20%20%20%20%20%20%20%20%20%20%20%20%20popup_d61c8766d35a49e28b8fd435e8051026.setContent%28html_0ee5d52a5aa443a59bdbf4ff017d2f84%29%3B%0A%20%20%20%20%20%20%20%20%20%20%20%20%0A%0A%20%20%20%20%20%20%20%20%20%20%20%20circle_marker_fbcf3a7bacce462c834c488300789635.bindPopup%28popup_d61c8766d35a49e28b8fd435e8051026%29%0A%20%20%20%20%20%20%20%20%20%20%20%20%3B%0A%0A%20%20%20%20%20%20%20%20%20%20%20%20%0A%20%20%20%20%20%20%20%20%0A%20%20%20%20%0A%20%20%20%20%20%20%20%20%20%20%20%20var%20circle_marker_2ceab0b37a2845d1b6f0a5494668feda%20%3D%20L.circleMarker%28%0A%20%20%20%20%20%20%20%20%20%20%20%20%20%20%20%20%5B13.730278%2C%20100.509722%5D%2C%0A%20%20%20%20%20%20%20%20%20%20%20%20%20%20%20%20%7B%0A%20%20%22bubblingMouseEvents%22%3A%20true%2C%0A%20%20%22color%22%3A%20%22%23ffb360%22%2C%0A%20%20%22dashArray%22%3A%20null%2C%0A%20%20%22dashOffset%22%3A%20null%2C%0A%20%20%22fill%22%3A%20true%2C%0A%20%20%22fillColor%22%3A%20%22%23ffb360%22%2C%0A%20%20%22fillOpacity%22%3A%200.7%2C%0A%20%20%22fillRule%22%3A%20%22evenodd%22%2C%0A%20%20%22lineCap%22%3A%20%22round%22%2C%0A%20%20%22lineJoin%22%3A%20%22round%22%2C%0A%20%20%22opacity%22%3A%201.0%2C%0A%20%20%22radius%22%3A%202.8%2C%0A%20%20%22stroke%22%3A%20true%2C%0A%20%20%22weight%22%3A%203%0A%7D%0A%20%20%20%20%20%20%20%20%20%20%20%20%20%20%20%20%29%0A%20%20%20%20%20%20%20%20%20%20%20%20%20%20%20%20.addTo%28map_cc29b72e8206469895da2126911396f3%29%3B%0A%20%20%20%20%20%20%20%20%20%20%20%20%0A%20%20%20%20%0A%20%20%20%20%20%20%20%20%20%20%20%20var%20popup_9a2b9f68ffd04cfbb79c98d3b0b867e6%20%3D%20L.popup%28%7BmaxWidth%3A%20%27100%25%27%0A%20%20%20%20%20%20%20%20%20%20%20%20%0A%20%20%20%20%20%20%20%20%20%20%20%20%7D%29%3B%0A%0A%20%20%20%20%20%20%20%20%20%20%20%20%0A%20%20%20%20%20%20%20%20%20%20%20%20%20%20%20%20var%20html_a987de4db4044c7c84d81c143e163908%20%3D%20%24%28%60%3Cdiv%20id%3D%22html_a987de4db4044c7c84d81c143e163908%22%20style%3D%22width%3A%20100.0%25%3B%20height%3A%20100.0%25%3B%22%3EKhlong%20San%20Cluster%204%3C/div%3E%60%29%5B0%5D%3B%0A%20%20%20%20%20%20%20%20%20%20%20%20%20%20%20%20popup_9a2b9f68ffd04cfbb79c98d3b0b867e6.setContent%28html_a987de4db4044c7c84d81c143e163908%29%3B%0A%20%20%20%20%20%20%20%20%20%20%20%20%0A%0A%20%20%20%20%20%20%20%20%20%20%20%20circle_marker_2ceab0b37a2845d1b6f0a5494668feda.bindPopup%28popup_9a2b9f68ffd04cfbb79c98d3b0b867e6%29%0A%20%20%20%20%20%20%20%20%20%20%20%20%3B%0A%0A%20%20%20%20%20%20%20%20%20%20%20%20%0A%20%20%20%20%20%20%20%20%0A%20%20%20%20%0A%20%20%20%20%20%20%20%20%20%20%20%20var%20circle_marker_b7b8b7bcd2ee4b8bb9e61a7b7c159358%20%3D%20L.circleMarker%28%0A%20%20%20%20%20%20%20%20%20%20%20%20%20%20%20%20%5B13.770867%2C%20100.467933%5D%2C%0A%20%20%20%20%20%20%20%20%20%20%20%20%20%20%20%20%7B%0A%20%20%22bubblingMouseEvents%22%3A%20true%2C%0A%20%20%22color%22%3A%20%22%2380ffb4%22%2C%0A%20%20%22dashArray%22%3A%20null%2C%0A%20%20%22dashOffset%22%3A%20null%2C%0A%20%20%22fill%22%3A%20true%2C%0A%20%20%22fillColor%22%3A%20%22%2380ffb4%22%2C%0A%20%20%22fillOpacity%22%3A%200.7%2C%0A%20%20%22fillRule%22%3A%20%22evenodd%22%2C%0A%20%20%22lineCap%22%3A%20%22round%22%2C%0A%20%20%22lineJoin%22%3A%20%22round%22%2C%0A%20%20%22opacity%22%3A%201.0%2C%0A%20%20%22radius%22%3A%200.7%2C%0A%20%20%22stroke%22%3A%20true%2C%0A%20%20%22weight%22%3A%203%0A%7D%0A%20%20%20%20%20%20%20%20%20%20%20%20%20%20%20%20%29%0A%20%20%20%20%20%20%20%20%20%20%20%20%20%20%20%20.addTo%28map_cc29b72e8206469895da2126911396f3%29%3B%0A%20%20%20%20%20%20%20%20%20%20%20%20%0A%20%20%20%20%0A%20%20%20%20%20%20%20%20%20%20%20%20var%20popup_aabd91db22934f59a7fbe3ed6a802cae%20%3D%20L.popup%28%7BmaxWidth%3A%20%27100%25%27%0A%20%20%20%20%20%20%20%20%20%20%20%20%0A%20%20%20%20%20%20%20%20%20%20%20%20%7D%29%3B%0A%0A%20%20%20%20%20%20%20%20%20%20%20%20%0A%20%20%20%20%20%20%20%20%20%20%20%20%20%20%20%20var%20html_a3be23ccc6dc41ddaf0491f5f1097c3a%20%3D%20%24%28%60%3Cdiv%20id%3D%22html_a3be23ccc6dc41ddaf0491f5f1097c3a%22%20style%3D%22width%3A%20100.0%25%3B%20height%3A%20100.0%25%3B%22%3EBangkok%20Noi%20Cluster%203%3C/div%3E%60%29%5B0%5D%3B%0A%20%20%20%20%20%20%20%20%20%20%20%20%20%20%20%20popup_aabd91db22934f59a7fbe3ed6a802cae.setContent%28html_a3be23ccc6dc41ddaf0491f5f1097c3a%29%3B%0A%20%20%20%20%20%20%20%20%20%20%20%20%0A%0A%20%20%20%20%20%20%20%20%20%20%20%20circle_marker_b7b8b7bcd2ee4b8bb9e61a7b7c159358.bindPopup%28popup_aabd91db22934f59a7fbe3ed6a802cae%29%0A%20%20%20%20%20%20%20%20%20%20%20%20%3B%0A%0A%20%20%20%20%20%20%20%20%20%20%20%20%0A%20%20%20%20%20%20%20%20%0A%20%20%20%20%0A%20%20%20%20%20%20%20%20%20%20%20%20var%20circle_marker_a56674a5c0f340ee99d376cf5af5b0e7%20%3D%20L.circleMarker%28%0A%20%20%20%20%20%20%20%20%20%20%20%20%20%20%20%20%5B13.660833%2C%20100.435833%5D%2C%0A%20%20%20%20%20%20%20%20%20%20%20%20%20%20%20%20%7B%0A%20%20%22bubblingMouseEvents%22%3A%20true%2C%0A%20%20%22color%22%3A%20%22%238000ff%22%2C%0A%20%20%22dashArray%22%3A%20null%2C%0A%20%20%22dashOffset%22%3A%20null%2C%0A%20%20%22fill%22%3A%20true%2C%0A%20%20%22fillColor%22%3A%20%22%238000ff%22%2C%0A%20%20%22fillOpacity%22%3A%200.7%2C%0A%20%20%22fillRule%22%3A%20%22evenodd%22%2C%0A%20%20%22lineCap%22%3A%20%22round%22%2C%0A%20%20%22lineJoin%22%3A%20%22round%22%2C%0A%20%20%22opacity%22%3A%201.0%2C%0A%20%20%22radius%22%3A%204.199999999999999%2C%0A%20%20%22stroke%22%3A%20true%2C%0A%20%20%22weight%22%3A%203%0A%7D%0A%20%20%20%20%20%20%20%20%20%20%20%20%20%20%20%20%29%0A%20%20%20%20%20%20%20%20%20%20%20%20%20%20%20%20.addTo%28map_cc29b72e8206469895da2126911396f3%29%3B%0A%20%20%20%20%20%20%20%20%20%20%20%20%0A%20%20%20%20%0A%20%20%20%20%20%20%20%20%20%20%20%20var%20popup_31ebfef856004375b756a4db77516c8e%20%3D%20L.popup%28%7BmaxWidth%3A%20%27100%25%27%0A%20%20%20%20%20%20%20%20%20%20%20%20%0A%20%20%20%20%20%20%20%20%20%20%20%20%7D%29%3B%0A%0A%20%20%20%20%20%20%20%20%20%20%20%20%0A%20%20%20%20%20%20%20%20%20%20%20%20%20%20%20%20var%20html_2a4db9620f004a4aaf7c02c4063d0198%20%3D%20%24%28%60%3Cdiv%20id%3D%22html_2a4db9620f004a4aaf7c02c4063d0198%22%20style%3D%22width%3A%20100.0%25%3B%20height%3A%20100.0%25%3B%22%3EBang%20Khun%20Thian%20Cluster%201%3C/div%3E%60%29%5B0%5D%3B%0A%20%20%20%20%20%20%20%20%20%20%20%20%20%20%20%20popup_31ebfef856004375b756a4db77516c8e.setContent%28html_2a4db9620f004a4aaf7c02c4063d0198%29%3B%0A%20%20%20%20%20%20%20%20%20%20%20%20%0A%0A%20%20%20%20%20%20%20%20%20%20%20%20circle_marker_a56674a5c0f340ee99d376cf5af5b0e7.bindPopup%28popup_31ebfef856004375b756a4db77516c8e%29%0A%20%20%20%20%20%20%20%20%20%20%20%20%3B%0A%0A%20%20%20%20%20%20%20%20%20%20%20%20%0A%20%20%20%20%20%20%20%20%0A%20%20%20%20%0A%20%20%20%20%20%20%20%20%20%20%20%20var%20circle_marker_367090248b784538b04c179681816de8%20%3D%20L.circleMarker%28%0A%20%20%20%20%20%20%20%20%20%20%20%20%20%20%20%20%5B13.714722%2C%20100.437222%5D%2C%0A%20%20%20%20%20%20%20%20%20%20%20%20%20%20%20%20%7B%0A%20%20%22bubblingMouseEvents%22%3A%20true%2C%0A%20%20%22color%22%3A%20%22%238000ff%22%2C%0A%20%20%22dashArray%22%3A%20null%2C%0A%20%20%22dashOffset%22%3A%20null%2C%0A%20%20%22fill%22%3A%20true%2C%0A%20%20%22fillColor%22%3A%20%22%238000ff%22%2C%0A%20%20%22fillOpacity%22%3A%200.7%2C%0A%20%20%22fillRule%22%3A%20%22evenodd%22%2C%0A%20%20%22lineCap%22%3A%20%22round%22%2C%0A%20%20%22lineJoin%22%3A%20%22round%22%2C%0A%20%20%22opacity%22%3A%201.0%2C%0A%20%20%22radius%22%3A%206.3%2C%0A%20%20%22stroke%22%3A%20true%2C%0A%20%20%22weight%22%3A%203%0A%7D%0A%20%20%20%20%20%20%20%20%20%20%20%20%20%20%20%20%29%0A%20%20%20%20%20%20%20%20%20%20%20%20%20%20%20%20.addTo%28map_cc29b72e8206469895da2126911396f3%29%3B%0A%20%20%20%20%20%20%20%20%20%20%20%20%0A%20%20%20%20%0A%20%20%20%20%20%20%20%20%20%20%20%20var%20popup_c08513d4bf7a46e4aebb97540cdccfad%20%3D%20L.popup%28%7BmaxWidth%3A%20%27100%25%27%0A%20%20%20%20%20%20%20%20%20%20%20%20%0A%20%20%20%20%20%20%20%20%20%20%20%20%7D%29%3B%0A%0A%20%20%20%20%20%20%20%20%20%20%20%20%0A%20%20%20%20%20%20%20%20%20%20%20%20%20%20%20%20var%20html_f0fa4f21e2e74e0ba3b5d3bbba3a5d77%20%3D%20%24%28%60%3Cdiv%20id%3D%22html_f0fa4f21e2e74e0ba3b5d3bbba3a5d77%22%20style%3D%22width%3A%20100.0%25%3B%20height%3A%20100.0%25%3B%22%3EPhasi%20Charoen%20Cluster%201%3C/div%3E%60%29%5B0%5D%3B%0A%20%20%20%20%20%20%20%20%20%20%20%20%20%20%20%20popup_c08513d4bf7a46e4aebb97540cdccfad.setContent%28html_f0fa4f21e2e74e0ba3b5d3bbba3a5d77%29%3B%0A%20%20%20%20%20%20%20%20%20%20%20%20%0A%0A%20%20%20%20%20%20%20%20%20%20%20%20circle_marker_367090248b784538b04c179681816de8.bindPopup%28popup_c08513d4bf7a46e4aebb97540cdccfad%29%0A%20%20%20%20%20%20%20%20%20%20%20%20%3B%0A%0A%20%20%20%20%20%20%20%20%20%20%20%20%0A%20%20%20%20%20%20%20%20%0A%20%20%20%20%0A%20%20%20%20%20%20%20%20%20%20%20%20var%20circle_marker_66585d9d83b8498789a6607c6b3601a8%20%3D%20L.circleMarker%28%0A%20%20%20%20%20%20%20%20%20%20%20%20%20%20%20%20%5B13.682222%2C%20100.505556%5D%2C%0A%20%20%20%20%20%20%20%20%20%20%20%20%20%20%20%20%7B%0A%20%20%22bubblingMouseEvents%22%3A%20true%2C%0A%20%20%22color%22%3A%20%22%23ff0000%22%2C%0A%20%20%22dashArray%22%3A%20null%2C%0A%20%20%22dashOffset%22%3A%20null%2C%0A%20%20%22fill%22%3A%20true%2C%0A%20%20%22fillColor%22%3A%20%22%23ff0000%22%2C%0A%20%20%22fillOpacity%22%3A%200.7%2C%0A%20%20%22fillRule%22%3A%20%22evenodd%22%2C%0A%20%20%22lineCap%22%3A%20%22round%22%2C%0A%20%20%22lineJoin%22%3A%20%22round%22%2C%0A%20%20%22opacity%22%3A%201.0%2C%0A%20%20%22radius%22%3A%201.4%2C%0A%20%20%22stroke%22%3A%20true%2C%0A%20%20%22weight%22%3A%203%0A%7D%0A%20%20%20%20%20%20%20%20%20%20%20%20%20%20%20%20%29%0A%20%20%20%20%20%20%20%20%20%20%20%20%20%20%20%20.addTo%28map_cc29b72e8206469895da2126911396f3%29%3B%0A%20%20%20%20%20%20%20%20%20%20%20%20%0A%20%20%20%20%0A%20%20%20%20%20%20%20%20%20%20%20%20var%20popup_6337d2da3d5f4828b803b153e919b1ea%20%3D%20L.popup%28%7BmaxWidth%3A%20%27100%25%27%0A%20%20%20%20%20%20%20%20%20%20%20%20%0A%20%20%20%20%20%20%20%20%20%20%20%20%7D%29%3B%0A%0A%20%20%20%20%20%20%20%20%20%20%20%20%0A%20%20%20%20%20%20%20%20%20%20%20%20%20%20%20%20var%20html_37f62791b0d54b90af4aa588772f1de2%20%3D%20%24%28%60%3Cdiv%20id%3D%22html_37f62791b0d54b90af4aa588772f1de2%22%20style%3D%22width%3A%20100.0%25%3B%20height%3A%20100.0%25%3B%22%3ERat%20Burana%20Cluster%200%3C/div%3E%60%29%5B0%5D%3B%0A%20%20%20%20%20%20%20%20%20%20%20%20%20%20%20%20popup_6337d2da3d5f4828b803b153e919b1ea.setContent%28html_37f62791b0d54b90af4aa588772f1de2%29%3B%0A%20%20%20%20%20%20%20%20%20%20%20%20%0A%0A%20%20%20%20%20%20%20%20%20%20%20%20circle_marker_66585d9d83b8498789a6607c6b3601a8.bindPopup%28popup_6337d2da3d5f4828b803b153e919b1ea%29%0A%20%20%20%20%20%20%20%20%20%20%20%20%3B%0A%0A%20%20%20%20%20%20%20%20%20%20%20%20%0A%20%20%20%20%20%20%20%20%0A%20%20%20%20%0A%20%20%20%20%20%20%20%20%20%20%20%20var%20circle_marker_be192457afbe46538d2a0cd2ae40e453%20%3D%20L.circleMarker%28%0A%20%20%20%20%20%20%20%20%20%20%20%20%20%20%20%20%5B13.793889%2C%20100.505%5D%2C%0A%20%20%20%20%20%20%20%20%20%20%20%20%20%20%20%20%7B%0A%20%20%22bubblingMouseEvents%22%3A%20true%2C%0A%20%20%22color%22%3A%20%22%2300b5eb%22%2C%0A%20%20%22dashArray%22%3A%20null%2C%0A%20%20%22dashOffset%22%3A%20null%2C%0A%20%20%22fill%22%3A%20true%2C%0A%20%20%22fillColor%22%3A%20%22%2300b5eb%22%2C%0A%20%20%22fillOpacity%22%3A%200.7%2C%0A%20%20%22fillRule%22%3A%20%22evenodd%22%2C%0A%20%20%22lineCap%22%3A%20%22round%22%2C%0A%20%20%22lineJoin%22%3A%20%22round%22%2C%0A%20%20%22opacity%22%3A%201.0%2C%0A%20%20%22radius%22%3A%200.7%2C%0A%20%20%22stroke%22%3A%20true%2C%0A%20%20%22weight%22%3A%203%0A%7D%0A%20%20%20%20%20%20%20%20%20%20%20%20%20%20%20%20%29%0A%20%20%20%20%20%20%20%20%20%20%20%20%20%20%20%20.addTo%28map_cc29b72e8206469895da2126911396f3%29%3B%0A%20%20%20%20%20%20%20%20%20%20%20%20%0A%20%20%20%20%0A%20%20%20%20%20%20%20%20%20%20%20%20var%20popup_0387e7b681d7449a82d9c2cf0b75fb95%20%3D%20L.popup%28%7BmaxWidth%3A%20%27100%25%27%0A%20%20%20%20%20%20%20%20%20%20%20%20%0A%20%20%20%20%20%20%20%20%20%20%20%20%7D%29%3B%0A%0A%20%20%20%20%20%20%20%20%20%20%20%20%0A%20%20%20%20%20%20%20%20%20%20%20%20%20%20%20%20var%20html_8c6166ead371453285fd33b05afc9199%20%3D%20%24%28%60%3Cdiv%20id%3D%22html_8c6166ead371453285fd33b05afc9199%22%20style%3D%22width%3A%20100.0%25%3B%20height%3A%20100.0%25%3B%22%3EBang%20Phlat%20Cluster%202%3C/div%3E%60%29%5B0%5D%3B%0A%20%20%20%20%20%20%20%20%20%20%20%20%20%20%20%20popup_0387e7b681d7449a82d9c2cf0b75fb95.setContent%28html_8c6166ead371453285fd33b05afc9199%29%3B%0A%20%20%20%20%20%20%20%20%20%20%20%20%0A%0A%20%20%20%20%20%20%20%20%20%20%20%20circle_marker_be192457afbe46538d2a0cd2ae40e453.bindPopup%28popup_0387e7b681d7449a82d9c2cf0b75fb95%29%0A%20%20%20%20%20%20%20%20%20%20%20%20%3B%0A%0A%20%20%20%20%20%20%20%20%20%20%20%20%0A%20%20%20%20%20%20%20%20%0A%20%20%20%20%0A%20%20%20%20%20%20%20%20%20%20%20%20var%20circle_marker_a43f5df327a34966ad782714f5da4b48%20%3D%20L.circleMarker%28%0A%20%20%20%20%20%20%20%20%20%20%20%20%20%20%20%20%5B13.785278%2C%20100.669167%5D%2C%0A%20%20%20%20%20%20%20%20%20%20%20%20%20%20%20%20%7B%0A%20%20%22bubblingMouseEvents%22%3A%20true%2C%0A%20%20%22color%22%3A%20%22%2300b5eb%22%2C%0A%20%20%22dashArray%22%3A%20null%2C%0A%20%20%22dashOffset%22%3A%20null%2C%0A%20%20%22fill%22%3A%20true%2C%0A%20%20%22fillColor%22%3A%20%22%2300b5eb%22%2C%0A%20%20%22fillOpacity%22%3A%200.7%2C%0A%20%20%22fillRule%22%3A%20%22evenodd%22%2C%0A%20%20%22lineCap%22%3A%20%22round%22%2C%0A%20%20%22lineJoin%22%3A%20%22round%22%2C%0A%20%20%22opacity%22%3A%201.0%2C%0A%20%20%22radius%22%3A%200.7%2C%0A%20%20%22stroke%22%3A%20true%2C%0A%20%20%22weight%22%3A%203%0A%7D%0A%20%20%20%20%20%20%20%20%20%20%20%20%20%20%20%20%29%0A%20%20%20%20%20%20%20%20%20%20%20%20%20%20%20%20.addTo%28map_cc29b72e8206469895da2126911396f3%29%3B%0A%20%20%20%20%20%20%20%20%20%20%20%20%0A%20%20%20%20%0A%20%20%20%20%20%20%20%20%20%20%20%20var%20popup_09c9be088b8149c9bce104d0317c9d59%20%3D%20L.popup%28%7BmaxWidth%3A%20%27100%25%27%0A%20%20%20%20%20%20%20%20%20%20%20%20%0A%20%20%20%20%20%20%20%20%20%20%20%20%7D%29%3B%0A%0A%20%20%20%20%20%20%20%20%20%20%20%20%0A%20%20%20%20%20%20%20%20%20%20%20%20%20%20%20%20var%20html_27f476a28ef5434680bfe65fb681ac65%20%3D%20%24%28%60%3Cdiv%20id%3D%22html_27f476a28ef5434680bfe65fb681ac65%22%20style%3D%22width%3A%20100.0%25%3B%20height%3A%20100.0%25%3B%22%3EBueng%20Kum%20Cluster%202%3C/div%3E%60%29%5B0%5D%3B%0A%20%20%20%20%20%20%20%20%20%20%20%20%20%20%20%20popup_09c9be088b8149c9bce104d0317c9d59.setContent%28html_27f476a28ef5434680bfe65fb681ac65%29%3B%0A%20%20%20%20%20%20%20%20%20%20%20%20%0A%0A%20%20%20%20%20%20%20%20%20%20%20%20circle_marker_a43f5df327a34966ad782714f5da4b48.bindPopup%28popup_09c9be088b8149c9bce104d0317c9d59%29%0A%20%20%20%20%20%20%20%20%20%20%20%20%3B%0A%0A%20%20%20%20%20%20%20%20%20%20%20%20%0A%20%20%20%20%20%20%20%20%0A%20%20%20%20%0A%20%20%20%20%20%20%20%20%20%20%20%20var%20circle_marker_49bb161c14e145e08f3e5b4f3f85f361%20%3D%20L.circleMarker%28%0A%20%20%20%20%20%20%20%20%20%20%20%20%20%20%20%20%5B13.708056%2C%20100.526389%5D%2C%0A%20%20%20%20%20%20%20%20%20%20%20%20%20%20%20%20%7B%0A%20%20%22bubblingMouseEvents%22%3A%20true%2C%0A%20%20%22color%22%3A%20%22%2380ffb4%22%2C%0A%20%20%22dashArray%22%3A%20null%2C%0A%20%20%22dashOffset%22%3A%20null%2C%0A%20%20%22fill%22%3A%20true%2C%0A%20%20%22fillColor%22%3A%20%22%2380ffb4%22%2C%0A%20%20%22fillOpacity%22%3A%200.7%2C%0A%20%20%22fillRule%22%3A%20%22evenodd%22%2C%0A%20%20%22lineCap%22%3A%20%22round%22%2C%0A%20%20%22lineJoin%22%3A%20%22round%22%2C%0A%20%20%22opacity%22%3A%201.0%2C%0A%20%20%22radius%22%3A%204.8999999999999995%2C%0A%20%20%22stroke%22%3A%20true%2C%0A%20%20%22weight%22%3A%203%0A%7D%0A%20%20%20%20%20%20%20%20%20%20%20%20%20%20%20%20%29%0A%20%20%20%20%20%20%20%20%20%20%20%20%20%20%20%20.addTo%28map_cc29b72e8206469895da2126911396f3%29%3B%0A%20%20%20%20%20%20%20%20%20%20%20%20%0A%20%20%20%20%0A%20%20%20%20%20%20%20%20%20%20%20%20var%20popup_4273d781f90b413fa32533ae7c677af0%20%3D%20L.popup%28%7BmaxWidth%3A%20%27100%25%27%0A%20%20%20%20%20%20%20%20%20%20%20%20%0A%20%20%20%20%20%20%20%20%20%20%20%20%7D%29%3B%0A%0A%20%20%20%20%20%20%20%20%20%20%20%20%0A%20%20%20%20%20%20%20%20%20%20%20%20%20%20%20%20var%20html_77ae00da07d34b9f9aaf58d927a9fc01%20%3D%20%24%28%60%3Cdiv%20id%3D%22html_77ae00da07d34b9f9aaf58d927a9fc01%22%20style%3D%22width%3A%20100.0%25%3B%20height%3A%20100.0%25%3B%22%3ESathon%20Cluster%203%3C/div%3E%60%29%5B0%5D%3B%0A%20%20%20%20%20%20%20%20%20%20%20%20%20%20%20%20popup_4273d781f90b413fa32533ae7c677af0.setContent%28html_77ae00da07d34b9f9aaf58d927a9fc01%29%3B%0A%20%20%20%20%20%20%20%20%20%20%20%20%0A%0A%20%20%20%20%20%20%20%20%20%20%20%20circle_marker_49bb161c14e145e08f3e5b4f3f85f361.bindPopup%28popup_4273d781f90b413fa32533ae7c677af0%29%0A%20%20%20%20%20%20%20%20%20%20%20%20%3B%0A%0A%20%20%20%20%20%20%20%20%20%20%20%20%0A%20%20%20%20%20%20%20%20%0A%20%20%20%20%0A%20%20%20%20%20%20%20%20%20%20%20%20var%20circle_marker_440c0ff50a1140a3a94091ac729c54b7%20%3D%20L.circleMarker%28%0A%20%20%20%20%20%20%20%20%20%20%20%20%20%20%20%20%5B13.828611%2C%20100.559722%5D%2C%0A%20%20%20%20%20%20%20%20%20%20%20%20%20%20%20%20%7B%0A%20%20%22bubblingMouseEvents%22%3A%20true%2C%0A%20%20%22color%22%3A%20%22%2300b5eb%22%2C%0A%20%20%22dashArray%22%3A%20null%2C%0A%20%20%22dashOffset%22%3A%20null%2C%0A%20%20%22fill%22%3A%20true%2C%0A%20%20%22fillColor%22%3A%20%22%2300b5eb%22%2C%0A%20%20%22fillOpacity%22%3A%200.7%2C%0A%20%20%22fillRule%22%3A%20%22evenodd%22%2C%0A%20%20%22lineCap%22%3A%20%22round%22%2C%0A%20%20%22lineJoin%22%3A%20%22round%22%2C%0A%20%20%22opacity%22%3A%201.0%2C%0A%20%20%22radius%22%3A%200.7%2C%0A%20%20%22stroke%22%3A%20true%2C%0A%20%20%22weight%22%3A%203%0A%7D%0A%20%20%20%20%20%20%20%20%20%20%20%20%20%20%20%20%29%0A%20%20%20%20%20%20%20%20%20%20%20%20%20%20%20%20.addTo%28map_cc29b72e8206469895da2126911396f3%29%3B%0A%20%20%20%20%20%20%20%20%20%20%20%20%0A%20%20%20%20%0A%20%20%20%20%20%20%20%20%20%20%20%20var%20popup_b1964dd0f3044c9e967f3085c249dad2%20%3D%20L.popup%28%7BmaxWidth%3A%20%27100%25%27%0A%20%20%20%20%20%20%20%20%20%20%20%20%0A%20%20%20%20%20%20%20%20%20%20%20%20%7D%29%3B%0A%0A%20%20%20%20%20%20%20%20%20%20%20%20%0A%20%20%20%20%20%20%20%20%20%20%20%20%20%20%20%20var%20html_feab34431a9f4ae2b823cf0844b83416%20%3D%20%24%28%60%3Cdiv%20id%3D%22html_feab34431a9f4ae2b823cf0844b83416%22%20style%3D%22width%3A%20100.0%25%3B%20height%3A%20100.0%25%3B%22%3EChatuchak%20Cluster%202%3C/div%3E%60%29%5B0%5D%3B%0A%20%20%20%20%20%20%20%20%20%20%20%20%20%20%20%20popup_b1964dd0f3044c9e967f3085c249dad2.setContent%28html_feab34431a9f4ae2b823cf0844b83416%29%3B%0A%20%20%20%20%20%20%20%20%20%20%20%20%0A%0A%20%20%20%20%20%20%20%20%20%20%20%20circle_marker_440c0ff50a1140a3a94091ac729c54b7.bindPopup%28popup_b1964dd0f3044c9e967f3085c249dad2%29%0A%20%20%20%20%20%20%20%20%20%20%20%20%3B%0A%0A%20%20%20%20%20%20%20%20%20%20%20%20%0A%20%20%20%20%20%20%20%20%0A%20%20%20%20%0A%20%20%20%20%20%20%20%20%20%20%20%20var%20circle_marker_f6e3dd4699974cf3ac3b37759b257e0f%20%3D%20L.circleMarker%28%0A%20%20%20%20%20%20%20%20%20%20%20%20%20%20%20%20%5B13.693333%2C%20100.5025%5D%2C%0A%20%20%20%20%20%20%20%20%20%20%20%20%20%20%20%20%7B%0A%20%20%22bubblingMouseEvents%22%3A%20true%2C%0A%20%20%22color%22%3A%20%22%23ff0000%22%2C%0A%20%20%22dashArray%22%3A%20null%2C%0A%20%20%22dashOffset%22%3A%20null%2C%0A%20%20%22fill%22%3A%20true%2C%0A%20%20%22fillColor%22%3A%20%22%23ff0000%22%2C%0A%20%20%22fillOpacity%22%3A%200.7%2C%0A%20%20%22fillRule%22%3A%20%22evenodd%22%2C%0A%20%20%22lineCap%22%3A%20%22round%22%2C%0A%20%20%22lineJoin%22%3A%20%22round%22%2C%0A%20%20%22opacity%22%3A%201.0%2C%0A%20%20%22radius%22%3A%202.8%2C%0A%20%20%22stroke%22%3A%20true%2C%0A%20%20%22weight%22%3A%203%0A%7D%0A%20%20%20%20%20%20%20%20%20%20%20%20%20%20%20%20%29%0A%20%20%20%20%20%20%20%20%20%20%20%20%20%20%20%20.addTo%28map_cc29b72e8206469895da2126911396f3%29%3B%0A%20%20%20%20%20%20%20%20%20%20%20%20%0A%20%20%20%20%0A%20%20%20%20%20%20%20%20%20%20%20%20var%20popup_4d551c42cc6b4b3d901a10c85fd3305a%20%3D%20L.popup%28%7BmaxWidth%3A%20%27100%25%27%0A%20%20%20%20%20%20%20%20%20%20%20%20%0A%20%20%20%20%20%20%20%20%20%20%20%20%7D%29%3B%0A%0A%20%20%20%20%20%20%20%20%20%20%20%20%0A%20%20%20%20%20%20%20%20%20%20%20%20%20%20%20%20var%20html_b2020b9d9c6145bb8daeb10e2177b78a%20%3D%20%24%28%60%3Cdiv%20id%3D%22html_b2020b9d9c6145bb8daeb10e2177b78a%22%20style%3D%22width%3A%20100.0%25%3B%20height%3A%20100.0%25%3B%22%3EBang%20Kho%20Laem%20Cluster%200%3C/div%3E%60%29%5B0%5D%3B%0A%20%20%20%20%20%20%20%20%20%20%20%20%20%20%20%20popup_4d551c42cc6b4b3d901a10c85fd3305a.setContent%28html_b2020b9d9c6145bb8daeb10e2177b78a%29%3B%0A%20%20%20%20%20%20%20%20%20%20%20%20%0A%0A%20%20%20%20%20%20%20%20%20%20%20%20circle_marker_f6e3dd4699974cf3ac3b37759b257e0f.bindPopup%28popup_4d551c42cc6b4b3d901a10c85fd3305a%29%0A%20%20%20%20%20%20%20%20%20%20%20%20%3B%0A%0A%20%20%20%20%20%20%20%20%20%20%20%20%0A%20%20%20%20%20%20%20%20%0A%20%20%20%20%0A%20%20%20%20%20%20%20%20%20%20%20%20var%20circle_marker_480115aece114db2ada2af9da44939bb%20%3D%20L.circleMarker%28%0A%20%20%20%20%20%20%20%20%20%20%20%20%20%20%20%20%5B13.716944%2C%20100.694444%5D%2C%0A%20%20%20%20%20%20%20%20%20%20%20%20%20%20%20%20%7B%0A%20%20%22bubblingMouseEvents%22%3A%20true%2C%0A%20%20%22color%22%3A%20%22%238000ff%22%2C%0A%20%20%22dashArray%22%3A%20null%2C%0A%20%20%22dashOffset%22%3A%20null%2C%0A%20%20%22fill%22%3A%20true%2C%0A%20%20%22fillColor%22%3A%20%22%238000ff%22%2C%0A%20%20%22fillOpacity%22%3A%200.7%2C%0A%20%20%22fillRule%22%3A%20%22evenodd%22%2C%0A%20%20%22lineCap%22%3A%20%22round%22%2C%0A%20%20%22lineJoin%22%3A%20%22round%22%2C%0A%20%20%22opacity%22%3A%201.0%2C%0A%20%20%22radius%22%3A%200.7%2C%0A%20%20%22stroke%22%3A%20true%2C%0A%20%20%22weight%22%3A%203%0A%7D%0A%20%20%20%20%20%20%20%20%20%20%20%20%20%20%20%20%29%0A%20%20%20%20%20%20%20%20%20%20%20%20%20%20%20%20.addTo%28map_cc29b72e8206469895da2126911396f3%29%3B%0A%20%20%20%20%20%20%20%20%20%20%20%20%0A%20%20%20%20%0A%20%20%20%20%20%20%20%20%20%20%20%20var%20popup_af496b1c664b4970857ecad7d051db02%20%3D%20L.popup%28%7BmaxWidth%3A%20%27100%25%27%0A%20%20%20%20%20%20%20%20%20%20%20%20%0A%20%20%20%20%20%20%20%20%20%20%20%20%7D%29%3B%0A%0A%20%20%20%20%20%20%20%20%20%20%20%20%0A%20%20%20%20%20%20%20%20%20%20%20%20%20%20%20%20var%20html_dc1ea5a85712476f8cfec6ee9e737479%20%3D%20%24%28%60%3Cdiv%20id%3D%22html_dc1ea5a85712476f8cfec6ee9e737479%22%20style%3D%22width%3A%20100.0%25%3B%20height%3A%20100.0%25%3B%22%3EPrawet%20Cluster%201%3C/div%3E%60%29%5B0%5D%3B%0A%20%20%20%20%20%20%20%20%20%20%20%20%20%20%20%20popup_af496b1c664b4970857ecad7d051db02.setContent%28html_dc1ea5a85712476f8cfec6ee9e737479%29%3B%0A%20%20%20%20%20%20%20%20%20%20%20%20%0A%0A%20%20%20%20%20%20%20%20%20%20%20%20circle_marker_480115aece114db2ada2af9da44939bb.bindPopup%28popup_af496b1c664b4970857ecad7d051db02%29%0A%20%20%20%20%20%20%20%20%20%20%20%20%3B%0A%0A%20%20%20%20%20%20%20%20%20%20%20%20%0A%20%20%20%20%20%20%20%20%0A%20%20%20%20%0A%20%20%20%20%20%20%20%20%20%20%20%20var%20circle_marker_eefc5cc56bc642268d0a3e55cb4c3f1c%20%3D%20L.circleMarker%28%0A%20%20%20%20%20%20%20%20%20%20%20%20%20%20%20%20%5B13.708056%2C%20100.583889%5D%2C%0A%20%20%20%20%20%20%20%20%20%20%20%20%20%20%20%20%7B%0A%20%20%22bubblingMouseEvents%22%3A%20true%2C%0A%20%20%22color%22%3A%20%22%2300b5eb%22%2C%0A%20%20%22dashArray%22%3A%20null%2C%0A%20%20%22dashOffset%22%3A%20null%2C%0A%20%20%22fill%22%3A%20true%2C%0A%20%20%22fillColor%22%3A%20%22%2300b5eb%22%2C%0A%20%20%22fillOpacity%22%3A%200.7%2C%0A%20%20%22fillRule%22%3A%20%22evenodd%22%2C%0A%20%20%22lineCap%22%3A%20%22round%22%2C%0A%20%20%22lineJoin%22%3A%20%22round%22%2C%0A%20%20%22opacity%22%3A%201.0%2C%0A%20%20%22radius%22%3A%200.7%2C%0A%20%20%22stroke%22%3A%20true%2C%0A%20%20%22weight%22%3A%203%0A%7D%0A%20%20%20%20%20%20%20%20%20%20%20%20%20%20%20%20%29%0A%20%20%20%20%20%20%20%20%20%20%20%20%20%20%20%20.addTo%28map_cc29b72e8206469895da2126911396f3%29%3B%0A%20%20%20%20%20%20%20%20%20%20%20%20%0A%20%20%20%20%0A%20%20%20%20%20%20%20%20%20%20%20%20var%20popup_90421d04b99b43f68e05165500e09e7e%20%3D%20L.popup%28%7BmaxWidth%3A%20%27100%25%27%0A%20%20%20%20%20%20%20%20%20%20%20%20%0A%20%20%20%20%20%20%20%20%20%20%20%20%7D%29%3B%0A%0A%20%20%20%20%20%20%20%20%20%20%20%20%0A%20%20%20%20%20%20%20%20%20%20%20%20%20%20%20%20var%20html_e6f2946eff824c4c9267cfaad9613b84%20%3D%20%24%28%60%3Cdiv%20id%3D%22html_e6f2946eff824c4c9267cfaad9613b84%22%20style%3D%22width%3A%20100.0%25%3B%20height%3A%20100.0%25%3B%22%3EKhlong%20Toei%20Cluster%202%3C/div%3E%60%29%5B0%5D%3B%0A%20%20%20%20%20%20%20%20%20%20%20%20%20%20%20%20popup_90421d04b99b43f68e05165500e09e7e.setContent%28html_e6f2946eff824c4c9267cfaad9613b84%29%3B%0A%20%20%20%20%20%20%20%20%20%20%20%20%0A%0A%20%20%20%20%20%20%20%20%20%20%20%20circle_marker_eefc5cc56bc642268d0a3e55cb4c3f1c.bindPopup%28popup_90421d04b99b43f68e05165500e09e7e%29%0A%20%20%20%20%20%20%20%20%20%20%20%20%3B%0A%0A%20%20%20%20%20%20%20%20%20%20%20%20%0A%20%20%20%20%20%20%20%20%0A%20%20%20%20%0A%20%20%20%20%20%20%20%20%20%20%20%20var%20circle_marker_ab35720141594d8d8db1a3e390823fbd%20%3D%20L.circleMarker%28%0A%20%20%20%20%20%20%20%20%20%20%20%20%20%20%20%20%5B13.730278%2C%20100.651389%5D%2C%0A%20%20%20%20%20%20%20%20%20%20%20%20%20%20%20%20%7B%0A%20%20%22bubblingMouseEvents%22%3A%20true%2C%0A%20%20%22color%22%3A%20%22%23ffb360%22%2C%0A%20%20%22dashArray%22%3A%20null%2C%0A%20%20%22dashOffset%22%3A%20null%2C%0A%20%20%22fill%22%3A%20true%2C%0A%20%20%22fillColor%22%3A%20%22%23ffb360%22%2C%0A%20%20%22fillOpacity%22%3A%200.7%2C%0A%20%20%22fillRule%22%3A%20%22evenodd%22%2C%0A%20%20%22lineCap%22%3A%20%22round%22%2C%0A%20%20%22lineJoin%22%3A%20%22round%22%2C%0A%20%20%22opacity%22%3A%201.0%2C%0A%20%20%22radius%22%3A%202.0999999999999996%2C%0A%20%20%22stroke%22%3A%20true%2C%0A%20%20%22weight%22%3A%203%0A%7D%0A%20%20%20%20%20%20%20%20%20%20%20%20%20%20%20%20%29%0A%20%20%20%20%20%20%20%20%20%20%20%20%20%20%20%20.addTo%28map_cc29b72e8206469895da2126911396f3%29%3B%0A%20%20%20%20%20%20%20%20%20%20%20%20%0A%20%20%20%20%0A%20%20%20%20%20%20%20%20%20%20%20%20var%20popup_ff6f8028c4584b9d93c5815533407f87%20%3D%20L.popup%28%7BmaxWidth%3A%20%27100%25%27%0A%20%20%20%20%20%20%20%20%20%20%20%20%0A%20%20%20%20%20%20%20%20%20%20%20%20%7D%29%3B%0A%0A%20%20%20%20%20%20%20%20%20%20%20%20%0A%20%20%20%20%20%20%20%20%20%20%20%20%20%20%20%20var%20html_864eac3695774892b20c80f24058b612%20%3D%20%24%28%60%3Cdiv%20id%3D%22html_864eac3695774892b20c80f24058b612%22%20style%3D%22width%3A%20100.0%25%3B%20height%3A%20100.0%25%3B%22%3ESuan%20Luang%20Cluster%204%3C/div%3E%60%29%5B0%5D%3B%0A%20%20%20%20%20%20%20%20%20%20%20%20%20%20%20%20popup_ff6f8028c4584b9d93c5815533407f87.setContent%28html_864eac3695774892b20c80f24058b612%29%3B%0A%20%20%20%20%20%20%20%20%20%20%20%20%0A%0A%20%20%20%20%20%20%20%20%20%20%20%20circle_marker_ab35720141594d8d8db1a3e390823fbd.bindPopup%28popup_ff6f8028c4584b9d93c5815533407f87%29%0A%20%20%20%20%20%20%20%20%20%20%20%20%3B%0A%0A%20%20%20%20%20%20%20%20%20%20%20%20%0A%20%20%20%20%20%20%20%20%0A%20%20%20%20%0A%20%20%20%20%20%20%20%20%20%20%20%20var%20circle_marker_4f510ab05a2644c9bea0247933541772%20%3D%20L.circleMarker%28%0A%20%20%20%20%20%20%20%20%20%20%20%20%20%20%20%20%5B13.758889%2C%20100.534444%5D%2C%0A%20%20%20%20%20%20%20%20%20%20%20%20%20%20%20%20%7B%0A%20%20%22bubblingMouseEvents%22%3A%20true%2C%0A%20%20%22color%22%3A%20%22%23ff0000%22%2C%0A%20%20%22dashArray%22%3A%20null%2C%0A%20%20%22dashOffset%22%3A%20null%2C%0A%20%20%22fill%22%3A%20true%2C%0A%20%20%22fillColor%22%3A%20%22%23ff0000%22%2C%0A%20%20%22fillOpacity%22%3A%200.7%2C%0A%20%20%22fillRule%22%3A%20%22evenodd%22%2C%0A%20%20%22lineCap%22%3A%20%22round%22%2C%0A%20%20%22lineJoin%22%3A%20%22round%22%2C%0A%20%20%22opacity%22%3A%201.0%2C%0A%20%20%22radius%22%3A%202.8%2C%0A%20%20%22stroke%22%3A%20true%2C%0A%20%20%22weight%22%3A%203%0A%7D%0A%20%20%20%20%20%20%20%20%20%20%20%20%20%20%20%20%29%0A%20%20%20%20%20%20%20%20%20%20%20%20%20%20%20%20.addTo%28map_cc29b72e8206469895da2126911396f3%29%3B%0A%20%20%20%20%20%20%20%20%20%20%20%20%0A%20%20%20%20%0A%20%20%20%20%20%20%20%20%20%20%20%20var%20popup_21c24d110e3142619823ce5c6a629772%20%3D%20L.popup%28%7BmaxWidth%3A%20%27100%25%27%0A%20%20%20%20%20%20%20%20%20%20%20%20%0A%20%20%20%20%20%20%20%20%20%20%20%20%7D%29%3B%0A%0A%20%20%20%20%20%20%20%20%20%20%20%20%0A%20%20%20%20%20%20%20%20%20%20%20%20%20%20%20%20var%20html_9a5501f8d9fe42048f0c93b5579c64d5%20%3D%20%24%28%60%3Cdiv%20id%3D%22html_9a5501f8d9fe42048f0c93b5579c64d5%22%20style%3D%22width%3A%20100.0%25%3B%20height%3A%20100.0%25%3B%22%3ERatchathewi%20Cluster%200%3C/div%3E%60%29%5B0%5D%3B%0A%20%20%20%20%20%20%20%20%20%20%20%20%20%20%20%20popup_21c24d110e3142619823ce5c6a629772.setContent%28html_9a5501f8d9fe42048f0c93b5579c64d5%29%3B%0A%20%20%20%20%20%20%20%20%20%20%20%20%0A%0A%20%20%20%20%20%20%20%20%20%20%20%20circle_marker_4f510ab05a2644c9bea0247933541772.bindPopup%28popup_21c24d110e3142619823ce5c6a629772%29%0A%20%20%20%20%20%20%20%20%20%20%20%20%3B%0A%0A%20%20%20%20%20%20%20%20%20%20%20%20%0A%20%20%20%20%20%20%20%20%0A%20%20%20%20%0A%20%20%20%20%20%20%20%20%20%20%20%20var%20circle_marker_e5114bd8a96e493d829702915e321224%20%3D%20L.circleMarker%28%0A%20%20%20%20%20%20%20%20%20%20%20%20%20%20%20%20%5B13.803611%2C%20100.6075%5D%2C%0A%20%20%20%20%20%20%20%20%20%20%20%20%20%20%20%20%7B%0A%20%20%22bubblingMouseEvents%22%3A%20true%2C%0A%20%20%22color%22%3A%20%22%23ffb360%22%2C%0A%20%20%22dashArray%22%3A%20null%2C%0A%20%20%22dashOffset%22%3A%20null%2C%0A%20%20%22fill%22%3A%20true%2C%0A%20%20%22fillColor%22%3A%20%22%23ffb360%22%2C%0A%20%20%22fillOpacity%22%3A%200.7%2C%0A%20%20%22fillRule%22%3A%20%22evenodd%22%2C%0A%20%20%22lineCap%22%3A%20%22round%22%2C%0A%20%20%22lineJoin%22%3A%20%22round%22%2C%0A%20%20%22opacity%22%3A%201.0%2C%0A%20%20%22radius%22%3A%201.4%2C%0A%20%20%22stroke%22%3A%20true%2C%0A%20%20%22weight%22%3A%203%0A%7D%0A%20%20%20%20%20%20%20%20%20%20%20%20%20%20%20%20%29%0A%20%20%20%20%20%20%20%20%20%20%20%20%20%20%20%20.addTo%28map_cc29b72e8206469895da2126911396f3%29%3B%0A%20%20%20%20%20%20%20%20%20%20%20%20%0A%20%20%20%20%0A%20%20%20%20%20%20%20%20%20%20%20%20var%20popup_ca778a6b76bb4bdd98bf5e2bfc3302ec%20%3D%20L.popup%28%7BmaxWidth%3A%20%27100%25%27%0A%20%20%20%20%20%20%20%20%20%20%20%20%0A%20%20%20%20%20%20%20%20%20%20%20%20%7D%29%3B%0A%0A%20%20%20%20%20%20%20%20%20%20%20%20%0A%20%20%20%20%20%20%20%20%20%20%20%20%20%20%20%20var%20html_8e35c7462f2249729668f91d4415906a%20%3D%20%24%28%60%3Cdiv%20id%3D%22html_8e35c7462f2249729668f91d4415906a%22%20style%3D%22width%3A%20100.0%25%3B%20height%3A%20100.0%25%3B%22%3ELat%20Phrao%20Cluster%204%3C/div%3E%60%29%5B0%5D%3B%0A%20%20%20%20%20%20%20%20%20%20%20%20%20%20%20%20popup_ca778a6b76bb4bdd98bf5e2bfc3302ec.setContent%28html_8e35c7462f2249729668f91d4415906a%29%3B%0A%20%20%20%20%20%20%20%20%20%20%20%20%0A%0A%20%20%20%20%20%20%20%20%20%20%20%20circle_marker_e5114bd8a96e493d829702915e321224.bindPopup%28popup_ca778a6b76bb4bdd98bf5e2bfc3302ec%29%0A%20%20%20%20%20%20%20%20%20%20%20%20%3B%0A%0A%20%20%20%20%20%20%20%20%20%20%20%20%0A%20%20%20%20%20%20%20%20%0A%20%20%20%20%0A%20%20%20%20%20%20%20%20%20%20%20%20var%20circle_marker_e8f1e4b35f1c49219ce44a06bd122481%20%3D%20L.circleMarker%28%0A%20%20%20%20%20%20%20%20%20%20%20%20%20%20%20%20%5B13.742222%2C%20100.585833%5D%2C%0A%20%20%20%20%20%20%20%20%20%20%20%20%20%20%20%20%7B%0A%20%20%22bubblingMouseEvents%22%3A%20true%2C%0A%20%20%22color%22%3A%20%22%23ffb360%22%2C%0A%20%20%22dashArray%22%3A%20null%2C%0A%20%20%22dashOffset%22%3A%20null%2C%0A%20%20%22fill%22%3A%20true%2C%0A%20%20%22fillColor%22%3A%20%22%23ffb360%22%2C%0A%20%20%22fillOpacity%22%3A%200.7%2C%0A%20%20%22fillRule%22%3A%20%22evenodd%22%2C%0A%20%20%22lineCap%22%3A%20%22round%22%2C%0A%20%20%22lineJoin%22%3A%20%22round%22%2C%0A%20%20%22opacity%22%3A%201.0%2C%0A%20%20%22radius%22%3A%204.199999999999999%2C%0A%20%20%22stroke%22%3A%20true%2C%0A%20%20%22weight%22%3A%203%0A%7D%0A%20%20%20%20%20%20%20%20%20%20%20%20%20%20%20%20%29%0A%20%20%20%20%20%20%20%20%20%20%20%20%20%20%20%20.addTo%28map_cc29b72e8206469895da2126911396f3%29%3B%0A%20%20%20%20%20%20%20%20%20%20%20%20%0A%20%20%20%20%0A%20%20%20%20%20%20%20%20%20%20%20%20var%20popup_375e16fc82e940b89eb9d9a5cf941336%20%3D%20L.popup%28%7BmaxWidth%3A%20%27100%25%27%0A%20%20%20%20%20%20%20%20%20%20%20%20%0A%20%20%20%20%20%20%20%20%20%20%20%20%7D%29%3B%0A%0A%20%20%20%20%20%20%20%20%20%20%20%20%0A%20%20%20%20%20%20%20%20%20%20%20%20%20%20%20%20var%20html_32fa83418f7442029923f942b2adb49f%20%3D%20%24%28%60%3Cdiv%20id%3D%22html_32fa83418f7442029923f942b2adb49f%22%20style%3D%22width%3A%20100.0%25%3B%20height%3A%20100.0%25%3B%22%3EWatthana%20Cluster%204%3C/div%3E%60%29%5B0%5D%3B%0A%20%20%20%20%20%20%20%20%20%20%20%20%20%20%20%20popup_375e16fc82e940b89eb9d9a5cf941336.setContent%28html_32fa83418f7442029923f942b2adb49f%29%3B%0A%20%20%20%20%20%20%20%20%20%20%20%20%0A%0A%20%20%20%20%20%20%20%20%20%20%20%20circle_marker_e8f1e4b35f1c49219ce44a06bd122481.bindPopup%28popup_375e16fc82e940b89eb9d9a5cf941336%29%0A%20%20%20%20%20%20%20%20%20%20%20%20%3B%0A%0A%20%20%20%20%20%20%20%20%20%20%20%20%0A%20%20%20%20%20%20%20%20%0A%20%20%20%20%0A%20%20%20%20%20%20%20%20%20%20%20%20var%20circle_marker_d714da1a9b2948ef84ef05f97f3e97e3%20%3D%20L.circleMarker%28%0A%20%20%20%20%20%20%20%20%20%20%20%20%20%20%20%20%5B13.696111%2C%20100.409444%5D%2C%0A%20%20%20%20%20%20%20%20%20%20%20%20%20%20%20%20%7B%0A%20%20%22bubblingMouseEvents%22%3A%20true%2C%0A%20%20%22color%22%3A%20%22%238000ff%22%2C%0A%20%20%22dashArray%22%3A%20null%2C%0A%20%20%22dashOffset%22%3A%20null%2C%0A%20%20%22fill%22%3A%20true%2C%0A%20%20%22fillColor%22%3A%20%22%238000ff%22%2C%0A%20%20%22fillOpacity%22%3A%200.7%2C%0A%20%20%22fillRule%22%3A%20%22evenodd%22%2C%0A%20%20%22lineCap%22%3A%20%22round%22%2C%0A%20%20%22lineJoin%22%3A%20%22round%22%2C%0A%20%20%22opacity%22%3A%201.0%2C%0A%20%20%22radius%22%3A%201.4%2C%0A%20%20%22stroke%22%3A%20true%2C%0A%20%20%22weight%22%3A%203%0A%7D%0A%20%20%20%20%20%20%20%20%20%20%20%20%20%20%20%20%29%0A%20%20%20%20%20%20%20%20%20%20%20%20%20%20%20%20.addTo%28map_cc29b72e8206469895da2126911396f3%29%3B%0A%20%20%20%20%20%20%20%20%20%20%20%20%0A%20%20%20%20%0A%20%20%20%20%20%20%20%20%20%20%20%20var%20popup_a5beffc7a45544e9af70ffec8a9fdacd%20%3D%20L.popup%28%7BmaxWidth%3A%20%27100%25%27%0A%20%20%20%20%20%20%20%20%20%20%20%20%0A%20%20%20%20%20%20%20%20%20%20%20%20%7D%29%3B%0A%0A%20%20%20%20%20%20%20%20%20%20%20%20%0A%20%20%20%20%20%20%20%20%20%20%20%20%20%20%20%20var%20html_301953299736485c94fa47c4b1901b39%20%3D%20%24%28%60%3Cdiv%20id%3D%22html_301953299736485c94fa47c4b1901b39%22%20style%3D%22width%3A%20100.0%25%3B%20height%3A%20100.0%25%3B%22%3EBang%20Khae%20Cluster%201%3C/div%3E%60%29%5B0%5D%3B%0A%20%20%20%20%20%20%20%20%20%20%20%20%20%20%20%20popup_a5beffc7a45544e9af70ffec8a9fdacd.setContent%28html_301953299736485c94fa47c4b1901b39%29%3B%0A%20%20%20%20%20%20%20%20%20%20%20%20%0A%0A%20%20%20%20%20%20%20%20%20%20%20%20circle_marker_d714da1a9b2948ef84ef05f97f3e97e3.bindPopup%28popup_a5beffc7a45544e9af70ffec8a9fdacd%29%0A%20%20%20%20%20%20%20%20%20%20%20%20%3B%0A%0A%20%20%20%20%20%20%20%20%20%20%20%20%0A%20%20%20%20%20%20%20%20%0A%20%20%20%20%0A%20%20%20%20%20%20%20%20%20%20%20%20var%20circle_marker_7f65005bb3ed40889ba9bd305db5d34c%20%3D%20L.circleMarker%28%0A%20%20%20%20%20%20%20%20%20%20%20%20%20%20%20%20%5B13.8875%2C%20100.578889%5D%2C%0A%20%20%20%20%20%20%20%20%20%20%20%20%20%20%20%20%7B%0A%20%20%22bubblingMouseEvents%22%3A%20true%2C%0A%20%20%22color%22%3A%20%22%238000ff%22%2C%0A%20%20%22dashArray%22%3A%20null%2C%0A%20%20%22dashOffset%22%3A%20null%2C%0A%20%20%22fill%22%3A%20true%2C%0A%20%20%22fillColor%22%3A%20%22%238000ff%22%2C%0A%20%20%22fillOpacity%22%3A%200.7%2C%0A%20%20%22fillRule%22%3A%20%22evenodd%22%2C%0A%20%20%22lineCap%22%3A%20%22round%22%2C%0A%20%20%22lineJoin%22%3A%20%22round%22%2C%0A%20%20%22opacity%22%3A%201.0%2C%0A%20%20%22radius%22%3A%202.0999999999999996%2C%0A%20%20%22stroke%22%3A%20true%2C%0A%20%20%22weight%22%3A%203%0A%7D%0A%20%20%20%20%20%20%20%20%20%20%20%20%20%20%20%20%29%0A%20%20%20%20%20%20%20%20%20%20%20%20%20%20%20%20.addTo%28map_cc29b72e8206469895da2126911396f3%29%3B%0A%20%20%20%20%20%20%20%20%20%20%20%20%0A%20%20%20%20%0A%20%20%20%20%20%20%20%20%20%20%20%20var%20popup_739628d1b8ab49e0ad4570ba4b3bda29%20%3D%20L.popup%28%7BmaxWidth%3A%20%27100%25%27%0A%20%20%20%20%20%20%20%20%20%20%20%20%0A%20%20%20%20%20%20%20%20%20%20%20%20%7D%29%3B%0A%0A%20%20%20%20%20%20%20%20%20%20%20%20%0A%20%20%20%20%20%20%20%20%20%20%20%20%20%20%20%20var%20html_3a96dbcb64624f9d87fcbedf0dfc5665%20%3D%20%24%28%60%3Cdiv%20id%3D%22html_3a96dbcb64624f9d87fcbedf0dfc5665%22%20style%3D%22width%3A%20100.0%25%3B%20height%3A%20100.0%25%3B%22%3ELak%20Si%20Cluster%201%3C/div%3E%60%29%5B0%5D%3B%0A%20%20%20%20%20%20%20%20%20%20%20%20%20%20%20%20popup_739628d1b8ab49e0ad4570ba4b3bda29.setContent%28html_3a96dbcb64624f9d87fcbedf0dfc5665%29%3B%0A%20%20%20%20%20%20%20%20%20%20%20%20%0A%0A%20%20%20%20%20%20%20%20%20%20%20%20circle_marker_7f65005bb3ed40889ba9bd305db5d34c.bindPopup%28popup_739628d1b8ab49e0ad4570ba4b3bda29%29%0A%20%20%20%20%20%20%20%20%20%20%20%20%3B%0A%0A%20%20%20%20%20%20%20%20%20%20%20%20%0A%20%20%20%20%20%20%20%20%0A%20%20%20%20%0A%20%20%20%20%20%20%20%20%20%20%20%20var%20circle_marker_778960b9507241c2b45eb1f091efa520%20%3D%20L.circleMarker%28%0A%20%20%20%20%20%20%20%20%20%20%20%20%20%20%20%20%5B13.8271%2C%20100.6743%5D%2C%0A%20%20%20%20%20%20%20%20%20%20%20%20%20%20%20%20%7B%0A%20%20%22bubblingMouseEvents%22%3A%20true%2C%0A%20%20%22color%22%3A%20%22%238000ff%22%2C%0A%20%20%22dashArray%22%3A%20null%2C%0A%20%20%22dashOffset%22%3A%20null%2C%0A%20%20%22fill%22%3A%20true%2C%0A%20%20%22fillColor%22%3A%20%22%238000ff%22%2C%0A%20%20%22fillOpacity%22%3A%200.7%2C%0A%20%20%22fillRule%22%3A%20%22evenodd%22%2C%0A%20%20%22lineCap%22%3A%20%22round%22%2C%0A%20%20%22lineJoin%22%3A%20%22round%22%2C%0A%20%20%22opacity%22%3A%201.0%2C%0A%20%20%22radius%22%3A%205.6%2C%0A%20%20%22stroke%22%3A%20true%2C%0A%20%20%22weight%22%3A%203%0A%7D%0A%20%20%20%20%20%20%20%20%20%20%20%20%20%20%20%20%29%0A%20%20%20%20%20%20%20%20%20%20%20%20%20%20%20%20.addTo%28map_cc29b72e8206469895da2126911396f3%29%3B%0A%20%20%20%20%20%20%20%20%20%20%20%20%0A%20%20%20%20%0A%20%20%20%20%20%20%20%20%20%20%20%20var%20popup_fb96ce7a69b24a0e8bb12012482be81c%20%3D%20L.popup%28%7BmaxWidth%3A%20%27100%25%27%0A%20%20%20%20%20%20%20%20%20%20%20%20%0A%20%20%20%20%20%20%20%20%20%20%20%20%7D%29%3B%0A%0A%20%20%20%20%20%20%20%20%20%20%20%20%0A%20%20%20%20%20%20%20%20%20%20%20%20%20%20%20%20var%20html_c977b51280494619aa9825e8a095bd84%20%3D%20%24%28%60%3Cdiv%20id%3D%22html_c977b51280494619aa9825e8a095bd84%22%20style%3D%22width%3A%20100.0%25%3B%20height%3A%20100.0%25%3B%22%3EKhan%20Na%20Yao%20Cluster%201%3C/div%3E%60%29%5B0%5D%3B%0A%20%20%20%20%20%20%20%20%20%20%20%20%20%20%20%20popup_fb96ce7a69b24a0e8bb12012482be81c.setContent%28html_c977b51280494619aa9825e8a095bd84%29%3B%0A%20%20%20%20%20%20%20%20%20%20%20%20%0A%0A%20%20%20%20%20%20%20%20%20%20%20%20circle_marker_778960b9507241c2b45eb1f091efa520.bindPopup%28popup_fb96ce7a69b24a0e8bb12012482be81c%29%0A%20%20%20%20%20%20%20%20%20%20%20%20%3B%0A%0A%20%20%20%20%20%20%20%20%20%20%20%20%0A%20%20%20%20%20%20%20%20%0A%20%20%20%20%0A%20%20%20%20%20%20%20%20%20%20%20%20var%20circle_marker_ec4f80a861ec4385b296a84826b74073%20%3D%20L.circleMarker%28%0A%20%20%20%20%20%20%20%20%20%20%20%20%20%20%20%20%5B13.77%2C%20100.684722%5D%2C%0A%20%20%20%20%20%20%20%20%20%20%20%20%20%20%20%20%7B%0A%20%20%22bubblingMouseEvents%22%3A%20true%2C%0A%20%20%22color%22%3A%20%22%238000ff%22%2C%0A%20%20%22dashArray%22%3A%20null%2C%0A%20%20%22dashOffset%22%3A%20null%2C%0A%20%20%22fill%22%3A%20true%2C%0A%20%20%22fillColor%22%3A%20%22%238000ff%22%2C%0A%20%20%22fillOpacity%22%3A%200.7%2C%0A%20%20%22fillRule%22%3A%20%22evenodd%22%2C%0A%20%20%22lineCap%22%3A%20%22round%22%2C%0A%20%20%22lineJoin%22%3A%20%22round%22%2C%0A%20%20%22opacity%22%3A%201.0%2C%0A%20%20%22radius%22%3A%200.7%2C%0A%20%20%22stroke%22%3A%20true%2C%0A%20%20%22weight%22%3A%203%0A%7D%0A%20%20%20%20%20%20%20%20%20%20%20%20%20%20%20%20%29%0A%20%20%20%20%20%20%20%20%20%20%20%20%20%20%20%20.addTo%28map_cc29b72e8206469895da2126911396f3%29%3B%0A%20%20%20%20%20%20%20%20%20%20%20%20%0A%20%20%20%20%0A%20%20%20%20%20%20%20%20%20%20%20%20var%20popup_49c0f872b35a4451bdc56ca8a94e1588%20%3D%20L.popup%28%7BmaxWidth%3A%20%27100%25%27%0A%20%20%20%20%20%20%20%20%20%20%20%20%0A%20%20%20%20%20%20%20%20%20%20%20%20%7D%29%3B%0A%0A%20%20%20%20%20%20%20%20%20%20%20%20%0A%20%20%20%20%20%20%20%20%20%20%20%20%20%20%20%20var%20html_8fc5560b223741faacb898be30c299e3%20%3D%20%24%28%60%3Cdiv%20id%3D%22html_8fc5560b223741faacb898be30c299e3%22%20style%3D%22width%3A%20100.0%25%3B%20height%3A%20100.0%25%3B%22%3ESaphan%20Sung%20Cluster%201%3C/div%3E%60%29%5B0%5D%3B%0A%20%20%20%20%20%20%20%20%20%20%20%20%20%20%20%20popup_49c0f872b35a4451bdc56ca8a94e1588.setContent%28html_8fc5560b223741faacb898be30c299e3%29%3B%0A%20%20%20%20%20%20%20%20%20%20%20%20%0A%0A%20%20%20%20%20%20%20%20%20%20%20%20circle_marker_ec4f80a861ec4385b296a84826b74073.bindPopup%28popup_49c0f872b35a4451bdc56ca8a94e1588%29%0A%20%20%20%20%20%20%20%20%20%20%20%20%3B%0A%0A%20%20%20%20%20%20%20%20%20%20%20%20%0A%20%20%20%20%20%20%20%20%0A%20%20%20%20%0A%20%20%20%20%20%20%20%20%20%20%20%20var%20circle_marker_e3e04249d77e451091a0c6bddab9fcc6%20%3D%20L.circleMarker%28%0A%20%20%20%20%20%20%20%20%20%20%20%20%20%20%20%20%5B13.7864%2C%20100.6087%5D%2C%0A%20%20%20%20%20%20%20%20%20%20%20%20%20%20%20%20%7B%0A%20%20%22bubblingMouseEvents%22%3A%20true%2C%0A%20%20%22color%22%3A%20%22%23ff0000%22%2C%0A%20%20%22dashArray%22%3A%20null%2C%0A%20%20%22dashOffset%22%3A%20null%2C%0A%20%20%22fill%22%3A%20true%2C%0A%20%20%22fillColor%22%3A%20%22%23ff0000%22%2C%0A%20%20%22fillOpacity%22%3A%200.7%2C%0A%20%20%22fillRule%22%3A%20%22evenodd%22%2C%0A%20%20%22lineCap%22%3A%20%22round%22%2C%0A%20%20%22lineJoin%22%3A%20%22round%22%2C%0A%20%20%22opacity%22%3A%201.0%2C%0A%20%20%22radius%22%3A%202.0999999999999996%2C%0A%20%20%22stroke%22%3A%20true%2C%0A%20%20%22weight%22%3A%203%0A%7D%0A%20%20%20%20%20%20%20%20%20%20%20%20%20%20%20%20%29%0A%20%20%20%20%20%20%20%20%20%20%20%20%20%20%20%20.addTo%28map_cc29b72e8206469895da2126911396f3%29%3B%0A%20%20%20%20%20%20%20%20%20%20%20%20%0A%20%20%20%20%0A%20%20%20%20%20%20%20%20%20%20%20%20var%20popup_436451b3ce194cbf89d2a59e24816f84%20%3D%20L.popup%28%7BmaxWidth%3A%20%27100%25%27%0A%20%20%20%20%20%20%20%20%20%20%20%20%0A%20%20%20%20%20%20%20%20%20%20%20%20%7D%29%3B%0A%0A%20%20%20%20%20%20%20%20%20%20%20%20%0A%20%20%20%20%20%20%20%20%20%20%20%20%20%20%20%20var%20html_0f7b5857cd4c4c12a9e63396a42e0e37%20%3D%20%24%28%60%3Cdiv%20id%3D%22html_0f7b5857cd4c4c12a9e63396a42e0e37%22%20style%3D%22width%3A%20100.0%25%3B%20height%3A%20100.0%25%3B%22%3EWang%20Thonglang%20Cluster%200%3C/div%3E%60%29%5B0%5D%3B%0A%20%20%20%20%20%20%20%20%20%20%20%20%20%20%20%20popup_436451b3ce194cbf89d2a59e24816f84.setContent%28html_0f7b5857cd4c4c12a9e63396a42e0e37%29%3B%0A%20%20%20%20%20%20%20%20%20%20%20%20%0A%0A%20%20%20%20%20%20%20%20%20%20%20%20circle_marker_e3e04249d77e451091a0c6bddab9fcc6.bindPopup%28popup_436451b3ce194cbf89d2a59e24816f84%29%0A%20%20%20%20%20%20%20%20%20%20%20%20%3B%0A%0A%20%20%20%20%20%20%20%20%20%20%20%20%0A%20%20%20%20%20%20%20%20%0A%20%20%20%20%0A%20%20%20%20%20%20%20%20%20%20%20%20var%20circle_marker_a7367db1d1eb4ae19300cf470c080ef4%20%3D%20L.circleMarker%28%0A%20%20%20%20%20%20%20%20%20%20%20%20%20%20%20%20%5B13.859722%2C%20100.704167%5D%2C%0A%20%20%20%20%20%20%20%20%20%20%20%20%20%20%20%20%7B%0A%20%20%22bubblingMouseEvents%22%3A%20true%2C%0A%20%20%22color%22%3A%20%22%23ffb360%22%2C%0A%20%20%22dashArray%22%3A%20null%2C%0A%20%20%22dashOffset%22%3A%20null%2C%0A%20%20%22fill%22%3A%20true%2C%0A%20%20%22fillColor%22%3A%20%22%23ffb360%22%2C%0A%20%20%22fillOpacity%22%3A%200.7%2C%0A%20%20%22fillRule%22%3A%20%22evenodd%22%2C%0A%20%20%22lineCap%22%3A%20%22round%22%2C%0A%20%20%22lineJoin%22%3A%20%22round%22%2C%0A%20%20%22opacity%22%3A%201.0%2C%0A%20%20%22radius%22%3A%202.0999999999999996%2C%0A%20%20%22stroke%22%3A%20true%2C%0A%20%20%22weight%22%3A%203%0A%7D%0A%20%20%20%20%20%20%20%20%20%20%20%20%20%20%20%20%29%0A%20%20%20%20%20%20%20%20%20%20%20%20%20%20%20%20.addTo%28map_cc29b72e8206469895da2126911396f3%29%3B%0A%20%20%20%20%20%20%20%20%20%20%20%20%0A%20%20%20%20%0A%20%20%20%20%20%20%20%20%20%20%20%20var%20popup_81c9216c0ed74822b4ac3e08e5021b0d%20%3D%20L.popup%28%7BmaxWidth%3A%20%27100%25%27%0A%20%20%20%20%20%20%20%20%20%20%20%20%0A%20%20%20%20%20%20%20%20%20%20%20%20%7D%29%3B%0A%0A%20%20%20%20%20%20%20%20%20%20%20%20%0A%20%20%20%20%20%20%20%20%20%20%20%20%20%20%20%20var%20html_b0e7b990cc954893971953122cad4d0c%20%3D%20%24%28%60%3Cdiv%20id%3D%22html_b0e7b990cc954893971953122cad4d0c%22%20style%3D%22width%3A%20100.0%25%3B%20height%3A%20100.0%25%3B%22%3EKhlong%20Sam%20Wa%20Cluster%204%3C/div%3E%60%29%5B0%5D%3B%0A%20%20%20%20%20%20%20%20%20%20%20%20%20%20%20%20popup_81c9216c0ed74822b4ac3e08e5021b0d.setContent%28html_b0e7b990cc954893971953122cad4d0c%29%3B%0A%20%20%20%20%20%20%20%20%20%20%20%20%0A%0A%20%20%20%20%20%20%20%20%20%20%20%20circle_marker_a7367db1d1eb4ae19300cf470c080ef4.bindPopup%28popup_81c9216c0ed74822b4ac3e08e5021b0d%29%0A%20%20%20%20%20%20%20%20%20%20%20%20%3B%0A%0A%20%20%20%20%20%20%20%20%20%20%20%20%0A%20%20%20%20%20%20%20%20%0A%20%20%20%20%0A%20%20%20%20%20%20%20%20%20%20%20%20var%20circle_marker_6f4849f45dc44dff8e0d0bb0122a5542%20%3D%20L.circleMarker%28%0A%20%20%20%20%20%20%20%20%20%20%20%20%20%20%20%20%5B13.7878%2C%20100.3638%5D%2C%0A%20%20%20%20%20%20%20%20%20%20%20%20%20%20%20%20%7B%0A%20%20%22bubblingMouseEvents%22%3A%20true%2C%0A%20%20%22color%22%3A%20%22%2380ffb4%22%2C%0A%20%20%22dashArray%22%3A%20null%2C%0A%20%20%22dashOffset%22%3A%20null%2C%0A%20%20%22fill%22%3A%20true%2C%0A%20%20%22fillColor%22%3A%20%22%2380ffb4%22%2C%0A%20%20%22fillOpacity%22%3A%200.7%2C%0A%20%20%22fillRule%22%3A%20%22evenodd%22%2C%0A%20%20%22lineCap%22%3A%20%22round%22%2C%0A%20%20%22lineJoin%22%3A%20%22round%22%2C%0A%20%20%22opacity%22%3A%201.0%2C%0A%20%20%22radius%22%3A%201.4%2C%0A%20%20%22stroke%22%3A%20true%2C%0A%20%20%22weight%22%3A%203%0A%7D%0A%20%20%20%20%20%20%20%20%20%20%20%20%20%20%20%20%29%0A%20%20%20%20%20%20%20%20%20%20%20%20%20%20%20%20.addTo%28map_cc29b72e8206469895da2126911396f3%29%3B%0A%20%20%20%20%20%20%20%20%20%20%20%20%0A%20%20%20%20%0A%20%20%20%20%20%20%20%20%20%20%20%20var%20popup_e39cf3c51547460ab6a54544f6bb4c9a%20%3D%20L.popup%28%7BmaxWidth%3A%20%27100%25%27%0A%20%20%20%20%20%20%20%20%20%20%20%20%0A%20%20%20%20%20%20%20%20%20%20%20%20%7D%29%3B%0A%0A%20%20%20%20%20%20%20%20%20%20%20%20%0A%20%20%20%20%20%20%20%20%20%20%20%20%20%20%20%20var%20html_3a8c4c0e87f4443ea707246a5df416b5%20%3D%20%24%28%60%3Cdiv%20id%3D%22html_3a8c4c0e87f4443ea707246a5df416b5%22%20style%3D%22width%3A%20100.0%25%3B%20height%3A%20100.0%25%3B%22%3EThawi%20Watthana%20Cluster%203%3C/div%3E%60%29%5B0%5D%3B%0A%20%20%20%20%20%20%20%20%20%20%20%20%20%20%20%20popup_e39cf3c51547460ab6a54544f6bb4c9a.setContent%28html_3a8c4c0e87f4443ea707246a5df416b5%29%3B%0A%20%20%20%20%20%20%20%20%20%20%20%20%0A%0A%20%20%20%20%20%20%20%20%20%20%20%20circle_marker_6f4849f45dc44dff8e0d0bb0122a5542.bindPopup%28popup_e39cf3c51547460ab6a54544f6bb4c9a%29%0A%20%20%20%20%20%20%20%20%20%20%20%20%3B%0A%0A%20%20%20%20%20%20%20%20%20%20%20%20%0A%20%20%20%20%20%20%20%20%0A%20%20%20%20%0A%20%20%20%20%20%20%20%20%20%20%20%20var%20circle_marker_f848588369a0434bb64e330512992ae8%20%3D%20L.circleMarker%28%0A%20%20%20%20%20%20%20%20%20%20%20%20%20%20%20%20%5B13.6472%2C%20100.4958%5D%2C%0A%20%20%20%20%20%20%20%20%20%20%20%20%20%20%20%20%7B%0A%20%20%22bubblingMouseEvents%22%3A%20true%2C%0A%20%20%22color%22%3A%20%22%238000ff%22%2C%0A%20%20%22dashArray%22%3A%20null%2C%0A%20%20%22dashOffset%22%3A%20null%2C%0A%20%20%22fill%22%3A%20true%2C%0A%20%20%22fillColor%22%3A%20%22%238000ff%22%2C%0A%20%20%22fillOpacity%22%3A%200.7%2C%0A%20%20%22fillRule%22%3A%20%22evenodd%22%2C%0A%20%20%22lineCap%22%3A%20%22round%22%2C%0A%20%20%22lineJoin%22%3A%20%22round%22%2C%0A%20%20%22opacity%22%3A%201.0%2C%0A%20%20%22radius%22%3A%200.7%2C%0A%20%20%22stroke%22%3A%20true%2C%0A%20%20%22weight%22%3A%203%0A%7D%0A%20%20%20%20%20%20%20%20%20%20%20%20%20%20%20%20%29%0A%20%20%20%20%20%20%20%20%20%20%20%20%20%20%20%20.addTo%28map_cc29b72e8206469895da2126911396f3%29%3B%0A%20%20%20%20%20%20%20%20%20%20%20%20%0A%20%20%20%20%0A%20%20%20%20%20%20%20%20%20%20%20%20var%20popup_6a1c69a1601447c09032b96a4ed8831b%20%3D%20L.popup%28%7BmaxWidth%3A%20%27100%25%27%0A%20%20%20%20%20%20%20%20%20%20%20%20%0A%20%20%20%20%20%20%20%20%20%20%20%20%7D%29%3B%0A%0A%20%20%20%20%20%20%20%20%20%20%20%20%0A%20%20%20%20%20%20%20%20%20%20%20%20%20%20%20%20var%20html_455af0a5751c430bb60c8e05012c1506%20%3D%20%24%28%60%3Cdiv%20id%3D%22html_455af0a5751c430bb60c8e05012c1506%22%20style%3D%22width%3A%20100.0%25%3B%20height%3A%20100.0%25%3B%22%3EThung%20Khru%20Cluster%201%3C/div%3E%60%29%5B0%5D%3B%0A%20%20%20%20%20%20%20%20%20%20%20%20%20%20%20%20popup_6a1c69a1601447c09032b96a4ed8831b.setContent%28html_455af0a5751c430bb60c8e05012c1506%29%3B%0A%20%20%20%20%20%20%20%20%20%20%20%20%0A%0A%20%20%20%20%20%20%20%20%20%20%20%20circle_marker_f848588369a0434bb64e330512992ae8.bindPopup%28popup_6a1c69a1601447c09032b96a4ed8831b%29%0A%20%20%20%20%20%20%20%20%20%20%20%20%3B%0A%0A%20%20%20%20%20%20%20%20%20%20%20%20%0A%20%20%20%20%20%20%20%20%0A%20%20%20%20%0A%20%20%20%20%20%20%20%20%20%20%20%20var%20circle_marker_68cfe14f5b1c4f6caabe29b929880848%20%3D%20L.circleMarker%28%0A%20%20%20%20%20%20%20%20%20%20%20%20%20%20%20%20%5B13.6592%2C%20100.3991%5D%2C%0A%20%20%20%20%20%20%20%20%20%20%20%20%20%20%20%20%7B%0A%20%20%22bubblingMouseEvents%22%3A%20true%2C%0A%20%20%22color%22%3A%20%22%238000ff%22%2C%0A%20%20%22dashArray%22%3A%20null%2C%0A%20%20%22dashOffset%22%3A%20null%2C%0A%20%20%22fill%22%3A%20true%2C%0A%20%20%22fillColor%22%3A%20%22%238000ff%22%2C%0A%20%20%22fillOpacity%22%3A%200.7%2C%0A%20%20%22fillRule%22%3A%20%22evenodd%22%2C%0A%20%20%22lineCap%22%3A%20%22round%22%2C%0A%20%20%22lineJoin%22%3A%20%22round%22%2C%0A%20%20%22opacity%22%3A%201.0%2C%0A%20%20%22radius%22%3A%200.7%2C%0A%20%20%22stroke%22%3A%20true%2C%0A%20%20%22weight%22%3A%203%0A%7D%0A%20%20%20%20%20%20%20%20%20%20%20%20%20%20%20%20%29%0A%20%20%20%20%20%20%20%20%20%20%20%20%20%20%20%20.addTo%28map_cc29b72e8206469895da2126911396f3%29%3B%0A%20%20%20%20%20%20%20%20%20%20%20%20%0A%20%20%20%20%0A%20%20%20%20%20%20%20%20%20%20%20%20var%20popup_9501a73a4b6b40688f3ca3feba12409d%20%3D%20L.popup%28%7BmaxWidth%3A%20%27100%25%27%0A%20%20%20%20%20%20%20%20%20%20%20%20%0A%20%20%20%20%20%20%20%20%20%20%20%20%7D%29%3B%0A%0A%20%20%20%20%20%20%20%20%20%20%20%20%0A%20%20%20%20%20%20%20%20%20%20%20%20%20%20%20%20var%20html_8c8ca05aa5534ca9993022db355adbe3%20%3D%20%24%28%60%3Cdiv%20id%3D%22html_8c8ca05aa5534ca9993022db355adbe3%22%20style%3D%22width%3A%20100.0%25%3B%20height%3A%20100.0%25%3B%22%3EBang%20Bon%20Cluster%201%3C/div%3E%60%29%5B0%5D%3B%0A%20%20%20%20%20%20%20%20%20%20%20%20%20%20%20%20popup_9501a73a4b6b40688f3ca3feba12409d.setContent%28html_8c8ca05aa5534ca9993022db355adbe3%29%3B%0A%20%20%20%20%20%20%20%20%20%20%20%20%0A%0A%20%20%20%20%20%20%20%20%20%20%20%20circle_marker_68cfe14f5b1c4f6caabe29b929880848.bindPopup%28popup_9501a73a4b6b40688f3ca3feba12409d%29%0A%20%20%20%20%20%20%20%20%20%20%20%20%3B%0A%0A%20%20%20%20%20%20%20%20%20%20%20%20%0A%20%20%20%20%20%20%20%20%0A%3C/script%3E onload=\"this.contentDocument.open();this.contentDocument.write(    decodeURIComponent(this.getAttribute('data-html')));this.contentDocument.close();\" allowfullscreen webkitallowfullscreen mozallowfullscreen></iframe></div></div>"
            ],
            "text/plain": [
              "<folium.folium.Map at 0x7f4dc9657290>"
            ]
          },
          "metadata": {
            "tags": []
          },
          "execution_count": 81
        }
      ]
    },
    {
      "cell_type": "markdown",
      "metadata": {
        "id": "DjSZcSYQ8ybm"
      },
      "source": [
        "Next let take a look on 5 cluster"
      ]
    },
    {
      "cell_type": "markdown",
      "metadata": {
        "id": "Rf8337EDg9o_"
      },
      "source": [
        "cluster 1"
      ]
    },
    {
      "cell_type": "code",
      "metadata": {
        "id": "5eTX3fLyvz90",
        "colab": {
          "base_uri": "https://localhost:8080/",
          "height": 267
        },
        "outputId": "27eaac5b-7661-4628-b656-2eabe65b65e6"
      },
      "source": [
        "bangkok_merged.loc[bangkok_merged['Cluster Labels'] == 0, bangkok_merged.columns[[0] + list(range(6, bangkok_merged.shape[1]))]]"
      ],
      "execution_count": null,
      "outputs": [
        {
          "output_type": "execute_result",
          "data": {
            "text/html": [
              "<div>\n",
              "<style scoped>\n",
              "    .dataframe tbody tr th:only-of-type {\n",
              "        vertical-align: middle;\n",
              "    }\n",
              "\n",
              "    .dataframe tbody tr th {\n",
              "        vertical-align: top;\n",
              "    }\n",
              "\n",
              "    .dataframe thead th {\n",
              "        text-align: right;\n",
              "    }\n",
              "</style>\n",
              "<table border=\"1\" class=\"dataframe\">\n",
              "  <thead>\n",
              "    <tr style=\"text-align: right;\">\n",
              "      <th></th>\n",
              "      <th>Neighborhood</th>\n",
              "      <th>Cluster Labels</th>\n",
              "      <th>1st Most Common Venue</th>\n",
              "      <th>2nd Most Common Venue</th>\n",
              "      <th>3rd Most Common Venue</th>\n",
              "      <th>4th Most Common Venue</th>\n",
              "      <th>5th Most Common Venue</th>\n",
              "      <th>6th Most Common Venue</th>\n",
              "      <th>7th Most Common Venue</th>\n",
              "    </tr>\n",
              "    <tr>\n",
              "      <th>Map</th>\n",
              "      <th></th>\n",
              "      <th></th>\n",
              "      <th></th>\n",
              "      <th></th>\n",
              "      <th></th>\n",
              "      <th></th>\n",
              "      <th></th>\n",
              "      <th></th>\n",
              "      <th></th>\n",
              "    </tr>\n",
              "  </thead>\n",
              "  <tbody>\n",
              "    <tr>\n",
              "      <th>5</th>\n",
              "      <td>Bang Khen</td>\n",
              "      <td>0</td>\n",
              "      <td>Vietnamese Restaurant</td>\n",
              "      <td>Korean Restaurant</td>\n",
              "      <td>Japanese Restaurant</td>\n",
              "      <td>Indian Restaurant</td>\n",
              "      <td>European restaurant</td>\n",
              "      <td>Chinese Restaurant</td>\n",
              "      <td>American Restaurant</td>\n",
              "    </tr>\n",
              "    <tr>\n",
              "      <th>24</th>\n",
              "      <td>Rat Burana</td>\n",
              "      <td>0</td>\n",
              "      <td>Vietnamese Restaurant</td>\n",
              "      <td>Chinese Restaurant</td>\n",
              "      <td>Korean Restaurant</td>\n",
              "      <td>Japanese Restaurant</td>\n",
              "      <td>Indian Restaurant</td>\n",
              "      <td>European restaurant</td>\n",
              "      <td>American Restaurant</td>\n",
              "    </tr>\n",
              "    <tr>\n",
              "      <th>31</th>\n",
              "      <td>Bang Kho Laem</td>\n",
              "      <td>0</td>\n",
              "      <td>Chinese Restaurant</td>\n",
              "      <td>Vietnamese Restaurant</td>\n",
              "      <td>American Restaurant</td>\n",
              "      <td>Korean Restaurant</td>\n",
              "      <td>Japanese Restaurant</td>\n",
              "      <td>Indian Restaurant</td>\n",
              "      <td>European restaurant</td>\n",
              "    </tr>\n",
              "    <tr>\n",
              "      <th>37</th>\n",
              "      <td>Ratchathewi</td>\n",
              "      <td>0</td>\n",
              "      <td>European restaurant</td>\n",
              "      <td>Vietnamese Restaurant</td>\n",
              "      <td>Korean Restaurant</td>\n",
              "      <td>Chinese Restaurant</td>\n",
              "      <td>American Restaurant</td>\n",
              "      <td>Japanese Restaurant</td>\n",
              "      <td>Indian Restaurant</td>\n",
              "    </tr>\n",
              "    <tr>\n",
              "      <th>45</th>\n",
              "      <td>Wang Thonglang</td>\n",
              "      <td>0</td>\n",
              "      <td>Vietnamese Restaurant</td>\n",
              "      <td>Japanese Restaurant</td>\n",
              "      <td>American Restaurant</td>\n",
              "      <td>Korean Restaurant</td>\n",
              "      <td>Indian Restaurant</td>\n",
              "      <td>European restaurant</td>\n",
              "      <td>Chinese Restaurant</td>\n",
              "    </tr>\n",
              "  </tbody>\n",
              "</table>\n",
              "</div>"
            ],
            "text/plain": [
              "       Neighborhood  Cluster Labels  ... 6th Most Common Venue 7th Most Common Venue\n",
              "Map                                  ...                                            \n",
              "5         Bang Khen               0  ...    Chinese Restaurant   American Restaurant\n",
              "24       Rat Burana               0  ...   European restaurant   American Restaurant\n",
              "31    Bang Kho Laem               0  ...     Indian Restaurant   European restaurant\n",
              "37      Ratchathewi               0  ...   Japanese Restaurant     Indian Restaurant\n",
              "45   Wang Thonglang               0  ...   European restaurant    Chinese Restaurant\n",
              "\n",
              "[5 rows x 9 columns]"
            ]
          },
          "metadata": {
            "tags": []
          },
          "execution_count": 65
        }
      ]
    },
    {
      "cell_type": "markdown",
      "metadata": {
        "id": "gSRb9hs7hBde"
      },
      "source": [
        "cluster 2"
      ]
    },
    {
      "cell_type": "code",
      "metadata": {
        "id": "AxfcM9PpwzHy",
        "colab": {
          "base_uri": "https://localhost:8080/",
          "height": 452
        },
        "outputId": "c9b32d25-50f8-4ec2-9979-8b3f5a0cea28"
      },
      "source": [
        "bangkok_merged.loc[bangkok_merged['Cluster Labels'] == 1, bangkok_merged.columns[[0] + list(range(6, bangkok_merged.shape[1]))]]"
      ],
      "execution_count": null,
      "outputs": [
        {
          "output_type": "execute_result",
          "data": {
            "text/html": [
              "<div>\n",
              "<style scoped>\n",
              "    .dataframe tbody tr th:only-of-type {\n",
              "        vertical-align: middle;\n",
              "    }\n",
              "\n",
              "    .dataframe tbody tr th {\n",
              "        vertical-align: top;\n",
              "    }\n",
              "\n",
              "    .dataframe thead th {\n",
              "        text-align: right;\n",
              "    }\n",
              "</style>\n",
              "<table border=\"1\" class=\"dataframe\">\n",
              "  <thead>\n",
              "    <tr style=\"text-align: right;\">\n",
              "      <th></th>\n",
              "      <th>Neighborhood</th>\n",
              "      <th>Cluster Labels</th>\n",
              "      <th>1st Most Common Venue</th>\n",
              "      <th>2nd Most Common Venue</th>\n",
              "      <th>3rd Most Common Venue</th>\n",
              "      <th>4th Most Common Venue</th>\n",
              "      <th>5th Most Common Venue</th>\n",
              "      <th>6th Most Common Venue</th>\n",
              "      <th>7th Most Common Venue</th>\n",
              "    </tr>\n",
              "    <tr>\n",
              "      <th>Map</th>\n",
              "      <th></th>\n",
              "      <th></th>\n",
              "      <th></th>\n",
              "      <th></th>\n",
              "      <th></th>\n",
              "      <th></th>\n",
              "      <th></th>\n",
              "      <th></th>\n",
              "      <th></th>\n",
              "    </tr>\n",
              "  </thead>\n",
              "  <tbody>\n",
              "    <tr>\n",
              "      <th>6</th>\n",
              "      <td>Bang Kapi</td>\n",
              "      <td>1</td>\n",
              "      <td>Japanese Restaurant</td>\n",
              "      <td>Korean Restaurant</td>\n",
              "      <td>Vietnamese Restaurant</td>\n",
              "      <td>Indian Restaurant</td>\n",
              "      <td>European restaurant</td>\n",
              "      <td>Chinese Restaurant</td>\n",
              "      <td>American Restaurant</td>\n",
              "    </tr>\n",
              "    <tr>\n",
              "      <th>14</th>\n",
              "      <td>Phaya Thai</td>\n",
              "      <td>1</td>\n",
              "      <td>Japanese Restaurant</td>\n",
              "      <td>Chinese Restaurant</td>\n",
              "      <td>European restaurant</td>\n",
              "      <td>Vietnamese Restaurant</td>\n",
              "      <td>Korean Restaurant</td>\n",
              "      <td>American Restaurant</td>\n",
              "      <td>Indian Restaurant</td>\n",
              "    </tr>\n",
              "    <tr>\n",
              "      <th>21</th>\n",
              "      <td>Bang Khun Thian</td>\n",
              "      <td>1</td>\n",
              "      <td>Japanese Restaurant</td>\n",
              "      <td>Chinese Restaurant</td>\n",
              "      <td>American Restaurant</td>\n",
              "      <td>Vietnamese Restaurant</td>\n",
              "      <td>Korean Restaurant</td>\n",
              "      <td>Indian Restaurant</td>\n",
              "      <td>European restaurant</td>\n",
              "    </tr>\n",
              "    <tr>\n",
              "      <th>22</th>\n",
              "      <td>Phasi Charoen</td>\n",
              "      <td>1</td>\n",
              "      <td>Japanese Restaurant</td>\n",
              "      <td>American Restaurant</td>\n",
              "      <td>Vietnamese Restaurant</td>\n",
              "      <td>Korean Restaurant</td>\n",
              "      <td>Indian Restaurant</td>\n",
              "      <td>European restaurant</td>\n",
              "      <td>Chinese Restaurant</td>\n",
              "    </tr>\n",
              "    <tr>\n",
              "      <th>32</th>\n",
              "      <td>Prawet</td>\n",
              "      <td>1</td>\n",
              "      <td>Japanese Restaurant</td>\n",
              "      <td>Vietnamese Restaurant</td>\n",
              "      <td>Korean Restaurant</td>\n",
              "      <td>Indian Restaurant</td>\n",
              "      <td>European restaurant</td>\n",
              "      <td>Chinese Restaurant</td>\n",
              "      <td>American Restaurant</td>\n",
              "    </tr>\n",
              "    <tr>\n",
              "      <th>40</th>\n",
              "      <td>Bang Khae</td>\n",
              "      <td>1</td>\n",
              "      <td>Japanese Restaurant</td>\n",
              "      <td>American Restaurant</td>\n",
              "      <td>Vietnamese Restaurant</td>\n",
              "      <td>Korean Restaurant</td>\n",
              "      <td>Indian Restaurant</td>\n",
              "      <td>European restaurant</td>\n",
              "      <td>Chinese Restaurant</td>\n",
              "    </tr>\n",
              "    <tr>\n",
              "      <th>41</th>\n",
              "      <td>Lak Si</td>\n",
              "      <td>1</td>\n",
              "      <td>Japanese Restaurant</td>\n",
              "      <td>American Restaurant</td>\n",
              "      <td>Vietnamese Restaurant</td>\n",
              "      <td>Korean Restaurant</td>\n",
              "      <td>Indian Restaurant</td>\n",
              "      <td>European restaurant</td>\n",
              "      <td>Chinese Restaurant</td>\n",
              "    </tr>\n",
              "    <tr>\n",
              "      <th>43</th>\n",
              "      <td>Khan Na Yao</td>\n",
              "      <td>1</td>\n",
              "      <td>Japanese Restaurant</td>\n",
              "      <td>American Restaurant</td>\n",
              "      <td>Vietnamese Restaurant</td>\n",
              "      <td>Korean Restaurant</td>\n",
              "      <td>Indian Restaurant</td>\n",
              "      <td>European restaurant</td>\n",
              "      <td>Chinese Restaurant</td>\n",
              "    </tr>\n",
              "    <tr>\n",
              "      <th>44</th>\n",
              "      <td>Saphan Sung</td>\n",
              "      <td>1</td>\n",
              "      <td>Japanese Restaurant</td>\n",
              "      <td>Vietnamese Restaurant</td>\n",
              "      <td>Korean Restaurant</td>\n",
              "      <td>Indian Restaurant</td>\n",
              "      <td>European restaurant</td>\n",
              "      <td>Chinese Restaurant</td>\n",
              "      <td>American Restaurant</td>\n",
              "    </tr>\n",
              "    <tr>\n",
              "      <th>49</th>\n",
              "      <td>Thung Khru</td>\n",
              "      <td>1</td>\n",
              "      <td>Japanese Restaurant</td>\n",
              "      <td>Vietnamese Restaurant</td>\n",
              "      <td>Korean Restaurant</td>\n",
              "      <td>Indian Restaurant</td>\n",
              "      <td>European restaurant</td>\n",
              "      <td>Chinese Restaurant</td>\n",
              "      <td>American Restaurant</td>\n",
              "    </tr>\n",
              "    <tr>\n",
              "      <th>50</th>\n",
              "      <td>Bang Bon</td>\n",
              "      <td>1</td>\n",
              "      <td>Japanese Restaurant</td>\n",
              "      <td>Vietnamese Restaurant</td>\n",
              "      <td>Korean Restaurant</td>\n",
              "      <td>Indian Restaurant</td>\n",
              "      <td>European restaurant</td>\n",
              "      <td>Chinese Restaurant</td>\n",
              "      <td>American Restaurant</td>\n",
              "    </tr>\n",
              "  </tbody>\n",
              "</table>\n",
              "</div>"
            ],
            "text/plain": [
              "        Neighborhood  ...  7th Most Common Venue\n",
              "Map                   ...                       \n",
              "6          Bang Kapi  ...    American Restaurant\n",
              "14        Phaya Thai  ...      Indian Restaurant\n",
              "21   Bang Khun Thian  ...    European restaurant\n",
              "22     Phasi Charoen  ...     Chinese Restaurant\n",
              "32            Prawet  ...    American Restaurant\n",
              "40         Bang Khae  ...     Chinese Restaurant\n",
              "41            Lak Si  ...     Chinese Restaurant\n",
              "43       Khan Na Yao  ...     Chinese Restaurant\n",
              "44       Saphan Sung  ...    American Restaurant\n",
              "49        Thung Khru  ...    American Restaurant\n",
              "50          Bang Bon  ...    American Restaurant\n",
              "\n",
              "[11 rows x 9 columns]"
            ]
          },
          "metadata": {
            "tags": []
          },
          "execution_count": 66
        }
      ]
    },
    {
      "cell_type": "markdown",
      "metadata": {
        "id": "52YO_E7XhDUf"
      },
      "source": [
        "cluster 3"
      ]
    },
    {
      "cell_type": "code",
      "metadata": {
        "id": "93HBPKLEw3nq",
        "colab": {
          "base_uri": "https://localhost:8080/",
          "height": 250
        },
        "outputId": "12cf9af5-b5e6-4159-94b3-80a5c49c05cd"
      },
      "source": [
        "bangkok_merged.loc[bangkok_merged['Cluster Labels'] == 2, bangkok_merged.columns[[0] + list(range(6, bangkok_merged.shape[1]))]]"
      ],
      "execution_count": null,
      "outputs": [
        {
          "output_type": "execute_result",
          "data": {
            "text/html": [
              "<div>\n",
              "<style scoped>\n",
              "    .dataframe tbody tr th:only-of-type {\n",
              "        vertical-align: middle;\n",
              "    }\n",
              "\n",
              "    .dataframe tbody tr th {\n",
              "        vertical-align: top;\n",
              "    }\n",
              "\n",
              "    .dataframe thead th {\n",
              "        text-align: right;\n",
              "    }\n",
              "</style>\n",
              "<table border=\"1\" class=\"dataframe\">\n",
              "  <thead>\n",
              "    <tr style=\"text-align: right;\">\n",
              "      <th></th>\n",
              "      <th>Neighborhood</th>\n",
              "      <th>Cluster Labels</th>\n",
              "      <th>1st Most Common Venue</th>\n",
              "      <th>2nd Most Common Venue</th>\n",
              "      <th>3rd Most Common Venue</th>\n",
              "      <th>4th Most Common Venue</th>\n",
              "      <th>5th Most Common Venue</th>\n",
              "      <th>6th Most Common Venue</th>\n",
              "      <th>7th Most Common Venue</th>\n",
              "    </tr>\n",
              "    <tr>\n",
              "      <th>Map</th>\n",
              "      <th></th>\n",
              "      <th></th>\n",
              "      <th></th>\n",
              "      <th></th>\n",
              "      <th></th>\n",
              "      <th></th>\n",
              "      <th></th>\n",
              "      <th></th>\n",
              "      <th></th>\n",
              "    </tr>\n",
              "  </thead>\n",
              "  <tbody>\n",
              "    <tr>\n",
              "      <th>9</th>\n",
              "      <td>Phra Khanong</td>\n",
              "      <td>2</td>\n",
              "      <td>American Restaurant</td>\n",
              "      <td>European restaurant</td>\n",
              "      <td>Vietnamese Restaurant</td>\n",
              "      <td>Korean Restaurant</td>\n",
              "      <td>Japanese Restaurant</td>\n",
              "      <td>Indian Restaurant</td>\n",
              "      <td>Chinese Restaurant</td>\n",
              "    </tr>\n",
              "    <tr>\n",
              "      <th>25</th>\n",
              "      <td>Bang Phlat</td>\n",
              "      <td>2</td>\n",
              "      <td>American Restaurant</td>\n",
              "      <td>Vietnamese Restaurant</td>\n",
              "      <td>Korean Restaurant</td>\n",
              "      <td>Japanese Restaurant</td>\n",
              "      <td>Indian Restaurant</td>\n",
              "      <td>European restaurant</td>\n",
              "      <td>Chinese Restaurant</td>\n",
              "    </tr>\n",
              "    <tr>\n",
              "      <th>27</th>\n",
              "      <td>Bueng Kum</td>\n",
              "      <td>2</td>\n",
              "      <td>American Restaurant</td>\n",
              "      <td>Vietnamese Restaurant</td>\n",
              "      <td>Korean Restaurant</td>\n",
              "      <td>Japanese Restaurant</td>\n",
              "      <td>Indian Restaurant</td>\n",
              "      <td>European restaurant</td>\n",
              "      <td>Chinese Restaurant</td>\n",
              "    </tr>\n",
              "    <tr>\n",
              "      <th>30</th>\n",
              "      <td>Chatuchak</td>\n",
              "      <td>2</td>\n",
              "      <td>American Restaurant</td>\n",
              "      <td>Vietnamese Restaurant</td>\n",
              "      <td>Korean Restaurant</td>\n",
              "      <td>Japanese Restaurant</td>\n",
              "      <td>Indian Restaurant</td>\n",
              "      <td>European restaurant</td>\n",
              "      <td>Chinese Restaurant</td>\n",
              "    </tr>\n",
              "    <tr>\n",
              "      <th>33</th>\n",
              "      <td>Khlong Toei</td>\n",
              "      <td>2</td>\n",
              "      <td>American Restaurant</td>\n",
              "      <td>Vietnamese Restaurant</td>\n",
              "      <td>Korean Restaurant</td>\n",
              "      <td>Japanese Restaurant</td>\n",
              "      <td>Indian Restaurant</td>\n",
              "      <td>European restaurant</td>\n",
              "      <td>Chinese Restaurant</td>\n",
              "    </tr>\n",
              "  </tbody>\n",
              "</table>\n",
              "</div>"
            ],
            "text/plain": [
              "     Neighborhood  Cluster Labels  ... 6th Most Common Venue 7th Most Common Venue\n",
              "Map                                ...                                            \n",
              "9    Phra Khanong               2  ...     Indian Restaurant    Chinese Restaurant\n",
              "25     Bang Phlat               2  ...   European restaurant    Chinese Restaurant\n",
              "27      Bueng Kum               2  ...   European restaurant    Chinese Restaurant\n",
              "30      Chatuchak               2  ...   European restaurant    Chinese Restaurant\n",
              "33    Khlong Toei               2  ...   European restaurant    Chinese Restaurant\n",
              "\n",
              "[5 rows x 9 columns]"
            ]
          },
          "metadata": {
            "tags": []
          },
          "execution_count": 67
        }
      ]
    },
    {
      "cell_type": "markdown",
      "metadata": {
        "id": "tkV5CpAZhFWE"
      },
      "source": [
        "cluster 4"
      ]
    },
    {
      "cell_type": "code",
      "metadata": {
        "id": "JBrnClTEcykr",
        "colab": {
          "base_uri": "https://localhost:8080/",
          "height": 267
        },
        "outputId": "a1f81b7e-5c16-4110-9786-afef713f1f12"
      },
      "source": [
        "bangkok_merged.loc[bangkok_merged['Cluster Labels'] == 3, bangkok_merged.columns[[0] + list(range(6, bangkok_merged.shape[1]))]]"
      ],
      "execution_count": null,
      "outputs": [
        {
          "output_type": "execute_result",
          "data": {
            "text/html": [
              "<div>\n",
              "<style scoped>\n",
              "    .dataframe tbody tr th:only-of-type {\n",
              "        vertical-align: middle;\n",
              "    }\n",
              "\n",
              "    .dataframe tbody tr th {\n",
              "        vertical-align: top;\n",
              "    }\n",
              "\n",
              "    .dataframe thead th {\n",
              "        text-align: right;\n",
              "    }\n",
              "</style>\n",
              "<table border=\"1\" class=\"dataframe\">\n",
              "  <thead>\n",
              "    <tr style=\"text-align: right;\">\n",
              "      <th></th>\n",
              "      <th>Neighborhood</th>\n",
              "      <th>Cluster Labels</th>\n",
              "      <th>1st Most Common Venue</th>\n",
              "      <th>2nd Most Common Venue</th>\n",
              "      <th>3rd Most Common Venue</th>\n",
              "      <th>4th Most Common Venue</th>\n",
              "      <th>5th Most Common Venue</th>\n",
              "      <th>6th Most Common Venue</th>\n",
              "      <th>7th Most Common Venue</th>\n",
              "    </tr>\n",
              "    <tr>\n",
              "      <th>Map</th>\n",
              "      <th></th>\n",
              "      <th></th>\n",
              "      <th></th>\n",
              "      <th></th>\n",
              "      <th></th>\n",
              "      <th></th>\n",
              "      <th></th>\n",
              "      <th></th>\n",
              "      <th></th>\n",
              "    </tr>\n",
              "  </thead>\n",
              "  <tbody>\n",
              "    <tr>\n",
              "      <th>4</th>\n",
              "      <td>Bang Rak</td>\n",
              "      <td>3</td>\n",
              "      <td>Chinese Restaurant</td>\n",
              "      <td>Vietnamese Restaurant</td>\n",
              "      <td>Korean Restaurant</td>\n",
              "      <td>Japanese Restaurant</td>\n",
              "      <td>Indian Restaurant</td>\n",
              "      <td>European restaurant</td>\n",
              "      <td>American Restaurant</td>\n",
              "    </tr>\n",
              "    <tr>\n",
              "      <th>16</th>\n",
              "      <td>Bangkok Yai</td>\n",
              "      <td>3</td>\n",
              "      <td>Chinese Restaurant</td>\n",
              "      <td>Vietnamese Restaurant</td>\n",
              "      <td>Korean Restaurant</td>\n",
              "      <td>Japanese Restaurant</td>\n",
              "      <td>Indian Restaurant</td>\n",
              "      <td>European restaurant</td>\n",
              "      <td>American Restaurant</td>\n",
              "    </tr>\n",
              "    <tr>\n",
              "      <th>20</th>\n",
              "      <td>Bangkok Noi</td>\n",
              "      <td>3</td>\n",
              "      <td>Chinese Restaurant</td>\n",
              "      <td>Vietnamese Restaurant</td>\n",
              "      <td>Korean Restaurant</td>\n",
              "      <td>Japanese Restaurant</td>\n",
              "      <td>Indian Restaurant</td>\n",
              "      <td>European restaurant</td>\n",
              "      <td>American Restaurant</td>\n",
              "    </tr>\n",
              "    <tr>\n",
              "      <th>28</th>\n",
              "      <td>Sathon</td>\n",
              "      <td>3</td>\n",
              "      <td>Chinese Restaurant</td>\n",
              "      <td>Japanese Restaurant</td>\n",
              "      <td>Vietnamese Restaurant</td>\n",
              "      <td>Korean Restaurant</td>\n",
              "      <td>Indian Restaurant</td>\n",
              "      <td>European restaurant</td>\n",
              "      <td>American Restaurant</td>\n",
              "    </tr>\n",
              "    <tr>\n",
              "      <th>48</th>\n",
              "      <td>Thawi Watthana</td>\n",
              "      <td>3</td>\n",
              "      <td>Chinese Restaurant</td>\n",
              "      <td>Vietnamese Restaurant</td>\n",
              "      <td>Korean Restaurant</td>\n",
              "      <td>Japanese Restaurant</td>\n",
              "      <td>Indian Restaurant</td>\n",
              "      <td>European restaurant</td>\n",
              "      <td>American Restaurant</td>\n",
              "    </tr>\n",
              "  </tbody>\n",
              "</table>\n",
              "</div>"
            ],
            "text/plain": [
              "       Neighborhood  Cluster Labels  ... 6th Most Common Venue 7th Most Common Venue\n",
              "Map                                  ...                                            \n",
              "4          Bang Rak               3  ...   European restaurant   American Restaurant\n",
              "16      Bangkok Yai               3  ...   European restaurant   American Restaurant\n",
              "20      Bangkok Noi               3  ...   European restaurant   American Restaurant\n",
              "28           Sathon               3  ...   European restaurant   American Restaurant\n",
              "48   Thawi Watthana               3  ...   European restaurant   American Restaurant\n",
              "\n",
              "[5 rows x 9 columns]"
            ]
          },
          "metadata": {
            "tags": []
          },
          "execution_count": 68
        }
      ]
    },
    {
      "cell_type": "markdown",
      "metadata": {
        "id": "lcEBqokLhOyW"
      },
      "source": [
        "cluster 5"
      ]
    },
    {
      "cell_type": "code",
      "metadata": {
        "colab": {
          "base_uri": "https://localhost:8080/",
          "height": 452
        },
        "id": "fdiklupfD7-U",
        "outputId": "b8275511-92bf-4dc9-e51c-94bee640ac84"
      },
      "source": [
        "bangkok_merged.loc[bangkok_merged['Cluster Labels'] == 4, bangkok_merged.columns[[0] + list(range(6, bangkok_merged.shape[1]))]]"
      ],
      "execution_count": null,
      "outputs": [
        {
          "output_type": "execute_result",
          "data": {
            "text/html": [
              "<div>\n",
              "<style scoped>\n",
              "    .dataframe tbody tr th:only-of-type {\n",
              "        vertical-align: middle;\n",
              "    }\n",
              "\n",
              "    .dataframe tbody tr th {\n",
              "        vertical-align: top;\n",
              "    }\n",
              "\n",
              "    .dataframe thead th {\n",
              "        text-align: right;\n",
              "    }\n",
              "</style>\n",
              "<table border=\"1\" class=\"dataframe\">\n",
              "  <thead>\n",
              "    <tr style=\"text-align: right;\">\n",
              "      <th></th>\n",
              "      <th>Neighborhood</th>\n",
              "      <th>Cluster Labels</th>\n",
              "      <th>1st Most Common Venue</th>\n",
              "      <th>2nd Most Common Venue</th>\n",
              "      <th>3rd Most Common Venue</th>\n",
              "      <th>4th Most Common Venue</th>\n",
              "      <th>5th Most Common Venue</th>\n",
              "      <th>6th Most Common Venue</th>\n",
              "      <th>7th Most Common Venue</th>\n",
              "    </tr>\n",
              "    <tr>\n",
              "      <th>Map</th>\n",
              "      <th></th>\n",
              "      <th></th>\n",
              "      <th></th>\n",
              "      <th></th>\n",
              "      <th></th>\n",
              "      <th></th>\n",
              "      <th></th>\n",
              "      <th></th>\n",
              "      <th></th>\n",
              "    </tr>\n",
              "  </thead>\n",
              "  <tbody>\n",
              "    <tr>\n",
              "      <th>1</th>\n",
              "      <td>Phra Nakhon</td>\n",
              "      <td>4</td>\n",
              "      <td>Chinese Restaurant</td>\n",
              "      <td>Japanese Restaurant</td>\n",
              "      <td>Indian Restaurant</td>\n",
              "      <td>Vietnamese Restaurant</td>\n",
              "      <td>Korean Restaurant</td>\n",
              "      <td>European restaurant</td>\n",
              "      <td>American Restaurant</td>\n",
              "    </tr>\n",
              "    <tr>\n",
              "      <th>7</th>\n",
              "      <td>Pathum Wan</td>\n",
              "      <td>4</td>\n",
              "      <td>Chinese Restaurant</td>\n",
              "      <td>Japanese Restaurant</td>\n",
              "      <td>Korean Restaurant</td>\n",
              "      <td>Indian Restaurant</td>\n",
              "      <td>Vietnamese Restaurant</td>\n",
              "      <td>European restaurant</td>\n",
              "      <td>American Restaurant</td>\n",
              "    </tr>\n",
              "    <tr>\n",
              "      <th>8</th>\n",
              "      <td>Pom Prap Sattru Phai</td>\n",
              "      <td>4</td>\n",
              "      <td>Chinese Restaurant</td>\n",
              "      <td>Japanese Restaurant</td>\n",
              "      <td>European restaurant</td>\n",
              "      <td>American Restaurant</td>\n",
              "      <td>Vietnamese Restaurant</td>\n",
              "      <td>Korean Restaurant</td>\n",
              "      <td>Indian Restaurant</td>\n",
              "    </tr>\n",
              "    <tr>\n",
              "      <th>12</th>\n",
              "      <td>Yan Nawa</td>\n",
              "      <td>4</td>\n",
              "      <td>Japanese Restaurant</td>\n",
              "      <td>Chinese Restaurant</td>\n",
              "      <td>American Restaurant</td>\n",
              "      <td>Korean Restaurant</td>\n",
              "      <td>Vietnamese Restaurant</td>\n",
              "      <td>Indian Restaurant</td>\n",
              "      <td>European restaurant</td>\n",
              "    </tr>\n",
              "    <tr>\n",
              "      <th>13</th>\n",
              "      <td>Samphanthawong</td>\n",
              "      <td>4</td>\n",
              "      <td>Chinese Restaurant</td>\n",
              "      <td>Japanese Restaurant</td>\n",
              "      <td>European restaurant</td>\n",
              "      <td>Vietnamese Restaurant</td>\n",
              "      <td>Korean Restaurant</td>\n",
              "      <td>Indian Restaurant</td>\n",
              "      <td>American Restaurant</td>\n",
              "    </tr>\n",
              "    <tr>\n",
              "      <th>17</th>\n",
              "      <td>Huai Khwang</td>\n",
              "      <td>4</td>\n",
              "      <td>Japanese Restaurant</td>\n",
              "      <td>Chinese Restaurant</td>\n",
              "      <td>Vietnamese Restaurant</td>\n",
              "      <td>Korean Restaurant</td>\n",
              "      <td>Indian Restaurant</td>\n",
              "      <td>European restaurant</td>\n",
              "      <td>American Restaurant</td>\n",
              "    </tr>\n",
              "    <tr>\n",
              "      <th>18</th>\n",
              "      <td>Khlong San</td>\n",
              "      <td>4</td>\n",
              "      <td>Japanese Restaurant</td>\n",
              "      <td>Chinese Restaurant</td>\n",
              "      <td>European restaurant</td>\n",
              "      <td>Vietnamese Restaurant</td>\n",
              "      <td>Korean Restaurant</td>\n",
              "      <td>Indian Restaurant</td>\n",
              "      <td>American Restaurant</td>\n",
              "    </tr>\n",
              "    <tr>\n",
              "      <th>34</th>\n",
              "      <td>Suan Luang</td>\n",
              "      <td>4</td>\n",
              "      <td>Chinese Restaurant</td>\n",
              "      <td>European restaurant</td>\n",
              "      <td>Vietnamese Restaurant</td>\n",
              "      <td>Korean Restaurant</td>\n",
              "      <td>Japanese Restaurant</td>\n",
              "      <td>Indian Restaurant</td>\n",
              "      <td>American Restaurant</td>\n",
              "    </tr>\n",
              "    <tr>\n",
              "      <th>38</th>\n",
              "      <td>Lat Phrao</td>\n",
              "      <td>4</td>\n",
              "      <td>Japanese Restaurant</td>\n",
              "      <td>Chinese Restaurant</td>\n",
              "      <td>Vietnamese Restaurant</td>\n",
              "      <td>Korean Restaurant</td>\n",
              "      <td>Indian Restaurant</td>\n",
              "      <td>European restaurant</td>\n",
              "      <td>American Restaurant</td>\n",
              "    </tr>\n",
              "    <tr>\n",
              "      <th>39</th>\n",
              "      <td>Watthana</td>\n",
              "      <td>4</td>\n",
              "      <td>Japanese Restaurant</td>\n",
              "      <td>European restaurant</td>\n",
              "      <td>Chinese Restaurant</td>\n",
              "      <td>Vietnamese Restaurant</td>\n",
              "      <td>Korean Restaurant</td>\n",
              "      <td>Indian Restaurant</td>\n",
              "      <td>American Restaurant</td>\n",
              "    </tr>\n",
              "    <tr>\n",
              "      <th>46</th>\n",
              "      <td>Khlong Sam Wa</td>\n",
              "      <td>4</td>\n",
              "      <td>Chinese Restaurant</td>\n",
              "      <td>Japanese Restaurant</td>\n",
              "      <td>Vietnamese Restaurant</td>\n",
              "      <td>Korean Restaurant</td>\n",
              "      <td>Indian Restaurant</td>\n",
              "      <td>European restaurant</td>\n",
              "      <td>American Restaurant</td>\n",
              "    </tr>\n",
              "  </tbody>\n",
              "</table>\n",
              "</div>"
            ],
            "text/plain": [
              "             Neighborhood  ...  7th Most Common Venue\n",
              "Map                        ...                       \n",
              "1             Phra Nakhon  ...    American Restaurant\n",
              "7              Pathum Wan  ...    American Restaurant\n",
              "8    Pom Prap Sattru Phai  ...      Indian Restaurant\n",
              "12               Yan Nawa  ...    European restaurant\n",
              "13         Samphanthawong  ...    American Restaurant\n",
              "17            Huai Khwang  ...    American Restaurant\n",
              "18             Khlong San  ...    American Restaurant\n",
              "34             Suan Luang  ...    American Restaurant\n",
              "38              Lat Phrao  ...    American Restaurant\n",
              "39               Watthana  ...    American Restaurant\n",
              "46          Khlong Sam Wa  ...    American Restaurant\n",
              "\n",
              "[11 rows x 9 columns]"
            ]
          },
          "metadata": {
            "tags": []
          },
          "execution_count": 70
        }
      ]
    },
    {
      "cell_type": "markdown",
      "metadata": {
        "id": "Gbzs0dli9RUg"
      },
      "source": [
        "From collecting the data name of restaurant that can be indicated food country 160 in Bangkok city by scaping \n",
        "from foursquare and use the Kmeans clustering technique that aims to partition n observations into k clusters in which \n",
        "each observation belongs to the cluster with the nearest mean and uses the elbow method to find the optimize of k-value \n",
        "As the result in folium map, you can see the 5 clusters which can be seen that Mostly Japanese food and Chinese food. "
      ]
    },
    {
      "cell_type": "markdown",
      "metadata": {
        "id": "9keqZJJH9B8q"
      },
      "source": [
        "## Conclusion <a name=\"conclusion\"></a>"
      ]
    },
    {
      "cell_type": "markdown",
      "metadata": {
        "id": "zG1K3-qLhU0f"
      },
      "source": [
        "The purpose of this project is to introduce the neighborhood to tourists or foreigners who must live in Bangkok\n",
        "and need to live in an area that there are foreign restaurants which have a type of restaurant nearly native domicile \n",
        "by using data from foursquare and then manage data in a format that meets the requirements and clustering each location to be appropriate.\n",
        "\n",
        "However, the final decision on the optimal location will be made by the occupants. It may be base on specific characteristics\n",
        "taking into consideration additional factors like attractiveness, environment, travel convenience, and so on.\n",
        "\n"
      ]
    }
  ]
}