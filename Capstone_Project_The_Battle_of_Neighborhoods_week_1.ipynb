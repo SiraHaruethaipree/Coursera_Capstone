{
  "nbformat": 4,
  "nbformat_minor": 0,
  "metadata": {
    "colab": {
      "name": "Capstone Project - The Battle of Neighborhoods week 1.ipynb",
      "provenance": [],
      "collapsed_sections": [],
      "authorship_tag": "ABX9TyOYk0tjroI6rq0m/JbRzyhe",
      "include_colab_link": true
    },
    "kernelspec": {
      "name": "python3",
      "display_name": "Python 3"
    },
    "language_info": {
      "name": "python"
    }
  },
  "cells": [
    {
      "cell_type": "markdown",
      "metadata": {
        "id": "view-in-github",
        "colab_type": "text"
      },
      "source": [
        "<a href=\"https://colab.research.google.com/github/sira4154/Coursera_Capstone/blob/main/Capstone_Project_The_Battle_of_Neighborhoods_week_1.ipynb\" target=\"_parent\"><img src=\"https://colab.research.google.com/assets/colab-badge.svg\" alt=\"Open In Colab\"/></a>"
      ]
    },
    {
      "cell_type": "markdown",
      "metadata": {
        "id": "qr6kwY-65T82"
      },
      "source": [
        "#Bangkok city international food choice"
      ]
    },
    {
      "cell_type": "markdown",
      "metadata": {
        "id": "tZXD2eTD5edO"
      },
      "source": [
        "##Introduction/Business Problem"
      ]
    },
    {
      "cell_type": "markdown",
      "metadata": {
        "id": "3oEO9yPR-M1j"
      },
      "source": [
        "Bangkok, the capital of Thailand, is one of the world's top tourist destination cities. Bangkok is a truly cosmopolitan city, home to people from around the world. As a consequence, Bangkok is various in culture and cuisine.\n",
        "there are many different types of food such as Chinese food, Japanese food, and so on.\n",
        "\n",
        "For This project, I would like to recommend it to tourists or those who have to transfer to work in Bangkok. this block will helps visitor for finding the ethnic restaurants location as prefer by identifying the most type of food in which district."
      ]
    },
    {
      "cell_type": "markdown",
      "metadata": {
        "id": "Vvr739EfZ-AT"
      },
      "source": [
        "##Description of the data"
      ]
    },
    {
      "cell_type": "markdown",
      "metadata": {
        "id": "BRfmWhCtDKHJ"
      },
      "source": [
        "As a request in the assignment capstone project use data from foursquare in Bangkok by filtering only the restaurant's category which contains a name, location, latitude, longitude, and venue category.\n",
        "\n",
        "Also, I will use the data districts of Bangkok city from Wikipedia:https://en.wikipedia.org/wiki/List_of_districts_of_Bangkok in districts table which include name districts, postcode, latitude, and longitude in total 50 districts."
      ]
    }
  ]
}